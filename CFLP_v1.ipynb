{
 "cells": [
  {
   "cell_type": "markdown",
   "metadata": {},
   "source": [
    "# Capacitated Facility Location Problem - Version #1"
   ]
  },
  {
   "cell_type": "markdown",
   "metadata": {},
   "source": [
    "The code kind of work atm. However, the constraints need to be improved. The problem is considered infeasible if not all of the farms can be assigned to a plant. \n",
    "https://www.youtube.com/watch?v=Ds5whiQXdbw&ab_channel=Hakeem-Ur-Rehman"
   ]
  },
  {
   "cell_type": "code",
   "execution_count": 298,
   "metadata": {},
   "outputs": [],
   "source": [
    "from pulp import *\n",
    "import pandas as pd\n",
    "import matplotlib.pyplot as plt\n",
    "import seaborn as sns\n",
    "import numpy as np\n",
    "%matplotlib inline"
   ]
  },
  {
   "cell_type": "code",
   "execution_count": 299,
   "metadata": {},
   "outputs": [
    {
     "data": {
      "text/html": [
       "<div>\n",
       "<style scoped>\n",
       "    .dataframe tbody tr th:only-of-type {\n",
       "        vertical-align: middle;\n",
       "    }\n",
       "\n",
       "    .dataframe tbody tr th {\n",
       "        vertical-align: top;\n",
       "    }\n",
       "\n",
       "    .dataframe thead th {\n",
       "        text-align: right;\n",
       "    }\n",
       "</style>\n",
       "<table border=\"1\" class=\"dataframe\">\n",
       "  <thead>\n",
       "    <tr style=\"text-align: right;\">\n",
       "      <th></th>\n",
       "      <th>x</th>\n",
       "      <th>y</th>\n",
       "      <th>count</th>\n",
       "    </tr>\n",
       "  </thead>\n",
       "  <tbody>\n",
       "    <tr>\n",
       "      <th>0</th>\n",
       "      <td>6.870686</td>\n",
       "      <td>52.215190</td>\n",
       "      <td>25</td>\n",
       "    </tr>\n",
       "    <tr>\n",
       "      <th>1</th>\n",
       "      <td>6.554937</td>\n",
       "      <td>52.254895</td>\n",
       "      <td>25</td>\n",
       "    </tr>\n",
       "    <tr>\n",
       "      <th>2</th>\n",
       "      <td>6.730518</td>\n",
       "      <td>52.252885</td>\n",
       "      <td>42</td>\n",
       "    </tr>\n",
       "    <tr>\n",
       "      <th>3</th>\n",
       "      <td>6.914234</td>\n",
       "      <td>52.387401</td>\n",
       "      <td>18</td>\n",
       "    </tr>\n",
       "    <tr>\n",
       "      <th>4</th>\n",
       "      <td>6.664105</td>\n",
       "      <td>52.392622</td>\n",
       "      <td>32</td>\n",
       "    </tr>\n",
       "  </tbody>\n",
       "</table>\n",
       "</div>"
      ],
      "text/plain": [
       "          x          y  count\n",
       "0  6.870686  52.215190     25\n",
       "1  6.554937  52.254895     25\n",
       "2  6.730518  52.252885     42\n",
       "3  6.914234  52.387401     18\n",
       "4  6.664105  52.392622     32"
      ]
     },
     "execution_count": 299,
     "metadata": {},
     "output_type": "execute_result"
    }
   ],
   "source": [
    "# Import farm_cluster_mock_5 dataset - which is the mock data for potential digester locations\n",
    "potential_digester_location = pd.read_csv(r'./farm_cluster_mock_5.csv')\n",
    "potential_digester_location.head()"
   ]
  },
  {
   "cell_type": "code",
   "execution_count": 300,
   "metadata": {},
   "outputs": [],
   "source": [
    "# Define the capacities of digester\n",
    "medium_digester_capacity = 78480  # in tonne/yr\n",
    "large_digester_capacity = 150560  # in tonne/yr"
   ]
  },
  {
   "cell_type": "code",
   "execution_count": 301,
   "metadata": {},
   "outputs": [],
   "source": [
    "# Define the costs of digester \n",
    "medium_digester_cost = 209249   # in euro CAPEX\n",
    "large_digester_cost = 252616    # in euro CAPEX"
   ]
  },
  {
   "cell_type": "code",
   "execution_count": 302,
   "metadata": {},
   "outputs": [],
   "source": [
    "potential_digester_location = potential_digester_location.drop(['count'], axis=1) # drop unnecessary column"
   ]
  },
  {
   "cell_type": "code",
   "execution_count": 303,
   "metadata": {},
   "outputs": [],
   "source": [
    "# Create mock digester capacity data\n",
    "potential_digester_location['capacity'] = [medium_digester_capacity, medium_digester_capacity, large_digester_capacity, large_digester_capacity, large_digester_capacity]\n",
    "\n",
    "# Create mock digester cost data\n",
    "potential_digester_location['cost'] = [medium_digester_cost, medium_digester_cost, large_digester_cost, large_digester_cost, large_digester_cost]"
   ]
  },
  {
   "cell_type": "code",
   "execution_count": 304,
   "metadata": {},
   "outputs": [
    {
     "data": {
      "text/html": [
       "<div>\n",
       "<style scoped>\n",
       "    .dataframe tbody tr th:only-of-type {\n",
       "        vertical-align: middle;\n",
       "    }\n",
       "\n",
       "    .dataframe tbody tr th {\n",
       "        vertical-align: top;\n",
       "    }\n",
       "\n",
       "    .dataframe thead th {\n",
       "        text-align: right;\n",
       "    }\n",
       "</style>\n",
       "<table border=\"1\" class=\"dataframe\">\n",
       "  <thead>\n",
       "    <tr style=\"text-align: right;\">\n",
       "      <th></th>\n",
       "      <th>Unnamed: 0</th>\n",
       "      <th>x</th>\n",
       "      <th>y</th>\n",
       "      <th>manure_t</th>\n",
       "      <th>biogas_potential_m3</th>\n",
       "    </tr>\n",
       "  </thead>\n",
       "  <tbody>\n",
       "    <tr>\n",
       "      <th>0</th>\n",
       "      <td>0</td>\n",
       "      <td>6.765843</td>\n",
       "      <td>52.314139</td>\n",
       "      <td>7431</td>\n",
       "      <td>2898090.0</td>\n",
       "    </tr>\n",
       "    <tr>\n",
       "      <th>1</th>\n",
       "      <td>1</td>\n",
       "      <td>6.837249</td>\n",
       "      <td>52.425084</td>\n",
       "      <td>7246</td>\n",
       "      <td>2825940.0</td>\n",
       "    </tr>\n",
       "    <tr>\n",
       "      <th>2</th>\n",
       "      <td>2</td>\n",
       "      <td>6.859361</td>\n",
       "      <td>52.386225</td>\n",
       "      <td>9639</td>\n",
       "      <td>3759210.0</td>\n",
       "    </tr>\n",
       "    <tr>\n",
       "      <th>3</th>\n",
       "      <td>3</td>\n",
       "      <td>6.753483</td>\n",
       "      <td>52.434382</td>\n",
       "      <td>9821</td>\n",
       "      <td>3830190.0</td>\n",
       "    </tr>\n",
       "    <tr>\n",
       "      <th>4</th>\n",
       "      <td>4</td>\n",
       "      <td>6.484077</td>\n",
       "      <td>52.243620</td>\n",
       "      <td>2732</td>\n",
       "      <td>1065480.0</td>\n",
       "    </tr>\n",
       "  </tbody>\n",
       "</table>\n",
       "</div>"
      ],
      "text/plain": [
       "   Unnamed: 0         x          y  manure_t  biogas_potential_m3\n",
       "0           0  6.765843  52.314139      7431            2898090.0\n",
       "1           1  6.837249  52.425084      7246            2825940.0\n",
       "2           2  6.859361  52.386225      9639            3759210.0\n",
       "3           3  6.753483  52.434382      9821            3830190.0\n",
       "4           4  6.484077  52.243620      2732            1065480.0"
      ]
     },
     "execution_count": 304,
     "metadata": {},
     "output_type": "execute_result"
    }
   ],
   "source": [
    "farm = pd.read_csv(r\"./farm_mock.csv\")\n",
    "farm.head()"
   ]
  },
  {
   "cell_type": "code",
   "execution_count": 305,
   "metadata": {},
   "outputs": [],
   "source": [
    "# Lists (sets / Array) of Customers and Facilities\n",
    "Farm = farm.index.tolist()  # Customer = [1,2,3,4,5]\n",
    "Plant = potential_digester_location.index.tolist()    # Facility = ['Fac-1', 'Fac-2', 'Fac-3']"
   ]
  },
  {
   "cell_type": "code",
   "execution_count": 306,
   "metadata": {},
   "outputs": [],
   "source": [
    "# Dictionaries of the demands and facilities as well as fixed cost at each facility\n",
    "Manure_Production = farm['manure_t'].to_dict()  # Demand = {1 : 80, 2 : 270, 3 : 250, 4 : 160, 5 : 180}\n",
    "Max_Capacity = potential_digester_location['capacity'].to_dict()    # Max_Supply = {'Fac-1' : 500, 'Fac-2' : 500, 'Fac-3' : 500} \n",
    "Fixed_Cost = potential_digester_location['cost'].to_dict()  # fixed_cost = {'Fac-1' : 1000, 'Fac-2' : 1000, 'Fac-3' : 1000 }"
   ]
  },
  {
   "cell_type": "code",
   "execution_count": 307,
   "metadata": {},
   "outputs": [
    {
     "data": {
      "text/plain": [
       "dict_values"
      ]
     },
     "execution_count": 307,
     "metadata": {},
     "output_type": "execute_result"
    }
   ],
   "source": [
    "type(Fixed_Cost.values())"
   ]
  },
  {
   "cell_type": "code",
   "execution_count": 308,
   "metadata": {},
   "outputs": [],
   "source": [
    "# string_values = {}\n",
    "# non_string_values = {}\n",
    "\n",
    "# for key, value in transportation_cost.items():\n",
    "#     if isinstance(value, str):\n",
    "#         string_values[key] = value\n",
    "#     else:\n",
    "#         non_string_values[key] = value\n",
    "\n",
    "# print(\"String Values:\")\n",
    "# print(string_values)\n",
    "\n",
    "# print(\"\\nNon-String Values:\")\n",
    "# print(non_string_values)"
   ]
  },
  {
   "cell_type": "code",
   "execution_count": 309,
   "metadata": {},
   "outputs": [],
   "source": [
    "from scipy.spatial.distance import euclidean\n",
    "\n",
    "# # Dictionary of the transportation cost from each facility to all the customers \n",
    "# transportation_cost = {'Fac-1' : {1 : 4, 2 : 5, 3 : 6, 4 : 8, 5 : 10},\n",
    "#                        'Fac-2' : {1 : 6, 2 : 4, 3 : 3, 4 : 5, 5 : 8},\n",
    "#                        'Fac-3' : {1 : 9, 2 : 7, 3 : 4, 4 : 3, 5 : 4}\n",
    "#                       }\n",
    "\n",
    "# Create a mock distance matrix to store the euclidean distance between each potential digester location to every farm\n",
    "transportation_cost = {} # NOTE THE TRANSPORTATION COST MATRIX IS A !DISTANCE MATRIX!\n",
    "\n",
    "for plant_idx, plant_row in potential_digester_location.iterrows():\n",
    "    plant_coords = (plant_row['y'], plant_row['x'])\n",
    "    transportation_cost[plant_idx] = {}  # Create an inner dictionary for each plant\n",
    "\n",
    "    for farm_idx, farm_row in farm.iterrows():\n",
    "        farm_coords = (farm_row['y'], farm_row['x'])\n",
    "        distance = euclidean(plant_coords, farm_coords)\n",
    "        transportation_cost[plant_idx][farm_idx] = distance\n",
    "\n",
    "# transportation_cost"
   ]
  },
  {
   "cell_type": "code",
   "execution_count": 310,
   "metadata": {},
   "outputs": [],
   "source": [
    "# Define the total manure production by all farms\n",
    "Total_Manure_Production = sum(Manure_Production[i] for i in Farm)"
   ]
  },
  {
   "cell_type": "code",
   "execution_count": 311,
   "metadata": {},
   "outputs": [],
   "source": [
    "# Define the manure utilization goal\n",
    "manure_utilization_goal = 0.2"
   ]
  },
  {
   "cell_type": "code",
   "execution_count": 312,
   "metadata": {},
   "outputs": [],
   "source": [
    "# Setting the Problem\n",
    "prob = LpProblem(\"Capacitated_Facility_Location_Problem_V1\", LpMinimize)"
   ]
  },
  {
   "cell_type": "code",
   "execution_count": 313,
   "metadata": {},
   "outputs": [],
   "source": [
    "# Defining our Decision Variables\n",
    "use_plant = LpVariable.dicts(\"Plant\", Plant, 0, 1, LpBinary)    \n",
    "    # use_facility = LpVariable.dicts(\"Use Facility\", Facility, 0, 1, LpBinary)\n",
    "ser_farm = LpVariable.dicts(\"Farm_Plant\", [(i,j) for i in Farm for j in Plant], 0)  \n",
    "    # ser_customer = LpVariable.dicts(\"Service\", [(i,j) for i in Customer for j in Facility], 0)"
   ]
  },
  {
   "cell_type": "code",
   "execution_count": 314,
   "metadata": {},
   "outputs": [],
   "source": [
    "# Setting the Objective Function\n",
    "prob += lpSum(Fixed_Cost[j]*use_plant[j] for j in Plant) + lpSum(transportation_cost[j][i]*ser_farm[(i,j)] for j in Plant for i in Farm)\n",
    "\n",
    "    # prob += lpSum(fixed_cost[j]*use_facility[j] for j in Facility) + lpSum(transportation_cost[j][i]*ser_customer[(i,j)] for j in Facility for i in Customer)"
   ]
  },
  {
   "cell_type": "code",
   "execution_count": 315,
   "metadata": {},
   "outputs": [],
   "source": [
    "# for j in Plant:\n",
    "#     for i in Farm:\n",
    "#        print(transportation_cost[j][i]*ser_farm[(i,j)])"
   ]
  },
  {
   "cell_type": "code",
   "execution_count": 316,
   "metadata": {},
   "outputs": [],
   "source": [
    "# # Costraints\n",
    "\n",
    "# # This constraint controls that the facility should meet the demand of a customer in the example but in our case\n",
    "# #     # this means the farm has to be able to send exactly the entire produced amount of manure to the assigned digester\n",
    "for i in Farm: \n",
    "     prob += lpSum(ser_farm[(i,j)] for j in Plant) <= Manure_Production[i]\n",
    "\n",
    "for j in Plant:\n",
    "    prob += lpSum(ser_farm[(i,j)] for i in Farm) <= Max_Capacity[j]*use_plant[j]\n",
    "\n",
    "for i in Farm:\n",
    "    for j in Plant:\n",
    "        prob += ser_farm[(i,j)] <= Manure_Production[i]*use_plant[j]\n",
    "\n",
    "# Add a constraint to ensure at least 50% of total production is sent to plants\n",
    "prob += lpSum(ser_farm[(i, j)] for i in Farm for j in Plant) >= manure_utilization_goal * Total_Manure_Production"
   ]
  },
  {
   "cell_type": "code",
   "execution_count": 317,
   "metadata": {},
   "outputs": [
    {
     "data": {
      "text/plain": [
       "{0: Plant_0, 1: Plant_1, 2: Plant_2, 3: Plant_3, 4: Plant_4}"
      ]
     },
     "execution_count": 317,
     "metadata": {},
     "output_type": "execute_result"
    }
   ],
   "source": [
    "use_plant"
   ]
  },
  {
   "cell_type": "code",
   "execution_count": 318,
   "metadata": {},
   "outputs": [
    {
     "name": "stdout",
     "output_type": "stream",
     "text": [
      "Welcome to the CBC MILP Solver \n",
      "Version: 2.10.3 \n",
      "Build Date: Dec 15 2019 \n",
      "\n",
      "command line - /Users/wenyuc/opt/anaconda3/envs/bioze_env/lib/python3.10/site-packages/pulp/solverdir/cbc/osx/64/cbc /var/folders/w_/w1t73xzx35j4jtrj94fjskj80000gn/T/33e147c485814451afc30ccfba78b4e7-pulp.mps timeMode elapsed branch printingOptions all solution /var/folders/w_/w1t73xzx35j4jtrj94fjskj80000gn/T/33e147c485814451afc30ccfba78b4e7-pulp.sol (default strategy 1)\n",
      "At line 2 NAME          MODEL\n",
      "At line 3 ROWS\n",
      "At line 863 COLUMNS\n",
      "At line 5144 RHS\n",
      "At line 6003 BOUNDS\n",
      "At line 6009 ENDATA\n",
      "Problem MODEL has 858 rows, 715 columns and 3555 elements\n",
      "Coin0008I MODEL read with 0 errors\n",
      "Option for timeMode changed from cpu to elapsed\n",
      "Continuous objective value is 243639 - 0.00 seconds\n",
      "Cgl0004I processed model has 858 rows, 715 columns (5 integer (5 of which binary)) and 3555 elements\n",
      "Cbc0038I Initial state - 1 integers unsatisfied sum - 0.055995\n",
      "Cbc0038I Solution found of 257784\n",
      "Cbc0038I Relaxing continuous gives 257520\n",
      "Cbc0038I Before mini branch and bound, 4 integers at bound fixed and 678 continuous\n",
      "Cbc0038I Full problem 858 rows 715 columns, reduced to 34 rows 33 columns\n",
      "Cbc0038I Mini branch and bound did not improve solution (0.04 seconds)\n",
      "Cbc0038I Round again with cutoff of 256132\n",
      "Cbc0038I Reduced cost fixing fixed 2 variables on major pass 2\n",
      "Cbc0038I Pass   1: suminf.    0.00560 (1) obj. 256132 iterations 27\n",
      "Cbc0038I Pass   2: suminf.    0.05599 (1) obj. 243639 iterations 13\n",
      "Cbc0038I Pass   3: suminf.    0.00560 (1) obj. 256132 iterations 14\n",
      "Cbc0038I Pass   4: suminf.    0.05599 (1) obj. 243639 iterations 5\n",
      "Cbc0038I Pass   5: suminf.    0.05599 (1) obj. 243639 iterations 0\n",
      "Cbc0038I Pass   6: suminf.    0.00560 (1) obj. 256132 iterations 6\n",
      "Cbc0038I Pass   7: suminf.    0.00560 (1) obj. 256132 iterations 0\n",
      "Cbc0038I Pass   8: suminf.    0.00560 (1) obj. 256132 iterations 0\n",
      "Cbc0038I Pass   9: suminf.    0.05599 (1) obj. 243639 iterations 18\n",
      "Cbc0038I Pass  10: suminf.    0.27911 (2) obj. 256132 iterations 18\n",
      "Cbc0038I Pass  11: suminf.    0.00560 (1) obj. 256132 iterations 3\n",
      "Cbc0038I Pass  12: suminf.    0.22373 (2) obj. 256132 iterations 20\n",
      "Cbc0038I Pass  13: suminf.    0.01861 (1) obj. 256132 iterations 26\n",
      "Cbc0038I Pass  14: suminf.    0.27911 (2) obj. 256132 iterations 32\n",
      "Cbc0038I Pass  15: suminf.    0.00560 (1) obj. 256132 iterations 3\n",
      "Cbc0038I Pass  16: suminf.    0.00560 (1) obj. 256132 iterations 0\n",
      "Cbc0038I Pass  17: suminf.    0.00560 (1) obj. 256132 iterations 0\n",
      "Cbc0038I Pass  18: suminf.    0.00560 (1) obj. 256132 iterations 0\n",
      "Cbc0038I Pass  19: suminf.    0.00560 (1) obj. 256132 iterations 0\n",
      "Cbc0038I Pass  20: suminf.    0.00560 (1) obj. 256132 iterations 0\n",
      "Cbc0038I Pass  21: suminf.    0.00560 (1) obj. 256132 iterations 0\n",
      "Cbc0038I Pass  22: suminf.    0.22373 (2) obj. 256132 iterations 15\n",
      "Cbc0038I Pass  23: suminf.    0.00560 (1) obj. 256132 iterations 17\n",
      "Cbc0038I Pass  24: suminf.    0.00560 (1) obj. 256132 iterations 0\n",
      "Cbc0038I Pass  25: suminf.    0.00560 (1) obj. 256132 iterations 0\n",
      "Cbc0038I Pass  26: suminf.    0.00560 (1) obj. 256132 iterations 0\n",
      "Cbc0038I Pass  27: suminf.    0.00560 (1) obj. 256132 iterations 0\n",
      "Cbc0038I Pass  28: suminf.    0.00560 (1) obj. 256132 iterations 0\n",
      "Cbc0038I Pass  29: suminf.    0.00560 (1) obj. 256132 iterations 0\n",
      "Cbc0038I Pass  30: suminf.    0.00560 (1) obj. 256132 iterations 0\n",
      "Cbc0038I No solution found this major pass\n",
      "Cbc0038I Before mini branch and bound, 2 integers at bound fixed and 630 continuous\n",
      "Cbc0038I Full problem 858 rows 715 columns, reduced to 67 rows 65 columns\n",
      "Cbc0038I Mini branch and bound did not improve solution (0.07 seconds)\n",
      "Cbc0038I After 0.07 seconds - Feasibility pump exiting with objective of 257520 - took 0.03 seconds\n",
      "Cbc0012I Integer solution of 257520.26 found by feasibility pump after 0 iterations and 0 nodes (0.07 seconds)\n",
      "Cbc0038I Full problem 858 rows 715 columns, reduced to 144 rows 143 columns\n",
      "Cbc0031I 2 added rows had average density of 200.5\n",
      "Cbc0013I At root node, 3 cuts changed objective from 243638.65 to 257520.26 in 1 passes\n",
      "Cbc0014I Cut generator 0 (Probing) - 0 row cuts average 0.0 elements, 0 column cuts (0 active)  in 0.000 seconds - new frequency is -100\n",
      "Cbc0014I Cut generator 1 (Gomory) - 1 row cuts average 3.0 elements, 0 column cuts (0 active)  in 0.000 seconds - new frequency is 1\n",
      "Cbc0014I Cut generator 2 (Knapsack) - 0 row cuts average 0.0 elements, 0 column cuts (0 active)  in 0.001 seconds - new frequency is -100\n",
      "Cbc0014I Cut generator 3 (Clique) - 0 row cuts average 0.0 elements, 0 column cuts (0 active)  in 0.000 seconds - new frequency is -100\n",
      "Cbc0014I Cut generator 4 (MixedIntegerRounding2) - 1 row cuts average 398.0 elements, 0 column cuts (0 active)  in 0.000 seconds - new frequency is 1\n",
      "Cbc0014I Cut generator 5 (FlowCover) - 0 row cuts average 0.0 elements, 0 column cuts (0 active)  in 0.000 seconds - new frequency is -100\n",
      "Cbc0014I Cut generator 6 (TwoMirCuts) - 1 row cuts average 3.0 elements, 0 column cuts (0 active)  in 0.001 seconds - new frequency is -100\n",
      "Cbc0001I Search completed - best objective 257520.2584217486, took 0 iterations and 0 nodes (0.08 seconds)\n",
      "Cbc0035I Maximum depth 0, 2 variables fixed on reduced cost\n",
      "Cuts at root node changed objective from 243639 to 257520\n",
      "Probing was tried 1 times and created 0 cuts of which 0 were active after adding rounds of cuts (0.000 seconds)\n",
      "Gomory was tried 1 times and created 1 cuts of which 0 were active after adding rounds of cuts (0.000 seconds)\n",
      "Knapsack was tried 1 times and created 0 cuts of which 0 were active after adding rounds of cuts (0.001 seconds)\n",
      "Clique was tried 1 times and created 0 cuts of which 0 were active after adding rounds of cuts (0.000 seconds)\n",
      "MixedIntegerRounding2 was tried 1 times and created 1 cuts of which 0 were active after adding rounds of cuts (0.000 seconds)\n",
      "FlowCover was tried 1 times and created 0 cuts of which 0 were active after adding rounds of cuts (0.000 seconds)\n",
      "TwoMirCuts was tried 1 times and created 1 cuts of which 0 were active after adding rounds of cuts (0.001 seconds)\n",
      "ZeroHalf was tried 1 times and created 0 cuts of which 0 were active after adding rounds of cuts (0.000 seconds)\n",
      "\n",
      "Result - Optimal solution found\n",
      "\n",
      "Objective value:                257520.25842175\n",
      "Enumerated nodes:               0\n",
      "Total iterations:               0\n",
      "Time (CPU seconds):             0.05\n",
      "Time (Wallclock seconds):       0.09\n",
      "\n",
      "Option for printingOptions changed from normal to all\n",
      "Total time (CPU seconds):       0.05   (Wallclock seconds):       0.10\n",
      "\n"
     ]
    },
    {
     "data": {
      "text/plain": [
       "1"
      ]
     },
     "execution_count": 318,
     "metadata": {},
     "output_type": "execute_result"
    }
   ],
   "source": [
    "prob.solve()"
   ]
  },
  {
   "cell_type": "code",
   "execution_count": 319,
   "metadata": {},
   "outputs": [],
   "source": [
    "status = LpStatus[prob.status]\n"
   ]
  },
  {
   "cell_type": "code",
   "execution_count": 320,
   "metadata": {},
   "outputs": [
    {
     "name": "stdout",
     "output_type": "stream",
     "text": [
      "Solution Status =  Optimal\n"
     ]
    }
   ],
   "source": [
    "print(\"Solution Status = \", LpStatus[prob.status])"
   ]
  },
  {
   "cell_type": "code",
   "execution_count": 321,
   "metadata": {},
   "outputs": [],
   "source": [
    "# if status == \"Optimal\":\n",
    "#     # Retrieve and store the variable values\n",
    "#     optimal_x = use_facility.varValue\n",
    "#     optimal_y = ser_customer.varValue\n",
    "\n",
    "#     # Retrieve and store the optimal objective value\n",
    "#     optimal_obj_value = prob.objective.value()\n",
    "# else:\n",
    "#     optimal_x = None\n",
    "#     optimal_y = None\n",
    "#     optimal_obj_value = None\n",
    "\n",
    "# print(\"Optimization Status:\", status)\n",
    "# print(\"Optimal x:\", optimal_x)\n",
    "# print(\"Optimal y:\", optimal_y)\n",
    "# print(\"Optimal Objective Value:\", optimal_obj_value)"
   ]
  },
  {
   "cell_type": "code",
   "execution_count": 322,
   "metadata": {},
   "outputs": [],
   "source": [
    "# # Print the status of the optimization\n",
    "# print(\"Optimization Status:\", LpStatus[prob.status])\n",
    "\n",
    "# # Print the optimal values of decision variables\n",
    "# for j in Facility:\n",
    "#     print(f\"Use Facility {j}: {use_facility[j].varValue}\")\n",
    "\n",
    "# for i in Customer:\n",
    "#     for j in Facility:\n",
    "#         print(f\"Service customer {i} from Facility {j}: {ser_customer[(i, j)].varValue}\")"
   ]
  },
  {
   "cell_type": "code",
   "execution_count": 323,
   "metadata": {},
   "outputs": [],
   "source": [
    "# # Print the solution of Binary Decision Variables\n",
    "# Tolerance = 0.0001\n",
    "# for j in Plant:\n",
    "#     if use_plant[j].varValue > Tolerance:\n",
    "#         print(\"Estalish Facility at site = \", j)"
   ]
  },
  {
   "cell_type": "code",
   "execution_count": 324,
   "metadata": {},
   "outputs": [],
   "source": [
    "# Print the solution of Continuous Decision Variables\n",
    "# for v in prob.variables():\n",
    "#     print(v.name, \"=\", v.varValue)"
   ]
  },
  {
   "cell_type": "code",
   "execution_count": 325,
   "metadata": {},
   "outputs": [],
   "source": [
    "# Initialize lists to store assignment information\n",
    "assigned_farms = {j: [] for j in Plant}\n",
    "\n",
    "# Collect assigned farms\n",
    "for i in Plant:\n",
    "    for j in Farm:\n",
    "        if ser_farm[(j,i)].varValue > 0.00001:\n",
    "            assigned_farms[i].append(j)"
   ]
  },
  {
   "cell_type": "code",
   "execution_count": 326,
   "metadata": {},
   "outputs": [],
   "source": [
    "def find_farm_not_in_solution_plant_in_solution(solution_dictionary, farm_df):\n",
    "    \"\"\"\n",
    "    Input:\n",
    "        solution_dictionary: dictionary of model output {plant:[all the assigned farms]}\n",
    "        farm_df: DataFrame of farm data\n",
    "\n",
    "    Return:\n",
    "        empty_keys_unused_plant: a list of indices of unused plants\n",
    "        farm_not_in_solution: a list of indices of excluded farms\n",
    "    \"\"\"\n",
    "    \n",
    "    # Find plants that in the optimal solution\n",
    "    plant_in_use = []\n",
    "    \n",
    "    for key, value in solution_dictionary.items():\n",
    "        if value is not None and not (\n",
    "            (isinstance(value, str) and value.strip() == '') or\n",
    "            (isinstance(value, (list, dict)) and not value)\n",
    "        ):\n",
    "            plant_in_use.append(key)\n",
    "    \n",
    "    # Find farms that are excluded in the optimal solution aka. it is not assigned to any plants\n",
    "    # Append the lists from the dictionary to a combined list\n",
    "    combined_dict = []\n",
    "\n",
    "    for key in solution_dictionary:\n",
    "        combined_dict.extend(solution_dictionary[key])\n",
    "    \n",
    "    farm_not_in_solution = []\n",
    "\n",
    "    for index_value in farm_df.index:\n",
    "        if index_value not in combined_dict:\n",
    "            farm_not_in_solution.append(index_value)\n",
    "    \n",
    "    return plant_in_use, farm_not_in_solution "
   ]
  },
  {
   "cell_type": "code",
   "execution_count": 327,
   "metadata": {},
   "outputs": [],
   "source": [
    "plant_in_use, farm_not_in_solution = find_farm_not_in_solution_plant_in_solution(assigned_farms, farm)"
   ]
  },
  {
   "cell_type": "code",
   "execution_count": 328,
   "metadata": {},
   "outputs": [],
   "source": [
    "# # Count the number of farms assigned to each plant\n",
    "# for j in Plant:\n",
    "#     assigned = assigned_farms[j]\n",
    "#     print(len(assigned))"
   ]
  },
  {
   "cell_type": "code",
   "execution_count": 329,
   "metadata": {},
   "outputs": [],
   "source": [
    "# # Check the indices of farms assigned to each plant\n",
    "# for j in Plant:\n",
    "#     assigned = assigned_farms[j]\n",
    "#     print(assigned)"
   ]
  },
  {
   "cell_type": "markdown",
   "metadata": {},
   "source": [
    "PROBLEM!! The number of farms that are not_in_any_solution combined with all the farms that are included add up to 143, which is 1 more than the actual count of farms....\n",
    "\n",
    "Just checked and *18* has duplicates. So Farm 18 is assigned to Plant 1 and 4. \n"
   ]
  },
  {
   "cell_type": "code",
   "execution_count": 330,
   "metadata": {},
   "outputs": [
    {
     "name": "stdout",
     "output_type": "stream",
     "text": [
      "There are no duplicates in the list.\n"
     ]
    }
   ],
   "source": [
    "# Check duplicates\n",
    "\n",
    "# Initialize a dictionary to store seen values\n",
    "seen = {}\n",
    "# Initialize a list to store duplicate values\n",
    "duplicates = []\n",
    "\n",
    "# Iterate through the list\n",
    "for item in farm_not_in_solution:\n",
    "    # If the item is already in the dictionary, it's a duplicate\n",
    "    if item in seen:\n",
    "        duplicates.append(item)\n",
    "    else:\n",
    "        seen[item] = True\n",
    "\n",
    "if duplicates:\n",
    "    print(\"Duplicate values:\", duplicates)\n",
    "else:\n",
    "    print(\"There are no duplicates in the list.\")"
   ]
  },
  {
   "cell_type": "code",
   "execution_count": 331,
   "metadata": {},
   "outputs": [
    {
     "name": "stdout",
     "output_type": "stream",
     "text": [
      "0 6.7658433939 52.3141390592\n",
      "1 6.837249466 52.4250842522\n",
      "2 6.8593610438 52.3862247622\n",
      "3 6.7534834692 52.4343820977\n",
      "4 6.4840766356 52.2436198663\n",
      "5 6.5372603964 52.2656283602\n",
      "6 6.5442865956 52.2581897466\n",
      "7 6.5360573609 52.2595617688\n",
      "8 6.4999411358 52.2293056571\n",
      "9 6.904208931 52.3585207448\n",
      "10 6.4695229402 52.4490480269\n",
      "11 6.9780917374 52.383647521\n",
      "12 6.988118899 52.3758981254\n",
      "13 6.988416487 52.376289487\n",
      "14 6.934623537 52.2500679808\n",
      "15 6.7977540715 52.2037075598\n",
      "16 6.8211798801 52.2254065666\n",
      "17 6.8458935653 52.1962640994\n",
      "18 6.851861762 52.2537024625\n",
      "19 6.9242982022 52.2082476559\n",
      "20 6.7798420041 52.219489064\n",
      "21 6.8608124787 52.4253950349\n",
      "22 6.9732986747 52.4186338726\n",
      "23 6.8351291013 52.2305551004\n",
      "24 6.731964637 52.2727724036\n",
      "25 6.7000505516 52.3456609141\n",
      "26 6.7912894572 52.26633688\n",
      "27 6.7581025295 52.2683918553\n",
      "28 6.7466692796 52.2011796679\n",
      "29 6.8116538149 52.2366257484\n",
      "30 6.8522695879 52.2756253536\n",
      "31 6.8236604457 52.3550519764\n",
      "32 6.5559214998 52.3923740708\n",
      "33 6.994540204 52.314705362\n",
      "34 6.9709155352 52.3193043016\n",
      "35 6.5705917087 52.2048918962\n",
      "36 6.5542936412 52.2000370564\n",
      "37 6.6660025214 52.2899433048\n",
      "38 6.5970184279 52.2196114225\n",
      "39 6.7634878232 52.3014586163\n",
      "40 6.7403645028 52.2155153271\n",
      "41 6.7388246432 52.2694366143\n",
      "42 6.7386614308 52.2710782138\n",
      "43 6.8455566668 52.1962502822\n",
      "44 6.8938186317 52.1863625653\n",
      "45 6.8675952738 52.2252875024\n",
      "46 6.8157355773 52.1441123818\n",
      "47 6.4868360712 52.4756546538\n",
      "48 6.7412605913 52.2666846469\n",
      "49 6.7289544411 52.3328677019\n",
      "50 6.6168951738 52.2383476762\n",
      "51 6.6671784754 52.2835425995\n",
      "52 6.7609613357 52.2992168332\n",
      "53 6.5464240813 52.1975195779\n",
      "54 6.5795146117 52.2030059672\n",
      "55 6.7388488755 52.2469572214\n",
      "56 6.4625100501 52.2796283109\n",
      "57 6.9960179425 52.3517232378\n",
      "58 7.0087987299 52.2473864703\n",
      "59 6.5412531751 52.27863361\n",
      "60 6.595124471 52.224009363\n",
      "61 6.6548847353 52.3655325043\n",
      "62 6.7126468834 52.3501887637\n",
      "63 6.7134845154 52.3572404254\n",
      "64 6.6811735726 52.3546416327\n",
      "65 6.6348865653 52.351974479\n",
      "66 6.6442232598 52.3545992484\n",
      "67 6.7043422962 52.3448761712\n",
      "68 6.6946617987 52.3586948923\n",
      "69 6.7201049145 52.3601343584\n",
      "70 6.6590190421 52.371968911\n",
      "71 6.760410259 52.3008232326\n",
      "72 6.7610275019 52.2984969501\n",
      "73 7.0159961676 52.36926877\n",
      "74 6.88012943 52.3876892061\n",
      "75 6.7156625149 52.147242024\n",
      "76 6.7060114373 52.2557850392\n",
      "77 6.7079183106 52.2552182102\n",
      "78 6.8755082227 52.2543239587\n",
      "79 6.9243854387 52.213993032\n",
      "80 6.8875284391 52.2515011431\n",
      "81 6.867179361 52.2381852578\n",
      "82 6.9228103481 52.2069288076\n",
      "83 6.8358948559 52.2127673217\n",
      "84 6.8414021827 52.2424424978\n",
      "85 6.9024601373 52.1966754481\n",
      "86 6.9200021573 52.200232023\n",
      "87 6.7387881782 52.1410899046\n",
      "88 6.8365751014 52.1435855321\n",
      "89 6.8472248943 52.1395169546\n",
      "90 6.7362249281 52.1584477817\n",
      "91 6.7444057177 52.1188920731\n",
      "92 6.7368461658 52.212347502\n",
      "93 6.7499624529 52.2421839539\n",
      "94 6.7129367004 52.2635400544\n",
      "95 6.4986911687 52.2342795716\n",
      "96 6.6605317628 52.1989115199\n",
      "97 6.5899990584 52.2370549954\n",
      "98 6.5883569762 52.2353616483\n",
      "99 6.8702409799 52.438159733\n",
      "100 6.5632241071 52.2937525266\n",
      "101 6.4397723384 52.4142614118\n",
      "102 6.7562661164 52.3985697194\n",
      "103 6.8308185326 52.4235723119\n",
      "104 6.8354457953 52.4247922577\n",
      "105 6.7419423221 52.369880972\n",
      "106 6.7117620948 52.3800737591\n",
      "107 6.6908772887 52.40462847\n",
      "108 6.6430904085 52.4182145304\n",
      "109 6.6467849021 52.419513837\n",
      "110 6.6512901679 52.4207781842\n",
      "111 6.6255182997 52.412311192\n",
      "112 6.6402564826 52.4168775214\n",
      "113 6.6496136741 52.4199924326\n",
      "114 6.6539678907 52.4208484688\n",
      "115 6.7088672122 52.479572871\n",
      "116 6.5630659972 52.2922080713\n",
      "117 6.848896901 52.4392609308\n",
      "118 6.5485093641 52.3294213467\n",
      "119 6.5553390127 52.309443684\n",
      "120 6.5913239804 52.2199724941\n",
      "121 6.6207273018 52.4106609269\n",
      "122 6.6990287501 52.45741401\n",
      "123 6.7032535492 52.2556425969\n",
      "124 6.7266909115 52.2622987544\n",
      "125 6.7197117142 52.2657234587\n",
      "126 6.7186676569 52.2786342442\n",
      "127 6.7124562938 52.2732912075\n",
      "128 6.6729721853 52.358856739\n",
      "129 6.6962569647 52.3439321628\n",
      "130 6.6569050501 52.3648097538\n",
      "131 6.779408399 52.1709400588\n",
      "132 6.7540525063 52.1864942353\n",
      "133 6.6963409619 52.2794096871\n",
      "134 6.6790333092 52.2955946299\n",
      "135 6.7203953073 52.2789673823\n",
      "136 6.7072739649 52.2942028929\n",
      "137 6.7177149439 52.26768876\n",
      "138 6.6421507164 52.267548018\n",
      "139 6.6277506676 52.2370784863\n",
      "140 6.7168101087 52.2878368467\n",
      "141 6.7409595764 52.3124524677\n"
     ]
    }
   ],
   "source": [
    "for i, (x_val, y_val) in enumerate(zip(farm['x'], farm['y'])):\n",
    "    print(i,x_val , y_val) "
   ]
  },
  {
   "cell_type": "code",
   "execution_count": 334,
   "metadata": {},
   "outputs": [
    {
     "data": {
      "image/png": "[encoded data removed]",
      "text/plain": [
       "<Figure size 1000x800 with 1 Axes>"
      ]
     },
     "metadata": {},
     "output_type": "display_data"
    }
   ],
   "source": [
    "# Visualize the results\n",
    "plt.figure(figsize=(10, 8))\n",
    "\n",
    "# Plot farms in solution\n",
    "for j in Plant:\n",
    "    assigned = assigned_farms[j]\n",
    "    plt.scatter([farm.loc[i, 'x'] for i in assigned], [farm.loc[i, 'y'] for i in assigned], label=f\"Plant {j}\", marker='o', s=20, alpha=0.5)\n",
    "\n",
    "# Plot farms excluded in solution\n",
    "for i in farm_not_in_solution:\n",
    "    plt.scatter(farm.loc[i, 'x'], farm.loc[i, 'y'], marker='o', s=20, c='Grey', alpha=0.5)\n",
    "\n",
    "# Plot plants in solution\n",
    "for i in plant_in_use:\n",
    "    plt.scatter(potential_digester_location.loc[i, 'x'], potential_digester_location.loc[i, 'y'], marker=\"^\", s=50, c='Black')\n",
    "    label = f\"Plant {i} \\n Capacity:{potential_digester_location.loc[i, 'capacity']} (t/yr)\"\n",
    "    plt.annotate(label, # this is the text\n",
    "                 (potential_digester_location.loc[i, 'x'], potential_digester_location.loc[i, 'y']), # these are the coordinates to position the label\n",
    "                 textcoords=\"offset points\", # how to position the text\n",
    "                 xytext=(-20,10), # distance from text to points (x,y)\n",
    "                 ha='left', va='bottom') # horizontal alignment can be left, right or center\n",
    "\n",
    "# for i, (x_val, y_val) in enumerate(zip(x, y)):\n",
    "#     label = f'Point {i+1} ({x_val}, {y_val})'  # Create a label for each data point\n",
    "#     plt.annotate(label, (x_val, y_val), textcoords=\"offset points\", xytext=(0, 10), ha='center')\n",
    "\n",
    "\n",
    "# scatter = plt.scatter(potential_digester_location['x'], potential_digester_location['y'], c=potential_digester_location['capacity'], label=\"Plant Locations\", marker='s', s=50)\n",
    "# Add labels based on 'Label' column\n",
    "# for i, row in potential_digester_location.iterrows():\n",
    "#     plt.annotate(row['capacity'], (row['x'], row['y']), textcoords=\"offset points\", xytext=(0, 10), ha='center')\n",
    "\n",
    "# Add labels and legend\n",
    "plt.xlabel(\"Longtitude\")\n",
    "plt.ylabel(\"Latitude\")\n",
    "plt.title(\"Farm-to-Plant Assignments: Capacitated Facility Location Problem \\n (20% Manure Utilization)\")\n",
    "plt.legend()\n",
    "# legend = plt.legend(*scatter.legend_elements(), loc='upper left', bbox_to_anchor=(1.0, 1.0))\n",
    "\n",
    "# # Create a dictionary to map unique values to custom legend labels\n",
    "# custom_labels = {'A': 'Category 1', 'B': 'Category 2', 'C': 'Category 3'}\n",
    "\n",
    "# # Replace unique values with custom labels for the legend\n",
    "# legend_labels = [custom_labels[label] for label in df['Label'].unique()]\n",
    "\n",
    "# # Create the legend with custom labels\n",
    "# legend = plt.legend(handles=scatter.legend_elements()[0], labels=legend_labels, loc='upper left', bbox_to_anchor=(1.0, 1.0))\n",
    "\n",
    "plt.savefig(r\"./cflp_v1_20%manure_relaxed.png\", dpi=300)\n",
    "\n",
    "plt.show()"
   ]
  },
  {
   "cell_type": "code",
   "execution_count": 333,
   "metadata": {},
   "outputs": [
    {
     "name": "stdout",
     "output_type": "stream",
     "text": [
      "Total Cost =  257520.25842174856\n"
     ]
    }
   ],
   "source": [
    "# Print Optimal\n",
    "print(\"Total Cost = \", value(prob.objective))"
   ]
  }
 ],
 "metadata": {
  "kernelspec": {
   "display_name": "Python 3",
   "language": "python",
   "name": "python3"
  },
  "language_info": {
   "codemirror_mode": {
    "name": "ipython",
    "version": 3
   },
   "file_extension": ".py",
   "mimetype": "text/x-python",
   "name": "python",
   "nbconvert_exporter": "python",
   "pygments_lexer": "ipython3",
   "version": "3.10.4"
  }
 },
 "nbformat": 4,
 "nbformat_minor": 2
}
