{
 "cells": [
  {
   "cell_type": "code",
   "execution_count": 1,
   "metadata": {},
   "outputs": [
    {
     "ename": "ModuleNotFoundError",
     "evalue": "No module named 'osgeo'",
     "output_type": "error",
     "traceback": [
      "\u001b[0;31m---------------------------------------------------------------------------\u001b[0m",
      "\u001b[0;31mModuleNotFoundError\u001b[0m                       Traceback (most recent call last)",
      "Cell \u001b[0;32mIn[1], line 2\u001b[0m\n\u001b[1;32m      1\u001b[0m \u001b[38;5;28;01mimport\u001b[39;00m \u001b[38;5;21;01mgeopandas\u001b[39;00m \u001b[38;5;28;01mas\u001b[39;00m \u001b[38;5;21;01mgpd\u001b[39;00m\n\u001b[0;32m----> 2\u001b[0m \u001b[38;5;28;01mfrom\u001b[39;00m \u001b[38;5;21;01mosgeo\u001b[39;00m \u001b[38;5;28;01mimport\u001b[39;00m gdal\n",
      "\u001b[0;31mModuleNotFoundError\u001b[0m: No module named 'osgeo'"
     ]
    }
   ],
   "source": [
    "import geopandas as gpd\n",
    "import rasterio\n",
    "import os"
   ]
  },
  {
   "cell_type": "code",
   "execution_count": null,
   "metadata": {},
   "outputs": [],
   "source": [
    "def load_data(file_path):\n",
    "    \"\"\"Load the CORINE data.\"\"\"\n",
    "    gdf = gpd.read_file(file_path)\n",
    "    return gd"
   ]
  },
  {
   "cell_type": "code",
   "execution_count": null,
   "metadata": {},
   "outputs": [],
   "source": [
    "def reclassify(gdf):\n",
    "    \"\"\"Reclassify the CORINE data into broader land use categories.\"\"\"\n",
    "    # Define your reclassification rules here\n",
    "    reclassification_rules = {\n",
    "        'agriculture': [211, 212, 213, 221, 222, 223, 241, 242, 243, 244],\n",
    "        'urban': [111, 112],\n",
    "        'industry': [121, 122, 123, 124, 131, 132, 133],\n",
    "        'water_bodies': [523],\n",
    "        'nature_forest': [311, 312, 313],\n",
    "        'meadow': [231]\n",
    "    }\n",
    "    # Get all unique codes in the data\n",
    "    all_codes = gdf['code'].unique()\n",
    "    # Find codes that are not in the reclassification rules\n",
    "    other_codes = [code for code in all_codes if code not in sum(reclassification_rules.values(), [])]\n",
    "    # Add these codes to the 'other' category\n",
    "    reclassification_rules['other'] = other_codes\n",
    "    # Apply the reclassification rules\n",
    "    for category, codes in reclassification_rules.items():\n",
    "        gdf.loc[gdf['code'].isin(codes), 'category'] = category\n",
    "    return gdf\n"
   ]
  },
  {
   "cell_type": "code",
   "execution_count": null,
   "metadata": {},
   "outputs": [],
   "source": [
    "def export_data(gdf, category, output_dir):\n",
    "    \"\"\"Export the data of each land use type as a separate tiff file.\"\"\"\n",
    "    output_path = os.path.join(output_dir, f\"{category}.tif\")\n",
    "    with rasterio.open(output_path, 'w', driver='GTiff') as dst:\n",
    "        dst.write(gdf[gdf['category'] == category].values)"
   ]
  },
  {
   "cell_type": "code",
   "execution_count": null,
   "metadata": {},
   "outputs": [],
   "source": [
    "def main():\n",
    "    file_path = 'your_data_path'\n",
    "    output_dir = 'your_output_directory'\n",
    "    gdf = load_data(file_path)\n",
    "    gdf = reclassify(gdf)\n",
    "    for category in gdf['category'].unique():\n",
    "        export_data(gdf, category, output_dir)"
   ]
  },
  {
   "cell_type": "code",
   "execution_count": null,
   "metadata": {},
   "outputs": [],
   "source": [
    "if __name__ == \"__main__\":\n",
    "    main()"
   ]
  }
 ],
 "metadata": {
  "kernelspec": {
   "display_name": "Python 3",
   "language": "python",
   "name": "python3"
  },
  "language_info": {
   "codemirror_mode": {
    "name": "ipython",
    "version": 3
   },
   "file_extension": ".py",
   "mimetype": "text/x-python",
   "name": "python",
   "nbconvert_exporter": "python",
   "pygments_lexer": "ipython3",
   "version": "3.11.9"
  }
 },
 "nbformat": 4,
 "nbformat_minor": 2
}
