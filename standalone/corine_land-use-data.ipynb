{
 "cells": [
  {
   "cell_type": "code",
   "execution_count": 1,
   "metadata": {},
   "outputs": [],
   "source": [
    "import os\n",
    "import glob\n",
    "import numpy as np\n",
    "import matplotlib.pyplot as plt\n",
    "import geopandas as gpd\n",
    "from matplotlib.colors import ListedColormap"
   ]
  },
  {
   "cell_type": "code",
   "execution_count": 2,
   "metadata": {},
   "outputs": [
    {
     "ename": "",
     "evalue": "",
     "output_type": "error",
     "traceback": [
      "\u001b[1;31mThe Kernel crashed while executing code in the current cell or a previous cell. \n",
      "\u001b[1;31mPlease review the code in the cell(s) to identify a possible cause of the failure. \n",
      "\u001b[1;31mClick <a href='https://aka.ms/vscodeJupyterKernelCrash'>here</a> for more info. \n",
      "\u001b[1;31mView Jupyter <a href='command:jupyter.viewOutput'>log</a> for further details."
     ]
    }
   ],
   "source": [
    "class DataProcessor:\n",
    "    \"\"\"A class to process and visualize geospatial data from a local GeoPackage file.\"\"\"\n",
    "\n",
    "    def __init__(self, geopackage_path, layer_name, output_dir):\n",
    "        \"\"\"Initialize the DataProcessor with the GeoPackage details and output directory.\"\"\"\n",
    "        self.geopackage_path = geopackage_path\n",
    "        self.layer_name = layer_name\n",
    "        self.output_dir = output_dir\n",
    "\n",
    "    def read_data(self):\n",
    "        \"\"\"Reads the data from the GeoPackage file.\"\"\"\n",
    "        try:\n",
    "            data = gpd.read_file(self.geopackage_path, layer=self.layer_name)\n",
    "            return data\n",
    "        except Exception as e:\n",
    "            print(f\"Failed to read data: {e}\")\n",
    "            return None\n",
    "\n",
    "    def reclassify_data(self, data):\n",
    "        \"\"\"Reclassifies the raster data into broader land use categories.\"\"\"\n",
    "        display(\"Reclassifying data\")\n",
    "        if data is None or data.size == 0:\n",
    "            raise ValueError(\"The data is empty or not correctly loaded.\")\n",
    "        reclassification_rules = {\n",
    "            1: [211, 212, 213, 221, 222, 223, 241, 242, 243, 244],  # agriculture\n",
    "            2: [111, 112],  # urban\n",
    "            3: [121, 122, 123, 124, 131, 132, 133],  # industry\n",
    "            4: [523],  # water_bodies\n",
    "            5: [311, 312, 313],  # nature_forest\n",
    "            6: [231]  # meadow\n",
    "        }\n",
    "        category_names = {\n",
    "            1: 'agriculture',\n",
    "            2: 'urban',\n",
    "            3: 'industry',\n",
    "            4: 'water_bodies',\n",
    "            5: 'nature_forest',\n",
    "            6: 'meadow'\n",
    "        }\n",
    "        reclassified = np.empty(data.shape, dtype=np.float32)\n",
    "        for category, codes in reclassification_rules.items():\n",
    "            mask = np.isin(data, codes)\n",
    "            reclassified[mask] = category\n",
    "        return reclassified, category_names\n",
    "\n",
    "    def export_data(self, reclassified, category, category_names):\n",
    "        \"\"\"Exports the data of each land use type as a separate tiff file.\"\"\"\n",
    "        try:\n",
    "            output_path = os.path.join(self.output_dir, f\"{category_names[category]}.tif\")\n",
    "            display(f\"Exporting data to {output_path}\")\n",
    "            values = reclassified == category\n",
    "            with rasterio.open(output_path, 'w', driver='GTiff', height=values.shape[0],\n",
    "                            width=values.shape[1], count=1, dtype='float32',\n",
    "                            crs='EPSG:3857', transform=from_origin(0, 0, 1, 1)) as dst:\n",
    "                dst.write(values.astype(rasterio.float32), 1)\n",
    "        except Exception as e:\n",
    "            print(f\"Failed to export data: {e}\")\n",
    "\n",
    "    def visualize_data(self, reclassified, category_names):\n",
    "        \"\"\"Visualizes the reclassified data.\"\"\"\n",
    "        fig, ax = plt.subplots(1, 1)\n",
    "        color_map = ListedColormap([\n",
    "            'red',  # agriculture\n",
    "            'blue',  # urban\n",
    "            'darkgrey',  # industry\n",
    "            'lightblue',  # water_bodies\n",
    "            'green',  # nature_forest\n",
    "            'yellow',  # meadow\n",
    "            'white'  # other\n",
    "        ])\n",
    "        for category in np.unique(reclassified):\n",
    "            if category > 0:\n",
    "                ax.imshow((reclassified == category), cmap=color_map, alpha=0.5)\n",
    "        plt.show()\n",
    "\n",
    "    def process_data(self):\n",
    "        \"\"\"Main method to process the data.\"\"\"\n",
    "        try:\n",
    "            existing_files = set(glob.glob(os.path.join(self.output_dir, \"*.tif\")))\n",
    "            required_files = {os.path.join(self.output_dir, f\"{category}.tif\") for category in ['agriculture', 'urban', 'industry', 'water_bodies', 'nature_forest', 'meadow']}\n",
    "            if not required_files.issubset(existing_files):\n",
    "                data = self.read_data()\n",
    "                if data is not None:\n",
    "                    reclassified, category_names = self.reclassify_data(data)\n",
    "                    for category in np.unique(reclassified):\n",
    "                        if category in category_names:\n",
    "                            self.export_data(reclassified, category, category_names)\n",
    "                    self.visualize_data(reclassified, category_names)\n",
    "            else:\n",
    "                print(\"Files already exist, skipping processing.\")\n",
    "        except Exception as e:\n",
    "            print(f\"Failed to process data: {e}\")"
   ]
  },
  {
   "cell_type": "code",
   "execution_count": 3,
   "metadata": {},
   "outputs": [
    {
     "data": {
      "text/plain": [
       "'Reclassifying data'"
      ]
     },
     "metadata": {},
     "output_type": "display_data"
    }
   ],
   "source": [
    "if __name__ == \"__main__\":\n",
    "    processor = DataProcessor(\n",
    "        geopackage_path='/workspaces/bioze_digital_mapping_tool/standalone/corine_data_landcover/91585/Results/U2018_CLC2018_V2020_20u1.gpkg',\n",
    "        layer_name='U2018_CLC2018_V2020_20u1',\n",
    "        output_dir='corine_reclassify_GTiff'\n",
    "    )\n",
    "    processor.process_data()"
   ]
  }
 ],
 "metadata": {
  "kernelspec": {
   "display_name": "Python 3",
   "language": "python",
   "name": "python3"
  },
  "language_info": {
   "codemirror_mode": {
    "name": "ipython",
    "version": 3
   },
   "file_extension": ".py",
   "mimetype": "text/x-python",
   "name": "python",
   "nbconvert_exporter": "python",
   "pygments_lexer": "ipython3",
   "version": "3.11.9"
  }
 },
 "nbformat": 4,
 "nbformat_minor": 2
}
