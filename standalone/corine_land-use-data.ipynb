{
 "cells": [
  {
   "cell_type": "code",
   "execution_count": 158,
   "metadata": {},
   "outputs": [],
   "source": [
    "import os\n",
    "import glob\n",
    "import numpy as np\n",
    "import matplotlib.pyplot as plt\n",
    "import geopandas as gpd\n",
    "from matplotlib.colors import ListedColormap\n",
    "from IPython.display import display\n",
    "from pathlib import Path\n",
    "from rasterio.features import rasterize\n",
    "from multiprocessing import Pool"
   ]
  },
  {
   "cell_type": "code",
   "execution_count": 159,
   "metadata": {},
   "outputs": [],
   "source": [
    "class DataProcessor:\n",
    "    \"\"\"A class to process and visualize geospatial data from a local GeoPackage file.\"\"\"\n",
    "\n",
    "    def __init__(self, geopackage_path: str, layer_name: str, output_dir: str, code_column: str):\n",
    "        \"\"\"Initialize the DataProcessor with the GeoPackage details and output directory.\"\"\"\n",
    "        self.geopackage_path = Path(geopackage_path)\n",
    "        self.layer_name = layer_name \n",
    "        self.output_dir = Path(output_dir)\n",
    "        self.code_column = code_column\n",
    "        if not self.geopackage_path.exists():\n",
    "            raise ValueError(f\"GeoPackage path {geopackage_path} does not exist.\")\n",
    "        self.output_dir.mkdir(parents=True, exist_ok=True)\n",
    "\n",
    "        self.land_use_code_mapping = {\n",
    "            1: [211, 212, 213, 221, 222, 223, 241, 242, 243, 244],  # agriculture\n",
    "            2: [111, 112],  # urban\n",
    "            3: [121, 122, 123, 124, 131, 132, 133],  # industry\n",
    "            4: [523],  # water_bodies\n",
    "            5: [311, 312, 313],  # nature_forest\n",
    "            6: [231]  # meadow\n",
    "        }\n",
    "        self.category_names = {\n",
    "            1: 'agriculture',\n",
    "            2: 'urban',\n",
    "            3: 'industry',\n",
    "            4: 'water_bodies',\n",
    "            5: 'nature_forest',\n",
    "            6: 'meadow'\n",
    "        }\n",
    "\n",
    "    def read_data(self) -> gpd.GeoDataFrame:\n",
    "        \"\"\"Reads the data from the GeoPackage file.\"\"\"\n",
    "        data = gpd.read_file(self.geopackage_path, layer=self.layer_name)\n",
    "        if data.empty:\n",
    "            raise ValueError(\"The data is empty or not correctly loaded.\")\n",
    "        display(data.head())  # Display the first few rows of the data\n",
    "        return data\n",
    "\n",
    "    def reclassify_data(self, data):\n",
    "        \"\"\"Reclassifies the raster data into broader land use categories.\"\"\"\n",
    "        display(\"Reclassifying data\")\n",
    "            \n",
    "        # Handle None values\n",
    "        data = data.assign(**{self.code_column: data[self.code_column].fillna(-1)})\n",
    "            \n",
    "        codes = data[self.code_column].astype(int).values.reshape(-1, 1)  # Convert codes to integers\n",
    "        reclassified = np.empty_like(codes, dtype=np.float32)\n",
    "\n",
    "        # Create a mapping from the original codes to the new categories\n",
    "        code_to_category = {code: category for category, rule_codes in self.land_use_code_mapping.items() for code in rule_codes if code != -1}\n",
    "        map_func = np.vectorize(code_to_category.get, otypes=[float])\n",
    "        reclassified = map_func(codes)\n",
    "\n",
    "        display(reclassified)  # Display the reclassified data\n",
    "        return reclassified, self.category_names\n",
    "\n",
    "    def export_data(self, reclassified, data, category):\n",
    "        \"\"\"Exports the data of each land use type as a separate tiff file.\"\"\"\n",
    "        output_path = self.output_dir / f\"{self.category_names[category]}.tif\"\n",
    "        if output_path.exists():\n",
    "            display(f\"File {output_path} already exists, skipping export.\")\n",
    "            return\n",
    "        display(f\"Exporting data to {output_path}\")\n",
    "        values = reclassified == category\n",
    "        shapes = [(geom, value) for geom, value in zip(data.geometry, values)]\n",
    "        rasterized = rasterize(shapes, out_shape=(data.shape[0], data.shape[1]))\n",
    "        with rasterio.open(output_path, 'w', driver='GTiff', height=rasterized.shape[0],\n",
    "                        width=rasterized.shape[1], count=1, dtype='float32',\n",
    "                        crs='EPSG:3857') as dst:\n",
    "            dst.write(rasterized.astype(rasterio.float32), 1)\n",
    "\n",
    "    def visualize_data(self, reclassified):\n",
    "        \"\"\"Visualizes the reclassified data.\"\"\"\n",
    "        fig, ax = plt.subplots(1, 1)\n",
    "        color_map = ListedColormap([\n",
    "            'red',  # agriculture\n",
    "            'blue',  # urban\n",
    "            'darkgrey',  # industry\n",
    "            'lightblue',  # water_bodies\n",
    "            'green',  # nature_forest\n",
    "            'yellow',  # meadow\n",
    "            'white'  # other\n",
    "        ])\n",
    "        for category in np.unique(reclassified):\n",
    "            if np.isfinite(category) and category > 0:\n",
    "                ax.imshow((reclassified == category).reshape(-1, 1), cmap=color_map, alpha=0.5)\n",
    "        plt.show()\n",
    "\n",
    "    def process_data(self):\n",
    "        \"\"\"Main method to process the data.\"\"\"\n",
    "        data = self.read_data()\n",
    "        reclassified, category_names = self.reclassify_data(data)\n",
    "        categories = [category for category in np.unique(reclassified) if category in category_names]\n",
    "\n",
    "        # Use a process pool to export data for each category in parallel\n",
    "        with Pool() as pool:\n",
    "            pool.starmap(self.export_data, [(reclassified, data, category) for category in categories])\n",
    "\n",
    "        self.visualize_data(reclassified)"
   ]
  },
  {
   "cell_type": "code",
   "execution_count": 160,
   "metadata": {},
   "outputs": [
    {
     "data": {
      "text/html": [
       "<div>\n",
       "<style scoped>\n",
       "    .dataframe tbody tr th:only-of-type {\n",
       "        vertical-align: middle;\n",
       "    }\n",
       "\n",
       "    .dataframe tbody tr th {\n",
       "        vertical-align: top;\n",
       "    }\n",
       "\n",
       "    .dataframe thead th {\n",
       "        text-align: right;\n",
       "    }\n",
       "</style>\n",
       "<table border=\"1\" class=\"dataframe\">\n",
       "  <thead>\n",
       "    <tr style=\"text-align: right;\">\n",
       "      <th></th>\n",
       "      <th>OBJECTID</th>\n",
       "      <th>Code_18</th>\n",
       "      <th>Remark</th>\n",
       "      <th>Area_Ha</th>\n",
       "      <th>Shape_Length</th>\n",
       "      <th>Shape_Area</th>\n",
       "      <th>geometry</th>\n",
       "    </tr>\n",
       "  </thead>\n",
       "  <tbody>\n",
       "    <tr>\n",
       "      <th>0</th>\n",
       "      <td>1570275</td>\n",
       "      <td>112</td>\n",
       "      <td>None</td>\n",
       "      <td>159.046461</td>\n",
       "      <td>6514.551351</td>\n",
       "      <td>1.590465e+06</td>\n",
       "      <td>POLYGON ((468651.184 6745659.977, 468786.427 6...</td>\n",
       "    </tr>\n",
       "    <tr>\n",
       "      <th>1</th>\n",
       "      <td>1570318</td>\n",
       "      <td>112</td>\n",
       "      <td>None</td>\n",
       "      <td>37.401350</td>\n",
       "      <td>3300.250382</td>\n",
       "      <td>3.740135e+05</td>\n",
       "      <td>POLYGON ((477542.762 6749182.121, 477509.903 6...</td>\n",
       "    </tr>\n",
       "    <tr>\n",
       "      <th>2</th>\n",
       "      <td>1570324</td>\n",
       "      <td>112</td>\n",
       "      <td>None</td>\n",
       "      <td>62.038357</td>\n",
       "      <td>3990.132619</td>\n",
       "      <td>6.203836e+05</td>\n",
       "      <td>POLYGON ((455634.865 6747345.528, 455315.104 6...</td>\n",
       "    </tr>\n",
       "    <tr>\n",
       "      <th>3</th>\n",
       "      <td>1570325</td>\n",
       "      <td>112</td>\n",
       "      <td>None</td>\n",
       "      <td>52.610017</td>\n",
       "      <td>3237.477859</td>\n",
       "      <td>5.261002e+05</td>\n",
       "      <td>POLYGON ((464041.012 6749066.793, 464221.592 6...</td>\n",
       "    </tr>\n",
       "    <tr>\n",
       "      <th>4</th>\n",
       "      <td>1570351</td>\n",
       "      <td>112</td>\n",
       "      <td>None</td>\n",
       "      <td>174.041492</td>\n",
       "      <td>6552.864183</td>\n",
       "      <td>1.740415e+06</td>\n",
       "      <td>POLYGON ((494883.960 6753496.606, 494864.230 6...</td>\n",
       "    </tr>\n",
       "  </tbody>\n",
       "</table>\n",
       "</div>"
      ],
      "text/plain": [
       "   OBJECTID Code_18 Remark     Area_Ha  Shape_Length    Shape_Area  \\\n",
       "0   1570275     112   None  159.046461   6514.551351  1.590465e+06   \n",
       "1   1570318     112   None   37.401350   3300.250382  3.740135e+05   \n",
       "2   1570324     112   None   62.038357   3990.132619  6.203836e+05   \n",
       "3   1570325     112   None   52.610017   3237.477859  5.261002e+05   \n",
       "4   1570351     112   None  174.041492   6552.864183  1.740415e+06   \n",
       "\n",
       "                                            geometry  \n",
       "0  POLYGON ((468651.184 6745659.977, 468786.427 6...  \n",
       "1  POLYGON ((477542.762 6749182.121, 477509.903 6...  \n",
       "2  POLYGON ((455634.865 6747345.528, 455315.104 6...  \n",
       "3  POLYGON ((464041.012 6749066.793, 464221.592 6...  \n",
       "4  POLYGON ((494883.960 6753496.606, 494864.230 6...  "
      ]
     },
     "metadata": {},
     "output_type": "display_data"
    },
    {
     "data": {
      "text/plain": [
       "'Reclassifying data'"
      ]
     },
     "metadata": {},
     "output_type": "display_data"
    },
    {
     "data": {
      "text/plain": [
       "array([[ 2.],\n",
       "       [ 2.],\n",
       "       [ 2.],\n",
       "       ...,\n",
       "       [nan],\n",
       "       [nan],\n",
       "       [ 4.]])"
      ]
     },
     "metadata": {},
     "output_type": "display_data"
    },
    {
     "name": "stderr",
     "output_type": "stream",
     "text": [
      "/home/vscode/.local/lib/python3.11/site-packages/rasterio/__init__.py:314: NotGeoreferencedWarning: Dataset has no geotransform, gcps, or rpcs. The identity matrix will be returned.\n",
      "  dataset = writer(\n",
      "/home/vscode/.local/lib/python3.11/site-packages/rasterio/__init__.py:314: NotGeoreferencedWarning: Dataset has no geotransform, gcps, or rpcs. The identity matrix will be returned.\n",
      "  dataset = writer(\n"
     ]
    },
    {
     "data": {
      "text/plain": [
       "'Exporting data to corine_reclassify_GTiff/industry.tif'"
      ]
     },
     "metadata": {},
     "output_type": "display_data"
    },
    {
     "data": {
      "text/plain": [
       "'Exporting data to corine_reclassify_GTiff/water_bodies.tif'"
      ]
     },
     "metadata": {},
     "output_type": "display_data"
    },
    {
     "name": "stderr",
     "output_type": "stream",
     "text": [
      "/home/vscode/.local/lib/python3.11/site-packages/rasterio/__init__.py:314: NotGeoreferencedWarning: Dataset has no geotransform, gcps, or rpcs. The identity matrix will be returned.\n",
      "  dataset = writer(\n",
      "/home/vscode/.local/lib/python3.11/site-packages/rasterio/__init__.py:314: NotGeoreferencedWarning: Dataset has no geotransform, gcps, or rpcs. The identity matrix will be returned.\n",
      "  dataset = writer(\n"
     ]
    },
    {
     "data": {
      "text/plain": [
       "'Exporting data to corine_reclassify_GTiff/nature_forest.tif'"
      ]
     },
     "metadata": {},
     "output_type": "display_data"
    },
    {
     "data": {
      "text/plain": [
       "'Exporting data to corine_reclassify_GTiff/meadow.tif'"
      ]
     },
     "metadata": {},
     "output_type": "display_data"
    },
    {
     "name": "stderr",
     "output_type": "stream",
     "text": [
      "/home/vscode/.local/lib/python3.11/site-packages/rasterio/__init__.py:314: NotGeoreferencedWarning: Dataset has no geotransform, gcps, or rpcs. The identity matrix will be returned.\n",
      "  dataset = writer(\n",
      "/home/vscode/.local/lib/python3.11/site-packages/rasterio/__init__.py:314: NotGeoreferencedWarning: Dataset has no geotransform, gcps, or rpcs. The identity matrix will be returned.\n",
      "  dataset = writer(\n"
     ]
    },
    {
     "data": {
      "image/png": "[encoded data removed]",
      "text/plain": [
       "<Figure size 640x480 with 1 Axes>"
      ]
     },
     "metadata": {},
     "output_type": "display_data"
    }
   ],
   "source": [
    "if __name__ == \"__main__\":\n",
    "    processor = DataProcessor(\n",
    "        geopackage_path='corine_data_landcover/zuid-holland/Results/U2018_CLC2018_V2020_20u1.gpkg',\n",
    "        layer_name='U2018_CLC2018_V2020_20u1',\n",
    "        output_dir='corine_reclassify_GTiff',\n",
    "        code_column='Code_18'\n",
    "    )\n",
    "    processor.process_data()"
   ]
  }
 ],
 "metadata": {
  "kernelspec": {
   "display_name": "Python 3",
   "language": "python",
   "name": "python3"
  },
  "language_info": {
   "codemirror_mode": {
    "name": "ipython",
    "version": 3
   },
   "file_extension": ".py",
   "mimetype": "text/x-python",
   "name": "python",
   "nbconvert_exporter": "python",
   "pygments_lexer": "ipython3",
   "version": "3.11.9"
  }
 },
 "nbformat": 4,
 "nbformat_minor": 2
}
