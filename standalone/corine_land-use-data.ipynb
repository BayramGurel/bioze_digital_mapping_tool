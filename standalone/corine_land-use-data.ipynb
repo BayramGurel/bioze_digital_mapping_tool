{
 "cells": [
  {
   "cell_type": "code",
   "execution_count": 91,
   "metadata": {},
   "outputs": [],
   "source": [
    "import geopandas as gpd\n",
    "import rasterio\n",
    "from rasterio.transform import from_origin\n",
    "import os\n",
    "import matplotlib.pyplot as plt\n",
    "from owslib.wms import WebMapService\n",
    "from IPython.display import display\n",
    "import numpy as np\n",
    "from matplotlib.colors import ListedColormap"
   ]
  },
  {
   "cell_type": "code",
   "execution_count": 92,
   "metadata": {},
   "outputs": [],
   "source": [
    "class DataProcessor:\n",
    "    def __init__(self, file_path, wms_url, layer_name, bbox, output_dir):\n",
    "        self.file_path = file_path\n",
    "        self.wms_url = wms_url\n",
    "        self.layer_name = layer_name\n",
    "        self.bbox = bbox\n",
    "        self.output_dir = output_dir\n",
    "\n",
    "    def load_geotiff(self):\n",
    "        \"\"\"Load the GeoTIFF data from a file.\"\"\"\n",
    "        display(f\"Loading data from {self.file_path}\")\n",
    "        try:\n",
    "            return rasterio.open(self.file_path)\n",
    "        except Exception as e:\n",
    "            display(f\"Failed to load data from {self.file_path}: {e}\")\n",
    "            raise\n",
    "\n",
    "    def download_data(self):\n",
    "        \"\"\"\n",
    "        Download data from a WMS.\n",
    "        \"\"\"\n",
    "        display(f\"Downloading data from {self.wms_url}\")\n",
    "\n",
    "        try:\n",
    "            # Connect to the WMS\n",
    "            wms = WebMapService(self.wms_url)\n",
    "\n",
    "            # Get the data as a GeoTIFF\n",
    "            img = wms.getmap(\n",
    "                layers=[self.layer_name],\n",
    "                styles=['default'],\n",
    "                srs='EPSG:3857',\n",
    "                bbox=self.bbox,\n",
    "                size=(256, 256),\n",
    "                format='image/geotiff',\n",
    "                transparent=True\n",
    "            )\n",
    "\n",
    "            # Save the data to a file\n",
    "            with open(self.file_path, 'wb') as f:\n",
    "                f.write(img.read())\n",
    "\n",
    "            display(f\"Data downloaded to {self.file_path}\")\n",
    "        except Exception as e:\n",
    "            display(f\"Failed to download data from {self.wms_url}: {e}\")\n",
    "            raise\n",
    "\n",
    "    def reclassify(self, dataset):\n",
    "        \"\"\"Reclassify the raster data into broader land use categories.\"\"\"\n",
    "        display(\"Reclassifying data\")\n",
    "\n",
    "        # Define your reclassification rules here\n",
    "        reclassification_rules = {\n",
    "            1: [211, 212, 213, 221, 222, 223, 241, 242, 243, 244],  # agriculture\n",
    "            2: [111, 112],  # urban\n",
    "            3: [121, 122, 123, 124, 131, 132, 133],  # industry\n",
    "            4: [523],  # water_bodies\n",
    "            5: [311, 312, 313],  # nature_forest\n",
    "            6: [231]  # meadow\n",
    "        }\n",
    "\n",
    "        # Create a dictionary to map integers to category names\n",
    "        category_names = {\n",
    "            1: 'agriculture',\n",
    "            2: 'urban',\n",
    "            3: 'industry',\n",
    "            4: 'water_bodies',\n",
    "            5: 'nature_forest',\n",
    "            6: 'meadow'\n",
    "        }\n",
    "\n",
    "        # Read the raster data into a numpy array\n",
    "        data = dataset.read(1)\n",
    "\n",
    "        # Create an empty array for the reclassified data\n",
    "        reclassified = np.empty(data.shape, dtype=np.int8)\n",
    "\n",
    "        # Apply the reclassification rules\n",
    "        for category, codes in reclassification_rules.items():\n",
    "            for code in codes:\n",
    "                reclassified[data == code] = category\n",
    "\n",
    "        return reclassified, category_names\n",
    "\n",
    "    def export_data(self, reclassified, category, category_names):\n",
    "        \"\"\"Export the data of each land use type as a separate tiff file.\"\"\"\n",
    "        output_path = os.path.join(self.output_dir, f\"{category_names[category]}.tif\")\n",
    "        display(f\"Exporting data to {output_path}\")\n",
    "\n",
    "        # Assuming 'values' is a 2D array containing your data\n",
    "        values = reclassified == category\n",
    "\n",
    "        # Assuming 'transform' is a rasterio.transform object\n",
    "        transform = from_origin(0, 0, 1, 1)  # Replace with your actual transform\n",
    "\n",
    "        # Assuming 'crs' is a rasterio.crs.CRS object representing the coordinate reference system\n",
    "        crs = rasterio.crs.CRS.from_string('EPSG:3857')  # Replace with your actual CRS\n",
    "\n",
    "        with rasterio.open(output_path, 'w', driver='GTiff', height=values.shape[0], \n",
    "                        width=values.shape[1], count=1, dtype='uint8',\n",
    "                        crs=crs, transform=transform) as dst:\n",
    "            dst.write(values.astype(rasterio.uint8), 1)\n",
    "\n",
    "    def visualize(self, reclassified, category_names):\n",
    "        \"\"\"Visualize the reclassified data.\"\"\"\n",
    "        # legenda color map\n",
    "        color_map = ListedColormap([\n",
    "            'red',        # agriculture\n",
    "            'blue',       # urban\n",
    "            'darkgrey',   # industry\n",
    "            'lightblue',  # water_bodies\n",
    "            'green',      # nature_forest\n",
    "            'yellow',     # meadow\n",
    "            'white'       # other\n",
    "        ])\n",
    "\n",
    "        fig, ax = plt.subplots(1, 1)\n",
    "        for category in np.unique(reclassified):\n",
    "            if category > 0:\n",
    "                ax.imshow((reclassified == category), cmap=color_map, alpha=0.5)\n",
    "        plt.show()\n",
    "\n",
    "    def process(self):\n",
    "        # Check if output directory exists, if not, create it\n",
    "        os.makedirs(self.output_dir, exist_ok=True)\n",
    "\n",
    "        self.download_data()\n",
    "        dataset = self.load_geotiff()\n",
    "        reclassified, category_names = self.reclassify(dataset)\n",
    "        for category in np.unique(reclassified):\n",
    "            if category in category_names:\n",
    "                self.export_data(reclassified, category, category_names)\n",
    "        self.visualize(reclassified, category_names)"
   ]
  },
  {
   "cell_type": "code",
   "execution_count": 93,
   "metadata": {},
   "outputs": [
    {
     "data": {
      "text/plain": [
       "'Downloading data from https://image.discomap.eea.europa.eu/arcgis/services/Corine/CLC2018_WM/MapServer/WMSServer?service=WMS&request=GetCapabilities&version=1.3.0'"
      ]
     },
     "metadata": {},
     "output_type": "display_data"
    },
    {
     "data": {
      "text/plain": [
       "'Data downloaded to corine_data_landcover.tif'"
      ]
     },
     "metadata": {},
     "output_type": "display_data"
    },
    {
     "data": {
      "text/plain": [
       "'Loading data from corine_data_landcover.tif'"
      ]
     },
     "metadata": {},
     "output_type": "display_data"
    },
    {
     "data": {
      "text/plain": [
       "'Reclassifying data'"
      ]
     },
     "metadata": {},
     "output_type": "display_data"
    },
    {
     "data": {
      "text/plain": [
       "'Exporting data to corine_reclassify_GTiff/agriculture.tif'"
      ]
     },
     "metadata": {},
     "output_type": "display_data"
    },
    {
     "data": {
      "text/plain": [
       "'Exporting data to corine_reclassify_GTiff/urban.tif'"
      ]
     },
     "metadata": {},
     "output_type": "display_data"
    },
    {
     "data": {
      "text/plain": [
       "'Exporting data to corine_reclassify_GTiff/industry.tif'"
      ]
     },
     "metadata": {},
     "output_type": "display_data"
    },
    {
     "data": {
      "text/plain": [
       "'Exporting data to corine_reclassify_GTiff/water_bodies.tif'"
      ]
     },
     "metadata": {},
     "output_type": "display_data"
    },
    {
     "data": {
      "text/plain": [
       "'Exporting data to corine_reclassify_GTiff/nature_forest.tif'"
      ]
     },
     "metadata": {},
     "output_type": "display_data"
    },
    {
     "data": {
      "text/plain": [
       "'Exporting data to corine_reclassify_GTiff/meadow.tif'"
      ]
     },
     "metadata": {},
     "output_type": "display_data"
    },
    {
     "data": {
      "image/png": "[encoded data removed]",
      "text/plain": [
       "<Figure size 640x480 with 1 Axes>"
      ]
     },
     "metadata": {},
     "output_type": "display_data"
    }
   ],
   "source": [
    "if __name__ == \"__main__\":\n",
    "    processor = DataProcessor(\n",
    "        file_path='corine_data_landcover.tif',\n",
    "        wms_url='https://image.discomap.eea.europa.eu/arcgis/services/Corine/CLC2018_WM/MapServer/WMSServer?service=WMS&request=GetCapabilities&version=1.3.0',\n",
    "        layer_name='0',\n",
    "        bbox=(3.31497114423, 50.803721015, 7.09205325687, 53.5104081412),\n",
    "        output_dir='corine_reclassify_GTiff'\n",
    "    )\n",
    "    processor.process()"
   ]
  }
 ],
 "metadata": {
  "kernelspec": {
   "display_name": "Python 3",
   "language": "python",
   "name": "python3"
  },
  "language_info": {
   "codemirror_mode": {
    "name": "ipython",
    "version": 3
   },
   "file_extension": ".py",
   "mimetype": "text/x-python",
   "name": "python",
   "nbconvert_exporter": "python",
   "pygments_lexer": "ipython3",
   "version": "3.11.9"
  }
 },
 "nbformat": 4,
 "nbformat_minor": 2
}
