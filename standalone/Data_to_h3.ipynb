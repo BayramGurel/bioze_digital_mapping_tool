{
 "cells": [
  {
   "cell_type": "code",
   "execution_count": 16,
   "metadata": {},
   "outputs": [],
   "source": [
    "import os\n",
    "import datetime\n",
    "import requests\n",
    "import zipfile\n",
    "import pandas as pd\n",
    "import geopandas as gpd\n",
    "import h3\n",
    "from shapely.geometry import shape\n",
    "import fiona\n",
    "from multiprocessing import Pool"
   ]
  },
  {
   "cell_type": "code",
   "execution_count": 17,
   "metadata": {},
   "outputs": [],
   "source": [
    "def download_and_extract(url, year, download_path, extract_path):\n",
    "    \"\"\"\n",
    "    Downloads a ZIP file from a URL and extracts its contents.\n",
    "\n",
    "    Args:\n",
    "        year (int): The year of the data.\n",
    "        download_path (str): Path to save the downloaded ZIP file.\n",
    "        extract_path (str): Path to extract the contents of the ZIP file.\n",
    "\n",
    "    Returns:\n",
    "        bool: True if the file was successfully downloaded and extracted, False otherwise.\n",
    "    \"\"\"    \n",
    "    try:\n",
    "        # Download the file\n",
    "        response = requests.get(url)\n",
    "        response.raise_for_status()  # Raise an exception if the request was unsuccessful\n",
    "\n",
    "        # Save the file\n",
    "        with open(download_path, 'wb') as f:\n",
    "            f.write(response.content)\n",
    "\n",
    "        # Extract the file\n",
    "        with zipfile.ZipFile(download_path, 'r') as zip_ref:\n",
    "            zip_ref.extractall(extract_path)\n",
    "\n",
    "        return True  # The file was successfully downloaded and extracted\n",
    "\n",
    "    except requests.exceptions.HTTPError:\n",
    "        print(f\"No file available for {year}\")\n",
    "        return False  # The file was not available\n",
    "\n",
    "    except Exception as e:\n",
    "        print(f\"Error downloading or extracting file: {e}\")\n",
    "        return False  # An error occurred"
   ]
  },
  {
   "cell_type": "code",
   "execution_count": 18,
   "metadata": {},
   "outputs": [],
   "source": [
    "def process_geojson(url_gpkg, resolution, output_filepath):\n",
    "    \"\"\"\n",
    "    Reads a GeoPackage file, converts it to GeoJSON, extracts points (centroids) with\n",
    "    population data, aggregates them into H3 cells at a specified resolution, and saves\n",
    "    the results to a CSV file.\n",
    "\n",
    "    Args:\n",
    "        url_gpkg (str): Path to the GeoPackage file.\n",
    "        resolution (int): H3 resolution level.\n",
    "        output_filepath (str): Path to save the CSV file.\n",
    "\n",
    "    Returns:\n",
    "        None\n",
    "    \"\"\"\n",
    "    try:\n",
    "        if not os.path.exists(url_gpkg):\n",
    "            raise FileNotFoundError(f\"Input file not found: {url_gpkg}\")\n",
    "\n",
    "        # Read GeoPackage using Fiona\n",
    "        with fiona.open(url_gpkg, 'r') as src:\n",
    "            crs = src.crs\n",
    "            features = [feat for feat in src]\n",
    "\n",
    "        # Convert to GeoDataFrame\n",
    "        population_data = gpd.GeoDataFrame.from_features(features, crs=crs)\n",
    "\n",
    "        # Select columns and explode\n",
    "        selected_data = population_data[['aantal_inwoners', 'geometry']]\n",
    "        centroid_points = selected_data.explode(index_parts=True)\n",
    "\n",
    "        # Handle missing values (replace with 0 for this example)\n",
    "        centroid_points.fillna(0, inplace=True)\n",
    "\n",
    "        # Set CRS (consider error handling if necessary)\n",
    "        centroid_points = centroid_points.set_crs(4326, allow_override=True)\n",
    "\n",
    "        # Aggregate to H3 cells\n",
    "        with Pool() as p:\n",
    "            h3_cells = p.map(h3.geo_to_h3, centroid_points['geometry'])\n",
    "\n",
    "        # Save H3 data to CSV\n",
    "        pd.DataFrame(h3_cells, columns=['h3']).to_csv(output_filepath)\n",
    "\n",
    "    except Exception as e:\n",
    "        print(f\"Error processing data: {e}\")"
   ]
  },
  {
   "cell_type": "code",
   "execution_count": 19,
   "metadata": {},
   "outputs": [],
   "source": [
    "def main():\n",
    "    # Get the current year\n",
    "    current_year = datetime.datetime.now().year\n",
    "\n",
    "    # Try downloading the file for the current year and previous years\n",
    "    for year in range(current_year - 1, current_year - 11, -1):  # Try for the last 10 years\n",
    "        url = f'https://www.cbs.nl/-/media/cbs/dossiers/nederland%20regionaal/wijk%20en%20buurtstatistieken/_kaart%20van%20100%20meter%20bij%20100%20meter%20met%20statistieken/{year}/{year}-cbs-vierkanten100m-statistieken.zip'\n",
    "        # Construct the file paths using the year\n",
    "        download_path = f'./cbs_{year}.zip'\n",
    "        extract_path = f'./cbs_{year}'\n",
    "        url_gpkg = os.path.join(extract_path, f'cbs_vk100_{year}_v1.gpkg')\n",
    "        output_filepath = f'./cbs_{year}_h3.csv'\n",
    "\n",
    "        # Download and extract the file\n",
    "        if download_and_extract(url, year, download_path, extract_path):\n",
    "            # If successful, process the data and break the loop\n",
    "            process_geojson(url_gpkg, 9, output_filepath)\n",
    "            break"
   ]
  },
  {
   "cell_type": "code",
   "execution_count": 20,
   "metadata": {},
   "outputs": [
    {
     "name": "stdout",
     "output_type": "stream",
     "text": [
      "No file available for 2023\n",
      "No file available for 2022\n",
      "No file available for 2021\n",
      "No file available for 2020\n",
      "No file available for 2019\n",
      "No file available for 2018\n",
      "No file available for 2017\n",
      "No file available for 2016\n",
      "No file available for 2015\n",
      "No file available for 2014\n"
     ]
    }
   ],
   "source": [
    "if __name__ == \"__main__\":\n",
    "    main()"
   ]
  }
 ],
 "metadata": {
  "kernelspec": {
   "display_name": "Python 3",
   "language": "python",
   "name": "python3"
  },
  "language_info": {
   "codemirror_mode": {
    "name": "ipython",
    "version": 3
   },
   "file_extension": ".py",
   "mimetype": "text/x-python",
   "name": "python",
   "nbconvert_exporter": "python",
   "pygments_lexer": "ipython3",
   "version": "3.11.9"
  }
 },
 "nbformat": 4,
 "nbformat_minor": 2
}
