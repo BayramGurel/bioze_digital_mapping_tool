{
 "cells": [
  {
   "cell_type": "markdown",
   "metadata": {},
   "source": [
    "# Export Data for Web Application "
   ]
  },
  {
   "cell_type": "code",
   "execution_count": 4,
   "metadata": {},
   "outputs": [],
   "source": [
    "from cflp_function import cflp, flp_scip, store_data_to_pickle, load_data_from_pickle, get_arc\n",
    "from pulp import *\n",
    "import pandas as pd\n",
    "import numpy as np\n",
    "# import pydeck as pdk\n",
    "import geopandas as gpd\n",
    "import os\n",
    "# import rasterio\n",
    "# from rasterio.plot import reshape_as_image\n",
    "# from shapely.geometry import mapping\n",
    "\n",
    "import matplotlib.pyplot as plt\n",
    "\n",
    "%matplotlib inline"
   ]
  },
  {
   "cell_type": "code",
   "execution_count": null,
   "metadata": {},
   "outputs": [],
   "source": [
    "# version_number = 6"
   ]
  },
  {
   "cell_type": "markdown",
   "metadata": {},
   "source": [
    "### Load files and create parameters\n",
    "* q_j max capacity of each j \n",
    "* f_j fixed cost of establishing each j\n",
    "* set F set of farm locations\n",
    "* set P set of potential digester locations\n",
    "* C_ij transportation matrix \n",
    "* p_i \n",
    "* alpha\n",
    "* mu"
   ]
  },
  {
   "cell_type": "code",
   "execution_count": 5,
   "metadata": {},
   "outputs": [
    {
     "data": {
      "text/html": [
       "<div>\n",
       "<style scoped>\n",
       "    .dataframe tbody tr th:only-of-type {\n",
       "        vertical-align: middle;\n",
       "    }\n",
       "\n",
       "    .dataframe tbody tr th {\n",
       "        vertical-align: top;\n",
       "    }\n",
       "\n",
       "    .dataframe thead th {\n",
       "        text-align: right;\n",
       "    }\n",
       "</style>\n",
       "<table border=\"1\" class=\"dataframe\">\n",
       "  <thead>\n",
       "    <tr style=\"text-align: right;\">\n",
       "      <th></th>\n",
       "      <th>x</th>\n",
       "      <th>y</th>\n",
       "      <th>count</th>\n",
       "    </tr>\n",
       "  </thead>\n",
       "  <tbody>\n",
       "    <tr>\n",
       "      <th>0</th>\n",
       "      <td>6.870686</td>\n",
       "      <td>52.215190</td>\n",
       "      <td>25</td>\n",
       "    </tr>\n",
       "    <tr>\n",
       "      <th>1</th>\n",
       "      <td>6.554937</td>\n",
       "      <td>52.254895</td>\n",
       "      <td>25</td>\n",
       "    </tr>\n",
       "    <tr>\n",
       "      <th>2</th>\n",
       "      <td>6.730518</td>\n",
       "      <td>52.252885</td>\n",
       "      <td>42</td>\n",
       "    </tr>\n",
       "    <tr>\n",
       "      <th>3</th>\n",
       "      <td>6.914234</td>\n",
       "      <td>52.387401</td>\n",
       "      <td>18</td>\n",
       "    </tr>\n",
       "    <tr>\n",
       "      <th>4</th>\n",
       "      <td>6.664105</td>\n",
       "      <td>52.392622</td>\n",
       "      <td>32</td>\n",
       "    </tr>\n",
       "  </tbody>\n",
       "</table>\n",
       "</div>"
      ],
      "text/plain": [
       "          x          y  count\n",
       "0  6.870686  52.215190     25\n",
       "1  6.554937  52.254895     25\n",
       "2  6.730518  52.252885     42\n",
       "3  6.914234  52.387401     18\n",
       "4  6.664105  52.392622     32"
      ]
     },
     "execution_count": 5,
     "metadata": {},
     "output_type": "execute_result"
    }
   ],
   "source": [
    "# Import farm_cluster_mock_5 dataset - which is the mock data for potential digester locations\n",
    "potential_digester_location = pd.read_csv(r'./farm/farm_cluster_mock_5.csv')\n",
    "potential_digester_location.head()"
   ]
  },
  {
   "cell_type": "code",
   "execution_count": 6,
   "metadata": {},
   "outputs": [
    {
     "data": {
      "text/html": [
       "<div>\n",
       "<style scoped>\n",
       "    .dataframe tbody tr th:only-of-type {\n",
       "        vertical-align: middle;\n",
       "    }\n",
       "\n",
       "    .dataframe tbody tr th {\n",
       "        vertical-align: top;\n",
       "    }\n",
       "\n",
       "    .dataframe thead th {\n",
       "        text-align: right;\n",
       "    }\n",
       "</style>\n",
       "<table border=\"1\" class=\"dataframe\">\n",
       "  <thead>\n",
       "    <tr style=\"text-align: right;\">\n",
       "      <th></th>\n",
       "      <th>Unnamed: 0</th>\n",
       "      <th>x</th>\n",
       "      <th>y</th>\n",
       "      <th>IND_OBJ_NA</th>\n",
       "      <th>manure_t</th>\n",
       "      <th>biogas_potential_m3</th>\n",
       "    </tr>\n",
       "  </thead>\n",
       "  <tbody>\n",
       "    <tr>\n",
       "      <th>0</th>\n",
       "      <td>0</td>\n",
       "      <td>6.765843</td>\n",
       "      <td>52.314139</td>\n",
       "      <td>507920</td>\n",
       "      <td>2454</td>\n",
       "      <td>957060.0</td>\n",
       "    </tr>\n",
       "    <tr>\n",
       "      <th>1</th>\n",
       "      <td>1</td>\n",
       "      <td>6.837249</td>\n",
       "      <td>52.425084</td>\n",
       "      <td>507950</td>\n",
       "      <td>9827</td>\n",
       "      <td>3832530.0</td>\n",
       "    </tr>\n",
       "    <tr>\n",
       "      <th>2</th>\n",
       "      <td>2</td>\n",
       "      <td>6.859361</td>\n",
       "      <td>52.386225</td>\n",
       "      <td>507953</td>\n",
       "      <td>8660</td>\n",
       "      <td>3377400.0</td>\n",
       "    </tr>\n",
       "    <tr>\n",
       "      <th>3</th>\n",
       "      <td>3</td>\n",
       "      <td>6.753483</td>\n",
       "      <td>52.434382</td>\n",
       "      <td>507962</td>\n",
       "      <td>2913</td>\n",
       "      <td>1136070.0</td>\n",
       "    </tr>\n",
       "    <tr>\n",
       "      <th>4</th>\n",
       "      <td>4</td>\n",
       "      <td>6.484077</td>\n",
       "      <td>52.243620</td>\n",
       "      <td>507964</td>\n",
       "      <td>6488</td>\n",
       "      <td>2530320.0</td>\n",
       "    </tr>\n",
       "  </tbody>\n",
       "</table>\n",
       "</div>"
      ],
      "text/plain": [
       "   Unnamed: 0         x          y IND_OBJ_NA  manure_t  biogas_potential_m3\n",
       "0           0  6.765843  52.314139     507920      2454             957060.0\n",
       "1           1  6.837249  52.425084     507950      9827            3832530.0\n",
       "2           2  6.859361  52.386225     507953      8660            3377400.0\n",
       "3           3  6.753483  52.434382     507962      2913            1136070.0\n",
       "4           4  6.484077  52.243620     507964      6488            2530320.0"
      ]
     },
     "execution_count": 6,
     "metadata": {},
     "output_type": "execute_result"
    }
   ],
   "source": [
    "farm = pd.read_csv(r\"./farm/farm_mock.csv\")\n",
    "farm.head()"
   ]
  },
  {
   "cell_type": "code",
   "execution_count": 7,
   "metadata": {},
   "outputs": [],
   "source": [
    "folder_path = 'app_data'"
   ]
  },
  {
   "cell_type": "code",
   "execution_count": 8,
   "metadata": {},
   "outputs": [],
   "source": [
    "I = load_data_from_pickle(folder_path, 'Farm_test.pickle')\n",
    "        # set P     set of potential digester locations\n",
    "    # Dictionary \n",
    "        # p_i       manure production of each i\n",
    "d = load_data_from_pickle(folder_path, 'manure_production_test.pickle')\n",
    "        # q_j       max capacity of each j \n",
    "    # Float\n",
    "        # alpha     total manure production\n",
    "total_manure = load_data_from_pickle(folder_path, 'total_manure_test.pickle')\n",
    "    # Float defined here\n",
    "        # mu        manure utilization target "
   ]
  },
  {
   "cell_type": "code",
   "execution_count": 7,
   "metadata": {},
   "outputs": [],
   "source": [
    "J = load_data_from_pickle(folder_path, 'Plant_test.pickle')\n",
    "M = load_data_from_pickle(folder_path, 'max_capacity_test.pickle')\n",
    "f = load_data_from_pickle(folder_path, 'fixed_cost_test.pickle')        \n",
    "transport_cost = load_data_from_pickle(folder_path, 'transportation_cost_test.pickle')"
   ]
  },
  {
   "cell_type": "code",
   "execution_count": 29,
   "metadata": {},
   "outputs": [],
   "source": [
    "# Converting the structure of OD matrix to fit the requirement of the SCIP FLP\n",
    "transformed_dict = {}\n",
    "\n",
    "for j, inner_dict in transport_cost.items():\n",
    "    for i, value in inner_dict.items():\n",
    "        transformed_dict[(i, j)] = value\n",
    "\n",
    "# Sort the keys based on the first element (i)\n",
    "sorted_keys = sorted(transformed_dict.keys())\n",
    "\n",
    "# Create a new dictionary with sorted keys\n",
    "c = {key: transformed_dict[key] for key in sorted_keys}"
   ]
  },
  {
   "cell_type": "code",
   "execution_count": 33,
   "metadata": {},
   "outputs": [],
   "source": [
    "store_data_to_pickle(c, folder_path, 'c.pickle')"
   ]
  },
  {
   "cell_type": "code",
   "execution_count": 19,
   "metadata": {},
   "outputs": [],
   "source": [
    "# Test complete\n",
    "J = load_data_from_pickle(folder_path, 'Plant.pickle')\n",
    "M = load_data_from_pickle(folder_path, 'max_capacity.pickle')\n",
    "        # f_j       fixed cost of establishing each j\n",
    "f = load_data_from_pickle(folder_path, 'fixed_cost.pickle')        \n",
    "        # C_ij      transportation matrix \n",
    "transport_cost = load_data_from_pickle(folder_path, 'transportation_cost.pickle')"
   ]
  },
  {
   "cell_type": "code",
   "execution_count": 34,
   "metadata": {},
   "outputs": [],
   "source": [
    "# def filter_Plant(plant_to_keep, original_dict):\n",
    "#     # Extract key-value pairs where the key is not in the list\n",
    "#     filtered_dict = {key: value for key, value in original_dict.items() if key in plant_to_keep}\n",
    "#     return filtered_dict"
   ]
  },
  {
   "cell_type": "code",
   "execution_count": 18,
   "metadata": {},
   "outputs": [],
   "source": [
    "Plant_all = ['All'] + [str(x) for x in plant]"
   ]
  },
  {
   "cell_type": "code",
   "execution_count": 22,
   "metadata": {},
   "outputs": [],
   "source": [
    "Plant_all = ['All'] + J"
   ]
  },
  {
   "cell_type": "code",
   "execution_count": 23,
   "metadata": {},
   "outputs": [
    {
     "data": {
      "text/plain": [
       "['All', 0, 1, 2, 3, 4]"
      ]
     },
     "execution_count": 23,
     "metadata": {},
     "output_type": "execute_result"
    }
   ],
   "source": [
    "Plant_all"
   ]
  },
  {
   "cell_type": "code",
   "execution_count": 10,
   "metadata": {},
   "outputs": [
    {
     "data": {
      "text/html": [
       "<div>\n",
       "<style scoped>\n",
       "    .dataframe tbody tr th:only-of-type {\n",
       "        vertical-align: middle;\n",
       "    }\n",
       "\n",
       "    .dataframe tbody tr th {\n",
       "        vertical-align: top;\n",
       "    }\n",
       "\n",
       "    .dataframe thead th {\n",
       "        text-align: right;\n",
       "    }\n",
       "</style>\n",
       "<table border=\"1\" class=\"dataframe\">\n",
       "  <thead>\n",
       "    <tr style=\"text-align: right;\">\n",
       "      <th></th>\n",
       "      <th>FarmName</th>\n",
       "      <th>SomeOtherColumn</th>\n",
       "    </tr>\n",
       "  </thead>\n",
       "  <tbody>\n",
       "    <tr>\n",
       "      <th>0</th>\n",
       "      <td>Farm1</td>\n",
       "      <td>10</td>\n",
       "    </tr>\n",
       "    <tr>\n",
       "      <th>1</th>\n",
       "      <td>Farm2</td>\n",
       "      <td>20</td>\n",
       "    </tr>\n",
       "    <tr>\n",
       "      <th>2</th>\n",
       "      <td>Farm3</td>\n",
       "      <td>30</td>\n",
       "    </tr>\n",
       "  </tbody>\n",
       "</table>\n",
       "</div>"
      ],
      "text/plain": [
       "  FarmName  SomeOtherColumn\n",
       "0    Farm1               10\n",
       "1    Farm2               20\n",
       "2    Farm3               30"
      ]
     },
     "execution_count": 10,
     "metadata": {},
     "output_type": "execute_result"
    }
   ],
   "source": [
    "\n",
    "# Mock data for farm_df_copy\n",
    "farm_df_copy_data = {'FarmName': ['Farm1', 'Farm2', 'Farm3'],\n",
    "                     'SomeOtherColumn': [10, 20, 30]}\n",
    "farm_df_copy = pd.DataFrame(farm_df_copy_data)\n",
    "# farm_df_copy.set_index('FarmName', inplace=True)\n",
    "farm_df_copy\n"
   ]
  },
  {
   "cell_type": "code",
   "execution_count": 13,
   "metadata": {},
   "outputs": [
    {
     "data": {
      "text/html": [
       "<div>\n",
       "<style scoped>\n",
       "    .dataframe tbody tr th:only-of-type {\n",
       "        vertical-align: middle;\n",
       "    }\n",
       "\n",
       "    .dataframe tbody tr th {\n",
       "        vertical-align: top;\n",
       "    }\n",
       "\n",
       "    .dataframe thead th {\n",
       "        text-align: right;\n",
       "    }\n",
       "</style>\n",
       "<table border=\"1\" class=\"dataframe\">\n",
       "  <thead>\n",
       "    <tr style=\"text-align: right;\">\n",
       "      <th></th>\n",
       "      <th>color</th>\n",
       "    </tr>\n",
       "  </thead>\n",
       "  <tbody>\n",
       "    <tr>\n",
       "      <th>0</th>\n",
       "      <td>Red</td>\n",
       "    </tr>\n",
       "    <tr>\n",
       "      <th>1</th>\n",
       "      <td>Green</td>\n",
       "    </tr>\n",
       "    <tr>\n",
       "      <th>2</th>\n",
       "      <td>Blue</td>\n",
       "    </tr>\n",
       "  </tbody>\n",
       "</table>\n",
       "</div>"
      ],
      "text/plain": [
       "   color\n",
       "0    Red\n",
       "1  Green\n",
       "2   Blue"
      ]
     },
     "execution_count": 13,
     "metadata": {},
     "output_type": "execute_result"
    }
   ],
   "source": [
    "# Mock data for digester_df\n",
    "digester_df_data = {'color': ['Red', 'Green', 'Blue']}\n",
    "digester_df = pd.DataFrame(digester_df_data)\n",
    "# digester_df.index.name = 'Digester'\n",
    "digester_df"
   ]
  },
  {
   "cell_type": "code",
   "execution_count": 14,
   "metadata": {},
   "outputs": [],
   "source": [
    "# Mock data for assignment_decision\n",
    "assignment_decision = {0: [0, 1], 1: [2]}\n"
   ]
  },
  {
   "cell_type": "code",
   "execution_count": 16,
   "metadata": {},
   "outputs": [
    {
     "name": "stdout",
     "output_type": "stream",
     "text": [
      "  FarmName  SomeOtherColumn  color\n",
      "0    Farm1               10    Red\n",
      "1    Farm2               20    Red\n",
      "2    Farm3               30  Green\n"
     ]
    }
   ],
   "source": [
    "# Your corrected code\n",
    "farm_df_copy['color'] = farm_df_copy.index.map({index: digester_df['color'].iloc[key] for key, indices in assignment_decision.items() for index in indices})\n",
    "print(farm_df_copy)"
   ]
  },
  {
   "cell_type": "markdown",
   "metadata": {},
   "source": [
    "## CFLP Model\n",
    "* cflp: the cflp model\n",
    "* find_farm_not_in_solution_plant_in_solution: disaggregating outputs for result visualization \n",
    "* plot_result: plot optimal solution (calls the previous function)"
   ]
  },
  {
   "cell_type": "code",
   "execution_count": 23,
   "metadata": {},
   "outputs": [],
   "source": [
    "# Define manure use goal (mu)\n",
    "target = 0.2"
   ]
  },
  {
   "cell_type": "code",
   "execution_count": 24,
   "metadata": {},
   "outputs": [
    {
     "name": "stdout",
     "output_type": "stream",
     "text": [
      "Optimal solution found!\n"
     ]
    }
   ],
   "source": [
    "m = flp_scip(I, J, d, M, f, c, target)\n",
    "m.optimize()\n",
    "# Check the optimization status\n",
    "if m.getStatus() == \"optimal\":\n",
    "    print(\"Optimal solution found!\")\n",
    "    # Access the optimal solution values using m.getVal(var) for each variable var\n",
    "    # Example: value_of_x = m.getVal(x_variable)\n",
    "elif m.getStatus() == \"infeasible\":\n",
    "    print(\"The problem is infeasible.\")\n",
    "elif m.getStatus() == \"timelimit\":\n",
    "    print(\"Optimization stopped due to reaching the time limit.\")"
   ]
  },
  {
   "cell_type": "code",
   "execution_count": 25,
   "metadata": {},
   "outputs": [
    {
     "name": "stdout",
     "output_type": "stream",
     "text": [
      "Optimal value= 3912544.8986652894\n",
      "Facilities at nodes: [1, 2, 3, 4, 5, 6, 9, 10, 12, 14, 15, 16, 17, 18, 20, 21, 22, 23]\n",
      "Edges: [(70, 1), (121, 1), (13, 2), (74, 2), (117, 2), (73, 3), (13, 4), (73, 4), (70, 5), (65, 6), (71, 9), (72, 9), (39, 10), (52, 10), (71, 10), (15, 12), (26, 12), (30, 12), (71, 12), (42, 14), (48, 14), (70, 14), (127, 14), (39, 15), (41, 15), (42, 15), (65, 15), (6, 16), (18, 17), (84, 17), (4, 18), (6, 18), (95, 18), (97, 18), (97, 20), (98, 20), (15, 21), (81, 21), (84, 21), (15, 22), (92, 22), (53, 23), (97, 23)]\n"
     ]
    }
   ],
   "source": [
    "EPS = 1.e-6\n",
    "x,y,z = m.data\n",
    "edges = [(i,j) for (i,j) in x if m.getVal(x[i,j]) > EPS]\n",
    "facilities = [j for j in y if m.getVal(y[j]) > EPS]\n",
    "print(\"Optimal value=\", m.getObjVal())\n",
    "print(\"Facilities at nodes:\", facilities)\n",
    "print(\"Edges:\", edges)"
   ]
  },
  {
   "cell_type": "code",
   "execution_count": 16,
   "metadata": {},
   "outputs": [
    {
     "name": "stdout",
     "output_type": "stream",
     "text": [
      "Solution Status =  Optimal\n"
     ]
    }
   ],
   "source": [
    "total_cost, total_fixed_cost, total_transport_cost, assignment_decision, use_plant_index = cflp(J, I, f, transport_cost, d, M, target, total_manure)"
   ]
  },
  {
   "cell_type": "code",
   "execution_count": 18,
   "metadata": {},
   "outputs": [],
   "source": [
    "# # Check if the opened plants are under-utilized\n",
    "# total_sum_list = [sum(farm.loc[i, 'manure_t'] for i in value) for value in assignment_decision.values()]\n",
    "\n",
    "# potential_digester_location['allocated_manure'] = total_sum_list\n",
    "\n",
    "# # Find the percentage of plant's capacity that is utilized\n",
    "# potential_digester_location['underutilized'] = 0\n",
    "# mask = potential_digester_location['allocated_manure'] > 0\n",
    "# potential_digester_location.loc[mask, 'underutilized'] = (1 - (potential_digester_location.loc[mask, 'allocated_manure'] / potential_digester_location.loc[mask, 'capacity'])) * 100\n",
    "# potential_digester_location"
   ]
  },
  {
   "cell_type": "code",
   "execution_count": 17,
   "metadata": {},
   "outputs": [],
   "source": [
    "filename = f\"./outputs/cflp_v{6}_{int(target*100)}%manure.png\"  # You can choose the file extension (e.g., .png, .jpg, .pdf)"
   ]
  },
  {
   "cell_type": "code",
   "execution_count": 18,
   "metadata": {},
   "outputs": [
    {
     "name": "stdout",
     "output_type": "stream",
     "text": [
      "There are no duplicates in the list.\n"
     ]
    },
    {
     "data": {
      "image/png": "[encoded data removed]",
      "text/plain": [
       "<Figure size 800x600 with 1 Axes>"
      ]
     },
     "metadata": {},
     "output_type": "display_data"
    }
   ],
   "source": [
    "plot_result(J, potential_digester_location, assignment_decision, farm, I, use_plant_index, target, total_cost, filename, save_fig=False)"
   ]
  },
  {
   "cell_type": "code",
   "execution_count": 16,
   "metadata": {},
   "outputs": [
    {
     "name": "stdout",
     "output_type": "stream",
     "text": [
      "0: []\n",
      "1: []\n",
      "2: [24, 40, 41, 48, 76, 77, 92, 123, 124, 125, 133, 137]\n",
      "3: []\n",
      "4: [66, 69, 70, 111, 113, 114, 121, 128]\n"
     ]
    }
   ],
   "source": [
    "for key, value in assignment_decision.items():\n",
    "    print(f\"{key}: {value}\")"
   ]
  }
 ],
 "metadata": {
  "kernelspec": {
   "display_name": "Python 3",
   "language": "python",
   "name": "python3"
  },
  "language_info": {
   "codemirror_mode": {
    "name": "ipython",
    "version": 3
   },
   "file_extension": ".py",
   "mimetype": "text/x-python",
   "name": "python",
   "nbconvert_exporter": "python",
   "pygments_lexer": "ipython3",
   "version": "3.8.18"
  }
 },
 "nbformat": 4,
 "nbformat_minor": 2
}
