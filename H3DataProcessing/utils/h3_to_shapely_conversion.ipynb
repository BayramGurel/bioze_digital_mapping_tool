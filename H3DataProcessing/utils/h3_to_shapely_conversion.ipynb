{
 "cells": [
  {
   "cell_type": "code",
   "execution_count": 7,
   "metadata": {},
   "outputs": [],
   "source": [
    "import h3\n",
    "import pandas as pd\n",
    "import geopandas as gpd\n",
    "from shapely.geometry import Polygon, mapping\n",
    "from concurrent.futures import ProcessPoolExecutor"
   ]
  },
  {
   "cell_type": "code",
   "execution_count": 8,
   "metadata": {},
   "outputs": [],
   "source": [
    "class H3ShapefileGenerator:\n",
    "    def __init__(self, shapefile_path, output_path, resolution=9):\n",
    "        self.shapefile_path = shapefile_path\n",
    "        self.output_path = output_path\n",
    "        self.resolution = resolution\n",
    "        self.polygon = self.load_shapefile().geometry[0]\n",
    "\n",
    "    def load_shapefile(self):\n",
    "        return gpd.read_file(self.shapefile_path).to_crs(\"EPSG:4326\")\n",
    "\n",
    "    def convert_polygon_to_h3_indices(self):\n",
    "        polygon_geojson = mapping(self.polygon)\n",
    "        return h3.polyfill(polygon_geojson, self.resolution)\n",
    "\n",
    "    @staticmethod\n",
    "    def convert_h3_index_to_polygon(h3_index):\n",
    "        try:\n",
    "            coords = h3.h3_to_geo_boundary(h3_index)\n",
    "            return Polygon(coord[::-1] for coord in coords)\n",
    "        except Exception as e:\n",
    "            print(f\"Error converting H3 index to polygon: {e}\")\n",
    "            return None\n",
    "\n",
    "    def generate_shapefile_from_h3_indices(self):\n",
    "        hex_df = pd.DataFrame(self.convert_polygon_to_h3_indices(), columns=['hex9'])\n",
    "        with ProcessPoolExecutor() as executor:\n",
    "            hex_df['geometry'] = list(executor.map(self.convert_h3_index_to_polygon, hex_df['hex9']))\n",
    "        hex_df.dropna(subset=['geometry'], inplace=True)\n",
    "        gdf = gpd.GeoDataFrame(hex_df, geometry='geometry', crs=4326)\n",
    "        gdf.to_file(self.output_path)\n",
    "        print(f\"Shapefile saved at {self.output_path}\")"
   ]
  },
  {
   "cell_type": "code",
   "execution_count": 9,
   "metadata": {},
   "outputs": [
    {
     "name": "stdout",
     "output_type": "stream",
     "text": [
      "Shapefile saved at ../../hex/h3_list.shp\n"
     ]
    }
   ],
   "source": [
    "if __name__ == \"__main__\":\n",
    "    generator = H3ShapefileGenerator(\n",
    "        shapefile_path=\"../../shapefiles/zh_poly.shp\",\n",
    "        output_path='../../hex/h3_list.shp'\n",
    "    )\n",
    "    generator.generate_shapefile_from_h3_indices()"
   ]
  }
 ],
 "metadata": {
  "kernelspec": {
   "display_name": "Python 3",
   "language": "python",
   "name": "python3"
  },
  "language_info": {
   "codemirror_mode": {
    "name": "ipython",
    "version": 3
   },
   "file_extension": ".py",
   "mimetype": "text/x-python",
   "name": "python",
   "nbconvert_exporter": "python",
   "pygments_lexer": "ipython3",
   "version": "3.11.9"
  }
 },
 "nbformat": 4,
 "nbformat_minor": 2
}
