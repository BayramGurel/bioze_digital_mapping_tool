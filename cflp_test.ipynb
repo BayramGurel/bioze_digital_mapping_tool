{
 "cells": [
  {
   "cell_type": "code",
   "execution_count": 1,
   "metadata": {},
   "outputs": [],
   "source": [
    "from pyscipopt import Model, quicksum, multidict\n",
    "from cflp_function import *\n",
    "from calculate_od import *"
   ]
  },
  {
   "cell_type": "code",
   "execution_count": 2,
   "metadata": {},
   "outputs": [],
   "source": [
    "folder_path = \"app_data\"\n",
    "I = load_data_from_pickle(folder_path, 'Farm_test.pickle')\n",
    "d = load_data_from_pickle(folder_path, 'manure_production_test.pickle')"
   ]
  },
  {
   "cell_type": "code",
   "execution_count": 3,
   "metadata": {},
   "outputs": [
    {
     "data": {
      "text/plain": [
       "704905"
      ]
     },
     "execution_count": 3,
     "metadata": {},
     "output_type": "execute_result"
    }
   ],
   "source": [
    "sum(d.values())"
   ]
  },
  {
   "cell_type": "code",
   "execution_count": 4,
   "metadata": {},
   "outputs": [],
   "source": [
    "def load_csv(csv_path):\n",
    "    df = pd.read_csv(csv_path)\n",
    "    return df\n",
    "def load_gdf(gdf_path):\n",
    "    gdf = gpd.read_file(gdf_path)\n",
    "    return gdf"
   ]
  },
  {
   "cell_type": "code",
   "execution_count": 24,
   "metadata": {},
   "outputs": [],
   "source": [
    "main_crs = \"EPSG:4326\""
   ]
  },
  {
   "cell_type": "code",
   "execution_count": 68,
   "metadata": {},
   "outputs": [],
   "source": [
    "### LOAD DATA ###\n",
    "loi = load_csv('./hex/loi.csv') # Mock candidate sites\n",
    "farm_gdf = load_gdf(\"./farm/farm_new.shp\")\n",
    "n = load_gdf(\"./osm_network/G_n.shp\") # Road network nodes\n",
    "n = n.to_crs(main_crs)\n",
    "### CALCULATE OD MATRIX ###\n",
    "loi.index = range(1, len(loi) +1) # Reset index to start with 1 (because users don't like 0 as the 1st value...)\n",
    "loi_gdf = loi_to_gdf(loi) # Find centroid of hexagons and convert to gdf\n",
    "loi_gdf['y'] = loi_gdf['geometry'].y\n",
    "loi_gdf['x'] = loi_gdf['geometry'].x\n",
    "find_closest_osmid(farm_gdf, n)\n",
    "find_closest_osmid(loi_gdf, n)\n",
    "c, plant = calculate_od_matrix(farm_gdf, loi_gdf, cost_per_km=0.69, frequency_per_day=1, lifetime_in_days=1)"
   ]
  },
  {
   "cell_type": "code",
   "execution_count": 69,
   "metadata": {},
   "outputs": [],
   "source": [
    "M, f = assign_capacity_capex(plant)"
   ]
  },
  {
   "cell_type": "code",
   "execution_count": 70,
   "metadata": {},
   "outputs": [],
   "source": [
    "J = plant"
   ]
  },
  {
   "cell_type": "code",
   "execution_count": 105,
   "metadata": {},
   "outputs": [],
   "source": [
    "p=0.2"
   ]
  },
  {
   "cell_type": "code",
   "execution_count": 143,
   "metadata": {},
   "outputs": [],
   "source": [
    "model = Model(\"flp_percentage_demand\")\n",
    "\n",
    "x, y, z = {}, {}, {}\n",
    "total_demand = sum(d[i] for i in I)\n",
    "target_demand = total_demand * p\n",
    "\n",
    "for j in J:\n",
    "    y[j] = model.addVar(vtype=\"B\", name=\"y(%s)\" % j)\n",
    "    for i in I:\n",
    "        x[i, j] = model.addVar(vtype=\"C\", name=\"x(%s,%s)\" % (i, j))\n",
    "        z[i, j] = model.addVar(vtype=\"B\", name=\"z(%s,%s)\" % (i, j))\n",
    "# # Enforce z[i, j] = 1 if x[i, j] > 0\n",
    "# for (i, j) in x:\n",
    "#     model.addCons(z[i, j] >= x[i, j] / d[i], \"EnforceZCondition(%s,%s)\" % (i, j))\n",
    "\n",
    "for i in I:\n",
    "    model.addCons(quicksum(x[i, j] for j in J) == d[i] * z[i, j], \"Demand(%s)\" % i)\n",
    "\n",
    "for j in M:\n",
    "    model.addCons(quicksum(x[i, j] for i in I) <= M[j] * y[j], \"Capacity(%s)\" % j)\n",
    "\n",
    "for (i, j) in x:\n",
    "    model.addCons(x[i, j] <= d[i] * y[j], \"Strong(%s,%s)\" % (i, j))\n",
    "\n",
    "model.addCons(quicksum(x[i, j] for i in I for j in J) >= target_demand, \"PercentageDemand\")\n",
    "\n",
    "model.setObjective(\n",
    "    quicksum(f[j] * y[j] for j in J) +\n",
    "    quicksum(c[i, j] * z[i, j] for i in I for j in J),\n",
    "    \"minimize\"\n",
    ")\n",
    "model.data = x, y, z"
   ]
  },
  {
   "cell_type": "code",
   "execution_count": 141,
   "metadata": {},
   "outputs": [],
   "source": [
    "model.optimize()"
   ]
  },
  {
   "cell_type": "code",
   "execution_count": 142,
   "metadata": {},
   "outputs": [
    {
     "data": {
      "text/plain": [
       "37311300.674544945"
      ]
     },
     "execution_count": 142,
     "metadata": {},
     "output_type": "execute_result"
    }
   ],
   "source": [
    "model.getObjVal()"
   ]
  },
  {
   "cell_type": "code",
   "execution_count": 129,
   "metadata": {},
   "outputs": [],
   "source": [
    "# # Print the values of y, x, and z in the solution\n",
    "# for j in J:\n",
    "#     print(f\"y[{j}] =\", model.getVal(y[j]))\n",
    "\n",
    "# for i in I:\n",
    "#     for j in J:\n",
    "#         print(f\"x[{i},{j}] =\", model.getVal(x[i, j]))\n",
    "#         print(f\"z[{i},{j}] =\", model.getVal(z[i, j]))"
   ]
  },
  {
   "cell_type": "code",
   "execution_count": 130,
   "metadata": {},
   "outputs": [],
   "source": [
    "EPS = 1.e-6\n",
    "x,y,z = model.data\n",
    "assignment = [(i,j) for (i,j) in x if model.getVal(x[i,j]) > EPS]\n",
    "facilities = [j for j in y if model.getVal(y[j]) > EPS]"
   ]
  },
  {
   "cell_type": "code",
   "execution_count": 131,
   "metadata": {},
   "outputs": [
    {
     "data": {
      "text/plain": [
       "[1, 7]"
      ]
     },
     "execution_count": 131,
     "metadata": {},
     "output_type": "execute_result"
    }
   ],
   "source": [
    "facilities"
   ]
  },
  {
   "cell_type": "code",
   "execution_count": 132,
   "metadata": {},
   "outputs": [
    {
     "data": {
      "text/plain": [
       "[(53, 1),\n",
       " (54, 1),\n",
       " (65, 1),\n",
       " (66, 1),\n",
       " (76, 1),\n",
       " (98, 1),\n",
       " (116, 1),\n",
       " (118, 1),\n",
       " (136, 1),\n",
       " (137, 1),\n",
       " (138, 1),\n",
       " (140, 1),\n",
       " (141, 1),\n",
       " (5, 7),\n",
       " (6, 7),\n",
       " (24, 7),\n",
       " (100, 7),\n",
       " (119, 7),\n",
       " (133, 7),\n",
       " (135, 7)]"
      ]
     },
     "execution_count": 132,
     "metadata": {},
     "output_type": "execute_result"
    }
   ],
   "source": [
    "assignment"
   ]
  },
  {
   "cell_type": "code",
   "execution_count": 148,
   "metadata": {},
   "outputs": [],
   "source": [
    "# Create a dictionary to store the results\n",
    "result_dict = {f: [] for f in facilities}\n",
    "# Iterate over edges and populate the result_dict\n",
    "for (i, j) in assignment:\n",
    "    if j in facilities:\n",
    "        result_dict[j].append(i)"
   ]
  },
  {
   "cell_type": "code",
   "execution_count": 149,
   "metadata": {},
   "outputs": [
    {
     "data": {
      "text/plain": [
       "{1: [53, 54, 65, 66, 76, 98, 116, 118, 136, 137, 138, 140, 141],\n",
       " 7: [5, 6, 24, 100, 119, 133, 135]}"
      ]
     },
     "execution_count": 149,
     "metadata": {},
     "output_type": "execute_result"
    }
   ],
   "source": [
    "result_dict"
   ]
  },
  {
   "cell_type": "code",
   "execution_count": 144,
   "metadata": {},
   "outputs": [],
   "source": [
    "total_c = sum(c[key] for key in assignment if key in c)*365*12"
   ]
  },
  {
   "cell_type": "code",
   "execution_count": 145,
   "metadata": {},
   "outputs": [
    {
     "data": {
      "text/plain": [
       "1573647.31506509"
      ]
     },
     "execution_count": 145,
     "metadata": {},
     "output_type": "execute_result"
    }
   ],
   "source": [
    "total_c"
   ]
  },
  {
   "cell_type": "code",
   "execution_count": 146,
   "metadata": {},
   "outputs": [
    {
     "name": "stdout",
     "output_type": "stream",
     "text": [
      "      Category     Value\n",
      "0      Total C        60\n",
      "1  Total Capex  18267480\n",
      "2   Total Opex  37699200\n"
     ]
    }
   ],
   "source": [
    "# Example dictionary\n",
    "result_dict = {(1, 2): 10, (3, 4): 20, (5, 6): 30}\n",
    "\n",
    "# Example values\n",
    "total_capex = len(result_dict) * 6089160\n",
    "total_opex = len(result_dict) * (1047200 * 12)\n",
    "\n",
    "# Sum the values corresponding to the keys in result_dict\n",
    "total_c = sum(result_dict[key] for key in result_dict)\n",
    "\n",
    "# Create a DataFrame\n",
    "data = {'Category': ['Total C', 'Total Capex', 'Total Opex'],\n",
    "        'Value': [total_c, total_capex, total_opex]}\n",
    "\n",
    "df = pd.DataFrame(data)\n",
    "\n",
    "# Display the DataFrame\n",
    "print(df)"
   ]
  },
  {
   "cell_type": "code",
   "execution_count": 147,
   "metadata": {},
   "outputs": [
    {
     "data": {
      "text/plain": [
       "55966740"
      ]
     },
     "execution_count": 147,
     "metadata": {},
     "output_type": "execute_result"
    }
   ],
   "source": [
    "sum(df['Value'])"
   ]
  },
  {
   "cell_type": "code",
   "execution_count": 135,
   "metadata": {},
   "outputs": [
    {
     "name": "stdout",
     "output_type": "stream",
     "text": [
      "Total Sum: 30\n"
     ]
    }
   ],
   "source": [
    "# Example list of keys\n",
    "keys_to_search = [(1, 2), (3, 4)]\n",
    "\n",
    "# Example dictionary\n",
    "another_dict = {(1, 2): 10, (3, 4): 20, (5, 6): 30}\n",
    "\n",
    "# Sum the values corresponding to the keys in the list\n",
    "total_sum = sum(another_dict[key] for key in keys_to_search if key in another_dict)\n",
    "\n",
    "print(\"Total Sum:\", total_sum)"
   ]
  },
  {
   "cell_type": "code",
   "execution_count": 114,
   "metadata": {},
   "outputs": [
    {
     "data": {
      "text/plain": [
       "[(5, 7),\n",
       " (6, 7),\n",
       " (24, 7),\n",
       " (53, 7),\n",
       " (54, 7),\n",
       " (65, 7),\n",
       " (66, 7),\n",
       " (76, 7),\n",
       " (98, 7),\n",
       " (100, 7),\n",
       " (116, 7),\n",
       " (118, 7),\n",
       " (119, 7),\n",
       " (133, 7),\n",
       " (135, 7),\n",
       " (136, 7),\n",
       " (137, 7),\n",
       " (138, 7),\n",
       " (140, 7),\n",
       " (141, 7)]"
      ]
     },
     "execution_count": 114,
     "metadata": {},
     "output_type": "execute_result"
    }
   ],
   "source": [
    "[(i,j) for (i,j) in z if model.getVal(z[i,j]) > EPS]"
   ]
  },
  {
   "cell_type": "code",
   "execution_count": 138,
   "metadata": {},
   "outputs": [],
   "source": [
    "total_cost = model.getObjVal()\n",
    "\n",
    "# Create a dictionary to store the results\n",
    "result_dict = {f: [] for f in facilities}\n",
    "# Iterate over edges and populate the result_dict\n",
    "for (i, j) in assignment:\n",
    "    if j in facilities:\n",
    "        result_dict[j].append(i)\n",
    "\n",
    "# Get percentage of utilization\n",
    "x_values = {(i, j): model.getVal(x[i, j]) for (i, j) in x if model.getVal(x[i, j]) > EPS} # get how much is flowing between every assignment\n",
    "flow_matrix = np.array([[x_values.get((i, j), 0) for j in J] for i in I]) # create a flow matrix (len(farm)xlen(plant))\n",
    "column_sum = np.sum(flow_matrix, axis=0) # sum of total flow going to every plant\n",
    "used_capacity = (column_sum/np.array(list(M.values())))*100"
   ]
  },
  {
   "cell_type": "code",
   "execution_count": 79,
   "metadata": {},
   "outputs": [],
   "source": [
    "used_capacity_df = pd.DataFrame(used_capacity, index=J)"
   ]
  },
  {
   "cell_type": "code",
   "execution_count": 80,
   "metadata": {},
   "outputs": [
    {
     "data": {
      "text/html": [
       "<div>\n",
       "<style scoped>\n",
       "    .dataframe tbody tr th:only-of-type {\n",
       "        vertical-align: middle;\n",
       "    }\n",
       "\n",
       "    .dataframe tbody tr th {\n",
       "        vertical-align: top;\n",
       "    }\n",
       "\n",
       "    .dataframe thead th {\n",
       "        text-align: right;\n",
       "    }\n",
       "</style>\n",
       "<table border=\"1\" class=\"dataframe\">\n",
       "  <thead>\n",
       "    <tr style=\"text-align: right;\">\n",
       "      <th></th>\n",
       "      <th>0</th>\n",
       "    </tr>\n",
       "  </thead>\n",
       "  <tbody>\n",
       "    <tr>\n",
       "      <th>1</th>\n",
       "      <td>0.000000</td>\n",
       "    </tr>\n",
       "    <tr>\n",
       "      <th>2</th>\n",
       "      <td>0.000000</td>\n",
       "    </tr>\n",
       "    <tr>\n",
       "      <th>3</th>\n",
       "      <td>0.000000</td>\n",
       "    </tr>\n",
       "    <tr>\n",
       "      <th>4</th>\n",
       "      <td>58.991024</td>\n",
       "    </tr>\n",
       "    <tr>\n",
       "      <th>5</th>\n",
       "      <td>0.000000</td>\n",
       "    </tr>\n",
       "    <tr>\n",
       "      <th>6</th>\n",
       "      <td>0.000000</td>\n",
       "    </tr>\n",
       "    <tr>\n",
       "      <th>7</th>\n",
       "      <td>0.000000</td>\n",
       "    </tr>\n",
       "  </tbody>\n",
       "</table>\n",
       "</div>"
      ],
      "text/plain": [
       "           0\n",
       "1   0.000000\n",
       "2   0.000000\n",
       "3   0.000000\n",
       "4  58.991024\n",
       "5   0.000000\n",
       "6   0.000000\n",
       "7   0.000000"
      ]
     },
     "execution_count": 80,
     "metadata": {},
     "output_type": "execute_result"
    }
   ],
   "source": [
    "used_capacity_df"
   ]
  },
  {
   "cell_type": "code",
   "execution_count": 81,
   "metadata": {},
   "outputs": [],
   "source": [
    "# Example DataFrames\n",
    "farm_df = pd.DataFrame({\n",
    "    'color': ['red', 'blue', 'green', 'yellow'],\n",
    "    # ... other columns in farm_df\n",
    "})\n",
    "\n",
    "digester_df = pd.DataFrame({\n",
    "    'color': [\n",
    "        [255, 165, 0],  # orange\n",
    "        [128, 0, 128],  # purple\n",
    "        [165, 42, 42],  # brown\n",
    "        [255, 192, 203]  # pink\n",
    "    ],\n",
    "    # ... other columns in digester_df\n",
    "})\n",
    "\n",
    "assignment_decision = {\n",
    "    0: [1, 2],\n",
    "    1: [0, 3],\n",
    "    # ... other keys and values in assignment_decision\n",
    "}\n"
   ]
  },
  {
   "cell_type": "code",
   "execution_count": 82,
   "metadata": {},
   "outputs": [
    {
     "name": "stdout",
     "output_type": "stream",
     "text": [
      "[1, 2]\n",
      "[0, 3]\n",
      "           color\n",
      "0  [128, 0, 128]\n",
      "1  [255, 165, 0]\n",
      "2  [255, 165, 0]\n",
      "3  [128, 0, 128]\n"
     ]
    }
   ],
   "source": [
    "# Update farm_df based on assignment_decision\n",
    "for digester_index, farm_indices in assignment_decision.items():\n",
    "    digester_color = digester_df.loc[digester_index, 'color']\n",
    "    print(farm_indices)\n",
    "    farm_df.loc[farm_indices, 'color'] = str(digester_color)\n",
    "\n",
    "# Now, farm_df has been updated based on digester_df and assignment_decision\n",
    "print(farm_df)"
   ]
  },
  {
   "cell_type": "code",
   "execution_count": 83,
   "metadata": {},
   "outputs": [
    {
     "data": {
      "text/html": [
       "<div>\n",
       "<style scoped>\n",
       "    .dataframe tbody tr th:only-of-type {\n",
       "        vertical-align: middle;\n",
       "    }\n",
       "\n",
       "    .dataframe tbody tr th {\n",
       "        vertical-align: top;\n",
       "    }\n",
       "\n",
       "    .dataframe thead th {\n",
       "        text-align: right;\n",
       "    }\n",
       "</style>\n",
       "<table border=\"1\" class=\"dataframe\">\n",
       "  <thead>\n",
       "    <tr style=\"text-align: right;\">\n",
       "      <th></th>\n",
       "      <th>color</th>\n",
       "    </tr>\n",
       "  </thead>\n",
       "  <tbody>\n",
       "    <tr>\n",
       "      <th>0</th>\n",
       "      <td>[255, 165, 0]</td>\n",
       "    </tr>\n",
       "    <tr>\n",
       "      <th>1</th>\n",
       "      <td>[128, 0, 128]</td>\n",
       "    </tr>\n",
       "    <tr>\n",
       "      <th>2</th>\n",
       "      <td>[165, 42, 42]</td>\n",
       "    </tr>\n",
       "    <tr>\n",
       "      <th>3</th>\n",
       "      <td>[255, 192, 203]</td>\n",
       "    </tr>\n",
       "  </tbody>\n",
       "</table>\n",
       "</div>"
      ],
      "text/plain": [
       "             color\n",
       "0    [255, 165, 0]\n",
       "1    [128, 0, 128]\n",
       "2    [165, 42, 42]\n",
       "3  [255, 192, 203]"
      ]
     },
     "execution_count": 83,
     "metadata": {},
     "output_type": "execute_result"
    }
   ],
   "source": [
    "digester_df"
   ]
  },
  {
   "cell_type": "code",
   "execution_count": 84,
   "metadata": {},
   "outputs": [
    {
     "data": {
      "text/html": [
       "<div>\n",
       "<style scoped>\n",
       "    .dataframe tbody tr th:only-of-type {\n",
       "        vertical-align: middle;\n",
       "    }\n",
       "\n",
       "    .dataframe tbody tr th {\n",
       "        vertical-align: top;\n",
       "    }\n",
       "\n",
       "    .dataframe thead th {\n",
       "        text-align: right;\n",
       "    }\n",
       "</style>\n",
       "<table border=\"1\" class=\"dataframe\">\n",
       "  <thead>\n",
       "    <tr style=\"text-align: right;\">\n",
       "      <th></th>\n",
       "      <th>color</th>\n",
       "    </tr>\n",
       "  </thead>\n",
       "  <tbody>\n",
       "    <tr>\n",
       "      <th>0</th>\n",
       "      <td>[128, 0, 128]</td>\n",
       "    </tr>\n",
       "    <tr>\n",
       "      <th>1</th>\n",
       "      <td>[255, 165, 0]</td>\n",
       "    </tr>\n",
       "    <tr>\n",
       "      <th>2</th>\n",
       "      <td>[255, 165, 0]</td>\n",
       "    </tr>\n",
       "    <tr>\n",
       "      <th>3</th>\n",
       "      <td>[128, 0, 128]</td>\n",
       "    </tr>\n",
       "  </tbody>\n",
       "</table>\n",
       "</div>"
      ],
      "text/plain": [
       "           color\n",
       "0  [128, 0, 128]\n",
       "1  [255, 165, 0]\n",
       "2  [255, 165, 0]\n",
       "3  [128, 0, 128]"
      ]
     },
     "execution_count": 84,
     "metadata": {},
     "output_type": "execute_result"
    }
   ],
   "source": [
    "farm_df"
   ]
  }
 ],
 "metadata": {
  "kernelspec": {
   "display_name": "scip",
   "language": "python",
   "name": "python3"
  },
  "language_info": {
   "codemirror_mode": {
    "name": "ipython",
    "version": 3
   },
   "file_extension": ".py",
   "mimetype": "text/x-python",
   "name": "python",
   "nbconvert_exporter": "python",
   "pygments_lexer": "ipython3",
   "version": "3.8.18"
  }
 },
 "nbformat": 4,
 "nbformat_minor": 2
}
