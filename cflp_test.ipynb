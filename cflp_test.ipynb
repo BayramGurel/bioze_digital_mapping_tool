{
 "cells": [
  {
   "cell_type": "code",
   "execution_count": 1,
   "metadata": {},
   "outputs": [],
   "source": [
    "from pyscipopt import Model, quicksum, multidict\n",
    "from cflp_function import *\n",
    "from calculate_od import *\n",
    "import pydeck as pdk\n",
    "from pydeck.types import String"
   ]
  },
  {
   "cell_type": "code",
   "execution_count": 2,
   "metadata": {},
   "outputs": [],
   "source": [
    "def load_csv(csv_path):\n",
    "    df = pd.read_csv(csv_path)\n",
    "    return df\n",
    "def load_gdf(gdf_path):\n",
    "    gdf = gpd.read_file(gdf_path)\n",
    "    return gdf"
   ]
  },
  {
   "cell_type": "code",
   "execution_count": 3,
   "metadata": {},
   "outputs": [],
   "source": [
    "main_crs = \"EPSG:4326\""
   ]
  },
  {
   "cell_type": "code",
   "execution_count": 4,
   "metadata": {},
   "outputs": [],
   "source": [
    "farm = load_csv(\"./farm/farm_mock.csv\")\n",
    "farm['color'] = '[169, 169, 169]'"
   ]
  },
  {
   "cell_type": "code",
   "execution_count": 6,
   "metadata": {},
   "outputs": [],
   "source": [
    "folder_path = \"app_data\"\n",
    "J = load_data_from_pickle(folder_path, 'Farm_test.pickle')\n",
    "M = load_data_from_pickle(folder_path, 'manure_production_test.pickle')"
   ]
  },
  {
   "cell_type": "code",
   "execution_count": 7,
   "metadata": {},
   "outputs": [],
   "source": [
    "def calculate_od_matrix_new(farm_gdf, loi_gdf, cost_per_km=0.69, frequency_per_day=1, lifetime_in_days=1):\n",
    "    \"\"\"\n",
    "    A function to find the nearest road network node for each candidate site.\n",
    "\n",
    "    Parameters\n",
    "    ----------\n",
    "    farm_gdf : GeoDataFrame\n",
    "        GeoDataFrame of farm points. \n",
    "    loi_gdf : GeoDataFrame\n",
    "        Geodataframe of candidate sites.\n",
    "    cost_per_km = int/float, optional\n",
    "        Unit cost for transporting feedstocks from sources to digesters. \n",
    "\n",
    "    Outputs\n",
    "    ----------\n",
    "    c : dict\n",
    "        Dictionary of OD matrix {} \n",
    "    plant : list\n",
    "        List of indices of candidate digester sites\n",
    "\n",
    "    \"\"\"\n",
    "    g = ox.load_graphml('./osm_network/G.graphml') \n",
    "    orig = farm_gdf['closest_osmid'].unique().tolist()\n",
    "    dest = loi_gdf['closest_osmid'].unique().tolist()\n",
    "\n",
    "    # Initialize an empty OD matrix\n",
    "    od_matrix = {}\n",
    "\n",
    "    # Calculate shortest path between all pair orig (farm) and dest (set of candidate digester sites)\n",
    "    for origin in orig:\n",
    "        od_matrix[origin] = {}\n",
    "        for destination in dest:\n",
    "            distance = nx.shortest_path_length(g, origin, destination, weight='length')\n",
    "            od_matrix[origin][destination] = distance/1000 # convert from m to km\n",
    "            # output dict = {orig:{dest:distance, dest:distance....}}\n",
    "\n",
    "    # Initialize an empty nested dictionary\n",
    "    new_nested_dict = {}\n",
    "    # Create a new nested dictionary with DataFrame indices as keys {farm1:{dest_node_1:distance, dest_node_2:distance....}} \n",
    "    # Some road network nodes are the closest for more than 1 farms, so now we make sure the dictionary has a key of all farms despite some wil linherit the  \n",
    "    # same associated distances to all digesters. This dictionary structure is required for the optimization model later.\n",
    "    for idx, row in farm_gdf.iterrows():\n",
    "        osmid_value = row['closest_osmid']\n",
    "        if osmid_value in od_matrix:\n",
    "            new_nested_dict[idx] = od_matrix[osmid_value]    \n",
    "\n",
    "    # A placeholder that maps digester candidate site index with the index of its closest node\n",
    "    placeholders = {i:j for i, j in zip(loi_gdf.index.values, loi_gdf['closest_osmid'])}\n",
    "\n",
    "    restructured_od = {}\n",
    "    for farm, distances in new_nested_dict.items():\n",
    "        restructured_od[farm] = {}\n",
    "        for index, placeholder in placeholders.items():\n",
    "            restructured_od[farm][index] = distances.get(placeholder, None)\n",
    "\n",
    "    new_dict = {}\n",
    "    for farm, digester_distances in restructured_od.items():\n",
    "        for digester, distance in digester_distances.items():\n",
    "            new_key = (digester, farm)\n",
    "            new_dict[new_key] = distance\n",
    "   \n",
    "    transport_cost = dict(sorted(new_dict.items(), key=lambda x: x[0][0]))\n",
    "    # transport_cost = {(index, farm): distance for index, farms in restructured_od.items() for farm, distance in farms.items()}\n",
    "\n",
    "    # Convert from distance to cost\n",
    "    c = {key: value * cost_per_km * frequency_per_day * lifetime_in_days for key, value in transport_cost.items()}\n",
    "    plant = loi_gdf.index.tolist()\n",
    "\n",
    "    # store_data_to_pickle(transport_cost, 'app_data', transport_cost_file_name)\n",
    "    # store_data_to_pickle(loi_gdf.index.tolist(), 'app_data', plant_file_name)\n",
    "\n",
    "    return c, plant"
   ]
  },
  {
   "cell_type": "code",
   "execution_count": 8,
   "metadata": {},
   "outputs": [],
   "source": [
    "### LOAD DATA ###\n",
    "loi = load_csv('./hex/loi.csv') # Mock candidate sites\n",
    "farm_gdf = load_gdf(\"./farm/farm_new.shp\")\n",
    "n = load_gdf(\"./osm_network/G_n.shp\") # Road network nodes\n",
    "n = n.to_crs(main_crs)\n",
    "### CALCULATE OD MATRIX ###\n",
    "loi.index = range(1, len(loi) +1) # Reset index to start with 1 (because users don't like 0 as the 1st value...)\n",
    "loi_gdf = loi_to_gdf(loi) # Find centroid of hexagons and convert to gdf\n",
    "loi_gdf['y'] = loi_gdf['geometry'].y\n",
    "loi_gdf['x'] = loi_gdf['geometry'].x\n",
    "find_closest_osmid(farm_gdf, n)\n",
    "find_closest_osmid(loi_gdf, n)"
   ]
  },
  {
   "cell_type": "code",
   "execution_count": 9,
   "metadata": {},
   "outputs": [],
   "source": [
    "C, plant = calculate_od_matrix_new(farm_gdf, loi_gdf, cost_per_km=0.69, frequency_per_day=1, lifetime_in_days=1)"
   ]
  },
  {
   "cell_type": "code",
   "execution_count": 10,
   "metadata": {},
   "outputs": [],
   "source": [
    "d, f = assign_capacity_capex(plant)\n",
    "I = plant"
   ]
  },
  {
   "cell_type": "code",
   "execution_count": 11,
   "metadata": {},
   "outputs": [],
   "source": [
    "percentage = 0.6"
   ]
  },
  {
   "cell_type": "code",
   "execution_count": 12,
   "metadata": {},
   "outputs": [],
   "source": [
    "# New version \n",
    "model = Model(\"flp_v2\")\n",
    "\n",
    "X,y = {},{}\n",
    "\n",
    "# # Express the total manure in the region & target demand input by users\n",
    "total_demand = sum(M[j] for j in J)\n",
    "target_demand = total_demand * percentage\n",
    "\n",
    "# Decision variables\n",
    "for i in I:\n",
    "    y[i] = model.addVar(vtype=\"B\", name=\"y(%s)\"%i)\n",
    "    for j in J:\n",
    "        X[i,j] = model.addVar(vtype=\"C\", name=\"X(%s,%s)\"%(i,j))\n",
    "\n",
    "# Constraint 1\n",
    "for i in I:\n",
    "    model.addCons(quicksum(X[i,j] for j in J) <= d[i]*y[i], \"Demand_(of_Digester_Capacity)(%s)\"%i)\n",
    "# Constrain 2\n",
    "for j in M:\n",
    "    model.addCons(quicksum(X[i,j] for i in I) <= M[j], \"Capacity_(of_Farm_Manure_Production)(%s)\"%i)\n",
    "# Constrain 3\n",
    "for (i,j) in X:\n",
    "    model.addCons(X[i,j] <= d[i]*y[i], \"Strong(%s,%s)\"%(i,j))\n",
    "# Constraint 4\n",
    "model.addCons(quicksum(X[i, j] for i in I for j in J) >= target_demand, \"TargetManureDemand\")\n",
    "\n",
    "# Objective function\n",
    "model.setObjective(\n",
    "    quicksum(f[i]*y[i] for i in I) +\n",
    "    quicksum(C[i,j]*X[i,j] for i in I for j in J),\n",
    "    \"minimize\")\n",
    "model.data = X,y"
   ]
  },
  {
   "cell_type": "code",
   "execution_count": 13,
   "metadata": {},
   "outputs": [],
   "source": [
    "# model = Model(\"flp_percentage_demand\")\n",
    "\n",
    "# x, y, z = {}, {}, {}\n",
    "# total_demand = sum(d[i] for i in I)\n",
    "# target_demand = total_demand * p\n",
    "\n",
    "# for j in J:\n",
    "#     y[j] = model.addVar(vtype=\"B\", name=\"y(%s)\" % j)\n",
    "#     for i in I:\n",
    "#         x[i, j] = model.addVar(vtype=\"C\", name=\"x(%s,%s)\" % (i, j))\n",
    "#         z[i, j] = model.addVar(vtype=\"B\", name=\"z(%s,%s)\" % (i, j))\n",
    "# # # Enforce z[i, j] = 1 if x[i, j] > 0\n",
    "# # for (i, j) in x:\n",
    "# #     model.addCons(z[i, j] >= x[i, j] / d[i], \"EnforceZCondition(%s,%s)\" % (i, j))\n",
    "\n",
    "# for i in I:\n",
    "#     model.addCons(quicksum(x[i, j] for j in J) == d[i] * z[i, j], \"Demand(%s)\" % i)\n",
    "\n",
    "# for j in M:\n",
    "#     model.addCons(quicksum(x[i, j] for i in I) <= M[j] * y[j], \"Capacity(%s)\" % j)\n",
    "\n",
    "# for (i, j) in x:\n",
    "#     model.addCons(x[i, j] <= d[i] * y[j], \"Strong(%s,%s)\" % (i, j))\n",
    "\n",
    "# model.addCons(quicksum(x[i, j] for i in I for j in J) >= target_demand, \"PercentageDemand\")\n",
    "\n",
    "# model.setObjective(\n",
    "#     quicksum(f[j] * y[j] for j in J) +\n",
    "#     quicksum(c[i, j] * z[i, j] for i in I for j in J),\n",
    "#     \"minimize\"\n",
    "# )\n",
    "# model.data = x, y, z"
   ]
  },
  {
   "cell_type": "code",
   "execution_count": 14,
   "metadata": {},
   "outputs": [],
   "source": [
    "model.optimize()"
   ]
  },
  {
   "cell_type": "code",
   "execution_count": 15,
   "metadata": {},
   "outputs": [
    {
     "data": {
      "text/plain": [
       "77435759.56279054"
      ]
     },
     "execution_count": 15,
     "metadata": {},
     "output_type": "execute_result"
    }
   ],
   "source": [
    "model.getObjVal()"
   ]
  },
  {
   "cell_type": "code",
   "execution_count": 16,
   "metadata": {},
   "outputs": [],
   "source": [
    "EPS = 1.e-6\n",
    "x,y = model.data\n",
    "assignment = [(i,j) for (i,j) in x if model.getVal(x[i,j]) > EPS]\n",
    "facilities = [i for i in y if model.getVal(y[i]) > EPS]"
   ]
  },
  {
   "cell_type": "code",
   "execution_count": 17,
   "metadata": {},
   "outputs": [
    {
     "data": {
      "text/plain": [
       "[3, 4, 6, 7]"
      ]
     },
     "execution_count": 17,
     "metadata": {},
     "output_type": "execute_result"
    }
   ],
   "source": [
    "facilities"
   ]
  },
  {
   "cell_type": "code",
   "execution_count": 19,
   "metadata": {},
   "outputs": [],
   "source": [
    "# Create a dictionary to store the results\n",
    "result_dict = {f: [] for f in facilities}\n",
    "# Iterate over edges and populate the result_dict\n",
    "for (i, j) in assignment:\n",
    "    if i in facilities:\n",
    "        result_dict[i].append(j)"
   ]
  },
  {
   "cell_type": "code",
   "execution_count": 21,
   "metadata": {},
   "outputs": [],
   "source": [
    "# total_c = sum(c[key] for key in assignment if key in c)*365*12"
   ]
  },
  {
   "cell_type": "code",
   "execution_count": null,
   "metadata": {},
   "outputs": [
    {
     "name": "stdout",
     "output_type": "stream",
     "text": [
      "      Category     Value\n",
      "0      Total C        60\n",
      "1  Total Capex  18267480\n",
      "2   Total Opex  37699200\n"
     ]
    }
   ],
   "source": [
    "# Example dictionary\n",
    "result_dict = {(1, 2): 10, (3, 4): 20, (5, 6): 30}\n",
    "\n",
    "# Example values\n",
    "total_capex = len(result_dict) * 6089160\n",
    "total_opex = len(result_dict) * (1047200 * 12)\n",
    "\n",
    "# Sum the values corresponding to the keys in result_dict\n",
    "total_c = sum(result_dict[key] for key in result_dict)\n",
    "\n",
    "# Create a DataFrame\n",
    "data = {'Category': ['Total C', 'Total Capex', 'Total Opex'],\n",
    "        'Value': [total_c, total_capex, total_opex]}\n",
    "\n",
    "df = pd.DataFrame(data)\n",
    "\n",
    "# Display the DataFrame\n",
    "print(df)"
   ]
  },
  {
   "cell_type": "code",
   "execution_count": null,
   "metadata": {},
   "outputs": [],
   "source": [
    "total_cost = model.getObjVal()\n",
    "\n",
    "# Create a dictionary to store the results\n",
    "result_dict = {f: [] for f in facilities}\n",
    "# Iterate over edges and populate the result_dict\n",
    "for (i, j) in assignment:\n",
    "    if j in facilities:\n",
    "        result_dict[j].append(i)\n",
    "\n",
    "# Get percentage of utilization\n",
    "x_values = {(i, j): model.getVal(x[i, j]) for (i, j) in x if model.getVal(x[i, j]) > EPS} # get how much is flowing between every assignment\n",
    "flow_matrix = np.array([[x_values.get((i, j), 0) for j in J] for i in I]) # create a flow matrix (len(farm)xlen(plant))\n",
    "column_sum = np.sum(flow_matrix, axis=0) # sum of total flow going to every plant\n",
    "used_capacity = (column_sum/np.array(list(M.values())))*100"
   ]
  },
  {
   "cell_type": "code",
   "execution_count": null,
   "metadata": {},
   "outputs": [],
   "source": [
    "used_capacity_df = pd.DataFrame(used_capacity, index=J)"
   ]
  },
  {
   "cell_type": "code",
   "execution_count": 22,
   "metadata": {},
   "outputs": [],
   "source": [
    "arc_layer_df = get_arc(result_dict, loi_gdf, farm)"
   ]
  },
  {
   "cell_type": "code",
   "execution_count": 23,
   "metadata": {},
   "outputs": [
    {
     "data": {
      "text/html": [
       "\n",
       "        <iframe\n",
       "            width=\"100%\"\n",
       "            height=500\n",
       "            frameborder=\"0\"\n",
       "            srcdoc=\"&lt;!DOCTYPE html&gt;\n",
       "&lt;html&gt;\n",
       "  &lt;head&gt;\n",
       "    &lt;meta http-equiv=&quot;content-type&quot; content=&quot;text/html; charset=UTF-8&quot; /&gt;\n",
       "    &lt;title&gt;pydeck&lt;/title&gt;\n",
       "        &lt;script src=&quot;https://api.tiles.mapbox.com/mapbox-gl-js/v1.13.0/mapbox-gl.js&quot;&gt;&lt;/script&gt;\n",
       "        &lt;link rel=&quot;stylesheet&quot; href=&quot;https://maxcdn.bootstrapcdn.com/bootstrap/3.2.0/css/bootstrap-theme.min.css&quot; /&gt;\n",
       "    &lt;link rel=&quot;stylesheet&quot; href=&quot;https://maxcdn.bootstrapcdn.com/font-awesome/4.6.3/css/font-awesome.min.css&quot; /&gt;\n",
       "    &lt;script src=&#x27;https://cdn.jsdelivr.net/npm/@deck.gl/jupyter-widget@~8.5.*/dist/index.js&#x27;&gt;&lt;/script&gt;\n",
       "    &lt;style&gt;\n",
       "    body {\n",
       "  margin: 0;\n",
       "  padding: 0;\n",
       "  overflow: hidden;\n",
       "}\n",
       "\n",
       "#deck-map-container {\n",
       "  width: 100%;\n",
       "  height: 100%;\n",
       "  background-color: black;\n",
       "}\n",
       "\n",
       "#map {\n",
       "  pointer-events: none;\n",
       "  height: 100%;\n",
       "  width: 100%;\n",
       "  position: absolute;\n",
       "  z-index: 1;\n",
       "}\n",
       "\n",
       "#deckgl-overlay {\n",
       "  z-index: 2;\n",
       "  background: none;\n",
       "}\n",
       "\n",
       "#deck-map-wrapper {\n",
       "  width: 100%;\n",
       "  height: 100%;\n",
       "}\n",
       "\n",
       "#deck-container {\n",
       "  width: 100vw;\n",
       "  height: 100vh;\n",
       "}\n",
       "    &lt;/style&gt;\n",
       "  &lt;/head&gt;\n",
       "  &lt;body&gt;\n",
       "    &lt;div id=&quot;deck-container&quot;&gt;\n",
       "    &lt;/div&gt;\n",
       "  &lt;/body&gt;\n",
       "  &lt;script&gt;\n",
       "    const jsonInput = {&quot;initialViewState&quot;: {&quot;latitude&quot;: 52.23487342062624, &quot;longitude&quot;: 6.7996185523501955, &quot;zoom&quot;: 9}, &quot;layers&quot;: [{&quot;@@type&quot;: &quot;ScatterplotLayer&quot;, &quot;autoHighlight&quot;: true, &quot;data&quot;: [{&quot;IND_OBJ_NA&quot;: &quot;507920&quot;, &quot;Unnamed: 0&quot;: 0, &quot;biogas_potential_m3&quot;: 957060.0, &quot;color&quot;: &quot;[169, 169, 169]&quot;, &quot;manure_t&quot;: 2454, &quot;x&quot;: 6.7658433939, &quot;y&quot;: 52.3141390592}, {&quot;IND_OBJ_NA&quot;: &quot;507950&quot;, &quot;Unnamed: 0&quot;: 1, &quot;biogas_potential_m3&quot;: 3832530.0, &quot;color&quot;: &quot;[169, 169, 169]&quot;, &quot;manure_t&quot;: 9827, &quot;x&quot;: 6.837249466, &quot;y&quot;: 52.4250842522}, {&quot;IND_OBJ_NA&quot;: &quot;507953&quot;, &quot;Unnamed: 0&quot;: 2, &quot;biogas_potential_m3&quot;: 3377400.0, &quot;color&quot;: &quot;[169, 169, 169]&quot;, &quot;manure_t&quot;: 8660, &quot;x&quot;: 6.8593610438, &quot;y&quot;: 52.3862247622}, {&quot;IND_OBJ_NA&quot;: &quot;507962&quot;, &quot;Unnamed: 0&quot;: 3, &quot;biogas_potential_m3&quot;: 1136070.0, &quot;color&quot;: &quot;[169, 169, 169]&quot;, &quot;manure_t&quot;: 2913, &quot;x&quot;: 6.7534834692, &quot;y&quot;: 52.4343820977}, {&quot;IND_OBJ_NA&quot;: &quot;507964&quot;, &quot;Unnamed: 0&quot;: 4, &quot;biogas_potential_m3&quot;: 2530320.0, &quot;color&quot;: &quot;[169, 169, 169]&quot;, &quot;manure_t&quot;: 6488, &quot;x&quot;: 6.4840766356, &quot;y&quot;: 52.2436198663}, {&quot;IND_OBJ_NA&quot;: &quot;507968&quot;, &quot;Unnamed: 0&quot;: 5, &quot;biogas_potential_m3&quot;: 2225730.0, &quot;color&quot;: &quot;[169, 169, 169]&quot;, &quot;manure_t&quot;: 5707, &quot;x&quot;: 6.5372603964, &quot;y&quot;: 52.2656283602}, {&quot;IND_OBJ_NA&quot;: &quot;507973&quot;, &quot;Unnamed: 0&quot;: 6, &quot;biogas_potential_m3&quot;: 3327870.0, &quot;color&quot;: &quot;[169, 169, 169]&quot;, &quot;manure_t&quot;: 8533, &quot;x&quot;: 6.5442865956, &quot;y&quot;: 52.2581897466}, {&quot;IND_OBJ_NA&quot;: &quot;507980&quot;, &quot;Unnamed: 0&quot;: 7, &quot;biogas_potential_m3&quot;: 1316640.0, &quot;color&quot;: &quot;[169, 169, 169]&quot;, &quot;manure_t&quot;: 3376, &quot;x&quot;: 6.5360573609, &quot;y&quot;: 52.2595617688}, {&quot;IND_OBJ_NA&quot;: &quot;507984&quot;, &quot;Unnamed: 0&quot;: 8, &quot;biogas_potential_m3&quot;: 94770.0, &quot;color&quot;: &quot;[169, 169, 169]&quot;, &quot;manure_t&quot;: 243, &quot;x&quot;: 6.4999411358, &quot;y&quot;: 52.2293056571}, {&quot;IND_OBJ_NA&quot;: &quot;508283&quot;, &quot;Unnamed: 0&quot;: 9, &quot;biogas_potential_m3&quot;: 1063530.0, &quot;color&quot;: &quot;[169, 169, 169]&quot;, &quot;manure_t&quot;: 2727, &quot;x&quot;: 6.904208931, &quot;y&quot;: 52.3585207448}, {&quot;IND_OBJ_NA&quot;: &quot;508608&quot;, &quot;Unnamed: 0&quot;: 10, &quot;biogas_potential_m3&quot;: 1228500.0, &quot;color&quot;: &quot;[169, 169, 169]&quot;, &quot;manure_t&quot;: 3150, &quot;x&quot;: 6.4695229402, &quot;y&quot;: 52.4490480269}, {&quot;IND_OBJ_NA&quot;: &quot;508944&quot;, &quot;Unnamed: 0&quot;: 11, &quot;biogas_potential_m3&quot;: 452400.0, &quot;color&quot;: &quot;[169, 169, 169]&quot;, &quot;manure_t&quot;: 1160, &quot;x&quot;: 6.9780917374, &quot;y&quot;: 52.383647521}, {&quot;IND_OBJ_NA&quot;: &quot;508948&quot;, &quot;Unnamed: 0&quot;: 12, &quot;biogas_potential_m3&quot;: 1157520.0, &quot;color&quot;: &quot;[169, 169, 169]&quot;, &quot;manure_t&quot;: 2968, &quot;x&quot;: 6.988118899, &quot;y&quot;: 52.3758981254}, {&quot;IND_OBJ_NA&quot;: &quot;508949&quot;, &quot;Unnamed: 0&quot;: 13, &quot;biogas_potential_m3&quot;: 2879370.0, &quot;color&quot;: &quot;[169, 169, 169]&quot;, &quot;manure_t&quot;: 7383, &quot;x&quot;: 6.988416487, &quot;y&quot;: 52.376289487}, {&quot;IND_OBJ_NA&quot;: &quot;510553&quot;, &quot;Unnamed: 0&quot;: 14, &quot;biogas_potential_m3&quot;: 3173820.0, &quot;color&quot;: &quot;[169, 169, 169]&quot;, &quot;manure_t&quot;: 8138, &quot;x&quot;: 6.934623537, &quot;y&quot;: 52.2500679808}, {&quot;IND_OBJ_NA&quot;: &quot;510570&quot;, &quot;Unnamed: 0&quot;: 15, &quot;biogas_potential_m3&quot;: 178620.0, &quot;color&quot;: &quot;[169, 169, 169]&quot;, &quot;manure_t&quot;: 458, &quot;x&quot;: 6.7977540715, &quot;y&quot;: 52.2037075598}, {&quot;IND_OBJ_NA&quot;: &quot;510587&quot;, &quot;Unnamed: 0&quot;: 16, &quot;biogas_potential_m3&quot;: 2565810.0, &quot;color&quot;: &quot;[169, 169, 169]&quot;, &quot;manure_t&quot;: 6579, &quot;x&quot;: 6.8211798801, &quot;y&quot;: 52.2254065666}, {&quot;IND_OBJ_NA&quot;: &quot;510595&quot;, &quot;Unnamed: 0&quot;: 17, &quot;biogas_potential_m3&quot;: 3104010.0, &quot;color&quot;: &quot;[169, 169, 169]&quot;, &quot;manure_t&quot;: 7959, &quot;x&quot;: 6.8458935653, &quot;y&quot;: 52.1962640994}, {&quot;IND_OBJ_NA&quot;: &quot;510605&quot;, &quot;Unnamed: 0&quot;: 18, &quot;biogas_potential_m3&quot;: 2147340.0, &quot;color&quot;: &quot;[169, 169, 169]&quot;, &quot;manure_t&quot;: 5506, &quot;x&quot;: 6.851861762, &quot;y&quot;: 52.2537024625}, {&quot;IND_OBJ_NA&quot;: &quot;510610&quot;, &quot;Unnamed: 0&quot;: 19, &quot;biogas_potential_m3&quot;: 2806830.0, &quot;color&quot;: &quot;[169, 169, 169]&quot;, &quot;manure_t&quot;: 7197, &quot;x&quot;: 6.9242982022, &quot;y&quot;: 52.2082476559}, {&quot;IND_OBJ_NA&quot;: &quot;510620&quot;, &quot;Unnamed: 0&quot;: 20, &quot;biogas_potential_m3&quot;: 2136030.0, &quot;color&quot;: &quot;[169, 169, 169]&quot;, &quot;manure_t&quot;: 5477, &quot;x&quot;: 6.7798420041, &quot;y&quot;: 52.219489064}, {&quot;IND_OBJ_NA&quot;: &quot;12335&quot;, &quot;Unnamed: 0&quot;: 21, &quot;biogas_potential_m3&quot;: 1367340.0, &quot;color&quot;: &quot;[169, 169, 169]&quot;, &quot;manure_t&quot;: 3506, &quot;x&quot;: 6.8608124787, &quot;y&quot;: 52.4253950349}, {&quot;IND_OBJ_NA&quot;: &quot;12358&quot;, &quot;Unnamed: 0&quot;: 23, &quot;biogas_potential_m3&quot;: 2499120.0, &quot;color&quot;: &quot;[169, 169, 169]&quot;, &quot;manure_t&quot;: 6408, &quot;x&quot;: 6.9732986747, &quot;y&quot;: 52.4186338726}, {&quot;IND_OBJ_NA&quot;: &quot;510622&quot;, &quot;Unnamed: 0&quot;: 28, &quot;biogas_potential_m3&quot;: 3575130.0, &quot;color&quot;: &quot;[169, 169, 169]&quot;, &quot;manure_t&quot;: 9167, &quot;x&quot;: 6.8351291013, &quot;y&quot;: 52.2305551004}, {&quot;IND_OBJ_NA&quot;: &quot;507615&quot;, &quot;Unnamed: 0&quot;: 29, &quot;biogas_potential_m3&quot;: 3397680.0, &quot;color&quot;: &quot;[169, 169, 169]&quot;, &quot;manure_t&quot;: 8712, &quot;x&quot;: 6.731964637, &quot;y&quot;: 52.2727724036}, {&quot;IND_OBJ_NA&quot;: &quot;507671&quot;, &quot;Unnamed: 0&quot;: 30, &quot;biogas_potential_m3&quot;: 2206620.0, &quot;color&quot;: &quot;[169, 169, 169]&quot;, &quot;manure_t&quot;: 5658, &quot;x&quot;: 6.7000505516, &quot;y&quot;: 52.3456609141}, {&quot;IND_OBJ_NA&quot;: &quot;511456&quot;, &quot;Unnamed: 0&quot;: 31, &quot;biogas_potential_m3&quot;: 437190.0, &quot;color&quot;: &quot;[169, 169, 169]&quot;, &quot;manure_t&quot;: 1121, &quot;x&quot;: 6.7912894572, &quot;y&quot;: 52.26633688}, {&quot;IND_OBJ_NA&quot;: &quot;511481&quot;, &quot;Unnamed: 0&quot;: 32, &quot;biogas_potential_m3&quot;: 1692210.0, &quot;color&quot;: &quot;[169, 169, 169]&quot;, &quot;manure_t&quot;: 4339, &quot;x&quot;: 6.7581025295, &quot;y&quot;: 52.2683918553}, {&quot;IND_OBJ_NA&quot;: &quot;511482&quot;, &quot;Unnamed: 0&quot;: 33, &quot;biogas_potential_m3&quot;: 1375920.0, &quot;color&quot;: &quot;[169, 169, 169]&quot;, &quot;manure_t&quot;: 3528, &quot;x&quot;: 6.7466692796, &quot;y&quot;: 52.2011796679}, {&quot;IND_OBJ_NA&quot;: &quot;511485&quot;, &quot;Unnamed: 0&quot;: 34, &quot;biogas_potential_m3&quot;: 895050.0, &quot;color&quot;: &quot;[169, 169, 169]&quot;, &quot;manure_t&quot;: 2295, &quot;x&quot;: 6.8116538149, &quot;y&quot;: 52.2366257484}, {&quot;IND_OBJ_NA&quot;: &quot;511931&quot;, &quot;Unnamed: 0&quot;: 35, &quot;biogas_potential_m3&quot;: 2324400.0, &quot;color&quot;: &quot;[169, 169, 169]&quot;, &quot;manure_t&quot;: 5960, &quot;x&quot;: 6.8522695879, &quot;y&quot;: 52.2756253536}, {&quot;IND_OBJ_NA&quot;: &quot;511936&quot;, &quot;Unnamed: 0&quot;: 36, &quot;biogas_potential_m3&quot;: 1367340.0, &quot;color&quot;: &quot;[169, 169, 169]&quot;, &quot;manure_t&quot;: 3506, &quot;x&quot;: 6.8236604457, &quot;y&quot;: 52.3550519764}, {&quot;IND_OBJ_NA&quot;: &quot;512252&quot;, &quot;Unnamed: 0&quot;: 37, &quot;biogas_potential_m3&quot;: 1773720.0, &quot;color&quot;: &quot;[169, 169, 169]&quot;, &quot;manure_t&quot;: 4548, &quot;x&quot;: 6.5559214998, &quot;y&quot;: 52.3923740708}, {&quot;IND_OBJ_NA&quot;: &quot;513499&quot;, &quot;Unnamed: 0&quot;: 38, &quot;biogas_potential_m3&quot;: 3770130.0, &quot;color&quot;: &quot;[169, 169, 169]&quot;, &quot;manure_t&quot;: 9667, &quot;x&quot;: 6.994540204, &quot;y&quot;: 52.314705362}, {&quot;IND_OBJ_NA&quot;: &quot;513515&quot;, &quot;Unnamed: 0&quot;: 39, &quot;biogas_potential_m3&quot;: 1539720.0, &quot;color&quot;: &quot;[169, 169, 169]&quot;, &quot;manure_t&quot;: 3948, &quot;x&quot;: 6.9709155352, &quot;y&quot;: 52.3193043016}, {&quot;IND_OBJ_NA&quot;: &quot;513933&quot;, &quot;Unnamed: 0&quot;: 40, &quot;biogas_potential_m3&quot;: 405600.0, &quot;color&quot;: &quot;[169, 169, 169]&quot;, &quot;manure_t&quot;: 1040, &quot;x&quot;: 6.5705917087, &quot;y&quot;: 52.2048918962}, {&quot;IND_OBJ_NA&quot;: &quot;513936&quot;, &quot;Unnamed: 0&quot;: 41, &quot;biogas_potential_m3&quot;: 275340.0, &quot;color&quot;: &quot;[169, 169, 169]&quot;, &quot;manure_t&quot;: 706, &quot;x&quot;: 6.5542936412, &quot;y&quot;: 52.2000370564}, {&quot;IND_OBJ_NA&quot;: &quot;7554&quot;, &quot;Unnamed: 0&quot;: 42, &quot;biogas_potential_m3&quot;: 208260.0, &quot;color&quot;: &quot;[169, 169, 169]&quot;, &quot;manure_t&quot;: 534, &quot;x&quot;: 6.6660025214, &quot;y&quot;: 52.2899433048}, {&quot;IND_OBJ_NA&quot;: &quot;520454&quot;, &quot;Unnamed: 0&quot;: 43, &quot;biogas_potential_m3&quot;: 940680.0, &quot;color&quot;: &quot;[169, 169, 169]&quot;, &quot;manure_t&quot;: 2412, &quot;x&quot;: 6.5970184279, &quot;y&quot;: 52.2196114225}, {&quot;IND_OBJ_NA&quot;: &quot;526231&quot;, &quot;Unnamed: 0&quot;: 44, &quot;biogas_potential_m3&quot;: 1176630.0, &quot;color&quot;: &quot;[169, 169, 169]&quot;, &quot;manure_t&quot;: 3017, &quot;x&quot;: 6.7634878232, &quot;y&quot;: 52.3014586163}, {&quot;IND_OBJ_NA&quot;: &quot;527676&quot;, &quot;Unnamed: 0&quot;: 45, &quot;biogas_potential_m3&quot;: 2509650.0, &quot;color&quot;: &quot;[169, 169, 169]&quot;, &quot;manure_t&quot;: 6435, &quot;x&quot;: 6.7403645028, &quot;y&quot;: 52.2155153271}, {&quot;IND_OBJ_NA&quot;: &quot;512271&quot;, &quot;Unnamed: 0&quot;: 46, &quot;biogas_potential_m3&quot;: 2713230.0, &quot;color&quot;: &quot;[169, 169, 169]&quot;, &quot;manure_t&quot;: 6957, &quot;x&quot;: 6.7388246432, &quot;y&quot;: 52.2694366143}, {&quot;IND_OBJ_NA&quot;: &quot;512272&quot;, &quot;Unnamed: 0&quot;: 47, &quot;biogas_potential_m3&quot;: 928980.0, &quot;color&quot;: &quot;[169, 169, 169]&quot;, &quot;manure_t&quot;: 2382, &quot;x&quot;: 6.7386614308, &quot;y&quot;: 52.2710782138}, {&quot;IND_OBJ_NA&quot;: &quot;15298&quot;, &quot;Unnamed: 0&quot;: 55, &quot;biogas_potential_m3&quot;: 2680080.0, &quot;color&quot;: &quot;[169, 169, 169]&quot;, &quot;manure_t&quot;: 6872, &quot;x&quot;: 6.8455566668, &quot;y&quot;: 52.1962502822}, {&quot;IND_OBJ_NA&quot;: &quot;15316&quot;, &quot;Unnamed: 0&quot;: 62, &quot;biogas_potential_m3&quot;: 273780.0, &quot;color&quot;: &quot;[169, 169, 169]&quot;, &quot;manure_t&quot;: 702, &quot;x&quot;: 6.8938186317, &quot;y&quot;: 52.1863625653}, {&quot;IND_OBJ_NA&quot;: &quot;15318&quot;, &quot;Unnamed: 0&quot;: 64, &quot;biogas_potential_m3&quot;: 745680.0, &quot;color&quot;: &quot;[169, 169, 169]&quot;, &quot;manure_t&quot;: 1912, &quot;x&quot;: 6.8675952738, &quot;y&quot;: 52.2252875024}, {&quot;IND_OBJ_NA&quot;: &quot;18864&quot;, &quot;Unnamed: 0&quot;: 71, &quot;biogas_potential_m3&quot;: 1759680.0, &quot;color&quot;: &quot;[169, 169, 169]&quot;, &quot;manure_t&quot;: 4512, &quot;x&quot;: 6.8157355773, &quot;y&quot;: 52.1441123818}, {&quot;IND_OBJ_NA&quot;: &quot;20002&quot;, &quot;Unnamed: 0&quot;: 79, &quot;biogas_potential_m3&quot;: 1133340.0, &quot;color&quot;: &quot;[169, 169, 169]&quot;, &quot;manure_t&quot;: 2906, &quot;x&quot;: 6.4868360712, &quot;y&quot;: 52.4756546538}, {&quot;IND_OBJ_NA&quot;: &quot;512273&quot;, &quot;Unnamed: 0&quot;: 82, &quot;biogas_potential_m3&quot;: 2004990.0, &quot;color&quot;: &quot;[169, 169, 169]&quot;, &quot;manure_t&quot;: 5141, &quot;x&quot;: 6.7412605913, &quot;y&quot;: 52.2666846469}, {&quot;IND_OBJ_NA&quot;: &quot;527052&quot;, &quot;Unnamed: 0&quot;: 84, &quot;biogas_potential_m3&quot;: 1439490.0, &quot;color&quot;: &quot;[169, 169, 169]&quot;, &quot;manure_t&quot;: 3691, &quot;x&quot;: 6.7289544411, &quot;y&quot;: 52.3328677019}, {&quot;IND_OBJ_NA&quot;: &quot;7546&quot;, &quot;Unnamed: 0&quot;: 87, &quot;biogas_potential_m3&quot;: 765960.0, &quot;color&quot;: &quot;[169, 169, 169]&quot;, &quot;manure_t&quot;: 1964, &quot;x&quot;: 6.6168951738, &quot;y&quot;: 52.2383476762}, {&quot;IND_OBJ_NA&quot;: &quot;7549&quot;, &quot;Unnamed: 0&quot;: 88, &quot;biogas_potential_m3&quot;: 1946100.0, &quot;color&quot;: &quot;[169, 169, 169]&quot;, &quot;manure_t&quot;: 4990, &quot;x&quot;: 6.6671784754, &quot;y&quot;: 52.2835425995}, {&quot;IND_OBJ_NA&quot;: &quot;9916&quot;, &quot;Unnamed: 0&quot;: 95, &quot;biogas_potential_m3&quot;: 643110.0, &quot;color&quot;: &quot;[169, 169, 169]&quot;, &quot;manure_t&quot;: 1649, &quot;x&quot;: 6.7609613357, &quot;y&quot;: 52.2992168332}, {&quot;IND_OBJ_NA&quot;: &quot;528762&quot;, &quot;Unnamed: 0&quot;: 98, &quot;biogas_potential_m3&quot;: 3017820.0, &quot;color&quot;: &quot;[169, 169, 169]&quot;, &quot;manure_t&quot;: 7738, &quot;x&quot;: 6.5464240813, &quot;y&quot;: 52.1975195779}, {&quot;IND_OBJ_NA&quot;: &quot;529139&quot;, &quot;Unnamed: 0&quot;: 99, &quot;biogas_potential_m3&quot;: 2893020.0, &quot;color&quot;: &quot;[169, 169, 169]&quot;, &quot;manure_t&quot;: 7418, &quot;x&quot;: 6.5795146117, &quot;y&quot;: 52.2030059672}, {&quot;IND_OBJ_NA&quot;: &quot;21525&quot;, &quot;Unnamed: 0&quot;: 110, &quot;biogas_potential_m3&quot;: 847470.0, &quot;color&quot;: &quot;[169, 169, 169]&quot;, &quot;manure_t&quot;: 2173, &quot;x&quot;: 6.7388488755, &quot;y&quot;: 52.2469572214}, {&quot;IND_OBJ_NA&quot;: &quot;22215&quot;, &quot;Unnamed: 0&quot;: 111, &quot;biogas_potential_m3&quot;: 2258100.0, &quot;color&quot;: &quot;[169, 169, 169]&quot;, &quot;manure_t&quot;: 5790, &quot;x&quot;: 6.4625100501, &quot;y&quot;: 52.2796283109}, {&quot;IND_OBJ_NA&quot;: &quot;26288&quot;, &quot;Unnamed: 0&quot;: 119, &quot;biogas_potential_m3&quot;: 3787680.0, &quot;color&quot;: &quot;[169, 169, 169]&quot;, &quot;manure_t&quot;: 9712, &quot;x&quot;: 6.9960179425, &quot;y&quot;: 52.3517232378}, {&quot;IND_OBJ_NA&quot;: &quot;26297&quot;, &quot;Unnamed: 0&quot;: 120, &quot;biogas_potential_m3&quot;: 138060.0, &quot;color&quot;: &quot;[169, 169, 169]&quot;, &quot;manure_t&quot;: 354, &quot;x&quot;: 7.0087987299, &quot;y&quot;: 52.2473864703}, {&quot;IND_OBJ_NA&quot;: &quot;28127&quot;, &quot;Unnamed: 0&quot;: 122, &quot;biogas_potential_m3&quot;: 2983890.0, &quot;color&quot;: &quot;[169, 169, 169]&quot;, &quot;manure_t&quot;: 7651, &quot;x&quot;: 6.5412531751, &quot;y&quot;: 52.27863361}, {&quot;IND_OBJ_NA&quot;: &quot;28133&quot;, &quot;Unnamed: 0&quot;: 123, &quot;biogas_potential_m3&quot;: 1443000.0, &quot;color&quot;: &quot;[169, 169, 169]&quot;, &quot;manure_t&quot;: 3700, &quot;x&quot;: 6.595124471, &quot;y&quot;: 52.224009363}, {&quot;IND_OBJ_NA&quot;: &quot;ALM01025&quot;, &quot;Unnamed: 0&quot;: 127, &quot;biogas_potential_m3&quot;: 372450.0, &quot;color&quot;: &quot;[169, 169, 169]&quot;, &quot;manure_t&quot;: 955, &quot;x&quot;: 6.6548847353, &quot;y&quot;: 52.3655325043}, {&quot;IND_OBJ_NA&quot;: &quot;ALM01078&quot;, &quot;Unnamed: 0&quot;: 128, &quot;biogas_potential_m3&quot;: 2709720.0, &quot;color&quot;: &quot;[169, 169, 169]&quot;, &quot;manure_t&quot;: 6948, &quot;x&quot;: 6.7126468834, &quot;y&quot;: 52.3501887637}, {&quot;IND_OBJ_NA&quot;: &quot;ALM01080&quot;, &quot;Unnamed: 0&quot;: 129, &quot;biogas_potential_m3&quot;: 3452670.0, &quot;color&quot;: &quot;[169, 169, 169]&quot;, &quot;manure_t&quot;: 8853, &quot;x&quot;: 6.7134845154, &quot;y&quot;: 52.3572404254}, {&quot;IND_OBJ_NA&quot;: &quot;ALM01081&quot;, &quot;Unnamed: 0&quot;: 130, &quot;biogas_potential_m3&quot;: 2481570.0, &quot;color&quot;: &quot;[169, 169, 169]&quot;, &quot;manure_t&quot;: 6363, &quot;x&quot;: 6.6811735726, &quot;y&quot;: 52.3546416327}, {&quot;IND_OBJ_NA&quot;: &quot;ALM01090&quot;, &quot;Unnamed: 0&quot;: 131, &quot;biogas_potential_m3&quot;: 3115710.0, &quot;color&quot;: &quot;[169, 169, 169]&quot;, &quot;manure_t&quot;: 7989, &quot;x&quot;: 6.6348865653, &quot;y&quot;: 52.351974479}, {&quot;IND_OBJ_NA&quot;: &quot;ALM01092&quot;, &quot;Unnamed: 0&quot;: 132, &quot;biogas_potential_m3&quot;: 3588390.0, &quot;color&quot;: &quot;[169, 169, 169]&quot;, &quot;manure_t&quot;: 9201, &quot;x&quot;: 6.6442232598, &quot;y&quot;: 52.3545992484}, {&quot;IND_OBJ_NA&quot;: &quot;ALM01082&quot;, &quot;Unnamed: 0&quot;: 133, &quot;biogas_potential_m3&quot;: 2015520.0, &quot;color&quot;: &quot;[169, 169, 169]&quot;, &quot;manure_t&quot;: 5168, &quot;x&quot;: 6.7043422962, &quot;y&quot;: 52.3448761712}, {&quot;IND_OBJ_NA&quot;: &quot;ALM01076&quot;, &quot;Unnamed: 0&quot;: 134, &quot;biogas_potential_m3&quot;: 2102880.0, &quot;color&quot;: &quot;[169, 169, 169]&quot;, &quot;manure_t&quot;: 5392, &quot;x&quot;: 6.6946617987, &quot;y&quot;: 52.3586948923}, {&quot;IND_OBJ_NA&quot;: &quot;ALM01077&quot;, &quot;Unnamed: 0&quot;: 135, &quot;biogas_potential_m3&quot;: 3791970.0, &quot;color&quot;: &quot;[169, 169, 169]&quot;, &quot;manure_t&quot;: 9723, &quot;x&quot;: 6.7201049145, &quot;y&quot;: 52.3601343584}, {&quot;IND_OBJ_NA&quot;: &quot;ALM01093&quot;, &quot;Unnamed: 0&quot;: 136, &quot;biogas_potential_m3&quot;: 3222570.0, &quot;color&quot;: &quot;[169, 169, 169]&quot;, &quot;manure_t&quot;: 8263, &quot;x&quot;: 6.6590190421, &quot;y&quot;: 52.371968911}, {&quot;IND_OBJ_NA&quot;: &quot;BOR01032&quot;, &quot;Unnamed: 0&quot;: 137, &quot;biogas_potential_m3&quot;: 3069690.0, &quot;color&quot;: &quot;[169, 169, 169]&quot;, &quot;manure_t&quot;: 7871, &quot;x&quot;: 6.760410259, &quot;y&quot;: 52.3008232326}, {&quot;IND_OBJ_NA&quot;: &quot;BOR01001&quot;, &quot;Unnamed: 0&quot;: 139, &quot;biogas_potential_m3&quot;: 1615770.0, &quot;color&quot;: &quot;[169, 169, 169]&quot;, &quot;manure_t&quot;: 4143, &quot;x&quot;: 6.7610275019, &quot;y&quot;: 52.2984969501}, {&quot;IND_OBJ_NA&quot;: &quot;DNK01031&quot;, &quot;Unnamed: 0&quot;: 140, &quot;biogas_potential_m3&quot;: 3381300.0, &quot;color&quot;: &quot;[169, 169, 169]&quot;, &quot;manure_t&quot;: 8670, &quot;x&quot;: 7.0159961676, &quot;y&quot;: 52.36926877}, {&quot;IND_OBJ_NA&quot;: &quot;DNK01017&quot;, &quot;Unnamed: 0&quot;: 141, &quot;biogas_potential_m3&quot;: 2294370.0, &quot;color&quot;: &quot;[169, 169, 169]&quot;, &quot;manure_t&quot;: 5883, &quot;x&quot;: 6.88012943, &quot;y&quot;: 52.3876892061}, {&quot;IND_OBJ_NA&quot;: &quot;333490&quot;, &quot;Unnamed: 0&quot;: 147, &quot;biogas_potential_m3&quot;: 2256540.0, &quot;color&quot;: &quot;[169, 169, 169]&quot;, &quot;manure_t&quot;: 5786, &quot;x&quot;: 6.7156625149, &quot;y&quot;: 52.147242024}, {&quot;IND_OBJ_NA&quot;: &quot;34143&quot;, &quot;Unnamed: 0&quot;: 148, &quot;biogas_potential_m3&quot;: 2649270.0, &quot;color&quot;: &quot;[169, 169, 169]&quot;, &quot;manure_t&quot;: 6793, &quot;x&quot;: 6.7060114373, &quot;y&quot;: 52.2557850392}, {&quot;IND_OBJ_NA&quot;: &quot;34144&quot;, &quot;Unnamed: 0&quot;: 149, &quot;biogas_potential_m3&quot;: 1622010.0, &quot;color&quot;: &quot;[169, 169, 169]&quot;, &quot;manure_t&quot;: 4159, &quot;x&quot;: 6.7079183106, &quot;y&quot;: 52.2552182102}, {&quot;IND_OBJ_NA&quot;: &quot;ENS01027&quot;, &quot;Unnamed: 0&quot;: 154, &quot;biogas_potential_m3&quot;: 2396160.0, &quot;color&quot;: &quot;[169, 169, 169]&quot;, &quot;manure_t&quot;: 6144, &quot;x&quot;: 6.8755082227, &quot;y&quot;: 52.2543239587}, {&quot;IND_OBJ_NA&quot;: &quot;ENS01029&quot;, &quot;Unnamed: 0&quot;: 155, &quot;biogas_potential_m3&quot;: 816270.0, &quot;color&quot;: &quot;[169, 169, 169]&quot;, &quot;manure_t&quot;: 2093, &quot;x&quot;: 6.9243854387, &quot;y&quot;: 52.213993032}, {&quot;IND_OBJ_NA&quot;: &quot;ENS01047&quot;, &quot;Unnamed: 0&quot;: 156, &quot;biogas_potential_m3&quot;: 2696070.0, &quot;color&quot;: &quot;[169, 169, 169]&quot;, &quot;manure_t&quot;: 6913, &quot;x&quot;: 6.8875284391, &quot;y&quot;: 52.2515011431}, {&quot;IND_OBJ_NA&quot;: &quot;ENS01005&quot;, &quot;Unnamed: 0&quot;: 157, &quot;biogas_potential_m3&quot;: 173160.0, &quot;color&quot;: &quot;[169, 169, 169]&quot;, &quot;manure_t&quot;: 444, &quot;x&quot;: 6.867179361, &quot;y&quot;: 52.2381852578}, {&quot;IND_OBJ_NA&quot;: &quot;ENS01085&quot;, &quot;Unnamed: 0&quot;: 162, &quot;biogas_potential_m3&quot;: 2811120.0, &quot;color&quot;: &quot;[169, 169, 169]&quot;, &quot;manure_t&quot;: 7208, &quot;x&quot;: 6.9228103481, &quot;y&quot;: 52.2069288076}, {&quot;IND_OBJ_NA&quot;: &quot;ENS01071&quot;, &quot;Unnamed: 0&quot;: 163, &quot;biogas_potential_m3&quot;: 409500.0, &quot;color&quot;: &quot;[169, 169, 169]&quot;, &quot;manure_t&quot;: 1050, &quot;x&quot;: 6.8358948559, &quot;y&quot;: 52.2127673217}, {&quot;IND_OBJ_NA&quot;: &quot;ENS01081&quot;, &quot;Unnamed: 0&quot;: 164, &quot;biogas_potential_m3&quot;: 3764280.0, &quot;color&quot;: &quot;[169, 169, 169]&quot;, &quot;manure_t&quot;: 9652, &quot;x&quot;: 6.8414021827, &quot;y&quot;: 52.2424424978}, {&quot;IND_OBJ_NA&quot;: &quot;ENS01155&quot;, &quot;Unnamed: 0&quot;: 167, &quot;biogas_potential_m3&quot;: 88530.0, &quot;color&quot;: &quot;[169, 169, 169]&quot;, &quot;manure_t&quot;: 227, &quot;x&quot;: 6.9024601373, &quot;y&quot;: 52.1966754481}, {&quot;IND_OBJ_NA&quot;: &quot;ENS01161&quot;, &quot;Unnamed: 0&quot;: 168, &quot;biogas_potential_m3&quot;: 1900470.0, &quot;color&quot;: &quot;[169, 169, 169]&quot;, &quot;manure_t&quot;: 4873, &quot;x&quot;: 6.9200021573, &quot;y&quot;: 52.200232023}, {&quot;IND_OBJ_NA&quot;: &quot;HKB01039&quot;, &quot;Unnamed: 0&quot;: 170, &quot;biogas_potential_m3&quot;: 1287390.0, &quot;color&quot;: &quot;[169, 169, 169]&quot;, &quot;manure_t&quot;: 3301, &quot;x&quot;: 6.7387881782, &quot;y&quot;: 52.1410899046}, {&quot;IND_OBJ_NA&quot;: &quot;HKB01003&quot;, &quot;Unnamed: 0&quot;: 171, &quot;biogas_potential_m3&quot;: 2870010.0, &quot;color&quot;: &quot;[169, 169, 169]&quot;, &quot;manure_t&quot;: 7359, &quot;x&quot;: 6.8365751014, &quot;y&quot;: 52.1435855321}, {&quot;IND_OBJ_NA&quot;: &quot;HKB01004&quot;, &quot;Unnamed: 0&quot;: 172, &quot;biogas_potential_m3&quot;: 2300610.0, &quot;color&quot;: &quot;[169, 169, 169]&quot;, &quot;manure_t&quot;: 5899, &quot;x&quot;: 6.8472248943, &quot;y&quot;: 52.1395169546}, {&quot;IND_OBJ_NA&quot;: &quot;HKB01023&quot;, &quot;Unnamed: 0&quot;: 173, &quot;biogas_potential_m3&quot;: 3515850.0, &quot;color&quot;: &quot;[169, 169, 169]&quot;, &quot;manure_t&quot;: 9015, &quot;x&quot;: 6.7362249281, &quot;y&quot;: 52.1584477817}, {&quot;IND_OBJ_NA&quot;: &quot;HKB01006&quot;, &quot;Unnamed: 0&quot;: 174, &quot;biogas_potential_m3&quot;: 245310.0, &quot;color&quot;: &quot;[169, 169, 169]&quot;, &quot;manure_t&quot;: 629, &quot;x&quot;: 6.7444057177, &quot;y&quot;: 52.1188920731}, {&quot;IND_OBJ_NA&quot;: &quot;HGL01068&quot;, &quot;Unnamed: 0&quot;: 179, &quot;biogas_potential_m3&quot;: 2953080.0, &quot;color&quot;: &quot;[169, 169, 169]&quot;, &quot;manure_t&quot;: 7572, &quot;x&quot;: 6.7368461658, &quot;y&quot;: 52.212347502}, {&quot;IND_OBJ_NA&quot;: &quot;HGL01022&quot;, &quot;Unnamed: 0&quot;: 185, &quot;biogas_potential_m3&quot;: 2535000.0, &quot;color&quot;: &quot;[169, 169, 169]&quot;, &quot;manure_t&quot;: 6500, &quot;x&quot;: 6.7499624529, &quot;y&quot;: 52.2421839539}, {&quot;IND_OBJ_NA&quot;: &quot;HOF01001&quot;, &quot;Unnamed: 0&quot;: 189, &quot;biogas_potential_m3&quot;: 455910.0, &quot;color&quot;: &quot;[169, 169, 169]&quot;, &quot;manure_t&quot;: 1169, &quot;x&quot;: 6.7129367004, &quot;y&quot;: 52.2635400544}, {&quot;IND_OBJ_NA&quot;: &quot;HOF01022&quot;, &quot;Unnamed: 0&quot;: 190, &quot;biogas_potential_m3&quot;: 183300.0, &quot;color&quot;: &quot;[169, 169, 169]&quot;, &quot;manure_t&quot;: 470, &quot;x&quot;: 6.4986911687, &quot;y&quot;: 52.2342795716}, {&quot;IND_OBJ_NA&quot;: &quot;HOF01023&quot;, &quot;Unnamed: 0&quot;: 191, &quot;biogas_potential_m3&quot;: 3153150.0, &quot;color&quot;: &quot;[169, 169, 169]&quot;, &quot;manure_t&quot;: 8085, &quot;x&quot;: 6.6605317628, &quot;y&quot;: 52.1989115199}, {&quot;IND_OBJ_NA&quot;: &quot;HOF01043&quot;, &quot;Unnamed: 0&quot;: 192, &quot;biogas_potential_m3&quot;: 546390.0, &quot;color&quot;: &quot;[169, 169, 169]&quot;, &quot;manure_t&quot;: 1401, &quot;x&quot;: 6.5899990584, &quot;y&quot;: 52.2370549954}, {&quot;IND_OBJ_NA&quot;: &quot;HOF01031&quot;, &quot;Unnamed: 0&quot;: 194, &quot;biogas_potential_m3&quot;: 2635620.0, &quot;color&quot;: &quot;[169, 169, 169]&quot;, &quot;manure_t&quot;: 6758, &quot;x&quot;: 6.5883569762, &quot;y&quot;: 52.2353616483}, {&quot;IND_OBJ_NA&quot;: &quot;TUB01009&quot;, &quot;Unnamed: 0&quot;: 208, &quot;biogas_potential_m3&quot;: 999180.0, &quot;color&quot;: &quot;[169, 169, 169]&quot;, &quot;manure_t&quot;: 2562, &quot;x&quot;: 6.8702409799, &quot;y&quot;: 52.438159733}, {&quot;IND_OBJ_NA&quot;: &quot;38906&quot;, &quot;Unnamed: 0&quot;: 227, &quot;biogas_potential_m3&quot;: 1217970.0, &quot;color&quot;: &quot;[169, 169, 169]&quot;, &quot;manure_t&quot;: 3123, &quot;x&quot;: 6.5632241071, &quot;y&quot;: 52.2937525266}, {&quot;IND_OBJ_NA&quot;: &quot;46769&quot;, &quot;Unnamed: 0&quot;: 232, &quot;biogas_potential_m3&quot;: 2597400.0, &quot;color&quot;: &quot;[169, 169, 169]&quot;, &quot;manure_t&quot;: 6660, &quot;x&quot;: 6.4397723384, &quot;y&quot;: 52.4142614118}, {&quot;IND_OBJ_NA&quot;: &quot;TUB01019&quot;, &quot;Unnamed: 0&quot;: 233, &quot;biogas_potential_m3&quot;: 335790.0, &quot;color&quot;: &quot;[169, 169, 169]&quot;, &quot;manure_t&quot;: 861, &quot;x&quot;: 6.7562661164, &quot;y&quot;: 52.3985697194}, {&quot;IND_OBJ_NA&quot;: &quot;TUB01010&quot;, &quot;Unnamed: 0&quot;: 236, &quot;biogas_potential_m3&quot;: 3524820.0, &quot;color&quot;: &quot;[169, 169, 169]&quot;, &quot;manure_t&quot;: 9038, &quot;x&quot;: 6.8308185326, &quot;y&quot;: 52.4235723119}, {&quot;IND_OBJ_NA&quot;: &quot;TUB01011&quot;, &quot;Unnamed: 0&quot;: 237, &quot;biogas_potential_m3&quot;: 2723370.0, &quot;color&quot;: &quot;[169, 169, 169]&quot;, &quot;manure_t&quot;: 6983, &quot;x&quot;: 6.8354457953, &quot;y&quot;: 52.4247922577}, {&quot;IND_OBJ_NA&quot;: &quot;TUB01012&quot;, &quot;Unnamed: 0&quot;: 238, &quot;biogas_potential_m3&quot;: 3041220.0, &quot;color&quot;: &quot;[169, 169, 169]&quot;, &quot;manure_t&quot;: 7798, &quot;x&quot;: 6.7419423221, &quot;y&quot;: 52.369880972}, {&quot;IND_OBJ_NA&quot;: &quot;TUB01013&quot;, &quot;Unnamed: 0&quot;: 239, &quot;biogas_potential_m3&quot;: 2047110.0, &quot;color&quot;: &quot;[169, 169, 169]&quot;, &quot;manure_t&quot;: 5249, &quot;x&quot;: 6.7117620948, &quot;y&quot;: 52.3800737591}, {&quot;IND_OBJ_NA&quot;: &quot;TUB01014&quot;, &quot;Unnamed: 0&quot;: 240, &quot;biogas_potential_m3&quot;: 1139580.0, &quot;color&quot;: &quot;[169, 169, 169]&quot;, &quot;manure_t&quot;: 2922, &quot;x&quot;: 6.6908772887, &quot;y&quot;: 52.40462847}, {&quot;IND_OBJ_NA&quot;: &quot;VZV01003&quot;, &quot;Unnamed: 0&quot;: 241, &quot;biogas_potential_m3&quot;: 752700.0, &quot;color&quot;: &quot;[169, 169, 169]&quot;, &quot;manure_t&quot;: 1930, &quot;x&quot;: 6.6430904085, &quot;y&quot;: 52.4182145304}, {&quot;IND_OBJ_NA&quot;: &quot;VZV01004&quot;, &quot;Unnamed: 0&quot;: 242, &quot;biogas_potential_m3&quot;: 403650.0, &quot;color&quot;: &quot;[169, 169, 169]&quot;, &quot;manure_t&quot;: 1035, &quot;x&quot;: 6.6467849021, &quot;y&quot;: 52.419513837}, {&quot;IND_OBJ_NA&quot;: &quot;VZV01005&quot;, &quot;Unnamed: 0&quot;: 243, &quot;biogas_potential_m3&quot;: 1524510.0, &quot;color&quot;: &quot;[169, 169, 169]&quot;, &quot;manure_t&quot;: 3909, &quot;x&quot;: 6.6512901679, &quot;y&quot;: 52.4207781842}, {&quot;IND_OBJ_NA&quot;: &quot;VZV01006&quot;, &quot;Unnamed: 0&quot;: 244, &quot;biogas_potential_m3&quot;: 3369600.0, &quot;color&quot;: &quot;[169, 169, 169]&quot;, &quot;manure_t&quot;: 8640, &quot;x&quot;: 6.6255182997, &quot;y&quot;: 52.412311192}, {&quot;IND_OBJ_NA&quot;: &quot;VZV01018&quot;, &quot;Unnamed: 0&quot;: 245, &quot;biogas_potential_m3&quot;: 870870.0, &quot;color&quot;: &quot;[169, 169, 169]&quot;, &quot;manure_t&quot;: 2233, &quot;x&quot;: 6.6402564826, &quot;y&quot;: 52.4168775214}, {&quot;IND_OBJ_NA&quot;: &quot;VZV01019&quot;, &quot;Unnamed: 0&quot;: 246, &quot;biogas_potential_m3&quot;: 3441750.0, &quot;color&quot;: &quot;[169, 169, 169]&quot;, &quot;manure_t&quot;: 8825, &quot;x&quot;: 6.6496136741, &quot;y&quot;: 52.4199924326}, {&quot;IND_OBJ_NA&quot;: &quot;VZV01020&quot;, &quot;Unnamed: 0&quot;: 247, &quot;biogas_potential_m3&quot;: 3463200.0, &quot;color&quot;: &quot;[169, 169, 169]&quot;, &quot;manure_t&quot;: 8880, &quot;x&quot;: 6.6539678907, &quot;y&quot;: 52.4208484688}, {&quot;IND_OBJ_NA&quot;: &quot;VZV01024&quot;, &quot;Unnamed: 0&quot;: 248, &quot;biogas_potential_m3&quot;: 121680.0, &quot;color&quot;: &quot;[169, 169, 169]&quot;, &quot;manure_t&quot;: 312, &quot;x&quot;: 6.7088672122, &quot;y&quot;: 52.479572871}, {&quot;IND_OBJ_NA&quot;: &quot;WDN01023&quot;, &quot;Unnamed: 0&quot;: 249, &quot;biogas_potential_m3&quot;: 1302210.0, &quot;color&quot;: &quot;[169, 169, 169]&quot;, &quot;manure_t&quot;: 3339, &quot;x&quot;: 6.5630659972, &quot;y&quot;: 52.2922080713}, {&quot;IND_OBJ_NA&quot;: &quot;46926&quot;, &quot;Unnamed: 0&quot;: 257, &quot;biogas_potential_m3&quot;: 612300.0, &quot;color&quot;: &quot;[169, 169, 169]&quot;, &quot;manure_t&quot;: 1570, &quot;x&quot;: 6.848896901, &quot;y&quot;: 52.4392609308}, {&quot;IND_OBJ_NA&quot;: &quot;47011&quot;, &quot;Unnamed: 0&quot;: 258, &quot;biogas_potential_m3&quot;: 1737450.0, &quot;color&quot;: &quot;[169, 169, 169]&quot;, &quot;manure_t&quot;: 4455, &quot;x&quot;: 6.5485093641, &quot;y&quot;: 52.3294213467}, {&quot;IND_OBJ_NA&quot;: &quot;47013&quot;, &quot;Unnamed: 0&quot;: 259, &quot;biogas_potential_m3&quot;: 3045510.0, &quot;color&quot;: &quot;[169, 169, 169]&quot;, &quot;manure_t&quot;: 7809, &quot;x&quot;: 6.5553390127, &quot;y&quot;: 52.309443684}, {&quot;IND_OBJ_NA&quot;: &quot;480693&quot;, &quot;Unnamed: 0&quot;: 260, &quot;biogas_potential_m3&quot;: 418470.0, &quot;color&quot;: &quot;[169, 169, 169]&quot;, &quot;manure_t&quot;: 1073, &quot;x&quot;: 6.5913239804, &quot;y&quot;: 52.2199724941}, {&quot;IND_OBJ_NA&quot;: &quot;507476&quot;, &quot;Unnamed: 0&quot;: 261, &quot;biogas_potential_m3&quot;: 2933970.0, &quot;color&quot;: &quot;[169, 169, 169]&quot;, &quot;manure_t&quot;: 7523, &quot;x&quot;: 6.6207273018, &quot;y&quot;: 52.4106609269}, {&quot;IND_OBJ_NA&quot;: &quot;507480&quot;, &quot;Unnamed: 0&quot;: 262, &quot;biogas_potential_m3&quot;: 661050.0, &quot;color&quot;: &quot;[169, 169, 169]&quot;, &quot;manure_t&quot;: 1695, &quot;x&quot;: 6.6990287501, &quot;y&quot;: 52.45741401}, {&quot;IND_OBJ_NA&quot;: &quot;507489&quot;, &quot;Unnamed: 0&quot;: 263, &quot;biogas_potential_m3&quot;: 1487070.0, &quot;color&quot;: &quot;[169, 169, 169]&quot;, &quot;manure_t&quot;: 3813, &quot;x&quot;: 6.7032535492, &quot;y&quot;: 52.2556425969}, {&quot;IND_OBJ_NA&quot;: &quot;507502&quot;, &quot;Unnamed: 0&quot;: 264, &quot;biogas_potential_m3&quot;: 981240.0, &quot;color&quot;: &quot;[169, 169, 169]&quot;, &quot;manure_t&quot;: 2516, &quot;x&quot;: 6.7266909115, &quot;y&quot;: 52.2622987544}, {&quot;IND_OBJ_NA&quot;: &quot;507506&quot;, &quot;Unnamed: 0&quot;: 265, &quot;biogas_potential_m3&quot;: 1233960.0, &quot;color&quot;: &quot;[169, 169, 169]&quot;, &quot;manure_t&quot;: 3164, &quot;x&quot;: 6.7197117142, &quot;y&quot;: 52.2657234587}, {&quot;IND_OBJ_NA&quot;: &quot;507619&quot;, &quot;Unnamed: 0&quot;: 266, &quot;biogas_potential_m3&quot;: 1734330.0, &quot;color&quot;: &quot;[169, 169, 169]&quot;, &quot;manure_t&quot;: 4447, &quot;x&quot;: 6.7186676569, &quot;y&quot;: 52.2786342442}, {&quot;IND_OBJ_NA&quot;: &quot;507623&quot;, &quot;Unnamed: 0&quot;: 267, &quot;biogas_potential_m3&quot;: 171210.0, &quot;color&quot;: &quot;[169, 169, 169]&quot;, &quot;manure_t&quot;: 439, &quot;x&quot;: 6.7124562938, &quot;y&quot;: 52.2732912075}, {&quot;IND_OBJ_NA&quot;: &quot;507706&quot;, &quot;Unnamed: 0&quot;: 268, &quot;biogas_potential_m3&quot;: 3007680.0, &quot;color&quot;: &quot;[169, 169, 169]&quot;, &quot;manure_t&quot;: 7712, &quot;x&quot;: 6.6729721853, &quot;y&quot;: 52.358856739}, {&quot;IND_OBJ_NA&quot;: &quot;507711&quot;, &quot;Unnamed: 0&quot;: 269, &quot;biogas_potential_m3&quot;: 3226080.0, &quot;color&quot;: &quot;[169, 169, 169]&quot;, &quot;manure_t&quot;: 8272, &quot;x&quot;: 6.6962569647, &quot;y&quot;: 52.3439321628}, {&quot;IND_OBJ_NA&quot;: &quot;507716&quot;, &quot;Unnamed: 0&quot;: 270, &quot;biogas_potential_m3&quot;: 944580.0, &quot;color&quot;: &quot;[169, 169, 169]&quot;, &quot;manure_t&quot;: 2422, &quot;x&quot;: 6.6569050501, &quot;y&quot;: 52.3648097538}, {&quot;IND_OBJ_NA&quot;: &quot;507739&quot;, &quot;Unnamed: 0&quot;: 271, &quot;biogas_potential_m3&quot;: 2824380.0, &quot;color&quot;: &quot;[169, 169, 169]&quot;, &quot;manure_t&quot;: 7242, &quot;x&quot;: 6.779408399, &quot;y&quot;: 52.1709400588}, {&quot;IND_OBJ_NA&quot;: &quot;507743&quot;, &quot;Unnamed: 0&quot;: 272, &quot;biogas_potential_m3&quot;: 592020.0, &quot;color&quot;: &quot;[169, 169, 169]&quot;, &quot;manure_t&quot;: 1518, &quot;x&quot;: 6.7540525063, &quot;y&quot;: 52.1864942353}, {&quot;IND_OBJ_NA&quot;: &quot;507786&quot;, &quot;Unnamed: 0&quot;: 273, &quot;biogas_potential_m3&quot;: 3893370.0, &quot;color&quot;: &quot;[169, 169, 169]&quot;, &quot;manure_t&quot;: 9983, &quot;x&quot;: 6.6963409619, &quot;y&quot;: 52.2794096871}, {&quot;IND_OBJ_NA&quot;: &quot;507790&quot;, &quot;Unnamed: 0&quot;: 274, &quot;biogas_potential_m3&quot;: 2198820.0, &quot;color&quot;: &quot;[169, 169, 169]&quot;, &quot;manure_t&quot;: 5638, &quot;x&quot;: 6.6790333092, &quot;y&quot;: 52.2955946299}, {&quot;IND_OBJ_NA&quot;: &quot;507796&quot;, &quot;Unnamed: 0&quot;: 275, &quot;biogas_potential_m3&quot;: 2874300.0, &quot;color&quot;: &quot;[169, 169, 169]&quot;, &quot;manure_t&quot;: 7370, &quot;x&quot;: 6.7203953073, &quot;y&quot;: 52.2789673823}, {&quot;IND_OBJ_NA&quot;: &quot;507799&quot;, &quot;Unnamed: 0&quot;: 276, &quot;biogas_potential_m3&quot;: 2597400.0, &quot;color&quot;: &quot;[169, 169, 169]&quot;, &quot;manure_t&quot;: 6660, &quot;x&quot;: 6.7072739649, &quot;y&quot;: 52.2942028929}, {&quot;IND_OBJ_NA&quot;: &quot;507802&quot;, &quot;Unnamed: 0&quot;: 277, &quot;biogas_potential_m3&quot;: 2769780.0, &quot;color&quot;: &quot;[169, 169, 169]&quot;, &quot;manure_t&quot;: 7102, &quot;x&quot;: 6.7177149439, &quot;y&quot;: 52.26768876}, {&quot;IND_OBJ_NA&quot;: &quot;507805&quot;, &quot;Unnamed: 0&quot;: 278, &quot;biogas_potential_m3&quot;: 2335320.0, &quot;color&quot;: &quot;[169, 169, 169]&quot;, &quot;manure_t&quot;: 5988, &quot;x&quot;: 6.6421507164, &quot;y&quot;: 52.267548018}, {&quot;IND_OBJ_NA&quot;: &quot;507807&quot;, &quot;Unnamed: 0&quot;: 279, &quot;biogas_potential_m3&quot;: 1877460.0, &quot;color&quot;: &quot;[169, 169, 169]&quot;, &quot;manure_t&quot;: 4814, &quot;x&quot;: 6.6277506676, &quot;y&quot;: 52.2370784863}, {&quot;IND_OBJ_NA&quot;: &quot;507809&quot;, &quot;Unnamed: 0&quot;: 280, &quot;biogas_potential_m3&quot;: 3155100.0, &quot;color&quot;: &quot;[169, 169, 169]&quot;, &quot;manure_t&quot;: 8090, &quot;x&quot;: 6.7168101087, &quot;y&quot;: 52.2878368467}, {&quot;IND_OBJ_NA&quot;: &quot;507913&quot;, &quot;Unnamed: 0&quot;: 281, &quot;biogas_potential_m3&quot;: 3410550.0, &quot;color&quot;: &quot;[169, 169, 169]&quot;, &quot;manure_t&quot;: 8745, &quot;x&quot;: 6.7409595764, &quot;y&quot;: 52.3124524677}], &quot;getFillColor&quot;: &quot;@@=color&quot;, &quot;getLineColor&quot;: [0, 0, 0], &quot;getPosition&quot;: &quot;@@=[x, y]&quot;, &quot;getRadius&quot;: 300, &quot;id&quot;: &quot;c9c0725c-1749-43ec-ab8f-d8638db9cdd8&quot;, &quot;pickable&quot;: false}, {&quot;@@type&quot;: &quot;ScatterplotLayer&quot;, &quot;autoHighlight&quot;: true, &quot;data&quot;: [{&quot;Unnamed: 0&quot;: 1437, &quot;closest_osmid&quot;: 90, &quot;color&quot;: &quot;[69, 5, 88]&quot;, &quot;fuzzy&quot;: 0.9822090270865946, &quot;geometry&quot;: {&quot;coordinates&quot;: [6.927004125262504, 52.21386928669373], &quot;type&quot;: &quot;Point&quot;}, &quot;hex9&quot;: &quot;891f160846fffff&quot;, &quot;x&quot;: 6.927004125262504, &quot;y&quot;: 52.21386928669373}, {&quot;Unnamed: 0&quot;: 2056, &quot;closest_osmid&quot;: 178, &quot;color&quot;: &quot;[68, 1, 84]&quot;, &quot;fuzzy&quot;: 0.9944380489827516, &quot;geometry&quot;: {&quot;coordinates&quot;: [7.010055608265149, 52.24822699304137], &quot;type&quot;: &quot;Point&quot;}, &quot;hex9&quot;: &quot;891f160a83bffff&quot;, &quot;x&quot;: 7.010055608265149, &quot;y&quot;: 52.24822699304137}, {&quot;Unnamed: 0&quot;: 2428, &quot;closest_osmid&quot;: 132, &quot;color&quot;: &quot;[68, 3, 87]&quot;, &quot;fuzzy&quot;: 0.9847388067755272, &quot;geometry&quot;: {&quot;coordinates&quot;: [6.821243754619526, 52.22595282347961], &quot;type&quot;: &quot;Point&quot;}, &quot;hex9&quot;: &quot;891f160b453ffff&quot;, &quot;x&quot;: 6.821243754619526, &quot;y&quot;: 52.22595282347961}, {&quot;Unnamed: 0&quot;: 4702, &quot;closest_osmid&quot;: 203, &quot;color&quot;: &quot;[69, 5, 88]&quot;, &quot;fuzzy&quot;: 0.9814864074058828, &quot;geometry&quot;: {&quot;coordinates&quot;: [6.714456050415326, 52.27222255867061], &quot;type&quot;: &quot;Point&quot;}, &quot;hex9&quot;: &quot;891f16196a3ffff&quot;, &quot;x&quot;: 6.714456050415326, &quot;y&quot;: 52.27222255867061}, {&quot;Unnamed: 0&quot;: 4851, &quot;closest_osmid&quot;: 166, &quot;color&quot;: &quot;[68, 2, 85]&quot;, &quot;fuzzy&quot;: 0.9875610304311152, &quot;geometry&quot;: {&quot;coordinates&quot;: [6.8457700538076525, 52.241161699785465], &quot;type&quot;: &quot;Point&quot;}, &quot;hex9&quot;: &quot;891f1619b7bffff&quot;, &quot;x&quot;: 6.8457700538076525, &quot;y&quot;: 52.241161699785465}, {&quot;Unnamed: 0&quot;: 7349, &quot;closest_osmid&quot;: 57, &quot;color&quot;: &quot;[69, 5, 88]&quot;, &quot;fuzzy&quot;: 0.9804963973917232, &quot;geometry&quot;: {&quot;coordinates&quot;: [6.716149735583468, 52.14942778670374], &quot;type&quot;: &quot;Point&quot;}, &quot;hex9&quot;: &quot;891f1655cabffff&quot;, &quot;x&quot;: 6.716149735583468, &quot;y&quot;: 52.14942778670374}, {&quot;Unnamed: 0&quot;: 12350, &quot;closest_osmid&quot;: 731, &quot;color&quot;: &quot;[69, 5, 88]&quot;, &quot;fuzzy&quot;: 0.9807949911969218, &quot;geometry&quot;: {&quot;coordinates&quot;: [6.562650538497745, 52.293252796009206], &quot;type&quot;: &quot;Point&quot;}, &quot;hex9&quot;: &quot;891f16cc097ffff&quot;, &quot;x&quot;: 6.562650538497745, &quot;y&quot;: 52.293252796009206}], &quot;getFillColor&quot;: &quot;@@=color&quot;, &quot;getLineColor&quot;: [255, 255, 255], &quot;getLineWidth&quot;: 3, &quot;getPosition&quot;: &quot;@@=[x, y]&quot;, &quot;getRadius&quot;: 800, &quot;id&quot;: &quot;573f47be-7762-4ba4-9658-b2fe33a03b0c&quot;, &quot;pickable&quot;: true}, {&quot;@@type&quot;: &quot;TextLayer&quot;, &quot;data&quot;: [{&quot;Unnamed: 0&quot;: 1437, &quot;closest_osmid&quot;: 90, &quot;color&quot;: &quot;[69, 5, 88]&quot;, &quot;fuzzy&quot;: 0.9822090270865946, &quot;geometry&quot;: {&quot;coordinates&quot;: [6.927004125262504, 52.21386928669373], &quot;type&quot;: &quot;Point&quot;}, &quot;hex9&quot;: &quot;891f160846fffff&quot;, &quot;name&quot;: &quot;1&quot;, &quot;x&quot;: 6.927004125262504, &quot;y&quot;: 52.21386928669373}, {&quot;Unnamed: 0&quot;: 2056, &quot;closest_osmid&quot;: 178, &quot;color&quot;: &quot;[68, 1, 84]&quot;, &quot;fuzzy&quot;: 0.9944380489827516, &quot;geometry&quot;: {&quot;coordinates&quot;: [7.010055608265149, 52.24822699304137], &quot;type&quot;: &quot;Point&quot;}, &quot;hex9&quot;: &quot;891f160a83bffff&quot;, &quot;name&quot;: &quot;2&quot;, &quot;x&quot;: 7.010055608265149, &quot;y&quot;: 52.24822699304137}, {&quot;Unnamed: 0&quot;: 2428, &quot;closest_osmid&quot;: 132, &quot;color&quot;: &quot;[68, 3, 87]&quot;, &quot;fuzzy&quot;: 0.9847388067755272, &quot;geometry&quot;: {&quot;coordinates&quot;: [6.821243754619526, 52.22595282347961], &quot;type&quot;: &quot;Point&quot;}, &quot;hex9&quot;: &quot;891f160b453ffff&quot;, &quot;name&quot;: &quot;3&quot;, &quot;x&quot;: 6.821243754619526, &quot;y&quot;: 52.22595282347961}, {&quot;Unnamed: 0&quot;: 4702, &quot;closest_osmid&quot;: 203, &quot;color&quot;: &quot;[69, 5, 88]&quot;, &quot;fuzzy&quot;: 0.9814864074058828, &quot;geometry&quot;: {&quot;coordinates&quot;: [6.714456050415326, 52.27222255867061], &quot;type&quot;: &quot;Point&quot;}, &quot;hex9&quot;: &quot;891f16196a3ffff&quot;, &quot;name&quot;: &quot;4&quot;, &quot;x&quot;: 6.714456050415326, &quot;y&quot;: 52.27222255867061}, {&quot;Unnamed: 0&quot;: 4851, &quot;closest_osmid&quot;: 166, &quot;color&quot;: &quot;[68, 2, 85]&quot;, &quot;fuzzy&quot;: 0.9875610304311152, &quot;geometry&quot;: {&quot;coordinates&quot;: [6.8457700538076525, 52.241161699785465], &quot;type&quot;: &quot;Point&quot;}, &quot;hex9&quot;: &quot;891f1619b7bffff&quot;, &quot;name&quot;: &quot;5&quot;, &quot;x&quot;: 6.8457700538076525, &quot;y&quot;: 52.241161699785465}, {&quot;Unnamed: 0&quot;: 7349, &quot;closest_osmid&quot;: 57, &quot;color&quot;: &quot;[69, 5, 88]&quot;, &quot;fuzzy&quot;: 0.9804963973917232, &quot;geometry&quot;: {&quot;coordinates&quot;: [6.716149735583468, 52.14942778670374], &quot;type&quot;: &quot;Point&quot;}, &quot;hex9&quot;: &quot;891f1655cabffff&quot;, &quot;name&quot;: &quot;6&quot;, &quot;x&quot;: 6.716149735583468, &quot;y&quot;: 52.14942778670374}, {&quot;Unnamed: 0&quot;: 12350, &quot;closest_osmid&quot;: 731, &quot;color&quot;: &quot;[69, 5, 88]&quot;, &quot;fuzzy&quot;: 0.9807949911969218, &quot;geometry&quot;: {&quot;coordinates&quot;: [6.562650538497745, 52.293252796009206], &quot;type&quot;: &quot;Point&quot;}, &quot;hex9&quot;: &quot;891f16cc097ffff&quot;, &quot;name&quot;: &quot;7&quot;, &quot;x&quot;: 6.562650538497745, &quot;y&quot;: 52.293252796009206}], &quot;getAlignmentBaseline&quot;: &quot;center&quot;, &quot;getAngle&quot;: 0, &quot;getColor&quot;: [255, 255, 255], &quot;getPosition&quot;: &quot;@@=[x, y]&quot;, &quot;getSize&quot;: 18, &quot;getText&quot;: &quot;@@=name&quot;, &quot;getTextAnchor&quot;: &quot;middle&quot;, &quot;id&quot;: &quot;df27a84f-d832-4abf-a1f3-aa405f90927a&quot;, &quot;pickable&quot;: true}, {&quot;@@type&quot;: &quot;ArcLayer&quot;, &quot;autoHighlight&quot;: true, &quot;data&quot;: [{&quot;digester_number&quot;: 3, &quot;end_lat&quot;: 52.22595282347961, &quot;end_lon&quot;: 6.821243754619526, &quot;farm_number&quot;: 14, &quot;material_quantity&quot;: 8138.0, &quot;start_lat&quot;: 52.2500679808, &quot;start_lon&quot;: 6.934623537}, {&quot;digester_number&quot;: 3, &quot;end_lat&quot;: 52.22595282347961, &quot;end_lon&quot;: 6.821243754619526, &quot;farm_number&quot;: 15, &quot;material_quantity&quot;: 458.0, &quot;start_lat&quot;: 52.2037075598, &quot;start_lon&quot;: 6.7977540715}, {&quot;digester_number&quot;: 3, &quot;end_lat&quot;: 52.22595282347961, &quot;end_lon&quot;: 6.821243754619526, &quot;farm_number&quot;: 16, &quot;material_quantity&quot;: 6579.0, &quot;start_lat&quot;: 52.2254065666, &quot;start_lon&quot;: 6.8211798801}, {&quot;digester_number&quot;: 3, &quot;end_lat&quot;: 52.22595282347961, &quot;end_lon&quot;: 6.821243754619526, &quot;farm_number&quot;: 17, &quot;material_quantity&quot;: 7959.0, &quot;start_lat&quot;: 52.1962640994, &quot;start_lon&quot;: 6.8458935653}, {&quot;digester_number&quot;: 3, &quot;end_lat&quot;: 52.22595282347961, &quot;end_lon&quot;: 6.821243754619526, &quot;farm_number&quot;: 18, &quot;material_quantity&quot;: 5506.0, &quot;start_lat&quot;: 52.2537024625, &quot;start_lon&quot;: 6.851861762}, {&quot;digester_number&quot;: 3, &quot;end_lat&quot;: 52.22595282347961, &quot;end_lon&quot;: 6.821243754619526, &quot;farm_number&quot;: 19, &quot;material_quantity&quot;: 7197.0, &quot;start_lat&quot;: 52.2082476559, &quot;start_lon&quot;: 6.9242982022}, {&quot;digester_number&quot;: 3, &quot;end_lat&quot;: 52.22595282347961, &quot;end_lon&quot;: 6.821243754619526, &quot;farm_number&quot;: 20, &quot;material_quantity&quot;: 5477.0, &quot;start_lat&quot;: 52.219489064, &quot;start_lon&quot;: 6.7798420041}, {&quot;digester_number&quot;: 3, &quot;end_lat&quot;: 52.22595282347961, &quot;end_lon&quot;: 6.821243754619526, &quot;farm_number&quot;: 23, &quot;material_quantity&quot;: 9167.0, &quot;start_lat&quot;: 52.2305551004, &quot;start_lon&quot;: 6.8351291013}, {&quot;digester_number&quot;: 3, &quot;end_lat&quot;: 52.22595282347961, &quot;end_lon&quot;: 6.821243754619526, &quot;farm_number&quot;: 26, &quot;material_quantity&quot;: 1121.0, &quot;start_lat&quot;: 52.26633688, &quot;start_lon&quot;: 6.7912894572}, {&quot;digester_number&quot;: 3, &quot;end_lat&quot;: 52.22595282347961, &quot;end_lon&quot;: 6.821243754619526, &quot;farm_number&quot;: 29, &quot;material_quantity&quot;: 2295.0, &quot;start_lat&quot;: 52.2366257484, &quot;start_lon&quot;: 6.8116538149}, {&quot;digester_number&quot;: 3, &quot;end_lat&quot;: 52.22595282347961, &quot;end_lon&quot;: 6.821243754619526, &quot;farm_number&quot;: 43, &quot;material_quantity&quot;: 6872.0, &quot;start_lat&quot;: 52.1962502822, &quot;start_lon&quot;: 6.8455566668}, {&quot;digester_number&quot;: 3, &quot;end_lat&quot;: 52.22595282347961, &quot;end_lon&quot;: 6.821243754619526, &quot;farm_number&quot;: 44, &quot;material_quantity&quot;: 702.0, &quot;start_lat&quot;: 52.1863625653, &quot;start_lon&quot;: 6.8938186317}, {&quot;digester_number&quot;: 3, &quot;end_lat&quot;: 52.22595282347961, &quot;end_lon&quot;: 6.821243754619526, &quot;farm_number&quot;: 45, &quot;material_quantity&quot;: 1912.0, &quot;start_lat&quot;: 52.2252875024, &quot;start_lon&quot;: 6.8675952738}, {&quot;digester_number&quot;: 3, &quot;end_lat&quot;: 52.22595282347961, &quot;end_lon&quot;: 6.821243754619526, &quot;farm_number&quot;: 71, &quot;material_quantity&quot;: 7871.0, &quot;start_lat&quot;: 52.3008232326, &quot;start_lon&quot;: 6.760410259}, {&quot;digester_number&quot;: 3, &quot;end_lat&quot;: 52.22595282347961, &quot;end_lon&quot;: 6.821243754619526, &quot;farm_number&quot;: 72, &quot;material_quantity&quot;: 4143.0, &quot;start_lat&quot;: 52.2984969501, &quot;start_lon&quot;: 6.7610275019}, {&quot;digester_number&quot;: 3, &quot;end_lat&quot;: 52.22595282347961, &quot;end_lon&quot;: 6.821243754619526, &quot;farm_number&quot;: 78, &quot;material_quantity&quot;: 6144.0, &quot;start_lat&quot;: 52.2543239587, &quot;start_lon&quot;: 6.8755082227}, {&quot;digester_number&quot;: 3, &quot;end_lat&quot;: 52.22595282347961, &quot;end_lon&quot;: 6.821243754619526, &quot;farm_number&quot;: 79, &quot;material_quantity&quot;: 2093.0, &quot;start_lat&quot;: 52.213993032, &quot;start_lon&quot;: 6.9243854387}, {&quot;digester_number&quot;: 3, &quot;end_lat&quot;: 52.22595282347961, &quot;end_lon&quot;: 6.821243754619526, &quot;farm_number&quot;: 80, &quot;material_quantity&quot;: 6913.0, &quot;start_lat&quot;: 52.2515011431, &quot;start_lon&quot;: 6.8875284391}, {&quot;digester_number&quot;: 3, &quot;end_lat&quot;: 52.22595282347961, &quot;end_lon&quot;: 6.821243754619526, &quot;farm_number&quot;: 81, &quot;material_quantity&quot;: 444.0, &quot;start_lat&quot;: 52.2381852578, &quot;start_lon&quot;: 6.867179361}, {&quot;digester_number&quot;: 3, &quot;end_lat&quot;: 52.22595282347961, &quot;end_lon&quot;: 6.821243754619526, &quot;farm_number&quot;: 82, &quot;material_quantity&quot;: 7208.0, &quot;start_lat&quot;: 52.2069288076, &quot;start_lon&quot;: 6.9228103481}, {&quot;digester_number&quot;: 3, &quot;end_lat&quot;: 52.22595282347961, &quot;end_lon&quot;: 6.821243754619526, &quot;farm_number&quot;: 83, &quot;material_quantity&quot;: 1050.0, &quot;start_lat&quot;: 52.2127673217, &quot;start_lon&quot;: 6.8358948559}, {&quot;digester_number&quot;: 3, &quot;end_lat&quot;: 52.22595282347961, &quot;end_lon&quot;: 6.821243754619526, &quot;farm_number&quot;: 84, &quot;material_quantity&quot;: 9652.0, &quot;start_lat&quot;: 52.2424424978, &quot;start_lon&quot;: 6.8414021827}, {&quot;digester_number&quot;: 3, &quot;end_lat&quot;: 52.22595282347961, &quot;end_lon&quot;: 6.821243754619526, &quot;farm_number&quot;: 85, &quot;material_quantity&quot;: 227.0, &quot;start_lat&quot;: 52.1966754481, &quot;start_lon&quot;: 6.9024601373}, {&quot;digester_number&quot;: 3, &quot;end_lat&quot;: 52.22595282347961, &quot;end_lon&quot;: 6.821243754619526, &quot;farm_number&quot;: 86, &quot;material_quantity&quot;: 4873.0, &quot;start_lat&quot;: 52.200232023, &quot;start_lon&quot;: 6.9200021573}, {&quot;digester_number&quot;: 3, &quot;end_lat&quot;: 52.22595282347961, &quot;end_lon&quot;: 6.821243754619526, &quot;farm_number&quot;: 131, &quot;material_quantity&quot;: 7242.0, &quot;start_lat&quot;: 52.1709400588, &quot;start_lon&quot;: 6.779408399}, {&quot;digester_number&quot;: 4, &quot;end_lat&quot;: 52.27222255867061, &quot;end_lon&quot;: 6.714456050415326, &quot;farm_number&quot;: 24, &quot;material_quantity&quot;: 8712.0, &quot;start_lat&quot;: 52.2727724036, &quot;start_lon&quot;: 6.731964637}, {&quot;digester_number&quot;: 4, &quot;end_lat&quot;: 52.27222255867061, &quot;end_lon&quot;: 6.714456050415326, &quot;farm_number&quot;: 27, &quot;material_quantity&quot;: 4339.0, &quot;start_lat&quot;: 52.2683918553, &quot;start_lon&quot;: 6.7581025295}, {&quot;digester_number&quot;: 4, &quot;end_lat&quot;: 52.27222255867061, &quot;end_lon&quot;: 6.714456050415326, &quot;farm_number&quot;: 39, &quot;material_quantity&quot;: 3017.0, &quot;start_lat&quot;: 52.3014586163, &quot;start_lon&quot;: 6.7634878232}, {&quot;digester_number&quot;: 4, &quot;end_lat&quot;: 52.27222255867061, &quot;end_lon&quot;: 6.714456050415326, &quot;farm_number&quot;: 41, &quot;material_quantity&quot;: 6957.0, &quot;start_lat&quot;: 52.2694366143, &quot;start_lon&quot;: 6.7388246432}, {&quot;digester_number&quot;: 4, &quot;end_lat&quot;: 52.27222255867061, &quot;end_lon&quot;: 6.714456050415326, &quot;farm_number&quot;: 42, &quot;material_quantity&quot;: 2382.0, &quot;start_lat&quot;: 52.2710782138, &quot;start_lon&quot;: 6.7386614308}, {&quot;digester_number&quot;: 4, &quot;end_lat&quot;: 52.27222255867061, &quot;end_lon&quot;: 6.714456050415326, &quot;farm_number&quot;: 48, &quot;material_quantity&quot;: 5141.0, &quot;start_lat&quot;: 52.2666846469, &quot;start_lon&quot;: 6.7412605913}, {&quot;digester_number&quot;: 4, &quot;end_lat&quot;: 52.27222255867061, &quot;end_lon&quot;: 6.714456050415326, &quot;farm_number&quot;: 52, &quot;material_quantity&quot;: 1649.0, &quot;start_lat&quot;: 52.2992168332, &quot;start_lon&quot;: 6.7609613357}, {&quot;digester_number&quot;: 4, &quot;end_lat&quot;: 52.27222255867061, &quot;end_lon&quot;: 6.714456050415326, &quot;farm_number&quot;: 55, &quot;material_quantity&quot;: 2173.0, &quot;start_lat&quot;: 52.2469572214, &quot;start_lon&quot;: 6.7388488755}, {&quot;digester_number&quot;: 4, &quot;end_lat&quot;: 52.27222255867061, &quot;end_lon&quot;: 6.714456050415326, &quot;farm_number&quot;: 71, &quot;material_quantity&quot;: 7871.0, &quot;start_lat&quot;: 52.3008232326, &quot;start_lon&quot;: 6.760410259}, {&quot;digester_number&quot;: 4, &quot;end_lat&quot;: 52.27222255867061, &quot;end_lon&quot;: 6.714456050415326, &quot;farm_number&quot;: 76, &quot;material_quantity&quot;: 6793.0, &quot;start_lat&quot;: 52.2557850392, &quot;start_lon&quot;: 6.7060114373}, {&quot;digester_number&quot;: 4, &quot;end_lat&quot;: 52.27222255867061, &quot;end_lon&quot;: 6.714456050415326, &quot;farm_number&quot;: 77, &quot;material_quantity&quot;: 4159.0, &quot;start_lat&quot;: 52.2552182102, &quot;start_lon&quot;: 6.7079183106}, {&quot;digester_number&quot;: 4, &quot;end_lat&quot;: 52.27222255867061, &quot;end_lon&quot;: 6.714456050415326, &quot;farm_number&quot;: 93, &quot;material_quantity&quot;: 6500.0, &quot;start_lat&quot;: 52.2421839539, &quot;start_lon&quot;: 6.7499624529}, {&quot;digester_number&quot;: 4, &quot;end_lat&quot;: 52.27222255867061, &quot;end_lon&quot;: 6.714456050415326, &quot;farm_number&quot;: 94, &quot;material_quantity&quot;: 1169.0, &quot;start_lat&quot;: 52.2635400544, &quot;start_lon&quot;: 6.7129367004}, {&quot;digester_number&quot;: 4, &quot;end_lat&quot;: 52.27222255867061, &quot;end_lon&quot;: 6.714456050415326, &quot;farm_number&quot;: 123, &quot;material_quantity&quot;: 3813.0, &quot;start_lat&quot;: 52.2556425969, &quot;start_lon&quot;: 6.7032535492}, {&quot;digester_number&quot;: 4, &quot;end_lat&quot;: 52.27222255867061, &quot;end_lon&quot;: 6.714456050415326, &quot;farm_number&quot;: 124, &quot;material_quantity&quot;: 2516.0, &quot;start_lat&quot;: 52.2622987544, &quot;start_lon&quot;: 6.7266909115}, {&quot;digester_number&quot;: 4, &quot;end_lat&quot;: 52.27222255867061, &quot;end_lon&quot;: 6.714456050415326, &quot;farm_number&quot;: 125, &quot;material_quantity&quot;: 3164.0, &quot;start_lat&quot;: 52.2657234587, &quot;start_lon&quot;: 6.7197117142}, {&quot;digester_number&quot;: 4, &quot;end_lat&quot;: 52.27222255867061, &quot;end_lon&quot;: 6.714456050415326, &quot;farm_number&quot;: 126, &quot;material_quantity&quot;: 4447.0, &quot;start_lat&quot;: 52.2786342442, &quot;start_lon&quot;: 6.7186676569}, {&quot;digester_number&quot;: 4, &quot;end_lat&quot;: 52.27222255867061, &quot;end_lon&quot;: 6.714456050415326, &quot;farm_number&quot;: 127, &quot;material_quantity&quot;: 439.0, &quot;start_lat&quot;: 52.2732912075, &quot;start_lon&quot;: 6.7124562938}, {&quot;digester_number&quot;: 4, &quot;end_lat&quot;: 52.27222255867061, &quot;end_lon&quot;: 6.714456050415326, &quot;farm_number&quot;: 133, &quot;material_quantity&quot;: 9983.0, &quot;start_lat&quot;: 52.2794096871, &quot;start_lon&quot;: 6.6963409619}, {&quot;digester_number&quot;: 4, &quot;end_lat&quot;: 52.27222255867061, &quot;end_lon&quot;: 6.714456050415326, &quot;farm_number&quot;: 134, &quot;material_quantity&quot;: 5638.0, &quot;start_lat&quot;: 52.2955946299, &quot;start_lon&quot;: 6.6790333092}, {&quot;digester_number&quot;: 4, &quot;end_lat&quot;: 52.27222255867061, &quot;end_lon&quot;: 6.714456050415326, &quot;farm_number&quot;: 135, &quot;material_quantity&quot;: 7370.0, &quot;start_lat&quot;: 52.2789673823, &quot;start_lon&quot;: 6.7203953073}, {&quot;digester_number&quot;: 4, &quot;end_lat&quot;: 52.27222255867061, &quot;end_lon&quot;: 6.714456050415326, &quot;farm_number&quot;: 137, &quot;material_quantity&quot;: 7102.0, &quot;start_lat&quot;: 52.26768876, &quot;start_lon&quot;: 6.7177149439}, {&quot;digester_number&quot;: 4, &quot;end_lat&quot;: 52.27222255867061, &quot;end_lon&quot;: 6.714456050415326, &quot;farm_number&quot;: 139, &quot;material_quantity&quot;: 4814.0, &quot;start_lat&quot;: 52.2370784863, &quot;start_lon&quot;: 6.6277506676}, {&quot;digester_number&quot;: 4, &quot;end_lat&quot;: 52.27222255867061, &quot;end_lon&quot;: 6.714456050415326, &quot;farm_number&quot;: 140, &quot;material_quantity&quot;: 8090.0, &quot;start_lat&quot;: 52.2878368467, &quot;start_lon&quot;: 6.7168101087}, {&quot;digester_number&quot;: 4, &quot;end_lat&quot;: 52.27222255867061, &quot;end_lon&quot;: 6.714456050415326, &quot;farm_number&quot;: 141, &quot;material_quantity&quot;: 8745.0, &quot;start_lat&quot;: 52.3124524677, &quot;start_lon&quot;: 6.7409595764}, {&quot;digester_number&quot;: 6, &quot;end_lat&quot;: 52.14942778670374, &quot;end_lon&quot;: 6.716149735583468, &quot;farm_number&quot;: 28, &quot;material_quantity&quot;: 3528.0, &quot;start_lat&quot;: 52.2011796679, &quot;start_lon&quot;: 6.7466692796}, {&quot;digester_number&quot;: 6, &quot;end_lat&quot;: 52.14942778670374, &quot;end_lon&quot;: 6.716149735583468, &quot;farm_number&quot;: 40, &quot;material_quantity&quot;: 6435.0, &quot;start_lat&quot;: 52.2155153271, &quot;start_lon&quot;: 6.7403645028}, {&quot;digester_number&quot;: 6, &quot;end_lat&quot;: 52.14942778670374, &quot;end_lon&quot;: 6.716149735583468, &quot;farm_number&quot;: 46, &quot;material_quantity&quot;: 4512.0, &quot;start_lat&quot;: 52.1441123818, &quot;start_lon&quot;: 6.8157355773}, {&quot;digester_number&quot;: 6, &quot;end_lat&quot;: 52.14942778670374, &quot;end_lon&quot;: 6.716149735583468, &quot;farm_number&quot;: 60, &quot;material_quantity&quot;: 3700.0, &quot;start_lat&quot;: 52.224009363, &quot;start_lon&quot;: 6.595124471}, {&quot;digester_number&quot;: 6, &quot;end_lat&quot;: 52.14942778670374, &quot;end_lon&quot;: 6.716149735583468, &quot;farm_number&quot;: 75, &quot;material_quantity&quot;: 5786.0, &quot;start_lat&quot;: 52.147242024, &quot;start_lon&quot;: 6.7156625149}, {&quot;digester_number&quot;: 6, &quot;end_lat&quot;: 52.14942778670374, &quot;end_lon&quot;: 6.716149735583468, &quot;farm_number&quot;: 87, &quot;material_quantity&quot;: 3301.0, &quot;start_lat&quot;: 52.1410899046, &quot;start_lon&quot;: 6.7387881782}, {&quot;digester_number&quot;: 6, &quot;end_lat&quot;: 52.14942778670374, &quot;end_lon&quot;: 6.716149735583468, &quot;farm_number&quot;: 88, &quot;material_quantity&quot;: 7359.0, &quot;start_lat&quot;: 52.1435855321, &quot;start_lon&quot;: 6.8365751014}, {&quot;digester_number&quot;: 6, &quot;end_lat&quot;: 52.14942778670374, &quot;end_lon&quot;: 6.716149735583468, &quot;farm_number&quot;: 89, &quot;material_quantity&quot;: 5899.0, &quot;start_lat&quot;: 52.1395169546, &quot;start_lon&quot;: 6.8472248943}, {&quot;digester_number&quot;: 6, &quot;end_lat&quot;: 52.14942778670374, &quot;end_lon&quot;: 6.716149735583468, &quot;farm_number&quot;: 90, &quot;material_quantity&quot;: 9015.0, &quot;start_lat&quot;: 52.1584477817, &quot;start_lon&quot;: 6.7362249281}, {&quot;digester_number&quot;: 6, &quot;end_lat&quot;: 52.14942778670374, &quot;end_lon&quot;: 6.716149735583468, &quot;farm_number&quot;: 91, &quot;material_quantity&quot;: 629.0, &quot;start_lat&quot;: 52.1188920731, &quot;start_lon&quot;: 6.7444057177}, {&quot;digester_number&quot;: 6, &quot;end_lat&quot;: 52.14942778670374, &quot;end_lon&quot;: 6.716149735583468, &quot;farm_number&quot;: 92, &quot;material_quantity&quot;: 7572.0, &quot;start_lat&quot;: 52.212347502, &quot;start_lon&quot;: 6.7368461658}, {&quot;digester_number&quot;: 6, &quot;end_lat&quot;: 52.14942778670374, &quot;end_lon&quot;: 6.716149735583468, &quot;farm_number&quot;: 96, &quot;material_quantity&quot;: 8085.0, &quot;start_lat&quot;: 52.1989115199, &quot;start_lon&quot;: 6.6605317628}, {&quot;digester_number&quot;: 6, &quot;end_lat&quot;: 52.14942778670374, &quot;end_lon&quot;: 6.716149735583468, &quot;farm_number&quot;: 132, &quot;material_quantity&quot;: 1518.0, &quot;start_lat&quot;: 52.1864942353, &quot;start_lon&quot;: 6.7540525063}, {&quot;digester_number&quot;: 7, &quot;end_lat&quot;: 52.293252796009206, &quot;end_lon&quot;: 6.562650538497745, &quot;farm_number&quot;: 4, &quot;material_quantity&quot;: 6488.0, &quot;start_lat&quot;: 52.2436198663, &quot;start_lon&quot;: 6.4840766356}, {&quot;digester_number&quot;: 7, &quot;end_lat&quot;: 52.293252796009206, &quot;end_lon&quot;: 6.562650538497745, &quot;farm_number&quot;: 5, &quot;material_quantity&quot;: 5707.0, &quot;start_lat&quot;: 52.2656283602, &quot;start_lon&quot;: 6.5372603964}, {&quot;digester_number&quot;: 7, &quot;end_lat&quot;: 52.293252796009206, &quot;end_lon&quot;: 6.562650538497745, &quot;farm_number&quot;: 6, &quot;material_quantity&quot;: 8533.0, &quot;start_lat&quot;: 52.2581897466, &quot;start_lon&quot;: 6.5442865956}, {&quot;digester_number&quot;: 7, &quot;end_lat&quot;: 52.293252796009206, &quot;end_lon&quot;: 6.562650538497745, &quot;farm_number&quot;: 7, &quot;material_quantity&quot;: 3376.0, &quot;start_lat&quot;: 52.2595617688, &quot;start_lon&quot;: 6.5360573609}, {&quot;digester_number&quot;: 7, &quot;end_lat&quot;: 52.293252796009206, &quot;end_lon&quot;: 6.562650538497745, &quot;farm_number&quot;: 8, &quot;material_quantity&quot;: 243.0, &quot;start_lat&quot;: 52.2293056571, &quot;start_lon&quot;: 6.4999411358}, {&quot;digester_number&quot;: 7, &quot;end_lat&quot;: 52.293252796009206, &quot;end_lon&quot;: 6.562650538497745, &quot;farm_number&quot;: 35, &quot;material_quantity&quot;: 1040.0, &quot;start_lat&quot;: 52.2048918962, &quot;start_lon&quot;: 6.5705917087}, {&quot;digester_number&quot;: 7, &quot;end_lat&quot;: 52.293252796009206, &quot;end_lon&quot;: 6.562650538497745, &quot;farm_number&quot;: 36, &quot;material_quantity&quot;: 706.0, &quot;start_lat&quot;: 52.2000370564, &quot;start_lon&quot;: 6.5542936412}, {&quot;digester_number&quot;: 7, &quot;end_lat&quot;: 52.293252796009206, &quot;end_lon&quot;: 6.562650538497745, &quot;farm_number&quot;: 37, &quot;material_quantity&quot;: 534.0, &quot;start_lat&quot;: 52.2899433048, &quot;start_lon&quot;: 6.6660025214}, {&quot;digester_number&quot;: 7, &quot;end_lat&quot;: 52.293252796009206, &quot;end_lon&quot;: 6.562650538497745, &quot;farm_number&quot;: 38, &quot;material_quantity&quot;: 2412.0, &quot;start_lat&quot;: 52.2196114225, &quot;start_lon&quot;: 6.5970184279}, {&quot;digester_number&quot;: 7, &quot;end_lat&quot;: 52.293252796009206, &quot;end_lon&quot;: 6.562650538497745, &quot;farm_number&quot;: 50, &quot;material_quantity&quot;: 1964.0, &quot;start_lat&quot;: 52.2383476762, &quot;start_lon&quot;: 6.6168951738}, {&quot;digester_number&quot;: 7, &quot;end_lat&quot;: 52.293252796009206, &quot;end_lon&quot;: 6.562650538497745, &quot;farm_number&quot;: 51, &quot;material_quantity&quot;: 4990.0, &quot;start_lat&quot;: 52.2835425995, &quot;start_lon&quot;: 6.6671784754}, {&quot;digester_number&quot;: 7, &quot;end_lat&quot;: 52.293252796009206, &quot;end_lon&quot;: 6.562650538497745, &quot;farm_number&quot;: 53, &quot;material_quantity&quot;: 7738.0, &quot;start_lat&quot;: 52.1975195779, &quot;start_lon&quot;: 6.5464240813}, {&quot;digester_number&quot;: 7, &quot;end_lat&quot;: 52.293252796009206, &quot;end_lon&quot;: 6.562650538497745, &quot;farm_number&quot;: 54, &quot;material_quantity&quot;: 7418.0, &quot;start_lat&quot;: 52.2030059672, &quot;start_lon&quot;: 6.5795146117}, {&quot;digester_number&quot;: 7, &quot;end_lat&quot;: 52.293252796009206, &quot;end_lon&quot;: 6.562650538497745, &quot;farm_number&quot;: 56, &quot;material_quantity&quot;: 5790.0, &quot;start_lat&quot;: 52.2796283109, &quot;start_lon&quot;: 6.4625100501}, {&quot;digester_number&quot;: 7, &quot;end_lat&quot;: 52.293252796009206, &quot;end_lon&quot;: 6.562650538497745, &quot;farm_number&quot;: 60, &quot;material_quantity&quot;: 3700.0, &quot;start_lat&quot;: 52.224009363, &quot;start_lon&quot;: 6.595124471}, {&quot;digester_number&quot;: 7, &quot;end_lat&quot;: 52.293252796009206, &quot;end_lon&quot;: 6.562650538497745, &quot;farm_number&quot;: 64, &quot;material_quantity&quot;: 6363.0, &quot;start_lat&quot;: 52.3546416327, &quot;start_lon&quot;: 6.6811735726}, {&quot;digester_number&quot;: 7, &quot;end_lat&quot;: 52.293252796009206, &quot;end_lon&quot;: 6.562650538497745, &quot;farm_number&quot;: 65, &quot;material_quantity&quot;: 7989.0, &quot;start_lat&quot;: 52.351974479, &quot;start_lon&quot;: 6.6348865653}, {&quot;digester_number&quot;: 7, &quot;end_lat&quot;: 52.293252796009206, &quot;end_lon&quot;: 6.562650538497745, &quot;farm_number&quot;: 66, &quot;material_quantity&quot;: 9201.0, &quot;start_lat&quot;: 52.3545992484, &quot;start_lon&quot;: 6.6442232598}, {&quot;digester_number&quot;: 7, &quot;end_lat&quot;: 52.293252796009206, &quot;end_lon&quot;: 6.562650538497745, &quot;farm_number&quot;: 95, &quot;material_quantity&quot;: 470.0, &quot;start_lat&quot;: 52.2342795716, &quot;start_lon&quot;: 6.4986911687}, {&quot;digester_number&quot;: 7, &quot;end_lat&quot;: 52.293252796009206, &quot;end_lon&quot;: 6.562650538497745, &quot;farm_number&quot;: 97, &quot;material_quantity&quot;: 1401.0, &quot;start_lat&quot;: 52.2370549954, &quot;start_lon&quot;: 6.5899990584}, {&quot;digester_number&quot;: 7, &quot;end_lat&quot;: 52.293252796009206, &quot;end_lon&quot;: 6.562650538497745, &quot;farm_number&quot;: 98, &quot;material_quantity&quot;: 6758.0, &quot;start_lat&quot;: 52.2353616483, &quot;start_lon&quot;: 6.5883569762}, {&quot;digester_number&quot;: 7, &quot;end_lat&quot;: 52.293252796009206, &quot;end_lon&quot;: 6.562650538497745, &quot;farm_number&quot;: 100, &quot;material_quantity&quot;: 3123.0, &quot;start_lat&quot;: 52.2937525266, &quot;start_lon&quot;: 6.5632241071}, {&quot;digester_number&quot;: 7, &quot;end_lat&quot;: 52.293252796009206, &quot;end_lon&quot;: 6.562650538497745, &quot;farm_number&quot;: 116, &quot;material_quantity&quot;: 3339.0, &quot;start_lat&quot;: 52.2922080713, &quot;start_lon&quot;: 6.5630659972}, {&quot;digester_number&quot;: 7, &quot;end_lat&quot;: 52.293252796009206, &quot;end_lon&quot;: 6.562650538497745, &quot;farm_number&quot;: 118, &quot;material_quantity&quot;: 4455.0, &quot;start_lat&quot;: 52.3294213467, &quot;start_lon&quot;: 6.5485093641}, {&quot;digester_number&quot;: 7, &quot;end_lat&quot;: 52.293252796009206, &quot;end_lon&quot;: 6.562650538497745, &quot;farm_number&quot;: 119, &quot;material_quantity&quot;: 7809.0, &quot;start_lat&quot;: 52.309443684, &quot;start_lon&quot;: 6.5553390127}, {&quot;digester_number&quot;: 7, &quot;end_lat&quot;: 52.293252796009206, &quot;end_lon&quot;: 6.562650538497745, &quot;farm_number&quot;: 120, &quot;material_quantity&quot;: 1073.0, &quot;start_lat&quot;: 52.2199724941, &quot;start_lon&quot;: 6.5913239804}, {&quot;digester_number&quot;: 7, &quot;end_lat&quot;: 52.293252796009206, &quot;end_lon&quot;: 6.562650538497745, &quot;farm_number&quot;: 136, &quot;material_quantity&quot;: 6660.0, &quot;start_lat&quot;: 52.2942028929, &quot;start_lon&quot;: 6.7072739649}, {&quot;digester_number&quot;: 7, &quot;end_lat&quot;: 52.293252796009206, &quot;end_lon&quot;: 6.562650538497745, &quot;farm_number&quot;: 138, &quot;material_quantity&quot;: 5988.0, &quot;start_lat&quot;: 52.267548018, &quot;start_lon&quot;: 6.6421507164}, {&quot;digester_number&quot;: 7, &quot;end_lat&quot;: 52.293252796009206, &quot;end_lon&quot;: 6.562650538497745, &quot;farm_number&quot;: 139, &quot;material_quantity&quot;: 4814.0, &quot;start_lat&quot;: 52.2370784863, &quot;start_lon&quot;: 6.6277506676}], &quot;getSourceColor&quot;: [0, 255, 0, 160], &quot;getSourcePosition&quot;: &quot;@@=[start_lon, start_lat]&quot;, &quot;getTargetColor&quot;: [255, 0, 0, 160], &quot;getTargetPosition&quot;: &quot;@@=[end_lon, end_lat]&quot;, &quot;getWidth&quot;: 2, &quot;id&quot;: &quot;1483e580-18bd-4040-b953-06c9857cbecb&quot;, &quot;pickable&quot;: true}], &quot;mapProvider&quot;: &quot;carto&quot;, &quot;mapStyle&quot;: &quot;mapbox://styles/mapbox/outdoors-v12&quot;, &quot;views&quot;: [{&quot;@@type&quot;: &quot;MapView&quot;, &quot;controller&quot;: true}]};\n",
       "    const tooltip = true;\n",
       "    const customLibraries = null;\n",
       "\n",
       "    const deckInstance = createDeck({\n",
       "                  container: document.getElementById(&#x27;deck-container&#x27;),\n",
       "      jsonInput,\n",
       "      tooltip,\n",
       "      customLibraries\n",
       "    });\n",
       "\n",
       "  &lt;/script&gt;\n",
       "&lt;/html&gt;\"\n",
       "        ></iframe>\n",
       "    "
      ],
      "text/plain": [
       "<IPython.core.display.HTML object>"
      ]
     },
     "execution_count": 23,
     "metadata": {},
     "output_type": "execute_result"
    }
   ],
   "source": [
    "digester_layer = pdk.Layer(type='ScatterplotLayer',\n",
    "                        data=loi_gdf,\n",
    "                        get_position=['x', 'y'],\n",
    "                        get_radius=800,\n",
    "                        get_fill_color='color',\n",
    "                        pickable=True,\n",
    "                        auto_highlight=True, \n",
    "                        get_line_color=[255, 255, 255],\n",
    "                        get_line_width=3)\n",
    "farm_layer = pdk.Layer(type='ScatterplotLayer',\n",
    "                    data=farm,\n",
    "                    get_position=['x', 'y'],\n",
    "                    get_radius=300,\n",
    "                                get_fill_color='color',\n",
    "                                get_line_color=[0, 0, 0],\n",
    "                                pickable=False,\n",
    "                                auto_highlight=True)\n",
    "loi_gdf['name'] = loi_gdf.index.astype(str)\n",
    "digester_label_layer = pdk.Layer(\n",
    "    \"TextLayer\",\n",
    "    loi_gdf,\n",
    "    pickable=True,\n",
    "    get_position=['x', 'y'],\n",
    "    get_text=\"name\",\n",
    "    get_size=18,\n",
    "    get_color=[255,255,255],\n",
    "    get_angle=0,\n",
    "# Note that string constants in pydeck are explicitly passed as strings\n",
    "# This distinguishes them from columns in a data set\n",
    "get_text_anchor=String(\"middle\"),\n",
    "get_alignment_baseline=String(\"center\"))\n",
    "\n",
    "\n",
    "arc_layer = pdk.Layer(\n",
    "    'ArcLayer',\n",
    "    data=arc_layer_df,\n",
    "    get_width=2,          # Width of the arcs\n",
    "    get_source_position=['start_lon', 'start_lat'],\n",
    "    get_target_position=['end_lon', 'end_lat'],\n",
    "    get_source_color=[0, 255, 0, 160],   # RGBA color of the starting points\n",
    "    get_target_color=[255, 0, 0, 160],   # RGBA color of the ending points\n",
    "    pickable=True,\n",
    "    auto_highlight=True\n",
    ")\n",
    "view_state=pdk.ViewState(\n",
    "    latitude=loi_gdf['y'].mean(),\n",
    "    longitude=loi_gdf['x'].mean(),\n",
    "    zoom=9,\n",
    "    )\n",
    "deck = pdk.Deck(\n",
    "    layers=[farm_layer, digester_layer, digester_label_layer, arc_layer],\n",
    "    initial_view_state=view_state, \n",
    "    map_style= 'mapbox://styles/mapbox/outdoors-v12'\n",
    "    )\n",
    "deck.to_html('optimization.html')\n"
   ]
  }
 ],
 "metadata": {
  "kernelspec": {
   "display_name": "scip",
   "language": "python",
   "name": "python3"
  },
  "language_info": {
   "codemirror_mode": {
    "name": "ipython",
    "version": 3
   },
   "file_extension": ".py",
   "mimetype": "text/x-python",
   "name": "python",
   "nbconvert_exporter": "python",
   "pygments_lexer": "ipython3",
   "version": "3.8.18"
  }
 },
 "nbformat": 4,
 "nbformat_minor": 2
}
