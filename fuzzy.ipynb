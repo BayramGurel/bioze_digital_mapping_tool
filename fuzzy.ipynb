{
 "cells": [
  {
   "cell_type": "markdown",
   "metadata": {},
   "source": [
    "# Fuzzy Suitability Analysis"
   ]
  },
  {
   "cell_type": "code",
   "execution_count": 47,
   "metadata": {},
   "outputs": [],
   "source": [
    "import geopandas as gpd\n",
    "import pandas as pd\n",
    "import rasterio\n",
    "from rasterio.plot import show\n",
    "from shapely.geometry import Point\n",
    "import skfuzzy as fuzz\n",
    "from skfuzzy import control as ctrl\n",
    "from rasterio.enums import Resampling\n",
    "import numpy as np\n",
    "\n",
    "from rasterio.features import geometry_mask\n",
    "from scipy.spatial import distance\n",
    "import matplotlib.pyplot as plt\n",
    "from matplotlib.colors import Normalize"
   ]
  },
  {
   "cell_type": "markdown",
   "metadata": {},
   "source": [
    "### Load data"
   ]
  },
  {
   "cell_type": "code",
   "execution_count": 77,
   "metadata": {},
   "outputs": [
    {
     "data": {
      "text/html": [
       "<div>\n",
       "<style scoped>\n",
       "    .dataframe tbody tr th:only-of-type {\n",
       "        vertical-align: middle;\n",
       "    }\n",
       "\n",
       "    .dataframe tbody tr th {\n",
       "        vertical-align: top;\n",
       "    }\n",
       "\n",
       "    .dataframe thead th {\n",
       "        text-align: right;\n",
       "    }\n",
       "</style>\n",
       "<table border=\"1\" class=\"dataframe\">\n",
       "  <thead>\n",
       "    <tr style=\"text-align: right;\">\n",
       "      <th></th>\n",
       "      <th>IND_OBJ_KE</th>\n",
       "      <th>IND_WAARDE</th>\n",
       "      <th>IND_WAARD0</th>\n",
       "      <th>IND_OBJ_AA</th>\n",
       "      <th>IND_OBJ_NA</th>\n",
       "      <th>IND_OBJ_BE</th>\n",
       "      <th>IND_OBJ_GR</th>\n",
       "      <th>IND_PERIOD</th>\n",
       "      <th>IND_THEMA</th>\n",
       "      <th>IND_CULT_D</th>\n",
       "      <th>OBJECTID</th>\n",
       "      <th>geometry</th>\n",
       "    </tr>\n",
       "  </thead>\n",
       "  <tbody>\n",
       "    <tr>\n",
       "      <th>0</th>\n",
       "      <td>driebeukig gebouw, ankerbalkgebint, stallen aa...</td>\n",
       "      <td>Rijksbeschermd</td>\n",
       "      <td>NaN</td>\n",
       "      <td>Ja</td>\n",
       "      <td>507920</td>\n",
       "      <td>hallehuisgroep (hallehuis - dwarshuistype)</td>\n",
       "      <td>boerderijtypen</td>\n",
       "      <td>moderne tijd</td>\n",
       "      <td>landbouw</td>\n",
       "      <td>Gebouwd erfgoed</td>\n",
       "      <td>557.0</td>\n",
       "      <td>POINT (249005.828 481581.281)</td>\n",
       "    </tr>\n",
       "    <tr>\n",
       "      <th>1</th>\n",
       "      <td>driebeukig gebouw, ankerbalkgebint, stallen aa...</td>\n",
       "      <td>Rijksbeschermd</td>\n",
       "      <td>NaN</td>\n",
       "      <td>Ja</td>\n",
       "      <td>507950</td>\n",
       "      <td>hallehuisgroep (hallehuis - dwarshuistype)</td>\n",
       "      <td>boerderijtypen</td>\n",
       "      <td>moderne tijd</td>\n",
       "      <td>landbouw</td>\n",
       "      <td>Gebouwd erfgoed</td>\n",
       "      <td>558.0</td>\n",
       "      <td>POINT (253627.284 494018.877)</td>\n",
       "    </tr>\n",
       "    <tr>\n",
       "      <th>2</th>\n",
       "      <td>driebeukig gebouw, ankerbalkgebint, stallen aa...</td>\n",
       "      <td>Rijksbeschermd</td>\n",
       "      <td>NaN</td>\n",
       "      <td>Ja</td>\n",
       "      <td>507953</td>\n",
       "      <td>hallehuisgroep (hallehuis - dwarshuistype)</td>\n",
       "      <td>boerderijtypen</td>\n",
       "      <td>moderne tijd</td>\n",
       "      <td>landbouw</td>\n",
       "      <td>Gebouwd erfgoed</td>\n",
       "      <td>559.0</td>\n",
       "      <td>POINT (255218.985 489726.124)</td>\n",
       "    </tr>\n",
       "    <tr>\n",
       "      <th>3</th>\n",
       "      <td>driebeukig gebouw, ankerbalkgebint, stallen aa...</td>\n",
       "      <td>Rijksbeschermd</td>\n",
       "      <td>NaN</td>\n",
       "      <td>Ja</td>\n",
       "      <td>507962</td>\n",
       "      <td>hallehuisgroep (hallehuisboerderij)</td>\n",
       "      <td>boerderijtypen</td>\n",
       "      <td>moderne tijd</td>\n",
       "      <td>landbouw</td>\n",
       "      <td>Gebouwd erfgoed</td>\n",
       "      <td>560.0</td>\n",
       "      <td>POINT (247910.764 494942.485)</td>\n",
       "    </tr>\n",
       "    <tr>\n",
       "      <th>4</th>\n",
       "      <td>driebeukig gebouw, ankerbalkgebint, stallen aa...</td>\n",
       "      <td>Rijksbeschermd</td>\n",
       "      <td>NaN</td>\n",
       "      <td>Ja</td>\n",
       "      <td>507964</td>\n",
       "      <td>hallehuisgroep (t-huisboerderij)</td>\n",
       "      <td>boerderijtypen</td>\n",
       "      <td>moderne tijd</td>\n",
       "      <td>landbouw</td>\n",
       "      <td>Gebouwd erfgoed</td>\n",
       "      <td>561.0</td>\n",
       "      <td>POINT (229912.777 473407.567)</td>\n",
       "    </tr>\n",
       "  </tbody>\n",
       "</table>\n",
       "</div>"
      ],
      "text/plain": [
       "                                          IND_OBJ_KE      IND_WAARDE  \\\n",
       "0  driebeukig gebouw, ankerbalkgebint, stallen aa...  Rijksbeschermd   \n",
       "1  driebeukig gebouw, ankerbalkgebint, stallen aa...  Rijksbeschermd   \n",
       "2  driebeukig gebouw, ankerbalkgebint, stallen aa...  Rijksbeschermd   \n",
       "3  driebeukig gebouw, ankerbalkgebint, stallen aa...  Rijksbeschermd   \n",
       "4  driebeukig gebouw, ankerbalkgebint, stallen aa...  Rijksbeschermd   \n",
       "\n",
       "   IND_WAARD0 IND_OBJ_AA IND_OBJ_NA  \\\n",
       "0         NaN         Ja     507920   \n",
       "1         NaN         Ja     507950   \n",
       "2         NaN         Ja     507953   \n",
       "3         NaN         Ja     507962   \n",
       "4         NaN         Ja     507964   \n",
       "\n",
       "                                   IND_OBJ_BE      IND_OBJ_GR    IND_PERIOD  \\\n",
       "0  hallehuisgroep (hallehuis - dwarshuistype)  boerderijtypen  moderne tijd   \n",
       "1  hallehuisgroep (hallehuis - dwarshuistype)  boerderijtypen  moderne tijd   \n",
       "2  hallehuisgroep (hallehuis - dwarshuistype)  boerderijtypen  moderne tijd   \n",
       "3         hallehuisgroep (hallehuisboerderij)  boerderijtypen  moderne tijd   \n",
       "4            hallehuisgroep (t-huisboerderij)  boerderijtypen  moderne tijd   \n",
       "\n",
       "  IND_THEMA       IND_CULT_D  OBJECTID                       geometry  \n",
       "0  landbouw  Gebouwd erfgoed     557.0  POINT (249005.828 481581.281)  \n",
       "1  landbouw  Gebouwd erfgoed     558.0  POINT (253627.284 494018.877)  \n",
       "2  landbouw  Gebouwd erfgoed     559.0  POINT (255218.985 489726.124)  \n",
       "3  landbouw  Gebouwd erfgoed     560.0  POINT (247910.764 494942.485)  \n",
       "4  landbouw  Gebouwd erfgoed     561.0  POINT (229912.777 473407.567)  "
      ]
     },
     "execution_count": 77,
     "metadata": {},
     "output_type": "execute_result"
    }
   ],
   "source": [
    "farm = gpd.read_file(r\"./farm/farm_modern.shp\")\n",
    "farm.head()"
   ]
  },
  {
   "cell_type": "code",
   "execution_count": 49,
   "metadata": {},
   "outputs": [
    {
     "data": {
      "text/html": [
       "<div>\n",
       "<style scoped>\n",
       "    .dataframe tbody tr th:only-of-type {\n",
       "        vertical-align: middle;\n",
       "    }\n",
       "\n",
       "    .dataframe tbody tr th {\n",
       "        vertical-align: top;\n",
       "    }\n",
       "\n",
       "    .dataframe thead th {\n",
       "        text-align: right;\n",
       "    }\n",
       "</style>\n",
       "<table border=\"1\" class=\"dataframe\">\n",
       "  <thead>\n",
       "    <tr style=\"text-align: right;\">\n",
       "      <th></th>\n",
       "      <th>u</th>\n",
       "      <th>v</th>\n",
       "      <th>key</th>\n",
       "      <th>highway</th>\n",
       "      <th>geometry</th>\n",
       "    </tr>\n",
       "  </thead>\n",
       "  <tbody>\n",
       "    <tr>\n",
       "      <th>0</th>\n",
       "      <td>0</td>\n",
       "      <td>1</td>\n",
       "      <td>0</td>\n",
       "      <td>primary</td>\n",
       "      <td>LINESTRING (732329.118 6863326.894, 732282.965...</td>\n",
       "    </tr>\n",
       "    <tr>\n",
       "      <th>1</th>\n",
       "      <td>0</td>\n",
       "      <td>2</td>\n",
       "      <td>0</td>\n",
       "      <td>primary</td>\n",
       "      <td>LINESTRING (732329.118 6863326.894, 732424.976...</td>\n",
       "    </tr>\n",
       "    <tr>\n",
       "      <th>2</th>\n",
       "      <td>1</td>\n",
       "      <td>0</td>\n",
       "      <td>0</td>\n",
       "      <td>primary</td>\n",
       "      <td>LINESTRING (732029.302 6862992.539, 732169.520...</td>\n",
       "    </tr>\n",
       "    <tr>\n",
       "      <th>3</th>\n",
       "      <td>1</td>\n",
       "      <td>491</td>\n",
       "      <td>0</td>\n",
       "      <td>primary</td>\n",
       "      <td>LINESTRING (732029.302 6862992.539, 731998.678...</td>\n",
       "    </tr>\n",
       "    <tr>\n",
       "      <th>4</th>\n",
       "      <td>2</td>\n",
       "      <td>3</td>\n",
       "      <td>0</td>\n",
       "      <td>motorway_link</td>\n",
       "      <td>LINESTRING (732826.405 6863768.536, 732776.088...</td>\n",
       "    </tr>\n",
       "  </tbody>\n",
       "</table>\n",
       "</div>"
      ],
      "text/plain": [
       "   u    v  key        highway  \\\n",
       "0  0    1    0        primary   \n",
       "1  0    2    0        primary   \n",
       "2  1    0    0        primary   \n",
       "3  1  491    0        primary   \n",
       "4  2    3    0  motorway_link   \n",
       "\n",
       "                                            geometry  \n",
       "0  LINESTRING (732329.118 6863326.894, 732282.965...  \n",
       "1  LINESTRING (732329.118 6863326.894, 732424.976...  \n",
       "2  LINESTRING (732029.302 6862992.539, 732169.520...  \n",
       "3  LINESTRING (732029.302 6862992.539, 731998.678...  \n",
       "4  LINESTRING (732826.405 6863768.536, 732776.088...  "
      ]
     },
     "execution_count": 49,
     "metadata": {},
     "output_type": "execute_result"
    }
   ],
   "source": [
    "road = gpd.read_file(r\"./osm_network/G_e.shp\")\n",
    "road.head()"
   ]
  },
  {
   "cell_type": "code",
   "execution_count": 50,
   "metadata": {},
   "outputs": [],
   "source": [
    "road = road.to_crs(\"EPSG:28992\")"
   ]
  },
  {
   "cell_type": "code",
   "execution_count": 51,
   "metadata": {},
   "outputs": [],
   "source": [
    "lu = rasterio.open(r'./raster/agri_clip.tif')"
   ]
  },
  {
   "cell_type": "code",
   "execution_count": 52,
   "metadata": {},
   "outputs": [
    {
     "data": {
      "image/png": "[encoded data removed]",
      "text/plain": [
       "<Figure size 640x480 with 1 Axes>"
      ]
     },
     "metadata": {},
     "output_type": "display_data"
    },
    {
     "data": {
      "text/plain": [
       "<Axes: >"
      ]
     },
     "execution_count": 52,
     "metadata": {},
     "output_type": "execute_result"
    }
   ],
   "source": [
    "show(lu)"
   ]
  },
  {
   "cell_type": "code",
   "execution_count": 53,
   "metadata": {},
   "outputs": [
    {
     "data": {
      "text/plain": [
       "1"
      ]
     },
     "execution_count": 53,
     "metadata": {},
     "output_type": "execute_result"
    }
   ],
   "source": [
    "lu.count"
   ]
  },
  {
   "cell_type": "code",
   "execution_count": 54,
   "metadata": {},
   "outputs": [
    {
     "name": "stdout",
     "output_type": "stream",
     "text": [
      "768 644\n"
     ]
    }
   ],
   "source": [
    "print(lu.width, lu.height)"
   ]
  },
  {
   "cell_type": "code",
   "execution_count": 55,
   "metadata": {},
   "outputs": [
    {
     "data": {
      "text/plain": [
       "(1,)"
      ]
     },
     "execution_count": 55,
     "metadata": {},
     "output_type": "execute_result"
    }
   ],
   "source": [
    "lu.indexes"
   ]
  },
  {
   "cell_type": "code",
   "execution_count": 56,
   "metadata": {},
   "outputs": [
    {
     "data": {
      "text/plain": [
       "array([[0, 0, 0, ..., 0, 0, 0],\n",
       "       [0, 0, 0, ..., 0, 0, 0],\n",
       "       [0, 0, 0, ..., 0, 0, 0],\n",
       "       ...,\n",
       "       [0, 0, 0, ..., 0, 0, 0],\n",
       "       [0, 0, 0, ..., 0, 0, 0],\n",
       "       [0, 0, 0, ..., 0, 0, 0]], dtype=uint8)"
      ]
     },
     "execution_count": 56,
     "metadata": {},
     "output_type": "execute_result"
    }
   ],
   "source": [
    "band1 = lu.read(1)\n",
    "band1"
   ]
  },
  {
   "cell_type": "code",
   "execution_count": 57,
   "metadata": {},
   "outputs": [
    {
     "data": {
      "text/plain": [
       "4"
      ]
     },
     "execution_count": 57,
     "metadata": {},
     "output_type": "execute_result"
    }
   ],
   "source": [
    "band1[lu.height // 2, lu.width // 2]"
   ]
  },
  {
   "cell_type": "code",
   "execution_count": 24,
   "metadata": {},
   "outputs": [
    {
     "data": {
      "text/plain": [
       "{'driver': 'GTiff',\n",
       " 'dtype': 'uint8',\n",
       " 'nodata': 0.0,\n",
       " 'width': 768,\n",
       " 'height': 644,\n",
       " 'count': 1,\n",
       " 'crs': CRS.from_epsg(28992),\n",
       " 'transform': Affine(10.0, 0.0, 243799.6719999984,\n",
       "        0.0, -10.0, 484538.0309999995)}"
      ]
     },
     "execution_count": 24,
     "metadata": {},
     "output_type": "execute_result"
    }
   ],
   "source": [
    "lu.meta"
   ]
  },
  {
   "cell_type": "code",
   "execution_count": 64,
   "metadata": {},
   "outputs": [],
   "source": [
    "# Load raster data\n",
    "with rasterio.open(r'./raster/agri_clip.tif') as src:\n",
    "    LU = src.read(1)  # Assuming it is a single band raster"
   ]
  },
  {
   "cell_type": "code",
   "execution_count": 68,
   "metadata": {},
   "outputs": [
    {
     "data": {
      "text/plain": [
       "(644, 768)"
      ]
     },
     "execution_count": 68,
     "metadata": {},
     "output_type": "execute_result"
    }
   ],
   "source": [
    "LU.shape"
   ]
  },
  {
   "cell_type": "markdown",
   "metadata": {},
   "source": [
    "### Calculate distances"
   ]
  },
  {
   "cell_type": "code",
   "execution_count": 26,
   "metadata": {},
   "outputs": [],
   "source": [
    "# # Convert shapefile points to a format that can be used for distance calculations\n",
    "# points = [(x, y) for x, y in zip(farm.geometry.x, farm.geometry.y)]"
   ]
  },
  {
   "cell_type": "code",
   "execution_count": 28,
   "metadata": {},
   "outputs": [],
   "source": [
    "# # Generate a mask for the raster\n",
    "# raster_mask = geometry_mask(farm.geometry, out_shape=lu.shape, transform=lu.transform, invert=True)"
   ]
  },
  {
   "cell_type": "code",
   "execution_count": 69,
   "metadata": {},
   "outputs": [],
   "source": [
    "# Initialize an empty array to store the distances\n",
    "distances_farm = np.ones_like(LU) * np.inf"
   ]
  },
  {
   "cell_type": "code",
   "execution_count": 78,
   "metadata": {},
   "outputs": [
    {
     "ename": "KeyboardInterrupt",
     "evalue": "",
     "output_type": "error",
     "traceback": [
      "\u001b[0;31m---------------------------------------------------------------------------\u001b[0m",
      "\u001b[0;31mKeyboardInterrupt\u001b[0m                         Traceback (most recent call last)",
      "\u001b[1;32m/Users/wenyuc/Desktop/UT/bioze_digital_mapping_tool/fuzzy.ipynb Cell 21\u001b[0m line \u001b[0;36m8\n\u001b[1;32m      <a href='vscode-notebook-cell:/Users/wenyuc/Desktop/UT/bioze_digital_mapping_tool/fuzzy.ipynb#X40sZmlsZQ%3D%3D?line=4'>5</a>\u001b[0m point \u001b[39m=\u001b[39m Point(cell_center)\n\u001b[1;32m      <a href='vscode-notebook-cell:/Users/wenyuc/Desktop/UT/bioze_digital_mapping_tool/fuzzy.ipynb#X40sZmlsZQ%3D%3D?line=6'>7</a>\u001b[0m \u001b[39m# Calculate distances to farms\u001b[39;00m\n\u001b[0;32m----> <a href='vscode-notebook-cell:/Users/wenyuc/Desktop/UT/bioze_digital_mapping_tool/fuzzy.ipynb#X40sZmlsZQ%3D%3D?line=7'>8</a>\u001b[0m \u001b[39mfor\u001b[39;00m _, f \u001b[39min\u001b[39;00m farm\u001b[39m.\u001b[39miterrows():\n\u001b[1;32m      <a href='vscode-notebook-cell:/Users/wenyuc/Desktop/UT/bioze_digital_mapping_tool/fuzzy.ipynb#X40sZmlsZQ%3D%3D?line=8'>9</a>\u001b[0m     distance \u001b[39m=\u001b[39m point\u001b[39m.\u001b[39mdistance(f\u001b[39m.\u001b[39mgeometry)\n\u001b[1;32m     <a href='vscode-notebook-cell:/Users/wenyuc/Desktop/UT/bioze_digital_mapping_tool/fuzzy.ipynb#X40sZmlsZQ%3D%3D?line=9'>10</a>\u001b[0m     \u001b[39mif\u001b[39;00m distance \u001b[39m<\u001b[39m distances_farm[row, col]:\n",
      "File \u001b[0;32m~/opt/anaconda3/envs/bioze/lib/python3.11/site-packages/pandas/core/frame.py:1453\u001b[0m, in \u001b[0;36mDataFrame.iterrows\u001b[0;34m(self)\u001b[0m\n\u001b[1;32m   1451\u001b[0m using_cow \u001b[39m=\u001b[39m using_copy_on_write()\n\u001b[1;32m   1452\u001b[0m \u001b[39mfor\u001b[39;00m k, v \u001b[39min\u001b[39;00m \u001b[39mzip\u001b[39m(\u001b[39mself\u001b[39m\u001b[39m.\u001b[39mindex, \u001b[39mself\u001b[39m\u001b[39m.\u001b[39mvalues):\n\u001b[0;32m-> 1453\u001b[0m     s \u001b[39m=\u001b[39m klass(v, index\u001b[39m=\u001b[39mcolumns, name\u001b[39m=\u001b[39mk)\u001b[39m.\u001b[39m__finalize__(\u001b[39mself\u001b[39m)\n\u001b[1;32m   1454\u001b[0m     \u001b[39mif\u001b[39;00m using_cow \u001b[39mand\u001b[39;00m \u001b[39mself\u001b[39m\u001b[39m.\u001b[39m_mgr\u001b[39m.\u001b[39mis_single_block:\n\u001b[1;32m   1455\u001b[0m         s\u001b[39m.\u001b[39m_mgr\u001b[39m.\u001b[39madd_references(\u001b[39mself\u001b[39m\u001b[39m.\u001b[39m_mgr)  \u001b[39m# type: ignore[arg-type]\u001b[39;00m\n",
      "File \u001b[0;32m~/opt/anaconda3/envs/bioze/lib/python3.11/site-packages/geopandas/geodataframe.py:1645\u001b[0m, in \u001b[0;36mGeoDataFrame._constructor_sliced.<locals>._geodataframe_constructor_sliced\u001b[0;34m(*args, **kwargs)\u001b[0m\n\u001b[1;32m   1629\u001b[0m \u001b[39mdef\u001b[39;00m \u001b[39m_geodataframe_constructor_sliced\u001b[39m(\u001b[39m*\u001b[39margs, \u001b[39m*\u001b[39m\u001b[39m*\u001b[39mkwargs):\n\u001b[1;32m   1630\u001b[0m \u001b[39m    \u001b[39m\u001b[39m\"\"\"\u001b[39;00m\n\u001b[1;32m   1631\u001b[0m \u001b[39m    A specialized (Geo)Series constructor which can fall back to a\u001b[39;00m\n\u001b[1;32m   1632\u001b[0m \u001b[39m    Series if a certain operation does not produce geometries:\u001b[39;00m\n\u001b[0;32m   (...)\u001b[0m\n\u001b[1;32m   1643\u001b[0m \u001b[39m      checking the identity of the index)\u001b[39;00m\n\u001b[1;32m   1644\u001b[0m \u001b[39m    \"\"\"\u001b[39;00m\n\u001b[0;32m-> 1645\u001b[0m     srs \u001b[39m=\u001b[39m pd\u001b[39m.\u001b[39mSeries(\u001b[39m*\u001b[39margs, \u001b[39m*\u001b[39m\u001b[39m*\u001b[39mkwargs)\n\u001b[1;32m   1646\u001b[0m     is_row_proxy \u001b[39m=\u001b[39m srs\u001b[39m.\u001b[39mindex \u001b[39mis\u001b[39;00m \u001b[39mself\u001b[39m\u001b[39m.\u001b[39mcolumns\n\u001b[1;32m   1647\u001b[0m     \u001b[39mif\u001b[39;00m is_geometry_type(srs) \u001b[39mand\u001b[39;00m \u001b[39mnot\u001b[39;00m is_row_proxy:\n",
      "File \u001b[0;32m~/opt/anaconda3/envs/bioze/lib/python3.11/site-packages/pandas/core/series.py:521\u001b[0m, in \u001b[0;36mSeries.__init__\u001b[0;34m(self, data, index, dtype, name, copy, fastpath)\u001b[0m\n\u001b[1;32m    518\u001b[0m         data \u001b[39m=\u001b[39m SingleArrayManager\u001b[39m.\u001b[39mfrom_array(data, index)\n\u001b[1;32m    520\u001b[0m NDFrame\u001b[39m.\u001b[39m\u001b[39m__init__\u001b[39m(\u001b[39mself\u001b[39m, data)\n\u001b[0;32m--> 521\u001b[0m \u001b[39mself\u001b[39m\u001b[39m.\u001b[39mname \u001b[39m=\u001b[39m name\n\u001b[1;32m    522\u001b[0m \u001b[39mself\u001b[39m\u001b[39m.\u001b[39m_set_axis(\u001b[39m0\u001b[39m, index)\n",
      "File \u001b[0;32m~/opt/anaconda3/envs/bioze/lib/python3.11/site-packages/pandas/core/generic.py:6225\u001b[0m, in \u001b[0;36mNDFrame.__setattr__\u001b[0;34m(self, name, value)\u001b[0m\n\u001b[1;32m   6222\u001b[0m \u001b[39m# if this fails, go on to more involved attribute setting\u001b[39;00m\n\u001b[1;32m   6223\u001b[0m \u001b[39m# (note that this matches __getattr__, above).\u001b[39;00m\n\u001b[1;32m   6224\u001b[0m \u001b[39mif\u001b[39;00m name \u001b[39min\u001b[39;00m \u001b[39mself\u001b[39m\u001b[39m.\u001b[39m_internal_names_set:\n\u001b[0;32m-> 6225\u001b[0m     \u001b[39mobject\u001b[39m\u001b[39m.\u001b[39m\u001b[39m__setattr__\u001b[39m(\u001b[39mself\u001b[39m, name, value)\n\u001b[1;32m   6226\u001b[0m \u001b[39melif\u001b[39;00m name \u001b[39min\u001b[39;00m \u001b[39mself\u001b[39m\u001b[39m.\u001b[39m_metadata:\n\u001b[1;32m   6227\u001b[0m     \u001b[39mobject\u001b[39m\u001b[39m.\u001b[39m\u001b[39m__setattr__\u001b[39m(\u001b[39mself\u001b[39m, name, value)\n",
      "File \u001b[0;32m~/opt/anaconda3/envs/bioze/lib/python3.11/site-packages/pandas/core/series.py:703\u001b[0m, in \u001b[0;36mSeries.name\u001b[0;34m(self, value)\u001b[0m\n\u001b[1;32m    655\u001b[0m \u001b[39m    \u001b[39m\u001b[39m\"\"\"\u001b[39;00m\n\u001b[1;32m    656\u001b[0m \u001b[39m    Return the name of the Series.\u001b[39;00m\n\u001b[1;32m    657\u001b[0m \n\u001b[0;32m   (...)\u001b[0m\n\u001b[1;32m    699\u001b[0m \u001b[39m    'Even Numbers'\u001b[39;00m\n\u001b[1;32m    700\u001b[0m \u001b[39m    \"\"\"\u001b[39;00m\n\u001b[1;32m    701\u001b[0m     \u001b[39mreturn\u001b[39;00m \u001b[39mself\u001b[39m\u001b[39m.\u001b[39m_name\n\u001b[0;32m--> 703\u001b[0m \u001b[39m@name\u001b[39m\u001b[39m.\u001b[39msetter\n\u001b[1;32m    704\u001b[0m \u001b[39mdef\u001b[39;00m \u001b[39mname\u001b[39m(\u001b[39mself\u001b[39m, value: Hashable) \u001b[39m-\u001b[39m\u001b[39m>\u001b[39m \u001b[39mNone\u001b[39;00m:\n\u001b[1;32m    705\u001b[0m     validate_all_hashable(value, error_name\u001b[39m=\u001b[39m\u001b[39mf\u001b[39m\u001b[39m\"\u001b[39m\u001b[39m{\u001b[39;00m\u001b[39mtype\u001b[39m(\u001b[39mself\u001b[39m)\u001b[39m.\u001b[39m\u001b[39m__name__\u001b[39m\u001b[39m}\u001b[39;00m\u001b[39m.name\u001b[39m\u001b[39m\"\u001b[39m)\n\u001b[1;32m    706\u001b[0m     \u001b[39mobject\u001b[39m\u001b[39m.\u001b[39m\u001b[39m__setattr__\u001b[39m(\u001b[39mself\u001b[39m, \u001b[39m\"\u001b[39m\u001b[39m_name\u001b[39m\u001b[39m\"\u001b[39m, value)\n",
      "\u001b[0;31mKeyboardInterrupt\u001b[0m: "
     ]
    }
   ],
   "source": [
    "# Iterate through each cell\n",
    "for row in range(LU.shape[0]):\n",
    "    for col in range(LU.shape[1]):\n",
    "        cell_center = src.xy(row, col)\n",
    "        point = Point(cell_center)\n",
    "\n",
    "        # Calculate distances to farms\n",
    "        for _, f in farm.iterrows():\n",
    "            distance = point.distance(f.geometry)\n",
    "            if distance < distances_farm[row, col]:\n",
    "                distances_farm[row, col] = distance"
   ]
  },
  {
   "cell_type": "code",
   "execution_count": null,
   "metadata": {},
   "outputs": [],
   "source": []
  }
 ],
 "metadata": {
  "kernelspec": {
   "display_name": "bioze",
   "language": "python",
   "name": "python3"
  },
  "language_info": {
   "codemirror_mode": {
    "name": "ipython",
    "version": 3
   },
   "file_extension": ".py",
   "mimetype": "text/x-python",
   "name": "python",
   "nbconvert_exporter": "python",
   "pygments_lexer": "ipython3",
   "version": "3.11.6"
  }
 },
 "nbformat": 4,
 "nbformat_minor": 2
}
