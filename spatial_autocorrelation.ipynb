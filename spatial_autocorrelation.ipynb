{
 "cells": [
  {
   "cell_type": "code",
   "execution_count": 7,
   "metadata": {},
   "outputs": [],
   "source": [
    "import h3\n",
    "import h3pandas\n",
    "import numpy as np\n",
    "import pandas as pd\n",
    "import pydeck as pdk\n",
    "import seaborn as sns\n",
    "import networkx as nx\n",
    "from cflp_function import *\n",
    "from shapely.geometry import Polygon\n",
    "from calculate_od import *\n",
    "from pysal.lib import weights\n",
    "from pysal.explore import esda\n",
    "from splot.esda import moran_scatterplot, lisa_cluster, plot_local_autocorrelation"
   ]
  },
  {
   "cell_type": "code",
   "execution_count": 8,
   "metadata": {},
   "outputs": [],
   "source": [
    "# import os\n",
    "# os.environ['USE_PYGEOS'] = '0'\n",
    "# import geopandas as gpd"
   ]
  },
  {
   "cell_type": "code",
   "execution_count": 69,
   "metadata": {},
   "outputs": [],
   "source": [
    "hex = pd.read_csv('./hex/hex_df2.csv')\n",
    "# get_fill_color(hex, \"fuzzy\", \"viridis\")"
   ]
  },
  {
   "cell_type": "code",
   "execution_count": 10,
   "metadata": {},
   "outputs": [],
   "source": [
    "# Define a layer to display on a map\n",
    "# layer = pdk.Layer(\n",
    "#     \"H3HexagonLayer\",\n",
    "#     hex,\n",
    "#     pickable=True,\n",
    "#     # stroked=True,\n",
    "#     filled=True,\n",
    "#     extruded=False,\n",
    "#     auto_highlight=True,\n",
    "#     opacity=0.6,\n",
    "#     get_hexagon=\"hex9\",\n",
    "#     get_fill_color = 'color', \n",
    "#     get_line_color=[255, 255, 255],\n",
    "#     line_width_min_pixels=0.1\n",
    "#     )\n",
    "\n",
    "# # Set the viewport location\n",
    "# view_state = pdk.ViewState(longitude=6.747489560596507, latitude=52.316862707395394, zoom=9, bearing=0, pitch=0)\n",
    "\n",
    "# # Render\n",
    "# r = pdk.Deck(layers=[layer], initial_view_state=view_state, tooltip={\"text\": \"Value: {fuzzy}\"})\n",
    "# r.to_html(\"layer.html\")"
   ]
  },
  {
   "cell_type": "markdown",
   "metadata": {},
   "source": [
    "### H3 indices and polygon geometries\n",
    "We want to have a geodataframe that stores the H3 indices in study area and the polygon geometries"
   ]
  },
  {
   "cell_type": "code",
   "execution_count": 11,
   "metadata": {},
   "outputs": [],
   "source": [
    "# lst = gpd.read_file('./h3_list.shp')"
   ]
  },
  {
   "cell_type": "code",
   "execution_count": 12,
   "metadata": {},
   "outputs": [],
   "source": [
    "# idx = pd.DataFrame(index=lst.hex9)"
   ]
  },
  {
   "cell_type": "code",
   "execution_count": 13,
   "metadata": {},
   "outputs": [],
   "source": [
    "# idx = idx.h3.h3_to_geo_boundary()"
   ]
  },
  {
   "cell_type": "code",
   "execution_count": 14,
   "metadata": {},
   "outputs": [],
   "source": [
    "# idx = gpd.GeoDataFrame(idx, geometry='geometry', crs='EPSG:4326')"
   ]
  },
  {
   "cell_type": "code",
   "execution_count": 15,
   "metadata": {},
   "outputs": [],
   "source": [
    "# idx.to_file('./h3_polygons.shp')"
   ]
  },
  {
   "cell_type": "code",
   "execution_count": 16,
   "metadata": {},
   "outputs": [],
   "source": [
    "# def cell_to_shapely_polygon(h3_index):\n",
    "#     \"\"\"\n",
    "#     A function to convert H3 index to Shapely polygons\n",
    "\n",
    "#     \"\"\"\n",
    "#     # hex_center_coords = h3.h3_to_geo(h3_index)\n",
    "#     coords = h3.h3_to_geo_boundary(h3_index)\n",
    "#     flipped = tuple(coord[::-1] for coord in coords)\n",
    "#     # center_point = Point(hex_center_coords)\n",
    "#     return Polygon(flipped) #, center_point"
   ]
  },
  {
   "cell_type": "code",
   "execution_count": 17,
   "metadata": {},
   "outputs": [],
   "source": [
    "# hex['geometry'] = hex['hex9'].apply(cell_to_shapely_polygon) # can change the function here\n",
    "# gdf = gpd.GeoDataFrame(hex, geometry='geometry', crs=4326)"
   ]
  },
  {
   "cell_type": "code",
   "execution_count": 18,
   "metadata": {},
   "outputs": [],
   "source": [
    "idx = gpd.read_file('./h3_polygons.shp')"
   ]
  },
  {
   "cell_type": "code",
   "execution_count": 19,
   "metadata": {},
   "outputs": [],
   "source": [
    "idx = idx.set_index('hex9')"
   ]
  },
  {
   "cell_type": "code",
   "execution_count": 20,
   "metadata": {},
   "outputs": [
    {
     "data": {
      "text/html": [
       "<div>\n",
       "<style scoped>\n",
       "    .dataframe tbody tr th:only-of-type {\n",
       "        vertical-align: middle;\n",
       "    }\n",
       "\n",
       "    .dataframe tbody tr th {\n",
       "        vertical-align: top;\n",
       "    }\n",
       "\n",
       "    .dataframe thead th {\n",
       "        text-align: right;\n",
       "    }\n",
       "</style>\n",
       "<table border=\"1\" class=\"dataframe\">\n",
       "  <thead>\n",
       "    <tr style=\"text-align: right;\">\n",
       "      <th></th>\n",
       "    </tr>\n",
       "    <tr>\n",
       "      <th>hex9</th>\n",
       "    </tr>\n",
       "  </thead>\n",
       "  <tbody>\n",
       "    <tr>\n",
       "      <th>891f1655aa3ffff</th>\n",
       "    </tr>\n",
       "    <tr>\n",
       "      <th>891f1655aa7ffff</th>\n",
       "    </tr>\n",
       "    <tr>\n",
       "      <th>891f1655bd3ffff</th>\n",
       "    </tr>\n",
       "    <tr>\n",
       "      <th>891f1655bd7ffff</th>\n",
       "    </tr>\n",
       "    <tr>\n",
       "      <th>891f1655b8bffff</th>\n",
       "    </tr>\n",
       "  </tbody>\n",
       "</table>\n",
       "</div>"
      ],
      "text/plain": [
       "Empty DataFrame\n",
       "Columns: []\n",
       "Index: [891f1655aa3ffff, 891f1655aa7ffff, 891f1655bd3ffff, 891f1655bd7ffff, 891f1655b8bffff]"
      ]
     },
     "execution_count": 20,
     "metadata": {},
     "output_type": "execute_result"
    }
   ],
   "source": [
    "df = pd.DataFrame(index=idx.index)\n",
    "df.head()"
   ]
  },
  {
   "cell_type": "markdown",
   "metadata": {},
   "source": [
    "### Merge compound suitability map and H3 geometry information"
   ]
  },
  {
   "cell_type": "code",
   "execution_count": 21,
   "metadata": {},
   "outputs": [],
   "source": [
    "# gdf = idx.merge(hex[['hex9','color','fuzzy']], on='hex9',how='left')"
   ]
  },
  {
   "cell_type": "markdown",
   "metadata": {},
   "source": [
    "### Spatial Autocorrelation"
   ]
  },
  {
   "cell_type": "code",
   "execution_count": 22,
   "metadata": {},
   "outputs": [
    {
     "name": "stderr",
     "output_type": "stream",
     "text": [
      "c:\\Users\\User\\anaconda3\\envs\\scip\\lib\\site-packages\\libpysal\\weights\\weights.py:224: UserWarning: The weights matrix is not fully connected: \n",
      " There are 8 disconnected components.\n",
      " There are 2 islands with ids: 891f16c693bffff, 891f1610e8fffff.\n",
      "  warnings.warn(message)\n"
     ]
    }
   ],
   "source": [
    "w = weights.Queen.from_dataframe(idx, use_index=True)"
   ]
  },
  {
   "cell_type": "code",
   "execution_count": 23,
   "metadata": {},
   "outputs": [],
   "source": [
    "# w_queen.min_neighbors"
   ]
  },
  {
   "cell_type": "code",
   "execution_count": 24,
   "metadata": {},
   "outputs": [],
   "source": [
    "# w_queen.max_neighbors"
   ]
  },
  {
   "cell_type": "code",
   "execution_count": 25,
   "metadata": {},
   "outputs": [],
   "source": [
    "# w_queen.islands"
   ]
  },
  {
   "cell_type": "code",
   "execution_count": 26,
   "metadata": {},
   "outputs": [],
   "source": [
    "# # view islands - those that don't have any neighbors\n",
    "# ax=idx.plot(color='k', figsize=(6,6))\n",
    "# idx.loc[w_queen.islands,:].plot(color='red', ax=ax)"
   ]
  },
  {
   "cell_type": "code",
   "execution_count": 27,
   "metadata": {},
   "outputs": [],
   "source": [
    "# Drop the islands\n",
    "# idx = idx.drop(w_queen.islands)"
   ]
  },
  {
   "cell_type": "code",
   "execution_count": 28,
   "metadata": {},
   "outputs": [],
   "source": [
    "# recalculate spatial weights matrix\n",
    "# w = weights.Queen.from_dataframe(idx, use_index=True)"
   ]
  },
  {
   "cell_type": "code",
   "execution_count": 29,
   "metadata": {},
   "outputs": [
    {
     "name": "stdout",
     "output_type": "stream",
     "text": [
      "('WARNING: ', '891f16c693bffff', ' is an island (no neighbors)')\n",
      "('WARNING: ', '891f1610e8fffff', ' is an island (no neighbors)')\n"
     ]
    }
   ],
   "source": [
    "# Row standardize the matrix\n",
    "w.transform = 'R'"
   ]
  },
  {
   "cell_type": "code",
   "execution_count": 30,
   "metadata": {},
   "outputs": [],
   "source": [
    "# Reindex the compound suitability df such that its indices are ordered as the H3 list geodataframe\n",
    "# hex_df = hex.set_index('hex9').reindex(idx.index)\n",
    "hex_df = idx.merge(hex[['hex9','color','fuzzy']], on='hex9',how='left')"
   ]
  },
  {
   "cell_type": "code",
   "execution_count": 31,
   "metadata": {},
   "outputs": [],
   "source": [
    "# Get standardised fuzzy values\n",
    "hex_df['fuzzy_std'] = (hex_df['fuzzy'] - hex_df['fuzzy'].mean()) / hex_df['fuzzy'].std()"
   ]
  },
  {
   "cell_type": "code",
   "execution_count": 32,
   "metadata": {},
   "outputs": [],
   "source": [
    "hex_df['lag_std'] = weights.lag_spatial(w, hex_df['fuzzy_std'])"
   ]
  },
  {
   "cell_type": "code",
   "execution_count": 33,
   "metadata": {},
   "outputs": [],
   "source": [
    "hex_df['lag'] = weights.lag_spatial(w, hex_df['fuzzy'])"
   ]
  },
  {
   "cell_type": "code",
   "execution_count": 34,
   "metadata": {},
   "outputs": [],
   "source": [
    "# # Plot global moran\n",
    "# f, ax = plt.subplots(1, figsize=(5, 5))\n",
    "# # Plot values\n",
    "# sns.regplot(x='fuzzy', y='lag', data=hex_df, ci=None)\n",
    "# # Add vertical and horizontal lines\n",
    "# # plt.axvline(0, c='k', alpha=0.5)\n",
    "# # plt.axhline(0, c='k', alpha=0.5)\n",
    "# # # plt.text(1.75, 0.5, \"HH\", fontsize=25)\n",
    "# # # plt.text(1.5, -1.5, \"HL\", fontsize=25)\n",
    "# # # plt.text(-2, 1, \"LH\", fontsize=25)\n",
    "# # # plt.text(-1.5, -2.5, \"LL\", fontsize=25)\n",
    "# # Display\n",
    "# plt.show()"
   ]
  },
  {
   "cell_type": "code",
   "execution_count": 35,
   "metadata": {},
   "outputs": [],
   "source": [
    "# # Plot standardized moran's i\n",
    "# f, ax = plt.subplots(1, figsize=(5, 5))\n",
    "# # Plot values\n",
    "# sns.regplot(x='fuzzy_std', y='lag_std', data=hex_df, ci=None, line_kws=dict(color=\"r\"))\n",
    "# # Add vertical and horizontal lines\n",
    "# plt.axvline(0, c='k', alpha=0.5)\n",
    "# ax.set_xlabel('Standarized Suitability Values')\n",
    "# plt.axhline(0, c='k', alpha=0.5)\n",
    "# ax.set_ylabel('Spatial Lag')\n",
    "# plt.text(0.5, 2, \"HH\", fontsize=25)\n",
    "# plt.text(0.5, -2.5, \"HL\", fontsize=25)\n",
    "# plt.text(-5, 2, \"LH\", fontsize=25)\n",
    "# plt.text(-5, -2.5, \"LL\", fontsize=25)\n",
    "# # Display\n",
    "# plt.show()"
   ]
  },
  {
   "cell_type": "markdown",
   "metadata": {},
   "source": [
    "**Local Moran's I** tells you whether the local spatial pattern around each observation is similar to the overall pattern in the entire dataset.\n",
    "**p_sim** is simulated p-values, which represent the probability of observing a similar or more extreme local spatial pattern under the assumption of spatial randomness.\n"
   ]
  },
  {
   "cell_type": "code",
   "execution_count": 36,
   "metadata": {},
   "outputs": [],
   "source": [
    "lisa = esda.Moran_Local(hex_df['fuzzy'], w, seed=42)\n",
    "# Break observations into significant or not\n",
    "hex_df['significant'] = lisa.p_sim < 0.05\n",
    "# Store the quadrant they belong to\n",
    "hex_df['quadrant'] = lisa.q"
   ]
  },
  {
   "cell_type": "code",
   "execution_count": 37,
   "metadata": {},
   "outputs": [],
   "source": [
    "hex_df['significant_0.01'] = lisa.p_sim < 0.01"
   ]
  },
  {
   "cell_type": "code",
   "execution_count": 38,
   "metadata": {},
   "outputs": [
    {
     "data": {
      "text/plain": [
       "4457"
      ]
     },
     "execution_count": 38,
     "metadata": {},
     "output_type": "execute_result"
    }
   ],
   "source": [
    "np.sum(lisa.p_sim < 0.05)"
   ]
  },
  {
   "cell_type": "code",
   "execution_count": 39,
   "metadata": {},
   "outputs": [
    {
     "data": {
      "text/plain": [
       "2540"
      ]
     },
     "execution_count": 39,
     "metadata": {},
     "output_type": "execute_result"
    }
   ],
   "source": [
    "np.sum(lisa.p_sim < 0.01)"
   ]
  },
  {
   "cell_type": "code",
   "execution_count": 40,
   "metadata": {},
   "outputs": [],
   "source": [
    "# lisa_cluster(lisa, hex_df)"
   ]
  },
  {
   "cell_type": "code",
   "execution_count": 41,
   "metadata": {},
   "outputs": [],
   "source": [
    "# plot_local_autocorrelation(lisa, hex_df, 'fuzzy')"
   ]
  },
  {
   "cell_type": "code",
   "execution_count": 42,
   "metadata": {},
   "outputs": [],
   "source": [
    "# ax = hex_df.plot(color='k', figsize=(9, 9))\n",
    "# hex_df[(hex_df['significant'] == True) & (hex_df['quadrant'] == 1)].plot(color='red', ax=ax)\n",
    "# ax.set_axis_off()"
   ]
  },
  {
   "cell_type": "markdown",
   "metadata": {},
   "source": [
    "### HH Clusters to Connected Graphs"
   ]
  },
  {
   "cell_type": "code",
   "execution_count": 43,
   "metadata": {},
   "outputs": [],
   "source": [
    "# pd.DataFrame(*w.full()).astype(int)"
   ]
  },
  {
   "cell_type": "code",
   "execution_count": 44,
   "metadata": {},
   "outputs": [],
   "source": [
    "# Transform weight back to Binary\n",
    "w.transform = 'B'"
   ]
  },
  {
   "cell_type": "code",
   "execution_count": 45,
   "metadata": {},
   "outputs": [],
   "source": [
    "g = w.to_networkx()"
   ]
  },
  {
   "cell_type": "code",
   "execution_count": 46,
   "metadata": {},
   "outputs": [
    {
     "name": "stdout",
     "output_type": "stream",
     "text": [
      "Number of nodes: 11628\n",
      "Number of edges: 31726\n"
     ]
    }
   ],
   "source": [
    "print(\"Number of nodes:\", nx.number_of_nodes(g))\n",
    "print(\"Number of edges:\", nx.number_of_edges(g))"
   ]
  },
  {
   "cell_type": "code",
   "execution_count": 47,
   "metadata": {},
   "outputs": [],
   "source": [
    "# NetworkX relabeled the nodes with integer starting from 0, we want the nodes to be labeled by their H3 index \n",
    "mapping = {new_index: old_index for new_index, old_index in enumerate(w.id_order)}"
   ]
  },
  {
   "cell_type": "code",
   "execution_count": 48,
   "metadata": {},
   "outputs": [],
   "source": [
    "# Apply the mapping to the graph\n",
    "g = nx.relabel_nodes(g, mapping)"
   ]
  },
  {
   "cell_type": "code",
   "execution_count": 49,
   "metadata": {},
   "outputs": [],
   "source": [
    "# index_to_polygon = dict(zip(hex_df['hex9'], hex_df['geometry']))"
   ]
  },
  {
   "cell_type": "code",
   "execution_count": 50,
   "metadata": {},
   "outputs": [],
   "source": [
    "# nx.set_node_attributes(g, index_to_polygon, 'coordinates')"
   ]
  },
  {
   "cell_type": "code",
   "execution_count": 51,
   "metadata": {},
   "outputs": [],
   "source": [
    "# Get indices of H3 cells that are in the HH quadrant (p-value < 0.05)\n",
    "# HH = hex_df[(hex_df['significant'] == True) & (hex_df['quadrant'] == 1)].hex9.to_list()"
   ]
  },
  {
   "cell_type": "code",
   "execution_count": 52,
   "metadata": {},
   "outputs": [],
   "source": [
    "# Get indices of H3 cells that are in the HH quadrant (p-value < 0.01)\n",
    "hh = hex_df[(hex_df['significant_0.01'] == True) & (hex_df['quadrant'] == 1)].hex9.to_list()"
   ]
  },
  {
   "cell_type": "code",
   "execution_count": 53,
   "metadata": {},
   "outputs": [
    {
     "name": "stdout",
     "output_type": "stream",
     "text": [
      "1337\n"
     ]
    }
   ],
   "source": [
    "print(len(hh))"
   ]
  },
  {
   "cell_type": "code",
   "execution_count": 54,
   "metadata": {},
   "outputs": [],
   "source": [
    "# Get sub graph that includes only the HH quadrant\n",
    "# H = g.subgraph(HH)"
   ]
  },
  {
   "cell_type": "code",
   "execution_count": 55,
   "metadata": {},
   "outputs": [],
   "source": [
    "h = g.subgraph(hh)"
   ]
  },
  {
   "cell_type": "code",
   "execution_count": 56,
   "metadata": {},
   "outputs": [
    {
     "name": "stdout",
     "output_type": "stream",
     "text": [
      "Number of nodes p=0.01: 1337\n"
     ]
    }
   ],
   "source": [
    "# print(\"Number of nodes p=0.05:\", nx.number_of_nodes(H))\n",
    "print(\"Number of nodes p=0.01:\", nx.number_of_nodes(h))"
   ]
  },
  {
   "cell_type": "code",
   "execution_count": 57,
   "metadata": {},
   "outputs": [],
   "source": [
    "# nx.write_graphml(g, './g.graphml')"
   ]
  },
  {
   "cell_type": "code",
   "execution_count": 58,
   "metadata": {},
   "outputs": [],
   "source": [
    "# nx.write_graphml(H, './H.graphml')"
   ]
  },
  {
   "cell_type": "code",
   "execution_count": 59,
   "metadata": {},
   "outputs": [
    {
     "name": "stdout",
     "output_type": "stream",
     "text": [
      "70\n"
     ]
    }
   ],
   "source": [
    "# subH = list(nx.connected_components(H))\n",
    "subh = list(nx.connected_components(h))\n",
    "print(len(subh))"
   ]
  },
  {
   "cell_type": "code",
   "execution_count": 60,
   "metadata": {},
   "outputs": [
    {
     "name": "stdout",
     "output_type": "stream",
     "text": [
      "Number of connected grph in HH sub graph 23\n"
     ]
    }
   ],
   "source": [
    "# Get connected graphs without islands (connected graphs consist of a single node)\n",
    "# filter_subH = [component for component in subH if len(component) > 10]\n",
    "filter_subh = [component for component in subh if len(component) > 10]\n",
    "print('Number of connected grph in HH sub graph', len(filter_subh))"
   ]
  },
  {
   "cell_type": "code",
   "execution_count": 61,
   "metadata": {},
   "outputs": [],
   "source": [
    "# Calculate eigenvector centrality for each connected component\n",
    "eigenvector_centralities = []\n",
    "\n",
    "for component in filter_subh:\n",
    "    # Create a subgraph for the current connected component\n",
    "    subgraph = h.subgraph(component)\n",
    "    \n",
    "    # Calculate eigenvector centrality for the subgraph\n",
    "    eigenvector_centrality = nx.eigenvector_centrality(subgraph, max_iter=1000)\n",
    "    \n",
    "    # Append the result to the list\n",
    "    eigenvector_centralities.append(eigenvector_centrality)"
   ]
  },
  {
   "cell_type": "code",
   "execution_count": 62,
   "metadata": {},
   "outputs": [],
   "source": [
    "# # Print or use the list of eigenvector centralities as needed\n",
    "# for i, centrality in enumerate(eigenvector_centralities):\n",
    "#     print(f\"Connected Component {i + 1}: {centrality}\")"
   ]
  },
  {
   "cell_type": "code",
   "execution_count": 63,
   "metadata": {},
   "outputs": [],
   "source": [
    "# export for visualization in ArcGIS\n",
    "eigen = hex_df[['hex9','geometry']]"
   ]
  },
  {
   "cell_type": "code",
   "execution_count": 64,
   "metadata": {},
   "outputs": [
    {
     "name": "stderr",
     "output_type": "stream",
     "text": [
      "c:\\Users\\User\\anaconda3\\envs\\scip\\lib\\site-packages\\geopandas\\geodataframe.py:1538: SettingWithCopyWarning: \n",
      "A value is trying to be set on a copy of a slice from a DataFrame.\n",
      "Try using .loc[row_indexer,col_indexer] = value instead\n",
      "\n",
      "See the caveats in the documentation: https://pandas.pydata.org/pandas-docs/stable/user_guide/indexing.html#returning-a-view-versus-a-copy\n",
      "  super().__setitem__(key, value)\n"
     ]
    }
   ],
   "source": [
    "eigen['eigen_centrality'] = np.nan"
   ]
  },
  {
   "cell_type": "code",
   "execution_count": 65,
   "metadata": {},
   "outputs": [],
   "source": [
    "# Fill in eigenvector centralities into the 'eigen' column based on 'hex9'\n",
    "for centrality_dict in eigenvector_centralities:\n",
    "    for node_index, centrality_value in centrality_dict.items():\n",
    "        # Update the 'eigen' column with the corresponding centrality value\n",
    "        eigen.loc[eigen['hex9'] == node_index, 'eigen_centrality'] = centrality_value"
   ]
  },
  {
   "cell_type": "code",
   "execution_count": 66,
   "metadata": {},
   "outputs": [],
   "source": [
    "# eigen[~eigen['eigen_centrality'].isna()]"
   ]
  },
  {
   "cell_type": "code",
   "execution_count": 67,
   "metadata": {},
   "outputs": [],
   "source": [
    "site = []\n",
    "for centrality_dict in eigenvector_centralities:\n",
    "    max_node_index = max(centrality_dict, key=centrality_dict.get)\n",
    "    site.append(max_node_index)"
   ]
  },
  {
   "cell_type": "code",
   "execution_count": null,
   "metadata": {},
   "outputs": [],
   "source": [
    "# eigen[~eigen['eigen_centrality'].isna()].to_file('./eigen.shp')"
   ]
  },
  {
   "cell_type": "code",
   "execution_count": null,
   "metadata": {},
   "outputs": [],
   "source": [
    "# sub_size = [len(c) for c in sorted(nx.connected_components(H), key=len, reverse=True)]\n",
    "# sub_sizeh = [len(c) for c in sorted(nx.connected_components(h), key=len, reverse=True)]"
   ]
  },
  {
   "cell_type": "code",
   "execution_count": null,
   "metadata": {},
   "outputs": [],
   "source": [
    "# # Plotting the histogram\n",
    "# plt.hist(sub_size, bins=30, edgecolor='black')\n",
    "# plt.xlabel('Connected Component Size')\n",
    "# plt.ylabel('Frequency')\n",
    "# plt.title('Distribution of Connected Component Sizes')\n",
    "# plt.show()"
   ]
  },
  {
   "cell_type": "code",
   "execution_count": null,
   "metadata": {},
   "outputs": [],
   "source": [
    "# hex_df[hex_df['hex9'].isin(nH)].to_file('./n005.shp')"
   ]
  },
  {
   "cell_type": "code",
   "execution_count": null,
   "metadata": {},
   "outputs": [],
   "source": [
    "# hex_df[hex_df['hex9'].isin(list(h.nodes()))].to_file('./n001.shp')"
   ]
  },
  {
   "cell_type": "code",
   "execution_count": null,
   "metadata": {},
   "outputs": [],
   "source": [
    "# Counter(sub_size)"
   ]
  },
  {
   "cell_type": "code",
   "execution_count": null,
   "metadata": {},
   "outputs": [],
   "source": [
    "# Counter(sub_sizeh)"
   ]
  },
  {
   "cell_type": "code",
   "execution_count": null,
   "metadata": {},
   "outputs": [],
   "source": [
    "# from collections import Counter\n",
    "# # Use Counter to count occurrences of each value\n",
    "# value_counts = Counter(sub_size)\n",
    "\n",
    "# # Get the 10 most common values\n",
    "# most_common_values = value_counts.most_common(10)\n",
    "\n",
    "# # Display the result(f\"{value}: {count}\")\n",
    "# print(\"10 most common values and their counts:\")\n",
    "# for value, count in most_common_values:\n",
    "#     print"
   ]
  },
  {
   "cell_type": "code",
   "execution_count": null,
   "metadata": {},
   "outputs": [],
   "source": [
    "hex_df = hex.set_index('hex9').reindex(idx.index)"
   ]
  },
  {
   "cell_type": "code",
   "execution_count": 90,
   "metadata": {},
   "outputs": [
    {
     "data": {
      "text/html": [
       "<div>\n",
       "<style scoped>\n",
       "    .dataframe tbody tr th:only-of-type {\n",
       "        vertical-align: middle;\n",
       "    }\n",
       "\n",
       "    .dataframe tbody tr th {\n",
       "        vertical-align: top;\n",
       "    }\n",
       "\n",
       "    .dataframe thead th {\n",
       "        text-align: right;\n",
       "    }\n",
       "</style>\n",
       "<table border=\"1\" class=\"dataframe\">\n",
       "  <thead>\n",
       "    <tr style=\"text-align: right;\">\n",
       "      <th></th>\n",
       "      <th>hex9</th>\n",
       "      <th>geometry</th>\n",
       "      <th>color</th>\n",
       "      <th>fuzzy</th>\n",
       "      <th>fuzzy_std</th>\n",
       "      <th>lag_std</th>\n",
       "      <th>lag</th>\n",
       "      <th>significant</th>\n",
       "      <th>quadrant</th>\n",
       "      <th>significant_0.01</th>\n",
       "    </tr>\n",
       "  </thead>\n",
       "  <tbody>\n",
       "    <tr>\n",
       "      <th>0</th>\n",
       "      <td>891f1655aa3ffff</td>\n",
       "      <td>POLYGON ((6.72147 52.11887, 6.72374 52.11996, ...</td>\n",
       "      <td>[249, 121, 92]</td>\n",
       "      <td>0.720</td>\n",
       "      <td>0.948215</td>\n",
       "      <td>0.687780</td>\n",
       "      <td>0.698333</td>\n",
       "      <td>False</td>\n",
       "      <td>1</td>\n",
       "      <td>False</td>\n",
       "    </tr>\n",
       "    <tr>\n",
       "      <th>1</th>\n",
       "      <td>891f1655aa7ffff</td>\n",
       "      <td>POLYGON ((6.72629 52.11945, 6.72857 52.12054, ...</td>\n",
       "      <td>[246, 112, 91]</td>\n",
       "      <td>0.703</td>\n",
       "      <td>0.743874</td>\n",
       "      <td>0.894125</td>\n",
       "      <td>0.715500</td>\n",
       "      <td>True</td>\n",
       "      <td>1</td>\n",
       "      <td>False</td>\n",
       "    </tr>\n",
       "    <tr>\n",
       "      <th>2</th>\n",
       "      <td>891f1655bd3ffff</td>\n",
       "      <td>POLYGON ((6.73112 52.12003, 6.73339 52.12112, ...</td>\n",
       "      <td>[249, 123, 93]</td>\n",
       "      <td>0.726</td>\n",
       "      <td>1.020336</td>\n",
       "      <td>0.800969</td>\n",
       "      <td>0.707750</td>\n",
       "      <td>False</td>\n",
       "      <td>1</td>\n",
       "      <td>False</td>\n",
       "    </tr>\n",
       "    <tr>\n",
       "      <th>3</th>\n",
       "      <td>891f1655bd7ffff</td>\n",
       "      <td>POLYGON ((6.73595 52.12060, 6.73822 52.12170, ...</td>\n",
       "      <td>[249, 125, 93]</td>\n",
       "      <td>0.727</td>\n",
       "      <td>1.032356</td>\n",
       "      <td>0.719833</td>\n",
       "      <td>0.701000</td>\n",
       "      <td>False</td>\n",
       "      <td>1</td>\n",
       "      <td>False</td>\n",
       "    </tr>\n",
       "    <tr>\n",
       "      <th>4</th>\n",
       "      <td>891f1655b8bffff</td>\n",
       "      <td>POLYGON ((6.74077 52.12118, 6.74304 52.12227, ...</td>\n",
       "      <td>[246, 112, 91]</td>\n",
       "      <td>0.700</td>\n",
       "      <td>0.707813</td>\n",
       "      <td>0.734859</td>\n",
       "      <td>0.702250</td>\n",
       "      <td>False</td>\n",
       "      <td>1</td>\n",
       "      <td>False</td>\n",
       "    </tr>\n",
       "    <tr>\n",
       "      <th>...</th>\n",
       "      <td>...</td>\n",
       "      <td>...</td>\n",
       "      <td>...</td>\n",
       "      <td>...</td>\n",
       "      <td>...</td>\n",
       "      <td>...</td>\n",
       "      <td>...</td>\n",
       "      <td>...</td>\n",
       "      <td>...</td>\n",
       "      <td>...</td>\n",
       "    </tr>\n",
       "    <tr>\n",
       "      <th>11623</th>\n",
       "      <td>891f16d5cd3ffff</td>\n",
       "      <td>POLYGON ((6.51051 52.48888, 6.51279 52.48997, ...</td>\n",
       "      <td>[200, 61, 114]</td>\n",
       "      <td>0.545</td>\n",
       "      <td>-1.155303</td>\n",
       "      <td>-0.749023</td>\n",
       "      <td>0.578800</td>\n",
       "      <td>False</td>\n",
       "      <td>3</td>\n",
       "      <td>False</td>\n",
       "    </tr>\n",
       "    <tr>\n",
       "      <th>11624</th>\n",
       "      <td>891f16d5cd7ffff</td>\n",
       "      <td>POLYGON ((6.51535 52.48947, 6.51763 52.49056, ...</td>\n",
       "      <td>[194, 58, 117]</td>\n",
       "      <td>0.530</td>\n",
       "      <td>-1.335604</td>\n",
       "      <td>-0.419071</td>\n",
       "      <td>0.606250</td>\n",
       "      <td>False</td>\n",
       "      <td>3</td>\n",
       "      <td>False</td>\n",
       "    </tr>\n",
       "    <tr>\n",
       "      <th>11625</th>\n",
       "      <td>891f16d5c8bffff</td>\n",
       "      <td>POLYGON ((6.52020 52.49006, 6.52248 52.49115, ...</td>\n",
       "      <td>[228, 78, 100]</td>\n",
       "      <td>0.618</td>\n",
       "      <td>-0.277835</td>\n",
       "      <td>-0.422076</td>\n",
       "      <td>0.606000</td>\n",
       "      <td>False</td>\n",
       "      <td>3</td>\n",
       "      <td>False</td>\n",
       "    </tr>\n",
       "    <tr>\n",
       "      <th>11626</th>\n",
       "      <td>891f16d51b7ffff</td>\n",
       "      <td>POLYGON ((6.50281 52.49039, 6.50509 52.49149, ...</td>\n",
       "      <td>[222, 74, 103]</td>\n",
       "      <td>0.605</td>\n",
       "      <td>-0.434096</td>\n",
       "      <td>-0.361976</td>\n",
       "      <td>0.611000</td>\n",
       "      <td>False</td>\n",
       "      <td>3</td>\n",
       "      <td>False</td>\n",
       "    </tr>\n",
       "    <tr>\n",
       "      <th>11627</th>\n",
       "      <td>891f16d426bffff</td>\n",
       "      <td>POLYGON ((6.50766 52.49098, 6.50993 52.49207, ...</td>\n",
       "      <td>[224, 75, 102]</td>\n",
       "      <td>0.609</td>\n",
       "      <td>-0.386016</td>\n",
       "      <td>-0.642445</td>\n",
       "      <td>0.587667</td>\n",
       "      <td>False</td>\n",
       "      <td>3</td>\n",
       "      <td>False</td>\n",
       "    </tr>\n",
       "  </tbody>\n",
       "</table>\n",
       "<p>11628 rows × 10 columns</p>\n",
       "</div>"
      ],
      "text/plain": [
       "                  hex9                                           geometry  \\\n",
       "0      891f1655aa3ffff  POLYGON ((6.72147 52.11887, 6.72374 52.11996, ...   \n",
       "1      891f1655aa7ffff  POLYGON ((6.72629 52.11945, 6.72857 52.12054, ...   \n",
       "2      891f1655bd3ffff  POLYGON ((6.73112 52.12003, 6.73339 52.12112, ...   \n",
       "3      891f1655bd7ffff  POLYGON ((6.73595 52.12060, 6.73822 52.12170, ...   \n",
       "4      891f1655b8bffff  POLYGON ((6.74077 52.12118, 6.74304 52.12227, ...   \n",
       "...                ...                                                ...   \n",
       "11623  891f16d5cd3ffff  POLYGON ((6.51051 52.48888, 6.51279 52.48997, ...   \n",
       "11624  891f16d5cd7ffff  POLYGON ((6.51535 52.48947, 6.51763 52.49056, ...   \n",
       "11625  891f16d5c8bffff  POLYGON ((6.52020 52.49006, 6.52248 52.49115, ...   \n",
       "11626  891f16d51b7ffff  POLYGON ((6.50281 52.49039, 6.50509 52.49149, ...   \n",
       "11627  891f16d426bffff  POLYGON ((6.50766 52.49098, 6.50993 52.49207, ...   \n",
       "\n",
       "                color  fuzzy  fuzzy_std   lag_std       lag  significant  \\\n",
       "0      [249, 121, 92]  0.720   0.948215  0.687780  0.698333        False   \n",
       "1      [246, 112, 91]  0.703   0.743874  0.894125  0.715500         True   \n",
       "2      [249, 123, 93]  0.726   1.020336  0.800969  0.707750        False   \n",
       "3      [249, 125, 93]  0.727   1.032356  0.719833  0.701000        False   \n",
       "4      [246, 112, 91]  0.700   0.707813  0.734859  0.702250        False   \n",
       "...               ...    ...        ...       ...       ...          ...   \n",
       "11623  [200, 61, 114]  0.545  -1.155303 -0.749023  0.578800        False   \n",
       "11624  [194, 58, 117]  0.530  -1.335604 -0.419071  0.606250        False   \n",
       "11625  [228, 78, 100]  0.618  -0.277835 -0.422076  0.606000        False   \n",
       "11626  [222, 74, 103]  0.605  -0.434096 -0.361976  0.611000        False   \n",
       "11627  [224, 75, 102]  0.609  -0.386016 -0.642445  0.587667        False   \n",
       "\n",
       "       quadrant  significant_0.01  \n",
       "0             1             False  \n",
       "1             1             False  \n",
       "2             1             False  \n",
       "3             1             False  \n",
       "4             1             False  \n",
       "...         ...               ...  \n",
       "11623         3             False  \n",
       "11624         3             False  \n",
       "11625         3             False  \n",
       "11626         3             False  \n",
       "11627         3             False  \n",
       "\n",
       "[11628 rows x 10 columns]"
      ]
     },
     "execution_count": 90,
     "metadata": {},
     "output_type": "execute_result"
    }
   ],
   "source": [
    "hex_df"
   ]
  },
  {
   "cell_type": "code",
   "execution_count": 83,
   "metadata": {},
   "outputs": [],
   "source": [
    "def get_sites(fuzzy_df, w, g, idx):\n",
    "    fuzzy_df = fuzzy_df.set_index('hex9').reindex(idx.index)\n",
    "    # 1. Compute loca moran's I\n",
    "    lisa = esda.Moran_Local(fuzzy_df['fuzzy'], w, seed=42)\n",
    "    # 2. Break observations into significant or not\n",
    "    # fuzzy_df['significant'] = lisa.p_sim < 0.01\n",
    "    # # 3. Store the quadrant they belong to\n",
    "    # fuzzy_df['quadrant'] = lisa.q\n",
    "    # # Get indices of H3 cells that are in the HH quadrant\n",
    "    # HH = fuzzy_df[(fuzzy_df['significant'] == True) & (fuzzy_df['quadrant'] == 1)].hex9.to_list()\n",
    "    HH = fuzzy_df[(lisa.q == 1) & (lisa.p_sim < 0.01)].index.to_list()\n",
    "    # Build sub graph that includes only the HH quadrant\n",
    "    H = g.subgraph(HH)\n",
    "    # Get sub components in the sub graphs\n",
    "    subH = list(nx.connected_components(H))\n",
    "    filter_subH = [component for component in subH if len(component) > 10]\n",
    "    len(filter_subH)\n",
    "    # Calculate eigenvector centrality for each connected component\n",
    "    site_idx = []\n",
    "    for component in filter_subH:\n",
    "        # Create a subgraph for the current connected component\n",
    "        subgraph = H.subgraph(component)\n",
    "        # Calculate eigenvector centrality for a connected graph\n",
    "        eigenvector_centrality = nx.eigenvector_centrality(subgraph, max_iter=1000)\n",
    "        # Get the node index with the highest eigenvector centrality in that connected graph\n",
    "        max_node_index = max(eigenvector_centrality, key=eigenvector_centrality.get)\n",
    "        # Append the node index to a list\n",
    "        site_idx.append(max_node_index)\n",
    "    return site_idx"
   ]
  },
  {
   "cell_type": "code",
   "execution_count": 85,
   "metadata": {},
   "outputs": [],
   "source": [
    "site_idx = get_sites(hex, w, g, idx)"
   ]
  },
  {
   "cell_type": "code",
   "execution_count": 111,
   "metadata": {},
   "outputs": [],
   "source": [
    "hex = hex.set_index('hex9')"
   ]
  },
  {
   "cell_type": "code",
   "execution_count": 114,
   "metadata": {},
   "outputs": [
    {
     "data": {
      "text/plain": [
       "23"
      ]
     },
     "execution_count": 114,
     "metadata": {},
     "output_type": "execute_result"
    }
   ],
   "source": [
    "len(hex.loc[site_idx].reset_index())"
   ]
  },
  {
   "cell_type": "code",
   "execution_count": 86,
   "metadata": {},
   "outputs": [
    {
     "name": "stdout",
     "output_type": "stream",
     "text": [
      "23 23\n"
     ]
    },
    {
     "data": {
      "text/plain": [
       "{'891f160a87bffff',\n",
       " '891f160aecfffff',\n",
       " '891f160b4dbffff',\n",
       " '891f16106c7ffff',\n",
       " '891f1610e63ffff',\n",
       " '891f1611437ffff',\n",
       " '891f16190b3ffff',\n",
       " '891f161940bffff',\n",
       " '891f1619933ffff',\n",
       " '891f161b593ffff',\n",
       " '891f1646097ffff',\n",
       " '891f1652ecfffff',\n",
       " '891f16541b7ffff',\n",
       " '891f1655cc3ffff',\n",
       " '891f165660bffff',\n",
       " '891f165689bffff',\n",
       " '891f1657497ffff',\n",
       " '891f16c0b13ffff',\n",
       " '891f16c6c2bffff',\n",
       " '891f16c894fffff',\n",
       " '891f16cc20bffff',\n",
       " '891f16cca87ffff',\n",
       " '891f16cd443ffff'}"
      ]
     },
     "execution_count": 86,
     "metadata": {},
     "output_type": "execute_result"
    }
   ],
   "source": [
    "print(len(site), len(site_idx))\n",
    "set(site) & set(site_idx)"
   ]
  },
  {
   "cell_type": "code",
   "execution_count": null,
   "metadata": {},
   "outputs": [],
   "source": [
    "hex_df[hex_df['hex9'].isin(site_idx)].to_file('./site_idx.shp')"
   ]
  },
  {
   "cell_type": "code",
   "execution_count": null,
   "metadata": {},
   "outputs": [],
   "source": [
    "hex_df[hex_df['hex9'].isin(site)].to_file('./site.shp')"
   ]
  },
  {
   "cell_type": "code",
   "execution_count": 87,
   "metadata": {},
   "outputs": [
    {
     "data": {
      "text/html": [
       "\n",
       "        <iframe\n",
       "            width=\"100%\"\n",
       "            height=500\n",
       "            frameborder=\"0\"\n",
       "            srcdoc=\"&lt;!DOCTYPE html&gt;\n",
       "&lt;html&gt;\n",
       "  &lt;head&gt;\n",
       "    &lt;meta http-equiv=&quot;content-type&quot; content=&quot;text/html; charset=UTF-8&quot; /&gt;\n",
       "    &lt;title&gt;pydeck&lt;/title&gt;\n",
       "        &lt;script src=&quot;https://api.tiles.mapbox.com/mapbox-gl-js/v1.13.0/mapbox-gl.js&quot;&gt;&lt;/script&gt;\n",
       "        &lt;link rel=&quot;stylesheet&quot; href=&quot;https://maxcdn.bootstrapcdn.com/bootstrap/3.2.0/css/bootstrap-theme.min.css&quot; /&gt;\n",
       "    &lt;link rel=&quot;stylesheet&quot; href=&quot;https://maxcdn.bootstrapcdn.com/font-awesome/4.6.3/css/font-awesome.min.css&quot; /&gt;\n",
       "    &lt;script src=&#x27;https://cdn.jsdelivr.net/npm/@deck.gl/jupyter-widget@~8.5.*/dist/index.js&#x27;&gt;&lt;/script&gt;\n",
       "    &lt;style&gt;\n",
       "    body {\n",
       "  margin: 0;\n",
       "  padding: 0;\n",
       "  overflow: hidden;\n",
       "}\n",
       "\n",
       "#deck-map-container {\n",
       "  width: 100%;\n",
       "  height: 100%;\n",
       "  background-color: black;\n",
       "}\n",
       "\n",
       "#map {\n",
       "  pointer-events: none;\n",
       "  height: 100%;\n",
       "  width: 100%;\n",
       "  position: absolute;\n",
       "  z-index: 1;\n",
       "}\n",
       "\n",
       "#deckgl-overlay {\n",
       "  z-index: 2;\n",
       "  background: none;\n",
       "}\n",
       "\n",
       "#deck-map-wrapper {\n",
       "  width: 100%;\n",
       "  height: 100%;\n",
       "}\n",
       "\n",
       "#deck-container {\n",
       "  width: 100vw;\n",
       "  height: 100vh;\n",
       "}\n",
       "    &lt;/style&gt;\n",
       "  &lt;/head&gt;\n",
       "  &lt;body&gt;\n",
       "    &lt;div id=&quot;deck-container&quot;&gt;\n",
       "    &lt;/div&gt;\n",
       "  &lt;/body&gt;\n",
       "  &lt;script&gt;\n",
       "    const jsonInput = {&quot;initialViewState&quot;: {&quot;bearing&quot;: 0, &quot;latitude&quot;: 52.316862707395394, &quot;longitude&quot;: 6.747489560596507, &quot;pitch&quot;: 0, &quot;zoom&quot;: 9}, &quot;layers&quot;: [{&quot;@@type&quot;: &quot;H3HexagonLayer&quot;, &quot;data&quot;: [{&quot;hex9&quot;: &quot;891f1646097ffff&quot;}, {&quot;hex9&quot;: &quot;891f165689bffff&quot;}, {&quot;hex9&quot;: &quot;891f160aecfffff&quot;}, {&quot;hex9&quot;: &quot;891f1655cc3ffff&quot;}, {&quot;hex9&quot;: &quot;891f16cc20bffff&quot;}, {&quot;hex9&quot;: &quot;891f161940bffff&quot;}, {&quot;hex9&quot;: &quot;891f160b4dbffff&quot;}, {&quot;hex9&quot;: &quot;891f16c894fffff&quot;}, {&quot;hex9&quot;: &quot;891f16cca87ffff&quot;}, {&quot;hex9&quot;: &quot;891f1619933ffff&quot;}, {&quot;hex9&quot;: &quot;891f161b593ffff&quot;}, {&quot;hex9&quot;: &quot;891f1652ecfffff&quot;}, {&quot;hex9&quot;: &quot;891f165660bffff&quot;}, {&quot;hex9&quot;: &quot;891f160a87bffff&quot;}, {&quot;hex9&quot;: &quot;891f1610e63ffff&quot;}, {&quot;hex9&quot;: &quot;891f16106c7ffff&quot;}, {&quot;hex9&quot;: &quot;891f16541b7ffff&quot;}, {&quot;hex9&quot;: &quot;891f1657497ffff&quot;}, {&quot;hex9&quot;: &quot;891f16cd443ffff&quot;}, {&quot;hex9&quot;: &quot;891f16c6c2bffff&quot;}, {&quot;hex9&quot;: &quot;891f1611437ffff&quot;}, {&quot;hex9&quot;: &quot;891f16c0b13ffff&quot;}, {&quot;hex9&quot;: &quot;891f16190b3ffff&quot;}], &quot;extruded&quot;: false, &quot;filled&quot;: true, &quot;getFillColor&quot;: [0, 255, 0, 0], &quot;getHexagon&quot;: &quot;@@=hex9&quot;, &quot;getLineColor&quot;: [0, 255, 0], &quot;id&quot;: &quot;e7f3bc5e-4c12-42bd-8d0c-b556b8d04660&quot;, &quot;lineWidthMinPixels&quot;: 2, &quot;opacity&quot;: 0.6, &quot;pickable&quot;: true, &quot;stroked&quot;: true}, {&quot;@@type&quot;: &quot;H3HexagonLayer&quot;, &quot;data&quot;: [{&quot;hex9&quot;: &quot;891f1646097ffff&quot;}, {&quot;hex9&quot;: &quot;891f165689bffff&quot;}, {&quot;hex9&quot;: &quot;891f160aecfffff&quot;}, {&quot;hex9&quot;: &quot;891f1655cc3ffff&quot;}, {&quot;hex9&quot;: &quot;891f16cc20bffff&quot;}, {&quot;hex9&quot;: &quot;891f161940bffff&quot;}, {&quot;hex9&quot;: &quot;891f160b4dbffff&quot;}, {&quot;hex9&quot;: &quot;891f16c894fffff&quot;}, {&quot;hex9&quot;: &quot;891f16cca87ffff&quot;}, {&quot;hex9&quot;: &quot;891f1619933ffff&quot;}, {&quot;hex9&quot;: &quot;891f161b593ffff&quot;}, {&quot;hex9&quot;: &quot;891f1652ecfffff&quot;}, {&quot;hex9&quot;: &quot;891f165660bffff&quot;}, {&quot;hex9&quot;: &quot;891f160a87bffff&quot;}, {&quot;hex9&quot;: &quot;891f1610e63ffff&quot;}, {&quot;hex9&quot;: &quot;891f16106c7ffff&quot;}, {&quot;hex9&quot;: &quot;891f16541b7ffff&quot;}, {&quot;hex9&quot;: &quot;891f1657497ffff&quot;}, {&quot;hex9&quot;: &quot;891f16cd443ffff&quot;}, {&quot;hex9&quot;: &quot;891f16c6c2bffff&quot;}, {&quot;hex9&quot;: &quot;891f1611437ffff&quot;}, {&quot;hex9&quot;: &quot;891f16c0b13ffff&quot;}, {&quot;hex9&quot;: &quot;891f16190b3ffff&quot;}], &quot;extruded&quot;: false, &quot;filled&quot;: true, &quot;getFillColor&quot;: [0, 0, 0, 0], &quot;getHexagon&quot;: &quot;@@=hex9&quot;, &quot;getLineColor&quot;: [255, 0, 0], &quot;id&quot;: &quot;797fda59-454c-460b-9cbf-467523cab6c7&quot;, &quot;lineWidthMinPixels&quot;: 2, &quot;opacity&quot;: 0.6, &quot;pickable&quot;: true, &quot;stroked&quot;: true}], &quot;mapProvider&quot;: &quot;carto&quot;, &quot;mapStyle&quot;: &quot;https://basemaps.cartocdn.com/gl/dark-matter-gl-style/style.json&quot;, &quot;views&quot;: [{&quot;@@type&quot;: &quot;MapView&quot;, &quot;controller&quot;: true}]};\n",
       "    const tooltip = {&#x27;text&#x27;: &#x27;Count: {value}&#x27;};\n",
       "    const customLibraries = null;\n",
       "\n",
       "    const deckInstance = createDeck({\n",
       "                  container: document.getElementById(&#x27;deck-container&#x27;),\n",
       "      jsonInput,\n",
       "      tooltip,\n",
       "      customLibraries\n",
       "    });\n",
       "\n",
       "  &lt;/script&gt;\n",
       "&lt;/html&gt;\"\n",
       "        ></iframe>\n",
       "    "
      ],
      "text/plain": [
       "<IPython.core.display.HTML object>"
      ]
     },
     "execution_count": 87,
     "metadata": {},
     "output_type": "execute_result"
    }
   ],
   "source": [
    "# Define a layer to display on a map\n",
    "layer = pdk.Layer(\n",
    "        \"H3HexagonLayer\",\n",
    "        pd.DataFrame({'hex9': site_idx}),\n",
    "        pickable=True,\n",
    "        stroked=True,\n",
    "        filled=True,\n",
    "        extruded=False,\n",
    "        opacity=0.6,\n",
    "        get_hexagon=\"hex9\",\n",
    "        get_fill_color=[0, 255, 0, 0], \n",
    "        get_line_color=[0, 255, 0],\n",
    "        line_width_min_pixels=2)\n",
    "layer2 = pdk.Layer(\n",
    "        \"H3HexagonLayer\",\n",
    "        pd.DataFrame({'hex9': site}),\n",
    "        pickable=True,\n",
    "        stroked=True,\n",
    "        filled=True,\n",
    "        extruded=False,\n",
    "        opacity=0.6,\n",
    "        get_hexagon=\"hex9\",\n",
    "        get_fill_color=[0, 0, 0, 0], \n",
    "        get_line_color=[255, 0, 0],\n",
    "        line_width_min_pixels=2)\n",
    "\n",
    "# Set the viewport location\n",
    "view_state = pdk.ViewState(longitude=6.747489560596507, latitude=52.316862707395394, zoom=9, bearing=0, pitch=0)\n",
    "\n",
    "# Render\n",
    "r = pdk.Deck(layers=[layer, layer2], initial_view_state=view_state, tooltip={\"text\": \"Count: {value}\"})\n",
    "r.to_html(\"h3_hexagon_layer_cropped_new.html\")"
   ]
  },
  {
   "cell_type": "code",
   "execution_count": null,
   "metadata": {},
   "outputs": [],
   "source": [
    "import gc\n",
    "gc.collect()"
   ]
  }
 ],
 "metadata": {
  "kernelspec": {
   "display_name": "scip",
   "language": "python",
   "name": "python3"
  },
  "language_info": {
   "codemirror_mode": {
    "name": "ipython",
    "version": 3
   },
   "file_extension": ".py",
   "mimetype": "text/x-python",
   "name": "python",
   "nbconvert_exporter": "python",
   "pygments_lexer": "ipython3",
   "version": "3.8.18"
  }
 },
 "nbformat": 4,
 "nbformat_minor": 2
}
