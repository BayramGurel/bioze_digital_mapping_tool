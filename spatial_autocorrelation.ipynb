{
 "cells": [
  {
   "cell_type": "code",
   "execution_count": 17,
   "metadata": {},
   "outputs": [],
   "source": [
    "import h3\n",
    "import h3pandas\n",
    "import numpy as np\n",
    "import pandas as pd\n",
    "import pydeck as pdk\n",
    "import seaborn as sns\n",
    "import networkx as nx\n",
    "from cflp_function import *\n",
    "from shapely.geometry import Polygon\n",
    "from calculate_od import *\n",
    "from pysal.lib import weights\n",
    "from pysal.explore import esda\n",
    "from splot.esda import moran_scatterplot, lisa_cluster, plot_local_autocorrelation"
   ]
  },
  {
   "cell_type": "code",
   "execution_count": 18,
   "metadata": {},
   "outputs": [],
   "source": [
    "# import os\n",
    "# os.environ['USE_PYGEOS'] = '0'\n",
    "# import geopandas as gpd"
   ]
  },
  {
   "cell_type": "code",
   "execution_count": 19,
   "metadata": {},
   "outputs": [],
   "source": [
    "hex = pd.read_csv('./hex/hex_df2.csv')\n",
    "# get_fill_color(hex, \"fuzzy\", \"viridis\")"
   ]
  },
  {
   "cell_type": "code",
   "execution_count": 20,
   "metadata": {},
   "outputs": [],
   "source": [
    "# Define a layer to display on a map\n",
    "# layer = pdk.Layer(\n",
    "#     \"H3HexagonLayer\",\n",
    "#     hex,\n",
    "#     pickable=True,\n",
    "#     # stroked=True,\n",
    "#     filled=True,\n",
    "#     extruded=False,\n",
    "#     auto_highlight=True,\n",
    "#     opacity=0.6,\n",
    "#     get_hexagon=\"hex9\",\n",
    "#     get_fill_color = 'color', \n",
    "#     get_line_color=[255, 255, 255],\n",
    "#     line_width_min_pixels=0.1\n",
    "#     )\n",
    "\n",
    "# # Set the viewport location\n",
    "# view_state = pdk.ViewState(longitude=6.747489560596507, latitude=52.316862707395394, zoom=9, bearing=0, pitch=0)\n",
    "\n",
    "# # Render\n",
    "# r = pdk.Deck(layers=[layer], initial_view_state=view_state, tooltip={\"text\": \"Value: {fuzzy}\"})\n",
    "# r.to_html(\"layer.html\")"
   ]
  },
  {
   "cell_type": "markdown",
   "metadata": {},
   "source": [
    "### H3 indices and polygon geometries\n",
    "We want to have a geodataframe that stores the H3 indices in study area and the polygon geometries"
   ]
  },
  {
   "cell_type": "code",
   "execution_count": 93,
   "metadata": {},
   "outputs": [],
   "source": [
    "lst = gpd.read_file('./h3_list.shp')"
   ]
  },
  {
   "cell_type": "code",
   "execution_count": 94,
   "metadata": {},
   "outputs": [],
   "source": [
    "idx = pd.DataFrame(index=lst.hex9)"
   ]
  },
  {
   "cell_type": "code",
   "execution_count": 95,
   "metadata": {},
   "outputs": [],
   "source": [
    "idx = idx.h3.h3_to_geo_boundary()"
   ]
  },
  {
   "cell_type": "code",
   "execution_count": 96,
   "metadata": {},
   "outputs": [],
   "source": [
    "idx = gpd.GeoDataFrame(idx, geometry='geometry', crs='EPSG:4326')"
   ]
  },
  {
   "cell_type": "code",
   "execution_count": 25,
   "metadata": {},
   "outputs": [],
   "source": [
    "# def cell_to_shapely_polygon(h3_index):\n",
    "#     \"\"\"\n",
    "#     A function to convert H3 index to Shapely polygons\n",
    "\n",
    "#     \"\"\"\n",
    "#     # hex_center_coords = h3.h3_to_geo(h3_index)\n",
    "#     coords = h3.h3_to_geo_boundary(h3_index)\n",
    "#     flipped = tuple(coord[::-1] for coord in coords)\n",
    "#     # center_point = Point(hex_center_coords)\n",
    "#     return Polygon(flipped) #, center_point"
   ]
  },
  {
   "cell_type": "code",
   "execution_count": 26,
   "metadata": {},
   "outputs": [],
   "source": [
    "# hex['geometry'] = hex['hex9'].apply(cell_to_shapely_polygon) # can change the function here\n",
    "# gdf = gpd.GeoDataFrame(hex, geometry='geometry', crs=4326)"
   ]
  },
  {
   "cell_type": "markdown",
   "metadata": {},
   "source": [
    "### Merge compound suitability map and H3 geometry information"
   ]
  },
  {
   "cell_type": "code",
   "execution_count": 27,
   "metadata": {},
   "outputs": [],
   "source": [
    "# gdf = idx.merge(hex[['hex9','color','fuzzy']], on='hex9',how='left')"
   ]
  },
  {
   "cell_type": "markdown",
   "metadata": {},
   "source": [
    "### Spatial Autocorrelation"
   ]
  },
  {
   "cell_type": "code",
   "execution_count": 113,
   "metadata": {},
   "outputs": [
    {
     "name": "stderr",
     "output_type": "stream",
     "text": [
      "c:\\Users\\User\\anaconda3\\envs\\scip\\lib\\site-packages\\libpysal\\weights\\weights.py:224: UserWarning: The weights matrix is not fully connected: \n",
      " There are 8 disconnected components.\n",
      " There are 2 islands with ids: 891f16c693bffff, 891f1610e8fffff.\n",
      "  warnings.warn(message)\n"
     ]
    }
   ],
   "source": [
    "w = weights.Queen.from_dataframe(idx, use_index=True)"
   ]
  },
  {
   "cell_type": "code",
   "execution_count": 29,
   "metadata": {},
   "outputs": [
    {
     "data": {
      "text/plain": [
       "0"
      ]
     },
     "execution_count": 29,
     "metadata": {},
     "output_type": "execute_result"
    }
   ],
   "source": [
    "# w_queen.min_neighbors"
   ]
  },
  {
   "cell_type": "code",
   "execution_count": 30,
   "metadata": {},
   "outputs": [
    {
     "data": {
      "text/plain": [
       "6"
      ]
     },
     "execution_count": 30,
     "metadata": {},
     "output_type": "execute_result"
    }
   ],
   "source": [
    "# w_queen.max_neighbors"
   ]
  },
  {
   "cell_type": "code",
   "execution_count": 31,
   "metadata": {},
   "outputs": [
    {
     "data": {
      "text/plain": [
       "['891f16c693bffff', '891f1610e8fffff']"
      ]
     },
     "execution_count": 31,
     "metadata": {},
     "output_type": "execute_result"
    }
   ],
   "source": [
    "# w_queen.islands"
   ]
  },
  {
   "cell_type": "code",
   "execution_count": 32,
   "metadata": {},
   "outputs": [],
   "source": [
    "# # view islands - those that don't have any neighbors\n",
    "# ax=idx.plot(color='k', figsize=(6,6))\n",
    "# idx.loc[w_queen.islands,:].plot(color='red', ax=ax)"
   ]
  },
  {
   "cell_type": "code",
   "execution_count": 33,
   "metadata": {},
   "outputs": [],
   "source": [
    "# Drop the islands\n",
    "# idx = idx.drop(w_queen.islands)"
   ]
  },
  {
   "cell_type": "code",
   "execution_count": 34,
   "metadata": {},
   "outputs": [
    {
     "name": "stderr",
     "output_type": "stream",
     "text": [
      "c:\\Users\\User\\anaconda3\\envs\\scip\\lib\\site-packages\\libpysal\\weights\\weights.py:224: UserWarning: The weights matrix is not fully connected: \n",
      " There are 6 disconnected components.\n",
      "  warnings.warn(message)\n"
     ]
    }
   ],
   "source": [
    "# recalculate spatial weights matrix\n",
    "# w = weights.Queen.from_dataframe(idx, use_index=True)"
   ]
  },
  {
   "cell_type": "code",
   "execution_count": 114,
   "metadata": {},
   "outputs": [
    {
     "name": "stdout",
     "output_type": "stream",
     "text": [
      "('WARNING: ', '891f16c693bffff', ' is an island (no neighbors)')\n",
      "('WARNING: ', '891f1610e8fffff', ' is an island (no neighbors)')\n"
     ]
    }
   ],
   "source": [
    "# Row standardize the matrix\n",
    "w.transform = 'R'"
   ]
  },
  {
   "cell_type": "code",
   "execution_count": 115,
   "metadata": {},
   "outputs": [],
   "source": [
    "# Reindex the compound suitability df such that its indices are ordered as the H3 list geodataframe\n",
    "# hex_df = hex.set_index('hex9').reindex(idx.index)\n",
    "hex_df = idx.merge(hex[['hex9','color','fuzzy']], on='hex9',how='left')"
   ]
  },
  {
   "cell_type": "code",
   "execution_count": 116,
   "metadata": {},
   "outputs": [],
   "source": [
    "# Get standardised fuzzy values\n",
    "hex_df['fuzzy_std'] = (hex_df['fuzzy'] - hex_df['fuzzy'].mean()) / hex_df['fuzzy'].std()"
   ]
  },
  {
   "cell_type": "code",
   "execution_count": 117,
   "metadata": {},
   "outputs": [],
   "source": [
    "hex_df['lag_std'] = weights.lag_spatial(w, hex_df['fuzzy_std'])"
   ]
  },
  {
   "cell_type": "code",
   "execution_count": 118,
   "metadata": {},
   "outputs": [],
   "source": [
    "hex_df['lag'] = weights.lag_spatial(w, hex_df['fuzzy'])"
   ]
  },
  {
   "cell_type": "code",
   "execution_count": 119,
   "metadata": {},
   "outputs": [
    {
     "data": {
      "image/png": "[encoded data removed]",
      "text/plain": [
       "<Figure size 500x500 with 1 Axes>"
      ]
     },
     "metadata": {},
     "output_type": "display_data"
    }
   ],
   "source": [
    "# Setup the figure and axis\n",
    "f, ax = plt.subplots(1, figsize=(5, 5))\n",
    "# Plot values\n",
    "sns.regplot(x='fuzzy', y='lag', data=hex_df, ci=None)\n",
    "# Add vertical and horizontal lines\n",
    "# plt.axvline(0, c='k', alpha=0.5)\n",
    "# plt.axhline(0, c='k', alpha=0.5)\n",
    "# # plt.text(1.75, 0.5, \"HH\", fontsize=25)\n",
    "# # plt.text(1.5, -1.5, \"HL\", fontsize=25)\n",
    "# # plt.text(-2, 1, \"LH\", fontsize=25)\n",
    "# # plt.text(-1.5, -2.5, \"LL\", fontsize=25)\n",
    "# Display\n",
    "plt.show()"
   ]
  },
  {
   "cell_type": "code",
   "execution_count": 120,
   "metadata": {},
   "outputs": [
    {
     "data": {
      "image/png": "[encoded data removed]",
      "text/plain": [
       "<Figure size 500x500 with 1 Axes>"
      ]
     },
     "metadata": {},
     "output_type": "display_data"
    }
   ],
   "source": [
    "# Setup the figure and axis\n",
    "f, ax = plt.subplots(1, figsize=(5, 5))\n",
    "# Plot values\n",
    "sns.regplot(x='fuzzy_std', y='lag_std', data=hex_df, ci=None, line_kws=dict(color=\"r\"))\n",
    "# Add vertical and horizontal lines\n",
    "plt.axvline(0, c='k', alpha=0.5)\n",
    "ax.set_xlabel('Standarized Suitability Values')\n",
    "plt.axhline(0, c='k', alpha=0.5)\n",
    "ax.set_ylabel('Spatial Lag')\n",
    "plt.text(0.5, 2, \"HH\", fontsize=25)\n",
    "plt.text(0.5, -2.5, \"HL\", fontsize=25)\n",
    "plt.text(-5, 2, \"LH\", fontsize=25)\n",
    "plt.text(-5, -2.5, \"LL\", fontsize=25)\n",
    "# Display\n",
    "plt.show()"
   ]
  },
  {
   "cell_type": "markdown",
   "metadata": {},
   "source": [
    "**Local Moran's I** tells you whether the local spatial pattern around each observation is similar to the overall pattern in the entire dataset.\n",
    "**p_sim** is simulated p-values, which represent the probability of observing a similar or more extreme local spatial pattern under the assumption of spatial randomness.\n"
   ]
  },
  {
   "cell_type": "code",
   "execution_count": 121,
   "metadata": {},
   "outputs": [],
   "source": [
    "lisa = esda.Moran_Local(hex_df['fuzzy'], w, seed=42)\n",
    "# Break observations into significant or not\n",
    "hex_df['significant'] = lisa.p_sim < 0.05\n",
    "# Store the quadrant they belong to\n",
    "hex_df['quadrant'] = lisa.q"
   ]
  },
  {
   "cell_type": "code",
   "execution_count": 122,
   "metadata": {},
   "outputs": [],
   "source": [
    "hex_df['significant_0.01'] = lisa.p_sim < 0.01"
   ]
  },
  {
   "cell_type": "code",
   "execution_count": 123,
   "metadata": {},
   "outputs": [
    {
     "data": {
      "text/plain": [
       "4457"
      ]
     },
     "execution_count": 123,
     "metadata": {},
     "output_type": "execute_result"
    }
   ],
   "source": [
    "np.sum(lisa.p_sim < 0.05)"
   ]
  },
  {
   "cell_type": "code",
   "execution_count": 124,
   "metadata": {},
   "outputs": [
    {
     "data": {
      "text/plain": [
       "2540"
      ]
     },
     "execution_count": 124,
     "metadata": {},
     "output_type": "execute_result"
    }
   ],
   "source": [
    "np.sum(lisa.p_sim < 0.01)"
   ]
  },
  {
   "cell_type": "code",
   "execution_count": 125,
   "metadata": {},
   "outputs": [],
   "source": [
    "# lisa_cluster(lisa, hex_df)"
   ]
  },
  {
   "cell_type": "code",
   "execution_count": 126,
   "metadata": {},
   "outputs": [],
   "source": [
    "# plot_local_autocorrelation(lisa, hex_df, 'fuzzy')"
   ]
  },
  {
   "cell_type": "code",
   "execution_count": 127,
   "metadata": {},
   "outputs": [],
   "source": [
    "# ax = hex_df.plot(color='k', figsize=(9, 9))\n",
    "# hex_df[(hex_df['significant'] == True) & (hex_df['quadrant'] == 1)].plot(color='red', ax=ax)\n",
    "# ax.set_axis_off()"
   ]
  },
  {
   "cell_type": "markdown",
   "metadata": {},
   "source": [
    "### HH Clusters to Connected Graphs"
   ]
  },
  {
   "cell_type": "code",
   "execution_count": 128,
   "metadata": {},
   "outputs": [
    {
     "data": {
      "text/plain": [
       "<libpysal.weights.contiguity.Queen at 0x2b6c0dd48e0>"
      ]
     },
     "execution_count": 128,
     "metadata": {},
     "output_type": "execute_result"
    }
   ],
   "source": [
    "w"
   ]
  },
  {
   "cell_type": "code",
   "execution_count": 129,
   "metadata": {},
   "outputs": [],
   "source": [
    "# pd.DataFrame(*w.full()).astype(int)"
   ]
  },
  {
   "cell_type": "code",
   "execution_count": 130,
   "metadata": {},
   "outputs": [],
   "source": [
    "# Transform weight back to Binary\n",
    "w.transform = 'B'"
   ]
  },
  {
   "cell_type": "code",
   "execution_count": 131,
   "metadata": {},
   "outputs": [],
   "source": [
    "g = w.to_networkx()"
   ]
  },
  {
   "cell_type": "code",
   "execution_count": 132,
   "metadata": {},
   "outputs": [
    {
     "name": "stdout",
     "output_type": "stream",
     "text": [
      "Number of nodes: 11628\n",
      "Number of edges: 31726\n"
     ]
    }
   ],
   "source": [
    "print(\"Number of nodes:\", nx.number_of_nodes(g))\n",
    "print(\"Number of edges:\", nx.number_of_edges(g))\n",
    "# print(\"Nodes:\", g.nodes())\n",
    "# print(\"Edges:\", g.edges())"
   ]
  },
  {
   "cell_type": "code",
   "execution_count": 133,
   "metadata": {},
   "outputs": [],
   "source": [
    "# NetworkX relabeled the nodes with integer starting from 0, we want the nodes to be labeled by their H3 index \n",
    "mapping = {new_index: old_index for new_index, old_index in enumerate(w.id_order)}"
   ]
  },
  {
   "cell_type": "code",
   "execution_count": 134,
   "metadata": {},
   "outputs": [],
   "source": [
    "# Apply the mapping to the graph\n",
    "g = nx.relabel_nodes(g, mapping)"
   ]
  },
  {
   "cell_type": "code",
   "execution_count": 135,
   "metadata": {},
   "outputs": [],
   "source": [
    "# index_to_polygon = dict(zip(hex_df['hex9'], hex_df['geometry']))"
   ]
  },
  {
   "cell_type": "code",
   "execution_count": 136,
   "metadata": {},
   "outputs": [],
   "source": [
    "# nx.set_node_attributes(g, index_to_polygon, 'coordinates')"
   ]
  },
  {
   "cell_type": "code",
   "execution_count": 137,
   "metadata": {},
   "outputs": [],
   "source": [
    "# Get indices of H3 cells that are in the HH quadrant\n",
    "HH = hex_df[(hex_df['significant'] == True) & (hex_df['quadrant'] == 1)].hex9.to_list()"
   ]
  },
  {
   "cell_type": "code",
   "execution_count": 138,
   "metadata": {},
   "outputs": [],
   "source": [
    "hh = hex_df[(hex_df['significant_0.01'] == True) & (hex_df['quadrant'] == 1)].hex9.to_list()"
   ]
  },
  {
   "cell_type": "code",
   "execution_count": 139,
   "metadata": {},
   "outputs": [
    {
     "name": "stdout",
     "output_type": "stream",
     "text": [
      "2426 1337\n"
     ]
    }
   ],
   "source": [
    "print(len(HH), len(hh))"
   ]
  },
  {
   "cell_type": "code",
   "execution_count": 140,
   "metadata": {},
   "outputs": [],
   "source": [
    "# Get sub graph that includes only the HH quadrant\n",
    "H = g.subgraph(HH)"
   ]
  },
  {
   "cell_type": "code",
   "execution_count": 141,
   "metadata": {},
   "outputs": [],
   "source": [
    "h = g.subgraph(hh)"
   ]
  },
  {
   "cell_type": "code",
   "execution_count": 142,
   "metadata": {},
   "outputs": [
    {
     "name": "stdout",
     "output_type": "stream",
     "text": [
      "Number of nodes p=0.05: 2426\n",
      "Number of nodes p=0.01: 1337\n"
     ]
    }
   ],
   "source": [
    "print(\"Number of nodes p=0.05:\", nx.number_of_nodes(H))\n",
    "print(\"Number of nodes p=0.01:\", nx.number_of_nodes(h))"
   ]
  },
  {
   "cell_type": "code",
   "execution_count": 143,
   "metadata": {},
   "outputs": [],
   "source": [
    "# nx.write_graphml(g, './g.graphml')"
   ]
  },
  {
   "cell_type": "code",
   "execution_count": 144,
   "metadata": {},
   "outputs": [],
   "source": [
    "# nx.write_graphml(H, './H.graphml')"
   ]
  },
  {
   "cell_type": "code",
   "execution_count": 145,
   "metadata": {},
   "outputs": [],
   "source": [
    "subH = list(nx.connected_components(H))"
   ]
  },
  {
   "cell_type": "code",
   "execution_count": 146,
   "metadata": {},
   "outputs": [],
   "source": [
    "subh = list(nx.connected_components(h))"
   ]
  },
  {
   "cell_type": "code",
   "execution_count": 147,
   "metadata": {},
   "outputs": [
    {
     "name": "stdout",
     "output_type": "stream",
     "text": [
      "61 70\n"
     ]
    }
   ],
   "source": [
    "print(len(subH), len(subh))"
   ]
  },
  {
   "cell_type": "code",
   "execution_count": 148,
   "metadata": {},
   "outputs": [],
   "source": [
    "# Get connected graphs without islands (connected graphs consist of a single node)\n",
    "filter_subH = [component for component in subH if len(component) > 10]\n",
    "filter_subh = [component for component in subh if len(component) > 10]"
   ]
  },
  {
   "cell_type": "code",
   "execution_count": 149,
   "metadata": {},
   "outputs": [
    {
     "name": "stdout",
     "output_type": "stream",
     "text": [
      "28 23\n"
     ]
    }
   ],
   "source": [
    "print(len(filter_subH), len(filter_subh))"
   ]
  },
  {
   "cell_type": "code",
   "execution_count": 150,
   "metadata": {},
   "outputs": [],
   "source": [
    "# Calculate eigenvector centrality for each connected component\n",
    "eigenvector_centralities = []\n",
    "\n",
    "for component in filter_subh:\n",
    "    # Create a subgraph for the current connected component\n",
    "    subgraph = h.subgraph(component)\n",
    "    \n",
    "    # Calculate eigenvector centrality for the subgraph\n",
    "    eigenvector_centrality = nx.eigenvector_centrality(subgraph, max_iter=1000)\n",
    "    \n",
    "    # Append the result to the list\n",
    "    eigenvector_centralities.append(eigenvector_centrality)"
   ]
  },
  {
   "cell_type": "code",
   "execution_count": 151,
   "metadata": {},
   "outputs": [
    {
     "name": "stdout",
     "output_type": "stream",
     "text": [
      "Connected Component 1: {'891f16c8927ffff': 0.1282197886667167, '891f16cd44fffff': 0.3631238192011025, '891f16cd47bffff': 0.2371647793409044, '891f16cd457ffff': 0.2821847436606185, '891f16cd683ffff': 0.048723615313620086, '891f16cd44bffff': 0.2929987437837815, '891f16cd45bffff': 0.22326798826037997, '891f16cd443ffff': 0.37898448921607675, '891f16c8937ffff': 0.046685775125850294, '891f16cd68fffff': 0.06634484971053302, '891f16cd40fffff': 0.09053453391425634, '891f16cd453ffff': 0.23705827466389603, '891f16cd41bffff': 0.1089412868928003, '891f16cd447ffff': 0.36205973456676616, '891f16cd6bbffff': 0.09948476371868742, '891f16cd687ffff': 0.1600118127296407, '891f16cd40bffff': 0.22393997351952336, '891f16cd4cbffff': 0.08867401357561057, '891f16cd6b7ffff': 0.1799717648092989, '891f16cd473ffff': 0.19667028934564718, '891f16cd6b3ffff': 0.23582474475594353}\n",
      "Connected Component 2: {'891f1656c53ffff': 0.0418175569858723, '891f16568c3ffff': 0.11734962729256053, '891f165682fffff': 0.038164314022009774, '891f1656c17ffff': 0.07716543740590745, '891f1656ca3ffff': 0.05012512047764998, '891f1656c37ffff': 0.08891283137186586, '891f1656e37ffff': 0.050352578230338736, '891f1656d73ffff': 0.029426149132879918, '891f165681bffff': 0.10193307273872304, '891f1656e23ffff': 0.014943513361469306, '891f1656e17ffff': 0.019000794249432035, '891f1656d43ffff': 0.09084799923847334, '891f1656e33ffff': 0.03539763581059414, '891f1656c6bffff': 0.1393052377008928, '891f1656dcbffff': 0.0541260420031061, '891f1656c57ffff': 0.07725931490642193, '891f1656d53ffff': 0.07242936601653277, '891f1656cbbffff': 0.05284814228672581, '891f1656ea3ffff': 0.07995026944440861, '891f1656ca7ffff': 0.032146868255825536, '891f16568cfffff': 0.08960050872449232, '891f165695bffff': 0.02079610255333253, '891f1656c67ffff': 0.16723028054562705, '891f1656c2bffff': 0.15659574840229792, '891f1656d4bffff': 0.12810790399887448, '891f1656c0fffff': 0.12932074429016965, '891f1656ddbffff': 0.042762713229298886, '891f1656cabffff': 0.08145997916251409, '891f1656d47ffff': 0.05997237259792848, '891f16568dbffff': 0.09674803880152208, '891f165683bffff': 0.07503640085260159, '891f1656c77ffff': 0.15354339218800198, '891f165688fffff': 0.15277860896849937, '891f165688bffff': 0.1579615189846374, '891f165682bffff': 0.04861513910959066, '891f1656953ffff': 0.020972150095340383, '891f1656c7bffff': 0.1298099853941251, '891f1656cafffff': 0.0701995631791371, '891f1656c3bffff': 0.13693604445325316, '891f16568a7ffff': 0.07610776167464542, '891f1656807ffff': 0.10353811818568492, '891f1656c47ffff': 0.10829812756193632, '891f16569cfffff': 0.015315867551060961, '891f1656cb3ffff': 0.029598635355569884, '891f1656853ffff': 0.039981888931986016, '891f165680bffff': 0.0656529322287635, '891f1656c87ffff': 0.02352243628146966, '891f1656857ffff': 0.05466233287014402, '891f1656eb7ffff': 0.10979024412082168, '891f16568afffff': 0.09011497865832387, '891f1656877ffff': 0.04938448395496616, '891f1656d4fffff': 0.09663588178349966, '891f1656d57ffff': 0.042924726316694084, '891f1656d6bffff': 0.050396945421639375, '891f16569c3ffff': 0.02640190086293224, '891f1656c33ffff': 0.10742000614910482, '891f1656ebbffff': 0.04438663348246728, '891f1656127ffff': 0.013668176374430064, '891f161934bffff': 0.01114380322379909, '891f1656c03ffff': 0.09711507175028966, '891f16568bbffff': 0.1364139329644202, '891f16568d3ffff': 0.13511517274108575, '891f1656ccfffff': 0.03934506751090237, '891f1656887ffff': 0.14974075791089578, '891f1656863ffff': 0.019717810059716716, '891f1656cb7ffff': 0.021381895311273883, '891f1656c07ffff': 0.10968646847266393, '891f1656c8bffff': 0.023670167260932982, '891f1656803ffff': 0.10711378358844213, '891f1656827ffff': 0.04371777948692522, '891f16568c7ffff': 0.1315516017699376, '891f1656c6fffff': 0.1597260109823163, '891f1656c63ffff': 0.1544322153967886, '891f1656e07ffff': 0.017666809981592303, '891f16568b3ffff': 0.12398237197075533, '891f1656867ffff': 0.026985616777865543, '891f16568abffff': 0.11515851250265505, '891f1656c1bffff': 0.0725640048822454, '891f1656883ffff': 0.16528912189618872, '891f1656e97ffff': 0.022705627896088126, '891f1656ea7ffff': 0.11050126141043504, '891f1656873ffff': 0.036771755210617166, '891f1656d7bffff': 0.06123582606297581, '891f1656c8fffff': 0.04138970370058388, '891f1656b93ffff': 0.026225421748438622, '891f1656eabffff': 0.04697932140302226, '891f1656c13ffff': 0.06030291936476273, '891f165680fffff': 0.07624436763918165, '891f1656c4bffff': 0.0588452151459319, '891f1656c2fffff': 0.14512076728438472, '891f1656b83ffff': 0.009341368339752167, '891f1656d63ffff': 0.024582800297471254, '891f1656d0bffff': 0.02306023466763132, '891f16568d7ffff': 0.15169720884384855, '891f16569dbffff': 0.058779141618674494, '891f16568cbffff': 0.06866782542297777, '891f1656eb3ffff': 0.07394250398126936, '891f1656e87ffff': 0.034832329143681076, '891f1656cc7ffff': 0.03413551939855999, '891f1656b97ffff': 0.01647389546652165, '891f16569d3ffff': 0.03689146368846594, '891f16568a3ffff': 0.11016559105749567, '891f1656893ffff': 0.16654466067338444, '891f1656823ffff': 0.06315909079414758, '891f1656c43ffff': 0.0730763397858644, '891f16569cbffff': 0.04050868945026215, '891f161934fffff': 0.010826145779794063, '891f1656833ffff': 0.08962251931829085, '891f1656813ffff': 0.13632829165508537, '891f1656817ffff': 0.13093645893634004, '891f1656d5bffff': 0.12123236412401212, '891f1656b9bffff': 0.010901417429292102, '891f165689bffff': 0.16877102006678035, '891f1656c23ffff': 0.12921463326794388, '891f1656c5bffff': 0.03661548498349499, '891f1656837ffff': 0.06725323012751598, '891f1656c73ffff': 0.1365633704994318, '891f16568b7ffff': 0.09036486337983238, '891f1656eafffff': 0.07318007808062922, '891f1656897ffff': 0.1526669725516909, '891f1656c4fffff': 0.09650221818077123, '891f1656c0bffff': 0.10824039671364281, '891f1656c27ffff': 0.10648464491080518, '891f1656843ffff': 0.01649374602119851}\n",
      "Connected Component 3: {'891f1656933ffff': 0.1767201309154436, '891f160b453ffff': 0.16356446878428554, '891f160b4cfffff': 0.18005100766345203, '891f160b4dbffff': 0.21850109784168525, '891f160b4c3ffff': 0.20319612715824453, '891f160b443ffff': 0.10954644289213429, '891f1619a6fffff': 0.1490860882550325, '891f160b483ffff': 0.06107951341797284, '891f160b697ffff': 0.049354138529829464, '891f1619a47ffff': 0.07187136849294837, '891f165693bffff': 0.12325217137102759, '891f1656987ffff': 0.08845522416972024, '891f1619a43ffff': 0.07261624952092666, '891f1619a73ffff': 0.053300288330441314, '891f160b41bffff': 0.1351201555911463, '891f1656947ffff': 0.017448950857207816, '891f160b48fffff': 0.05931250170126425, '891f160b493ffff': 0.04908318712399975, '891f165698fffff': 0.0688358401874157, '891f1656977ffff': 0.06302173846038892, '891f1656913ffff': 0.045854702484613825, '891f160b4d7ffff': 0.16984167334749928, '891f160b45bffff': 0.11628617977303583, '891f1656993ffff': 0.016199149244760708, '891f160b457ffff': 0.13708626960882214, '891f160b403ffff': 0.07447015210111683, '891f1656963ffff': 0.021663088742363563, '891f160b40fffff': 0.038460925992439256, '891f1619a57ffff': 0.031673974338454106, '891f1619a7bffff': 0.12319863221404245, '891f1619a63ffff': 0.10269627994599898, '891f165690bffff': 0.0394787745904373, '891f1656923ffff': 0.15191090906048915, '891f160b463ffff': 0.014925111974968475, '891f165697bffff': 0.014744096770708058, '891f160b44bffff': 0.058504090929753685, '891f160b48bffff': 0.12049533241696746, '891f160b47bffff': 0.035658669202963504, '891f1656907ffff': 0.13300471908159503, '891f160b413ffff': 0.10673665174944895, '891f1656d2fffff': 0.029598313534877192, '891f160b4cbffff': 0.20306740678537383, '891f165692fffff': 0.10093733843086482, '891f16569afffff': 0.2072573083430273, '891f1619a2bffff': 0.02275406315383943, '891f1619a5bffff': 0.054221866706701406, '891f1619a67ffff': 0.07803627579161596, '891f16569b3ffff': 0.1424550624097017, '891f160b44fffff': 0.0516606209706854, '891f1619a6bffff': 0.1701037049678161, '891f16569a3ffff': 0.18491606385420717, '891f160b417ffff': 0.04305169859646014, '891f1656927ffff': 0.1677516972666835, '891f1656917ffff': 0.11279246087775376, '891f1656997ffff': 0.05069300058460834, '891f1656d2bffff': 0.010204620087557624, '891f160b49bffff': 0.1123424623354713, '891f16569a7ffff': 0.20588733638018797, '891f1656973ffff': 0.04325716009253408, '891f1656d27ffff': 0.022821162473765724, '891f160b473ffff': 0.0477249539752412, '891f16569b7ffff': 0.16956410969570052, '891f1619a4bffff': 0.09472170580715367, '891f1656937ffff': 0.20141005705461043, '891f16569bbffff': 0.13745265805114862, '891f160b4c7ffff': 0.16386023059237492, '891f160b40bffff': 0.09267773635727918, '891f1619a4fffff': 0.12072340531801522, '891f165690fffff': 0.08530352611496796, '891f160b4d3ffff': 0.19987204836247074, '891f160b447ffff': 0.08490675720587874, '891f1619a53ffff': 0.0324592867626892, '891f16569abffff': 0.17043360428959795, '891f165692bffff': 0.07860212077868435, '891f1656d23ffff': 0.011210021733001823, '891f1656903ffff': 0.07454187789135693}\n",
      "Connected Component 4: {'891f1610663ffff': 0.028251908481286715, '891f161314fffff': 0.048814375132838816, '891f16102dbffff': 0.018140483118636194, '891f1610617ffff': 0.1348290277156804, '891f16133b3ffff': 0.05387286966527315, '891f161317bffff': 0.05531047099182709, '891f161061bffff': 0.1914981340248573, '891f161158fffff': 0.08310337365571113, '891f161159bffff': 0.03781808408439164, '891f1611513ffff': 0.04557479505135397, '891f16106d3ffff': 0.22341643802789085, '891f16102d7ffff': 0.01233417493688929, '891f1610687ffff': 0.08203637999864473, '891f1613383ffff': 0.003052539346122184, '891f1613143ffff': 0.014307468681396835, '891f16115bbffff': 0.07495178778139318, '891f16115afffff': 0.016930000862312056, '891f16115b7ffff': 0.07439605459164104, '891f1613387ffff': 0.015867814631882988, '891f16133b7ffff': 0.10469835796175984, '891f16106b3ffff': 0.03333224822253431, '891f161153bffff': 0.007184349454564619, '891f16102c3ffff': 0.011510731517689287, '891f16106abffff': 0.05475485015083421, '891f161065bffff': 0.12176367714690625, '891f161150fffff': 0.011486986248894623, '891f1611593ffff': 0.056247966386532, '891f16106c3ffff': 0.26300283528755075, '891f161064fffff': 0.12459218235788104, '891f1610653ffff': 0.1676013321570525, '891f161067bffff': 0.07273056266265555, '891f1610657ffff': 0.1645408008172096, '891f1610693ffff': 0.055387104063152844, '891f161316bffff': 0.13400366189139395, '891f1611587ffff': 0.11541557699665769, '891f1610683ffff': 0.13258650598587376, '891f161158bffff': 0.05254996596182711, '891f16106cfffff': 0.23864454761211995, '891f1613337ffff': 0.10641554673749161, '891f1610607ffff': 0.058566700078389815, '891f161068fffff': 0.16929255551370812, '891f161066bffff': 0.0508800155848388, '891f161064bffff': 0.14093053022620972, '891f16133afffff': 0.11667681864642872, '891f16115c7ffff': 0.01887747392459153, '891f1611583ffff': 0.08778074788486806, '891f16115a7ffff': 0.036495507335454716, '891f1611517ffff': 0.05569863664251012, '891f16106cbffff': 0.18864200528888667, '891f1613333ffff': 0.042917094026958605, '891f161332fffff': 0.05562892322134409, '891f16133a7ffff': 0.16714057457840983, '891f161066fffff': 0.023244255385321093, '891f16106d7ffff': 0.2462706487963998, '891f1610613ffff': 0.2121659728822959, '891f1610647ffff': 0.09993844617770666, '891f16102d3ffff': 0.029358293851061226, '891f161068bffff': 0.22717006056320047, '891f161314bffff': 0.025559175763834874, '891f1610643ffff': 0.1576277239027111, '891f161316fffff': 0.14601510222024122, '891f1610603ffff': 0.11485866348119748, '891f16106c7ffff': 0.265235901531285, '891f16115abffff': 0.03336624868842249, '891f1611503ffff': 0.026667590113929125, '891f1611507ffff': 0.025856971028807296, '891f161069bffff': 0.15532802620253003, '891f16106dbffff': 0.2049346416608746, '891f1611597ffff': 0.11115083217268724, '891f16106bbffff': 0.09123214903440621, '891f16133a3ffff': 0.08510379293840904, '891f16115b3ffff': 0.10201643212204789}\n",
      "Connected Component 5: {'891f1652e6bffff': 0.04966391905433486, '891f1652163ffff': 0.08754812729436016, '891f1652e83ffff': 0.05695989694542211, '891f1652e0bffff': 0.22109775988623293, '891f1652e0fffff': 0.11725071412631036, '891f165217bffff': 0.0518701624871766, '891f1652e43ffff': 0.16909137857896891, '891f1652edbffff': 0.1719096348666244, '891f1652177ffff': 0.03207404420137819, '891f1652167ffff': 0.07997263361788343, '891f1652e47ffff': 0.19801136358682978, '891f1652e8bffff': 0.16441002107232439, '891f165216fffff': 0.16498221451155742, '891f1652e4fffff': 0.10405987936449522, '891f1652e13ffff': 0.17541110334012744, '891f16505b7ffff': 0.05304824544911348, '891f1652e17ffff': 0.06438514132028783, '891f1652e77ffff': 0.07404002992200096, '891f1652e63ffff': 0.08299909827506984, '891f1652e7bffff': 0.12333615532729221, '891f1652ecfffff': 0.2865437730579973, '891f1652e57ffff': 0.2602196918672679, '891f165216bffff': 0.12835965907313152, '891f1652ed7ffff': 0.22878540561019114, '891f1652e67ffff': 0.03006817014462851, '891f1652e9bffff': 0.13308792545064954, '891f1652e5bffff': 0.09853629041941653, '891f1652ec3ffff': 0.2640552085960118, '891f1652e73ffff': 0.15637816562588122, '891f1652ecbffff': 0.2235078718888845, '891f1652e53ffff': 0.22231615074538455, '891f1652ed3ffff': 0.2039388379234445, '891f1652337ffff': 0.09930338657881874, '891f16523a7ffff': 0.10706891472220754, '891f1652ec7ffff': 0.264457816694551, '891f16523b7ffff': 0.05500704535685647, '891f1652327ffff': 0.12323813834002366, '891f1652e1bffff': 0.2620376030808662, '891f1652e03ffff': 0.16086570993686716}\n",
      "Connected Component 6: {'891f1619917ffff': 0.19767702959440295, '891f1618a2bffff': 0.007009205044111083, '891f1619927ffff': 0.13839638360462952, '891f160a697ffff': 0.03598482450059895, '891f1618a73ffff': 0.007711194208883377, '891f161993bffff': 0.34242233575090164, '891f1619923ffff': 0.29987498532585244, '891f1619907ffff': 0.32888658129766546, '891f161992bffff': 0.23199160087424744, '891f160a473ffff': 0.0007259275286559365, '891f160a4abffff': 4.093175529931632e-05, '891f160a43bffff': 0.00018434349259193554, '891f1618a6bffff': 0.037123335698565844, '891f1618a23ffff': 0.002785255980039969, '891f16199a7ffff': 0.10425346180586732, '891f1619967ffff': 0.11852870076043115, '891f1618a0fffff': 0.005998309399529546, '891f160a44bffff': 0.012991908375195581, '891f160a6b3ffff': 0.008105416401952106, '891f16199abffff': 0.3076165156110254, '891f16199bbffff': 0.1585343071918807, '891f160a687ffff': 0.01279089267873622, '891f160a477ffff': 0.00039184725025767685, '891f1618a07ffff': 0.002574722164849513, '891f16199b3ffff': 0.07145746938432453, '891f160a6b7ffff': 0.00327838597986766, '891f1619933ffff': 0.36262322097001587, '891f161990fffff': 0.2148792370327938, '891f161996fffff': 0.04768787832919643, '891f160a4d3ffff': 0.03387006112263177, '891f1618a6fffff': 0.021287027573646682, '891f161996bffff': 0.027261988926510005, '891f160a6bbffff': 0.004350797361665842, '891f160a40fffff': 0.0002969135719507443, '891f161992fffff': 0.14704735535349192, '891f1619937ffff': 0.2177756351957689, '891f1619903ffff': 0.1543754818271501, '891f160a47bffff': 0.002122972551195782, '891f160a433ffff': 7.270112782897975e-05, '891f1618a77ffff': 0.01214595308989105, '891f1618a67ffff': 0.012354735739980107, '891f160a407ffff': 0.00012386965763913055, '891f1619963ffff': 0.08324789152727867, '891f1619977ffff': 0.20634987223036733, '891f16199a3ffff': 0.184664151868005, '891f160a463ffff': 0.0006747589988457858, '891f1618a3bffff': 0.0063577444986821045, '891f1618a63ffff': 0.01887351581419925, '891f160a44fffff': 0.005517263211102479, '891f16199afffff': 0.24504938625910413}\n",
      "Connected Component 7: {'891f16564d7ffff': 0.0011294662868110074, '891f16cd927ffff': 0.00030847108928778316, '891f16cdd2fffff': 0.026623434170890123, '891f16cc853ffff': 0.12317756369652037, '891f16cdd0fffff': 0.0094694970352475, '891f16ccebbffff': 0.011813174089897164, '891f16cdd77ffff': 0.013592158022354972, '891f16ccad7ffff': 0.1256162460902647, '891f16ccac7ffff': 0.12067043556980875, '891f16cce63ffff': 0.08577950031284899, '891f16ccadbffff': 0.07280598349086509, '891f16cca53ffff': 0.04698242209998378, '891f16cceb7ffff': 0.018010084484405258, '891f16cc867ffff': 0.06611066124996007, '891f16cd98bffff': 0.0073011806945969615, '891f16cca6fffff': 0.006280461660313865, '891f16cdda3ffff': 0.02518239310084818, '891f16cca9bffff': 0.14270766741332075, '891f16cd91bffff': 0.0023296437041257357, '891f16cdd27ffff': 0.04335966064237462, '891f16ccbc3ffff': 0.07596242422729102, '891f16ccad3ffff': 0.09603646169587639, '891f16cdd67ffff': 0.01368305097297949, '891f16cd90fffff': 0.0016641326282315781, '891f16cca67ffff': 0.022617781810035542, '891f16cd987ffff': 0.006139854406506721, '891f16cc847ffff': 0.12919522180886087, '891f16cce33ffff': 0.05742610588851086, '891f16ccaa7ffff': 0.13762297119918807, '891f16cce4fffff': 0.019720630793484975, '891f16cd9afffff': 0.000970376751653086, '891f16cd9cfffff': 0.001041218052968547, '891f16cc82bffff': 0.033403226070861235, '891f16cd92bffff': 0.0006606223020946229, '891f16ccaa3ffff': 0.1586420176744858, '891f16ccacfffff': 0.08421194966590596, '891f16ccabbffff': 0.16729490292566515, '891f16ccb83ffff': 0.02016401871805932, '891f16cce0fffff': 0.03452283484637007, '891f16cc84fffff': 0.15759578973941676, '891f16ccaafffff': 0.13351813188214404, '891f16cdd23ffff': 0.03295735170217237, '891f16cce3bffff': 0.0681064445094544, '891f16cc85bffff': 0.1502943156090561, '891f16ccab3ffff': 0.17091747381685177, '891f16cca63ffff': 0.012270724635310336, '891f16cd93bffff': 0.0013748009252345294, '891f16cce23ffff': 0.10180849685927311, '891f16cce7bffff': 0.05118604739610668, '891f16cd97bffff': 0.00023286502495410043, '891f16cc873ffff': 0.10114096110298025, '891f16ccacbffff': 0.06913970617085775, '891f16cdd37ffff': 0.04999951668620077, '891f16cca1bffff': 0.09723604052669166, '891f16cca27ffff': 0.06221594820683719, '891f16cd96bffff': 0.00011772847297791078, '891f16cd9c7ffff': 0.003639436576149352, '891f16cca8bffff': 0.14883557549175175, '891f16ccc7bffff': 0.007924941696054844, '891f16cd907ffff': 0.0023353962436721267, '891f16cc81bffff': 0.06907570117367083, '891f16ccab7ffff': 0.15451536805836683, '891f16cdd8fffff': 0.00047528293464601097, '891f16cd933ffff': 0.0014711031869751906, '891f16cc8d3ffff': 0.028439142435272093, '891f16ccc4fffff': 0.007087877865457989, '891f16cd99bffff': 0.010859379713280303, '891f16cd937ffff': 0.0006245347207943163, '891f16ccbcbffff': 0.07384144471638748, '891f16cca97ffff': 0.16446096123807974, '891f16cdd6fffff': 0.007631628014555069, '891f16cca17ffff': 0.14635540576383224, '891f16566d3ffff': 2.0545125858035457e-05, '891f16cc8cbffff': 0.09170734358882739, '891f16cca5bffff': 0.022943237115867227, '891f16cca2fffff': 0.041286931574467806, '891f16cd9bbffff': 0.003434523725831411, '891f16cce2fffff': 0.13932468916218094, '891f16cc843ffff': 0.14653590975609448, '891f16cd997ffff': 0.01460080967777779, '891f16ccbc7ffff': 0.03764060089290582, '891f16cca83ffff': 0.16406767658709856, '891f16cd983ffff': 0.01087260888773157, '891f16cca8fffff': 0.1634944295698373, '891f16cd967ffff': 0.00034910683983705663, '891f16ccb93ffff': 0.03025699756675043, '891f16cc857ffff': 0.1120370878968071, '891f16cca2bffff': 0.049851194121164295, '891f16cc86fffff': 0.09152605955122187, '891f16cc80fffff': 0.057114670296040095, '891f16ccbd7ffff': 0.06921692848348505, '891f16cce6fffff': 0.11299657577842014, '891f16cdd73ffff': 0.005341955487277461, '891f16cdd03ffff': 0.0040609724623263165, '891f16cceb3ffff': 0.011764885597922688, '891f16cc877ffff': 0.06762536889582892, '891f16cca37ffff': 0.09970748230075155, '891f16564c3ffff': 0.00019694509821544938, '891f16cdda7ffff': 0.061880877657265576, '891f16cceabffff': 0.025423087006555222, '891f16cddb7ffff': 0.04120197977070672, '891f16ccb9bffff': 0.053846747220567426, '891f16cc86bffff': 0.12679439980895935, '891f16cd9d3ffff': 0.002862927255452418, '891f16ccaabffff': 0.14593215936388734, '891f16cc83bffff': 0.027575072279484008, '891f16cca57ffff': 0.0497714234317121, '891f16cc8cfffff': 0.08548832758501244, '891f16cc8dbffff': 0.059648788363964145, '891f16cd923ffff': 0.0008294108027275463, '891f16cddafffff': 0.04132850751390925, '891f16ccb53ffff': 0.0370946674318014, '891f16cca33ffff': 0.11446813225469947, '891f16ccbcfffff': 0.039152430855899825, '891f16cceafffff': 0.050111112760029164, '891f16cca0bffff': 0.0569949207686047, '891f16cd963ffff': 0.00042123464422597686, '891f16cd973ffff': 0.0007955436925140539, '891f16cca3bffff': 0.0822513828212201, '891f16cd917ffff': 0.0037879285364229797, '891f16cd903ffff': 0.0027912199251047157, '891f16ccac3ffff': 0.09913016096055541, '891f16cd90bffff': 0.0013224987185746974, '891f16ccb5bffff': 0.026447776984579643, '891f1656493ffff': 0.019835582133001857, '891f16cdd3bffff': 0.020212749139164612, '891f16cd977ffff': 0.0009187580176523915, '891f16ccb43ffff': 0.01107978936051893, '891f16cc8c7ffff': 0.040885392262887434, '891f16ccea3ffff': 0.026447968344301798, '891f16cca13ffff': 0.13698522489919696, '891f16cce77ffff': 0.08205282122423933, '891f16cce6bffff': 0.07830954838364831, '891f16cce67ffff': 0.11955644458262914, '891f16ccc6bffff': 0.015506460692753424, '891f16ccb8bffff': 0.031537502996882856, '891f16cca93ffff': 0.14732543765210201, '891f16cce2bffff': 0.11476807642767049, '891f16cc863ffff': 0.10248710597409669, '891f16ccc47ffff': 0.002948400355382745, '891f16cca77ffff': 0.04147332580704848, '891f16cdd63ffff': 0.007568954091853598, '891f16cc8c3ffff': 0.0533867718018245, '891f16cc80bffff': 0.08905375738513531, '891f16cd92fffff': 0.0003138388090111128, '891f16cce73ffff': 0.04782163067334971, '891f16cdd6bffff': 0.0031504312207814933, '891f16cd9d7ffff': 0.005632632514965654, '891f16cdd07ffff': 0.011091417062178463, '891f16ccbd3ffff': 0.10644642506242509, '891f16cdd17ffff': 0.002725346890184932, '891f16cce37ffff': 0.08388170697359822, '891f16cc84bffff': 0.168072750388966, '891f16ccea7ffff': 0.03455395879336326, '891f16cca0fffff': 0.07085452341484937, '891f16cd993ffff': 0.017143520267886445, '891f16cd9a3ffff': 0.0011691591889786354, '891f16cce87ffff': 0.0041113308443636205, '891f16cc813ffff': 0.02652466900441498, '891f16cca03ffff': 0.10899268039658576, '891f16cd9abffff': 0.002297249579288326, '891f16cca07ffff': 0.11662902816513966, '891f16cce27ffff': 0.12035007973975502, '891f16cce47ffff': 0.020703468911347268, '891f16ccbdbffff': 0.10934641195830189, '891f16cca23ffff': 0.07842816860513972, '891f16cc803ffff': 0.042156905473302156, '891f16cdd33ffff': 0.02713253304777164, '891f16ccc73ffff': 0.0018959913120848032, '891f16cca87ffff': 0.174076653651813, '891f16cdd2bffff': 0.021661818556984496, '891f16cd913ffff': 0.004560566099111434, '891f16cd98fffff': 0.006295981846909173, '891f16cc87bffff': 0.13456547997270923}\n",
      "Connected Component 8: {'891f16cd53bffff': 0.01563917617411897, '891f16cc233ffff': 0.08729181474107824, '891f16cd527ffff': 0.09821206368732974, '891f16cc667ffff': 0.07021448097861945, '891f16cc2abffff': 0.09087812360072095, '891f16cd187ffff': 0.04619544998046341, '891f16cc263ffff': 0.17072184297129486, '891f16cc63bffff': 0.02681670832767057, '891f16cc047ffff': 0.030206231459648798, '891f16cc253ffff': 0.14944894986476429, '891f16cc277ffff': 0.18049251957491863, '891f16cc21bffff': 0.19761842697970075, '891f16cc0d7ffff': 0.014259877001562704, '891f16cdc83ffff': 0.026054155190905745, '891f16cd5afffff': 0.042538262982591724, '891f16cd533ffff': 0.035559821670229357, '891f16cc29bffff': 0.11172881160002973, '891f16cdc93ffff': 0.07222475142872542, '891f16cc203ffff': 0.20563528824380692, '891f16cc27bffff': 0.17781584997623795, '891f16cc2c7ffff': 0.13810482004733352, '891f16cc62bffff': 0.06247345177466753, '891f16cd197ffff': 0.0619295657425346, '891f16cc22fffff': 0.048357080510321344, '891f16cc003ffff': 0.013214528728050876, '891f16cc08bffff': 0.014278584488985188, '891f16cc26bffff': 0.12492255482945983, '891f16cc26fffff': 0.1114917341967748, '891f16cc297ffff': 0.10191142106336737, '891f16cc04bffff': 0.066396745372823, '891f16cc053ffff': 0.06398763490499655, '891f16cd523ffff': 0.05043598172633309, '891f16cc66bffff': 0.03936420834201155, '891f16cd5a7ffff': 0.03816289644532951, '891f16cdc9bffff': 0.07104098030849434, '891f16cc097ffff': 0.0015409965399278312, '891f16cc24fffff': 0.15569207972638752, '891f16cc063ffff': 0.0023822677401766075, '891f16cc287ffff': 0.09650210009620806, '891f16cc66fffff': 0.07403918527014193, '891f16cc637ffff': 0.04564329393209237, '891f16cc077ffff': 0.0023822677401766075, '891f16cc24bffff': 0.11496331998241628, '891f16cc0c7ffff': 0.027810268939942873, '891f16cc2d7ffff': 0.09524336682507928, '891f16cd537ffff': 0.06791905539181674, '891f16cc0cfffff': 0.045596635405863936, '891f16cc267ffff': 0.1319738087319844, '891f16cc09bffff': 0.006248188444098903, '891f16cdcd3ffff': 0.06551448589967937, '891f16cdcc3ffff': 0.020806070845926998, '891f16cc2bbffff': 0.0894195062226239, '891f16cc2cbffff': 0.09286243067064356, '891f16cd5abffff': 0.019001573770805046, '891f16cc013ffff': 0.017121683436792334, '891f16cc28bffff': 0.1451570040303588, '891f16cc633ffff': 0.026998092558046655, '891f16cd1b3ffff': 0.07712488675372492, '891f16cc0c3ffff': 0.030068130820952412, '891f16cc6afffff': 0.018007735732633597, '891f16cd5a3ffff': 0.019402171813927113, '891f16cc25bffff': 0.11937242460575992, '891f16cd52fffff': 0.060004518298623515, '891f16cc05bffff': 0.08122180851523265, '891f16cc273ffff': 0.2120621823882816, '891f16cc623ffff': 0.057979487611634135, '891f16cc2dbffff': 0.05386046282249171, '891f16cd5bbffff': 0.006984130803460326, '891f16cc293ffff': 0.101956722936405, '891f16cc087ffff': 0.0026569768433603934, '891f16cdcd7ffff': 0.04889334836554569, '891f16cc20bffff': 0.223223397918501, '891f16cc0cbffff': 0.05128595376882056, '891f16cc213ffff': 0.18019241292818536, '891f16cc00bffff': 0.023951146792735335, '891f16cd1a7ffff': 0.05413533330609701, '891f16cc20fffff': 0.20669658991455164, '891f16cc663ffff': 0.03588224354109755, '891f16cc08fffff': 0.007251924193986513, '891f16cc043ffff': 0.057433917243036446, '891f16cc207ffff': 0.16384926193210658, '891f16cc23bffff': 0.15130891112297945, '891f16cc243ffff': 0.17184117875994082, '891f16cc22bffff': 0.11972077975114974, '891f16cc62fffff': 0.08654444264016872, '891f16cc2cfffff': 0.14118575380889598, '891f16cc04fffff': 0.02801456832183024, '891f16cc247ffff': 0.20712745865646023, '891f16cc083ffff': 0.00581578385014945, '891f16cc0dbffff': 0.026372338758386113, '891f16cc217ffff': 0.1591521982579085, '891f16cc67bffff': 0.013684601836132427, '891f16cc28fffff': 0.1451564304482406, '891f16cc2d3ffff': 0.054680635318995724, '891f16cc283ffff': 0.12774349615442904, '891f16cc223ffff': 0.0739583685764346, '891f16cc073ffff': 0.010716265360986913, '891f16cd1b7ffff': 0.10724059093724696, '891f16cc257ffff': 0.19830805051466277, '891f16cc01bffff': 0.03158486917382584, '891f16cc627ffff': 0.0703222025020115, '891f16cc057ffff': 0.04596997373813891}\n",
      "Connected Component 9: {'891f1609213ffff': 0.003719979695028562, '891f1646577ffff': 0.04514203696870533, '891f1646523ffff': 0.02196779083209208, '891f1646533ffff': 0.019782033090036007, '891f164646fffff': 0.12307918538606634, '891f16460c3ffff': 0.0950867474760614, '891f164642fffff': 0.17192043472832289, '891f16461cbffff': 0.024266820069009907, '891f160966fffff': 0.002152581917357797, '891f164657bffff': 0.10088635109051355, '891f16464afffff': 0.09138602410791673, '891f1646403ffff': 0.05111418884546922, '891f1646637ffff': 0.035078439749456895, '891f164601bffff': 0.09662547651381055, '891f164643bffff': 0.1256144759568339, '891f1646463ffff': 0.10418513399672083, '891f16460c7ffff': 0.12124318262023194, '891f164641bffff': 0.02135877496516244, '891f1609277ffff': 0.0008401561050435459, '891f1646527ffff': 0.014933063323039916, '891f164603bffff': 0.06588489486009833, '891f1654b7bffff': 0.010382056771666624, '891f164655bffff': 0.16966130843452595, '891f1646457ffff': 0.01900391743234179, '891f1654b6fffff': 0.024130711993739236, '891f1646083ffff': 0.17593729769393185, '891f1609283ffff': 0.001478574421444353, '891f16466a7ffff': 0.044353058600066775, '891f16460a7ffff': 0.08793239356840048, '891f1646627ffff': 0.02525894432907624, '891f16460cfffff': 0.0798412914244674, '891f16464a7ffff': 0.06253548167125374, '891f1646027ffff': 0.02707438983382479, '891f1609263ffff': 0.0008645963642387974, '891f16460d7ffff': 0.13024462547422416, '891f16465abffff': 0.01188418875525661, '891f164608bffff': 0.1548817779060153, '891f160928bffff': 0.0035049560344563606, '891f164642bffff': 0.155390534586198, '891f16465afffff': 0.012052595553442649, '891f164663bffff': 0.004910617479747968, '891f1646553ffff': 0.14273471936702287, '891f16460afffff': 0.09418752470223975, '891f16461dbffff': 0.05284667552098133, '891f1646017ffff': 0.13762403540318557, '891f16460dbffff': 0.06162480818146665, '891f160920bffff': 0.003664336528931209, '891f16092bbffff': 0.0008140333338918042, '891f160921bffff': 0.005319454687605163, '891f16461d3ffff': 0.036904624262388774, '891f16092d7ffff': 0.004761558330391514, '891f1646023ffff': 0.05091232005080099, '891f1609267ffff': 0.0003477968509720377, '891f1646557ffff': 0.11347700324952585, '891f1646517ffff': 0.010607339137707146, '891f1609247ffff': 0.0031152236611544756, '891f1646567ffff': 0.026234833866048895, '891f16092a3ffff': 0.00014254637191715927, '891f1646423ffff': 0.1486384201066351, '891f16465a3ffff': 0.005200394088935533, '891f1646427ffff': 0.15489393823649217, '891f1609273ffff': 0.0019637324474377437, '891f16092cbffff': 0.011754381673918535, '891f160925bffff': 0.009344383195676709, '891f164650bffff': 0.07208985057703463, '891f164654fffff': 0.1416407807372233, '891f160929bffff': 0.0020829187035917014, '891f1609203ffff': 0.0027969629248299393, '891f164600fffff': 0.06980795337388332, '891f160926bffff': 0.0003949833297463013, '891f16092c7ffff': 0.005887292839590663, '891f1646077ffff': 0.03433642649660097, '891f1646057ffff': 0.04802875602161106, '891f164658bffff': 0.023671630310062534, '891f16092c3ffff': 0.008120619112219927, '891f16466afffff': 0.02715588901665309, '891f16460d3ffff': 0.09218481459046202, '891f1646407ffff': 0.08659688572759405, '891f16460b3ffff': 0.15570039286208778, '891f16464b7ffff': 0.027022896764152027, '891f1646513ffff': 0.028466434285437728, '891f1646193ffff': 0.014787104910321784, '891f1646197ffff': 0.0071443802723715885, '891f16092d3ffff': 0.005452472772684871, '891f1609253ffff': 0.009677297072531767, '891f164651bffff': 0.06650618307307789, '891f16460bbffff': 0.1546399434607424, '891f1646447ffff': 0.03529822752630807, '891f164640fffff': 0.0905880608932101, '891f164608fffff': 0.1634956594147311, '891f16465dbffff': 0.09680656079731564, '891f16460a3ffff': 0.12869085341955616, '891f1609287ffff': 0.0007673238571184197, '891f16464a3ffff': 0.04922949025928477, '891f1646033ffff': 0.08680299023237996, '891f1654b6bffff': 0.032324042303273674, '891f1646073ffff': 0.028903267194375255, '891f164652fffff': 0.016699093071947304, '891f1646003ffff': 0.10576694230326976, '891f1609243ffff': 0.0049444592579865965, '891f164654bffff': 0.1700954219390514, '891f1609257ffff': 0.006113399187496414, '891f164600bffff': 0.061076254780509896, '891f1646433ffff': 0.11405877642379124, '891f1646563ffff': 0.05558856285789213, '891f16465d7ffff': 0.044911371875388274, '891f16465cfffff': 0.10419699492815288, '891f160927bffff': 0.0011097401693612803, '891f1646037ffff': 0.05879517463201103, '891f1609217ffff': 0.0016494559203876068, '891f1646573ffff': 0.07531144629360835, '891f1646093ffff': 0.1729801761461932, '891f16460abffff': 0.12333536320433913, '891f1646623ffff': 0.013894248711072334, '891f1646013ffff': 0.1363876675494603, '891f16460cbffff': 0.058410644476397475, '891f16460b7ffff': 0.11983842627360483, '891f16465c7ffff': 0.0619352626609103, '891f164653bffff': 0.030982209368899886, '891f16464bbffff': 0.028492146455311118, '891f1646467ffff': 0.14632857488431356, '891f1646537ffff': 0.015893319158102766, '891f160920fffff': 0.0016221862130535929, '891f16092cfffff': 0.008204368296844433, '891f164656bffff': 0.070177370085714, '891f16464abffff': 0.07197454658924207, '891f1646437ffff': 0.12778589335375903, '891f1646053ffff': 0.03700602111560073, '891f16465c3ffff': 0.08628551755822339, '891f1646097ffff': 0.18118640986363085, '891f1646547ffff': 0.11413254084682041, '891f16465cbffff': 0.12467942151412195, '891f164619bffff': 0.007177018829346807, '891f164609bffff': 0.15804737664409022, '891f164652bffff': 0.027260877320501906, '891f1646633ffff': 0.014176684580342854, '891f1646543ffff': 0.14900303624917105, '891f1646393ffff': 0.00917952851829941, '891f1646007ffff': 0.10307723244141606, '891f160928fffff': 0.0020895873918086853, '891f16465a7ffff': 0.005782208703413856, '891f164647bffff': 0.051047507647090935, '891f164650fffff': 0.04265285148051047, '891f164602bffff': 0.03168199007883543, '891f16092dbffff': 0.010335149847390493, '891f160926fffff': 0.00028146257591566846, '891f1646477ffff': 0.12278079569695535, '891f1646417ffff': 0.04166621350637948, '891f16465d3ffff': 0.06070261462133108, '891f1646507ffff': 0.020279088505207713, '891f1646087ffff': 0.1751227386483521, '891f164602fffff': 0.020791075872806732, '891f164640bffff': 0.05197600227273926, '891f1646473ffff': 0.07974952976248019, '891f164646bffff': 0.07257246956011403}\n",
      "Connected Component 10: {'891f161b593ffff': 0.2976765206164909, '891f161b58bffff': 0.17679547600165482, '891f161b5d7ffff': 0.17406185729668938, '891f161b4afffff': 0.007615931293045781, '891f161a65bffff': 0.1344639845867382, '891f16c5b73ffff': 0.14343455207351796, '891f161b587ffff': 0.21588205290044976, '891f161b59bffff': 0.2851076725028396, '891f161a643ffff': 0.07686292438170944, '891f16c5b63ffff': 0.1990135187951712, '891f16c5b17ffff': 0.05966406489535667, '891f16c5b77ffff': 0.23320325619324656, '891f16c5b13ffff': 0.033132078215057245, '891f161b5bbffff': 0.10955621070505261, '891f16c5b0fffff': 0.16289428827058827, '891f16c5b47ffff': 0.04544371829144301, '891f16c5b6bffff': 0.10922470338505665, '891f16c5b67ffff': 0.29101469285731724, '891f161b5b7ffff': 0.0401970277075818, '891f16c5b2bffff': 0.2286171566577751, '891f161b517ffff': 0.0538508954434997, '891f161b5d3ffff': 0.12235255323241225, '891f16c5babffff': 0.046717852234966835, '891f161a64fffff': 0.08150000856933678, '891f161b5b3ffff': 0.12242965844958985, '891f161a64bffff': 0.1739800818070661, '891f161b58fffff': 0.16364202315838539, '891f161b5c3ffff': 0.06604364736719659, '891f161b5dbffff': 0.03863696079670689, '891f16c5b0bffff': 0.08710605541933035, '891f16c5b3bffff': 0.15809859639470059, '891f16c5b33ffff': 0.0629259838507714, '891f161b597ffff': 0.25150321694149863, '891f16c5b07ffff': 0.11441272573370743, '891f16c5b2fffff': 0.17981965906818276, '891f16c5b6fffff': 0.23274880674381235, '891f161b583ffff': 0.2741079033730046, '891f16c5b03ffff': 0.09012465268437175, '891f16c5b8fffff': 0.018292017541147707}\n",
      "Connected Component 11: {'891f1656a53ffff': 0.1104208612720701, '891f1654cd7ffff': 0.16562336373793174, '891f16541a3ffff': 0.2157039897451239, '891f16541b7ffff': 0.2574699430141405, '891f1654c8fffff': 0.03788853232190791, '891f1656a7bffff': 0.22540259682799266, '891f1656a4fffff': 0.23806692346837915, '891f1656e6fffff': 0.0036121510078301338, '891f1654c73ffff': 0.015129792331706029, '891f1654527ffff': 0.0596540183807918, '891f1656a6fffff': 0.17938923481966365, '891f1656a6bffff': 0.23924655238485376, '891f1654133ffff': 0.07436664682272799, '891f16541afffff': 0.17590783955962222, '891f165418bffff': 0.017280227255450312, '891f1654c0bffff': 0.04249157383410003, '891f1654cdbffff': 0.18867930252277973, '891f1654c47ffff': 0.019149252232394467, '891f1654c9bffff': 0.09705112904289716, '891f1656ad7ffff': 0.012227871424363065, '891f1656a43ffff': 0.188119122322959, '891f1656ad3ffff': 0.0071504429253372356, '891f1654c1bffff': 0.08193539497755929, '891f165452fffff': 0.0701796951101587, '891f1654ccfffff': 0.09838386142853182, '891f1656a47ffff': 0.189569247693127, '891f1656a1bffff': 0.06950036928856727, '891f1654cc3ffff': 0.1687560822297701, '891f1656acfffff': 0.06912081160749296, '891f1656a0bffff': 0.10317016297335377, '891f1656ac3ffff': 0.022520324877024937, '891f1656a63ffff': 0.1586902308499624, '891f1654cd3ffff': 0.22062846111438839, '891f1654c57ffff': 0.04510401520252851, '891f1654193ffff': 0.05346614004617618, '891f165419bffff': 0.02568060917576584, '891f1656a4bffff': 0.19566314588317865, '891f16541b3ffff': 0.2209283026097885, '891f1654183ffff': 0.06702299607726533, '891f1656a67ffff': 0.08111145084805647, '891f16541a7ffff': 0.24188774200472482, '891f1654197ffff': 0.12394763394338346, '891f1656ac7ffff': 0.03231650479793805, '891f16541bbffff': 0.13911913190139177, '891f1656a5bffff': 0.13942674108834913, '891f1654117ffff': 0.04864830194748127, '891f1654c03ffff': 0.047104066400048675, '891f1656a57ffff': 0.13605596219535823, '891f1654c8bffff': 0.09451365046709696, '891f1656a03ffff': 0.03218636048565813, '891f1654137ffff': 0.10117868022827847, '891f16541abffff': 0.12186206865482332, '891f1654ccbffff': 0.10382902362874018, '891f1654c13ffff': 0.07829991825376248, '891f1654c0fffff': 0.01952211370324942, '891f1654cc7ffff': 0.1281588504979924, '891f1656a73ffff': 0.12616479591481075, '891f1654187ffff': 0.13918441588996175, '891f1654c17ffff': 0.030439573189213715}\n",
      "Connected Component 12: {'891f1610ad3ffff': 0.12123412845089664, '891f1610e43ffff': 0.13447977932510105, '891f1611db7ffff': 0.16630573466223755, '891f1610a9bffff': 0.180772696579642, '891f1610e0bffff': 0.20192956599802916, '891f1610a77ffff': 0.011230586303967316, '891f1610a43ffff': 0.0064781872091901225, '891f1611da3ffff': 0.06874571606877432, '891f1610a2fffff': 0.006596117017816422, '891f1610e27ffff': 0.057208096315586335, '891f1610e53ffff': 0.08834459112865327, '891f160248bffff': 0.005026257420810248, '891f1610a6bffff': 0.009068633372368887, '891f16119b7ffff': 0.006173320517278681, '891f1610e37ffff': 0.05257530429832245, '891f1602487ffff': 0.0040192723248957144, '891f1610a47ffff': 0.012591006443521836, '891f16024d7ffff': 0.005365058739639201, '891f1610a83ffff': 0.10906453155139822, '891f1610e3bffff': 0.18906017044731258, '891f1611db3ffff': 0.09789815003368373, '891f1610327ffff': 0.03160285960781256, '891f1610a73ffff': 0.013093270750330366, '891f1610b5bffff': 0.003638727300218559, '891f1610a97ffff': 0.07523077097862907, '891f1610e23ffff': 0.1338206254282407, '891f1602497ffff': 0.006161140065954969, '891f1610e2bffff': 0.2076158511756144, '891f1610e67ffff': 0.2410898562815807, '891f1610a93ffff': 0.17407914423703008, '891f16119a3ffff': 0.0019299042266130593, '891f1610a4fffff': 0.006783544217487374, '891f1610e4bffff': 0.08210516262389286, '891f1610a8bffff': 0.10667122550919807, '891f1611d87ffff': 0.0335318835419972, '891f1610ac7ffff': 0.06118693474932636, '891f1610a57ffff': 0.015395278612016129, '891f1610ad7ffff': 0.1270971800645778, '891f1610a2bffff': 0.00912392493088085, '891f1610ec3ffff': 0.040538316898562236, '891f1611da7ffff': 0.10483159774005134, '891f1610e73ffff': 0.259198971051799, '891f1610ecfffff': 0.09413837985238827, '891f1610a13ffff': 0.045784259490398715, '891f16024bbffff': 0.0017584216839838405, '891f1610e7bffff': 0.23997005274899708, '891f1602483ffff': 0.006906105314463977, '891f1610e4fffff': 0.17484089396563282, '891f1610a23ffff': 0.004604760557533706, '891f16119a7ffff': 0.004182753899315285, '891f1610ecbffff': 0.05521894089488931, '891f1610a1bffff': 0.029198318500059398, '891f1610a6fffff': 0.009676081140473533, '891f16024d3ffff': 0.0052727708978990125, '891f1610e03ffff': 0.12000823832145516, '891f1610e1bffff': 0.11578305571268029, '891f1610e47ffff': 0.21780869786500118, '891f1610a8fffff': 0.04871734653444728, '891f1610a7bffff': 0.011162827954444943, '891f1610e0fffff': 0.21237916433399487, '891f1610e33ffff': 0.09120197207164416, '891f1610a3bffff': 0.0062212895656258375, '891f1610e07ffff': 0.11412731823564883, '891f160249bffff': 0.00881127403776223, '891f1610e77ffff': 0.25575332818868823, '891f1610a67ffff': 0.01120687503864511, '891f1610337ffff': 0.020197441098191164, '891f1610e57ffff': 0.1588048268701553, '891f1610a0fffff': 0.008424006564271664, '891f1602413ffff': 0.0019460849785098756, '891f1610b43ffff': 0.0012000047030981463, '891f160248fffff': 0.00393878814237899, '891f1610ec7ffff': 0.04665684182466422, '891f1610acfffff': 0.019705820265490198, '891f1610edbffff': 0.02160059460940648, '891f1610a0bffff': 0.014663062653345677, '891f1610b4bffff': 0.0027994095647626296, '891f1610e6bffff': 0.20646327862090025, '891f1602493ffff': 0.009096278880817444, '891f1610a27ffff': 0.002765832379141464, '891f1602417ffff': 0.0014759302038953302, '891f1610e6fffff': 0.21240736754068595, '891f161032fffff': 0.005887131517447487, '891f1610e63ffff': 0.26357126575874024, '891f1610a63ffff': 0.01219480452959906, '891f1610e2fffff': 0.12070413487146184, '891f1602407ffff': 0.00027510596751566084}\n",
      "Connected Component 13: {'891f1619413ffff': 0.3321738965179352, '891f1619447ffff': 0.2225970714730264, '891f1619483ffff': 0.13946181168240354, '891f161949bffff': 0.10674970957271562, '891f16194c7ffff': 0.2270769159908469, '891f161b22bffff': 0.02706052853542381, '891f161b22fffff': 0.02706052853542381, '891f161944fffff': 0.05337573049664575, '891f161941bffff': 0.38111649049856605, '891f161940fffff': 0.27866509761146363, '891f161948fffff': 0.16913178361141024, '891f1619403ffff': 0.37425620717534996, '891f161940bffff': 0.4122668856779008, '891f161b223ffff': 0.013769947339967833, '891f161948bffff': 0.23369774560479917, '891f1619473ffff': 0.21905198376933935, '891f1619493ffff': 0.07201769056369754, '891f161b233ffff': 0.003302038763450063, '891f1619457ffff': 0.24361878797808637, '891f1619407ffff': 0.15656198710714872}\n",
      "Connected Component 14: {'891f1656603ffff': 0.3224387801566604, '891f1656647ffff': 0.2095248160797479, '891f1656633ffff': 0.10914509810448814, '891f165660bffff': 0.33855500568369956, '891f165663bffff': 0.1783670813988603, '891f1656653ffff': 0.2171331590044489, '891f1656613ffff': 0.1987888747968902, '891f1656607ffff': 0.24477482669260014, '891f1657597ffff': 0.03888129349988079, '891f1656657ffff': 0.30395170653276193, '891f1656673ffff': 0.20424784697285286, '891f165665bffff': 0.12510817724698556, '891f1656617ffff': 0.17942518143225336, '891f16566cbffff': 0.11430547242820527, '891f165660fffff': 0.2954366184933945, '891f16566abffff': 0.10932514986492028, '891f165662bffff': 0.06790445590243774, '891f16cdb23ffff': 0.03667368750855023, '891f1656643ffff': 0.17540761198300436, '891f16cdb2fffff': 0.06457058823981543, '891f16566cfffff': 0.22616077641804141, '891f16cdb27ffff': 0.1143384251343715, '891f1656677ffff': 0.15290639134329867, '891f16566c7ffff': 0.15188899233919323, '891f165661bffff': 0.31603759292937855}\n",
      "Connected Component 15: {'891f16c8b0bffff': 0.0038258005731537518, '891f16c8b7bffff': 0.001958574935293701, '891f16c8b73ffff': 0.0037618777043245564, '891f16c8b3bffff': 0.0022455783441067746, '891f16c890bffff': 0.2099223803533554, '891f16c8b8fffff': 0.08798892084597996, '891f16c8977ffff': 0.14215994653205305, '891f16c8947ffff': 0.35442975449663844, '891f16c8b77ffff': 0.0027041311528110765, '891f16c897bffff': 0.35692874233055133, '891f16c894bffff': 0.24959071011608072, '891f16c8b13ffff': 0.02031496105225976, '891f16c8b47ffff': 0.0024497764180413427, '891f16c8bb3ffff': 0.2502495325646127, '891f16c8b03ffff': 0.006838048445426211, '891f16c8943ffff': 0.24469756835251802, '891f16c8907ffff': 0.0315910658531518, '891f16c8b0fffff': 0.004792416242887323, '891f16c8bb7ffff': 0.24748702461253128, '891f16c8b87ffff': 0.19248345958976032, '891f16c8963ffff': 0.21143382365479935, '891f16c894fffff': 0.36490713207910846, '891f16c890fffff': 0.147466872869739, '891f16c8957ffff': 0.1733185660291774, '891f16c8b83ffff': 0.08423798116107102, '891f16cd6d3ffff': 0.03924211901302413, '891f16c8973ffff': 0.30470090087079565, '891f16c8b43ffff': 0.0007637589123095277, '891f16c8b63ffff': 0.0018073700243514644, '891f16c896bffff': 0.18318190866995498, '891f16c8b07ffff': 0.0029747999754788047, '891f16c8bbbffff': 0.11369396463949351, '891f16c8b4fffff': 0.001109773859851843, '891f16c8b97ffff': 0.1127492510073018}\n",
      "Connected Component 16: {'891f160aec3ffff': 0.3106042815106294, '891f160ae53ffff': 0.20575935771727158, '891f160aedbffff': 0.1230222008042203, '891f160ae03ffff': 0.19156786581616944, '891f160aec7ffff': 0.4041978779596679, '891f160aecbffff': 0.23594217430952089, '891f160ae13ffff': 0.2690092459652518, '891f160aed7ffff': 0.20792069239201263, '891f160ae83ffff': 0.047025681634401025, '891f160ae57ffff': 0.26935365966891006, '891f160ae0bffff': 0.19163090516954695, '891f160ae8bffff': 0.20891841961848193, '891f160ae1bffff': 0.39043678666647186, '891f160aecfffff': 0.4088284873217087}\n",
      "Connected Component 17: {'891f160a9cbffff': 0.001168355074580579, '891f160a867ffff': 0.14083300471273916, '891f160a863ffff': 0.30661187478668483, '891f160a877ffff': 0.22209611659281814, '891f160a84fffff': 0.3782439939488185, '891f160a847ffff': 0.3002783472702009, '891f160a827ffff': 0.005114107282040859, '891f160a873ffff': 0.31441088617077095, '891f160a87bffff': 0.4247238636258359, '891f160a86bffff': 0.24007234005222325, '891f160a84bffff': 0.1839950672996054, '891f160a823ffff': 0.02121723773736245, '891f160a843ffff': 0.19704091818424468, '891f160a80fffff': 0.12256574232719677, '891f160aab3ffff': 0.23012744712697306, '891f160aab7ffff': 0.3195402473558749, '891f160a82bffff': 0.08775917030715841, '891f160aaa3ffff': 0.12557068035886715}\n",
      "Connected Component 18: {'891f16c6893ffff': 0.24108028314380625, '891f16c6c77ffff': 0.26827700181175795, '891f16c6c83ffff': 0.04112714715348857, '891f16c6c67ffff': 0.21748143648678603, '891f16c6c37ffff': 0.2107110783815772, '891f16c6c87ffff': 0.08311168001434838, '891f16c6cb3ffff': 0.08566480316842948, '891f16c6cabffff': 0.18896849748880612, '891f16c6cbbffff': 0.13355179922680882, '891f16c6c23ffff': 0.370301364050554, '891f16c6c3bffff': 0.35796063046277443, '891f16c6cafffff': 0.2037455309279171, '891f16c6c8fffff': 0.061068323698746776, '891f16c6c2bffff': 0.408732638443447, '891f16c6897ffff': 0.12114951507178164, '891f16c6c2fffff': 0.27034805565602454, '891f16c6ca3ffff': 0.1449592489325887, '891f16c6c0fffff': 0.14834623373973335, '891f16c6c33ffff': 0.31545785551295963, '891f16c6c97ffff': 0.02943122898040876}\n",
      "Connected Component 19: {'891f165512fffff': 0.09761481780483935, '891f1655c03ffff': 0.13503875965395185, '891f1655c33ffff': 0.022183119018958423, '891f16551a3ffff': 0.13519031302407833, '891f1655c13ffff': 0.17536793783940724, '891f1655133ffff': 0.14010595064288484, '891f1655cabffff': 0.047855219248083516, '891f1655c87ffff': 0.028347047090154495, '891f1655c8fffff': 0.09747979726247993, '891f1655cbbffff': 0.05317648175083719, '891f1655cdbffff': 0.26307544149590323, '891f16551a7ffff': 0.20017691682586175, '891f165512bffff': 0.05866726182247053, '891f165427bffff': 0.04494121652322206, '891f1655c07ffff': 0.0700410176128599, '891f1655c1bffff': 0.20069233825464608, '891f1655127ffff': 0.19946680890864066, '891f16551b3ffff': 0.055847763324589565, '891f165513bffff': 0.06539595378579267, '891f1655cc7ffff': 0.2376384425439666, '891f1655ccbffff': 0.2678369022394879, '891f1655cd3ffff': 0.22583548419239383, '891f1655c43ffff': 0.09310444304383361, '891f1655c5bffff': 0.1118764729682876, '891f1655123ffff': 0.14879797598191602, '891f165426fffff': 0.12352247129853157, '891f165426bffff': 0.13196393429357103, '891f16551afffff': 0.2009543313230929, '891f1655cd7ffff': 0.20772789188997032, '891f1655c57ffff': 0.16101942356243845, '891f1655c17ffff': 0.10893511410442075, '891f1655ccfffff': 0.25314534069705025, '891f1655c8bffff': 0.15225241863052763, '891f1655137ffff': 0.22958998055465707, '891f1655c0bffff': 0.10442357495791108, '891f1655c9bffff': 0.09097294357988933, '891f1655c53ffff': 0.20441884984085693, '891f1655c0fffff': 0.058235094729832744, '891f16551abffff': 0.09990671135566616, '891f16551bbffff': 0.0547414845421196, '891f16551b7ffff': 0.10689257072771666, '891f1655cc3ffff': 0.2738116959877025, '891f1655c4fffff': 0.017517919628899273}\n",
      "Connected Component 20: {'891f16c094fffff': 0.041977235256190085, '891f16c0b57ffff': 0.17345009471521347, '891f16c0bc7ffff': 0.21913021121685333, '891f16c0bbbffff': 0.24971477701447042, '891f16c0b8bffff': 0.22024922891568594, '891f16c0b03ffff': 0.32105831824941466, '891f16c0b1bffff': 0.29152319038758684, '891f16c0bcfffff': 0.13891667561972112, '891f16c0ba3ffff': 0.1146992950462047, '891f16c0bb3ffff': 0.1341124491729663, '891f16c094bffff': 0.07260259596286545, '891f16c0b43ffff': 0.059635501417499404, '891f16c0b07ffff': 0.20398949878063216, '891f16c0b73ffff': 0.11513469675772607, '891f16c0b13ffff': 0.33920413532199734, '891f16c0b17ffff': 0.3229688328497827, '891f16c0b8fffff': 0.2954914641659737, '891f16c0babffff': 0.18100753369387215, '891f16c0b0fffff': 0.17951767119777848, '891f16c0b0bffff': 0.2438619817685164, '891f16c0b47ffff': 0.12023001419759181, '891f16c0bd7ffff': 0.08922256944862031, '891f16c0b83ffff': 0.14157372257498635, '891f16c0b87ffff': 0.18143925545789774, '891f16c0b63ffff': 0.023379581941626076}\n",
      "Connected Component 21: {'891f1657417ffff': 0.09382223313556746, '891f16cdbcbffff': 0.07035073497835309, '891f165749bffff': 0.16052261289192918, '891f1657483ffff': 0.2812776114264713, '891f16cda2bffff': 0.17648778878459254, '891f16cda3bffff': 0.06364681743107765, '891f16cdb43ffff': 0.19113362263063416, '891f16574a3ffff': 0.09475410953581227, '891f1657497ffff': 0.3448037662168853, '891f1657487ffff': 0.3030426973219777, '891f16cdb57ffff': 0.07060497639213463, '891f16cda67ffff': 0.12178095882808154, '891f16574bbffff': 0.19401101828813244, '891f16574abffff': 0.07636852823392068, '891f16cda27ffff': 0.18986121125261504, '891f16cda23ffff': 0.14237476007189168, '891f165748bffff': 0.12803843874610077, '891f16cdb4bffff': 0.29412748601080657, '891f16cda2fffff': 0.2832827726709372, '891f1657493ffff': 0.27309368483722396, '891f16cdb4fffff': 0.13764539074347257, '891f16574b3ffff': 0.20431609191030942, '891f16cdb5bffff': 0.29258320032556373, '891f165748fffff': 0.19964754646623117, '891f16cdb53ffff': 0.162586409808966}\n",
      "Connected Component 22: {'891f16190afffff': 0.23176980939354047, '891f16190b3ffff': 0.41652893165083277, '891f1619087ffff': 0.27322509977285886, '891f1619037ffff': 0.08505937489821004, '891f161955bffff': 0.15261427917522735, '891f161954bffff': 0.3307530605864593, '891f1619023ffff': 0.019264769405694687, '891f16190b7ffff': 0.294888296524109, '891f16190a3ffff': 0.37757356128683306, '891f1619097ffff': 0.1713545118475594, '891f16191dbffff': 0.1245276547381147, '891f16190abffff': 0.20317701881747147, '891f161954fffff': 0.27492969063209466, '891f1619543ffff': 0.17174058433512376, '891f16190a7ffff': 0.23299790395650055, '891f16190bbffff': 0.28774819035831645}\n",
      "Connected Component 23: {'891f16115dbffff': 0.23004822951602352, '891f1611437ffff': 0.4459425705535245, '891f16115cbffff': 0.23653813779881824, '891f161143bffff': 0.24234380765924118, '891f16114abffff': 0.15617560948116793, '891f16114afffff': 0.2859338705163717, '891f1611427ffff': 0.319745524502452, '891f1611433ffff': 0.3715016651847532, '891f1611423ffff': 0.4334779607721435, '891f161142bffff': 0.21519109359411878, '891f161142fffff': 0.23004822951602347}\n"
     ]
    }
   ],
   "source": [
    "# Print or use the list of eigenvector centralities as needed\n",
    "for i, centrality in enumerate(eigenvector_centralities):\n",
    "    print(f\"Connected Component {i + 1}: {centrality}\")"
   ]
  },
  {
   "cell_type": "code",
   "execution_count": 152,
   "metadata": {},
   "outputs": [],
   "source": [
    "# export for visualization in ArcGIS\n",
    "eigen = hex_df[['hex9','geometry']]"
   ]
  },
  {
   "cell_type": "code",
   "execution_count": 153,
   "metadata": {},
   "outputs": [
    {
     "name": "stderr",
     "output_type": "stream",
     "text": [
      "c:\\Users\\User\\anaconda3\\envs\\scip\\lib\\site-packages\\geopandas\\geodataframe.py:1538: SettingWithCopyWarning: \n",
      "A value is trying to be set on a copy of a slice from a DataFrame.\n",
      "Try using .loc[row_indexer,col_indexer] = value instead\n",
      "\n",
      "See the caveats in the documentation: https://pandas.pydata.org/pandas-docs/stable/user_guide/indexing.html#returning-a-view-versus-a-copy\n",
      "  super().__setitem__(key, value)\n"
     ]
    }
   ],
   "source": [
    "eigen['eigen_centrality'] = np.nan"
   ]
  },
  {
   "cell_type": "code",
   "execution_count": 154,
   "metadata": {},
   "outputs": [],
   "source": [
    "# Fill in eigenvector centralities into the 'eigen' column based on 'hex9'\n",
    "for centrality_dict in eigenvector_centralities:\n",
    "    for node_index, centrality_value in centrality_dict.items():\n",
    "        # Update the 'eigen' column with the corresponding centrality value\n",
    "        eigen.loc[eigen['hex9'] == node_index, 'eigen_centrality'] = centrality_value"
   ]
  },
  {
   "cell_type": "code",
   "execution_count": 155,
   "metadata": {},
   "outputs": [
    {
     "data": {
      "text/html": [
       "<div>\n",
       "<style scoped>\n",
       "    .dataframe tbody tr th:only-of-type {\n",
       "        vertical-align: middle;\n",
       "    }\n",
       "\n",
       "    .dataframe tbody tr th {\n",
       "        vertical-align: top;\n",
       "    }\n",
       "\n",
       "    .dataframe thead th {\n",
       "        text-align: right;\n",
       "    }\n",
       "</style>\n",
       "<table border=\"1\" class=\"dataframe\">\n",
       "  <thead>\n",
       "    <tr style=\"text-align: right;\">\n",
       "      <th></th>\n",
       "      <th>hex9</th>\n",
       "      <th>geometry</th>\n",
       "      <th>eigen_centrality</th>\n",
       "    </tr>\n",
       "  </thead>\n",
       "  <tbody>\n",
       "    <tr>\n",
       "      <th>48</th>\n",
       "      <td>891f165512bffff</td>\n",
       "      <td>POLYGON ((6.68349 52.13894, 6.68377 52.13733, ...</td>\n",
       "      <td>0.058667</td>\n",
       "    </tr>\n",
       "    <tr>\n",
       "      <th>49</th>\n",
       "      <td>891f165513bffff</td>\n",
       "      <td>POLYGON ((6.68065 52.14106, 6.68093 52.13946, ...</td>\n",
       "      <td>0.065396</td>\n",
       "    </tr>\n",
       "    <tr>\n",
       "      <th>50</th>\n",
       "      <td>891f1655123ffff</td>\n",
       "      <td>POLYGON ((6.68548 52.14164, 6.68576 52.14004, ...</td>\n",
       "      <td>0.148798</td>\n",
       "    </tr>\n",
       "    <tr>\n",
       "      <th>51</th>\n",
       "      <td>891f1655133ffff</td>\n",
       "      <td>POLYGON ((6.68264 52.14377, 6.68292 52.14216, ...</td>\n",
       "      <td>0.140106</td>\n",
       "    </tr>\n",
       "    <tr>\n",
       "      <th>52</th>\n",
       "      <td>891f16551abffff</td>\n",
       "      <td>POLYGON ((6.67981 52.14589, 6.68009 52.14428, ...</td>\n",
       "      <td>0.099907</td>\n",
       "    </tr>\n",
       "    <tr>\n",
       "      <th>...</th>\n",
       "      <td>...</td>\n",
       "      <td>...</td>\n",
       "      <td>...</td>\n",
       "    </tr>\n",
       "    <tr>\n",
       "      <th>10872</th>\n",
       "      <td>891f16c6c83ffff</td>\n",
       "      <td>POLYGON ((6.69784 52.47963, 6.69812 52.47803, ...</td>\n",
       "      <td>0.041127</td>\n",
       "    </tr>\n",
       "    <tr>\n",
       "      <th>10873</th>\n",
       "      <td>891f16c6c87ffff</td>\n",
       "      <td>POLYGON ((6.70269 52.48021, 6.70297 52.47861, ...</td>\n",
       "      <td>0.083112</td>\n",
       "    </tr>\n",
       "    <tr>\n",
       "      <th>10875</th>\n",
       "      <td>891f16c6c97ffff</td>\n",
       "      <td>POLYGON ((6.69984 52.48232, 6.70012 52.48072, ...</td>\n",
       "      <td>0.029431</td>\n",
       "    </tr>\n",
       "    <tr>\n",
       "      <th>10876</th>\n",
       "      <td>891f16c6ca3ffff</td>\n",
       "      <td>POLYGON ((6.71039 52.47868, 6.71067 52.47708, ...</td>\n",
       "      <td>0.144959</td>\n",
       "    </tr>\n",
       "    <tr>\n",
       "      <th>10877</th>\n",
       "      <td>891f16c6cb3ffff</td>\n",
       "      <td>POLYGON ((6.70754 52.48079, 6.70782 52.47919, ...</td>\n",
       "      <td>0.085665</td>\n",
       "    </tr>\n",
       "  </tbody>\n",
       "</table>\n",
       "<p>1249 rows × 3 columns</p>\n",
       "</div>"
      ],
      "text/plain": [
       "                  hex9                                           geometry  \\\n",
       "48     891f165512bffff  POLYGON ((6.68349 52.13894, 6.68377 52.13733, ...   \n",
       "49     891f165513bffff  POLYGON ((6.68065 52.14106, 6.68093 52.13946, ...   \n",
       "50     891f1655123ffff  POLYGON ((6.68548 52.14164, 6.68576 52.14004, ...   \n",
       "51     891f1655133ffff  POLYGON ((6.68264 52.14377, 6.68292 52.14216, ...   \n",
       "52     891f16551abffff  POLYGON ((6.67981 52.14589, 6.68009 52.14428, ...   \n",
       "...                ...                                                ...   \n",
       "10872  891f16c6c83ffff  POLYGON ((6.69784 52.47963, 6.69812 52.47803, ...   \n",
       "10873  891f16c6c87ffff  POLYGON ((6.70269 52.48021, 6.70297 52.47861, ...   \n",
       "10875  891f16c6c97ffff  POLYGON ((6.69984 52.48232, 6.70012 52.48072, ...   \n",
       "10876  891f16c6ca3ffff  POLYGON ((6.71039 52.47868, 6.71067 52.47708, ...   \n",
       "10877  891f16c6cb3ffff  POLYGON ((6.70754 52.48079, 6.70782 52.47919, ...   \n",
       "\n",
       "       eigen_centrality  \n",
       "48             0.058667  \n",
       "49             0.065396  \n",
       "50             0.148798  \n",
       "51             0.140106  \n",
       "52             0.099907  \n",
       "...                 ...  \n",
       "10872          0.041127  \n",
       "10873          0.083112  \n",
       "10875          0.029431  \n",
       "10876          0.144959  \n",
       "10877          0.085665  \n",
       "\n",
       "[1249 rows x 3 columns]"
      ]
     },
     "execution_count": 155,
     "metadata": {},
     "output_type": "execute_result"
    }
   ],
   "source": [
    "eigen[~eigen['eigen_centrality'].isna()]"
   ]
  },
  {
   "cell_type": "code",
   "execution_count": 156,
   "metadata": {},
   "outputs": [],
   "source": [
    "site = []\n",
    "for centrality_dict in eigenvector_centralities:\n",
    "    max_node_index = max(centrality_dict, key=centrality_dict.get)\n",
    "    site.append(max_node_index)"
   ]
  },
  {
   "cell_type": "code",
   "execution_count": 157,
   "metadata": {},
   "outputs": [],
   "source": [
    "# eigen[~eigen['eigen_centrality'].isna()].to_file('./eigen.shp')"
   ]
  },
  {
   "cell_type": "code",
   "execution_count": 158,
   "metadata": {},
   "outputs": [],
   "source": [
    "# sub_size = [len(c) for c in sorted(nx.connected_components(H), key=len, reverse=True)]\n",
    "# sub_sizeh = [len(c) for c in sorted(nx.connected_components(h), key=len, reverse=True)]"
   ]
  },
  {
   "cell_type": "code",
   "execution_count": 159,
   "metadata": {},
   "outputs": [],
   "source": [
    "# # Plotting the histogram\n",
    "# plt.hist(sub_size, bins=30, edgecolor='black')\n",
    "# plt.xlabel('Connected Component Size')\n",
    "# plt.ylabel('Frequency')\n",
    "# plt.title('Distribution of Connected Component Sizes')\n",
    "# plt.show()"
   ]
  },
  {
   "cell_type": "code",
   "execution_count": 160,
   "metadata": {},
   "outputs": [
    {
     "ename": "NameError",
     "evalue": "name 'sub_size' is not defined",
     "output_type": "error",
     "traceback": [
      "\u001b[1;31m---------------------------------------------------------------------------\u001b[0m",
      "\u001b[1;31mNameError\u001b[0m                                 Traceback (most recent call last)",
      "Cell \u001b[1;32mIn[160], line 1\u001b[0m\n\u001b[1;32m----> 1\u001b[0m \u001b[38;5;28mlen\u001b[39m(\u001b[38;5;28mset\u001b[39m(\u001b[43msub_size\u001b[49m))\n",
      "\u001b[1;31mNameError\u001b[0m: name 'sub_size' is not defined"
     ]
    }
   ],
   "source": [
    "len(set(sub_size))"
   ]
  },
  {
   "cell_type": "code",
   "execution_count": null,
   "metadata": {},
   "outputs": [],
   "source": [
    "nH = list(H.nodes())"
   ]
  },
  {
   "cell_type": "code",
   "execution_count": null,
   "metadata": {},
   "outputs": [
    {
     "name": "stderr",
     "output_type": "stream",
     "text": [
      "C:\\Users\\User\\AppData\\Local\\Temp\\ipykernel_13476\\3210048485.py:1: UserWarning: Column names longer than 10 characters will be truncated when saved to ESRI Shapefile.\n",
      "  hex_df[hex_df['hex9'].isin(nH)].to_file('./n005.shp')\n"
     ]
    }
   ],
   "source": [
    "# hex_df[hex_df['hex9'].isin(nH)].to_file('./n005.shp')"
   ]
  },
  {
   "cell_type": "code",
   "execution_count": null,
   "metadata": {},
   "outputs": [],
   "source": [
    "# hex_df[hex_df['hex9'].isin(list(h.nodes()))].to_file('./n001.shp')"
   ]
  },
  {
   "cell_type": "code",
   "execution_count": null,
   "metadata": {},
   "outputs": [],
   "source": [
    "# Counter(sub_size)"
   ]
  },
  {
   "cell_type": "code",
   "execution_count": null,
   "metadata": {},
   "outputs": [],
   "source": [
    "# Counter(sub_sizeh)"
   ]
  },
  {
   "cell_type": "code",
   "execution_count": null,
   "metadata": {},
   "outputs": [
    {
     "name": "stdout",
     "output_type": "stream",
     "text": [
      "10 most common values and their counts:\n"
     ]
    }
   ],
   "source": [
    "# from collections import Counter\n",
    "# # Use Counter to count occurrences of each value\n",
    "# value_counts = Counter(sub_size)\n",
    "\n",
    "# # Get the 10 most common values\n",
    "# most_common_values = value_counts.most_common(10)\n",
    "\n",
    "# # Display the result(f\"{value}: {count}\")\n",
    "# print(\"10 most common values and their counts:\")\n",
    "# for value, count in most_common_values:\n",
    "#     print"
   ]
  },
  {
   "cell_type": "code",
   "execution_count": 161,
   "metadata": {},
   "outputs": [],
   "source": [
    "def filter_site(fuzzy_df, w, g):\n",
    "    # 1. Compute loca moran's I\n",
    "    lisa = esda.Moran_Local(fuzzy_df['fuzzy'], w, seed=42)\n",
    "    # 2. Break observations into significant or not\n",
    "    fuzzy_df['significant'] = lisa.p_sim < 0.01\n",
    "    # 3. Store the quadrant they belong to\n",
    "    fuzzy_df['quadrant'] = lisa.q\n",
    "    # Get indices of H3 cells that are in the HH quadrant\n",
    "    HH = fuzzy_df[(fuzzy_df['significant'] == True) & (fuzzy_df['quadrant'] == 1)].hex9.to_list()\n",
    "    # HH = fuzzy_df[(lisa.q == 1) & (lisa.p_sim < 0.01)]\n",
    "    # Build sub graph that includes only the HH quadrant\n",
    "    H = g.subgraph(HH)\n",
    "    # Get sub components in the sub graphs\n",
    "    subH = list(nx.connected_components(H))\n",
    "    print(len(subH))\n",
    "    filter_subH = [component for component in subH if len(component) > 10]\n",
    "    print(len(filter_subH))\n",
    "    # Calculate eigenvector centrality for each connected component\n",
    "    site_idx = []\n",
    "    for component in filter_subH:\n",
    "        # Create a subgraph for the current connected component\n",
    "        subgraph = H.subgraph(component)\n",
    "        # Calculate eigenvector centrality for a connected graph\n",
    "        eigenvector_centrality = nx.eigenvector_centrality(subgraph, max_iter=1000)\n",
    "        # Get the node index with the highest eigenvector centrality in that connected graph\n",
    "        max_node_index = max(eigenvector_centrality, key=eigenvector_centrality.get)\n",
    "        # Append the node index to a list\n",
    "        site_idx.append(max_node_index)\n",
    "    return site_idx"
   ]
  },
  {
   "cell_type": "code",
   "execution_count": 162,
   "metadata": {},
   "outputs": [
    {
     "name": "stdout",
     "output_type": "stream",
     "text": [
      "269\n",
      "20\n"
     ]
    }
   ],
   "source": [
    "site_idx = filter_site(hex, w, g)"
   ]
  },
  {
   "cell_type": "code",
   "execution_count": 164,
   "metadata": {},
   "outputs": [
    {
     "data": {
      "text/plain": [
       "['891f16cd443ffff',\n",
       " '891f165689bffff',\n",
       " '891f160b4dbffff',\n",
       " '891f16106c7ffff',\n",
       " '891f1652ecfffff',\n",
       " '891f1619933ffff',\n",
       " '891f16cca87ffff',\n",
       " '891f16cc20bffff',\n",
       " '891f1646097ffff',\n",
       " '891f161b593ffff',\n",
       " '891f16541b7ffff',\n",
       " '891f1610e63ffff',\n",
       " '891f161940bffff',\n",
       " '891f165660bffff',\n",
       " '891f16c894fffff',\n",
       " '891f160aecfffff',\n",
       " '891f160a87bffff',\n",
       " '891f16c6c2bffff',\n",
       " '891f1655cc3ffff',\n",
       " '891f16c0b13ffff',\n",
       " '891f1657497ffff',\n",
       " '891f16190b3ffff',\n",
       " '891f1611437ffff']"
      ]
     },
     "execution_count": 164,
     "metadata": {},
     "output_type": "execute_result"
    }
   ],
   "source": [
    "site"
   ]
  },
  {
   "cell_type": "code",
   "execution_count": 163,
   "metadata": {},
   "outputs": [
    {
     "data": {
      "text/plain": [
       "['891f16568c7ffff',\n",
       " '891f165693bffff',\n",
       " '891f160a697ffff',\n",
       " '891f16cc263ffff',\n",
       " '891f1610a93ffff',\n",
       " '891f16ccac7ffff',\n",
       " '891f164654fffff',\n",
       " '891f161068fffff',\n",
       " '891f1655cdbffff',\n",
       " '891f1610a63ffff',\n",
       " '891f161b44bffff',\n",
       " '891f1656ac7ffff',\n",
       " '891f16c5b67ffff',\n",
       " '891f16cc297ffff',\n",
       " '891f1619483ffff',\n",
       " '891f16c8943ffff',\n",
       " '891f1656283ffff',\n",
       " '891f1654cc7ffff',\n",
       " '891f161955bffff',\n",
       " '891f16cce83ffff']"
      ]
     },
     "execution_count": 163,
     "metadata": {},
     "output_type": "execute_result"
    }
   ],
   "source": [
    "site_idx"
   ]
  },
  {
   "cell_type": "code",
   "execution_count": 165,
   "metadata": {},
   "outputs": [
    {
     "name": "stderr",
     "output_type": "stream",
     "text": [
      "C:\\Users\\User\\AppData\\Local\\Temp\\ipykernel_16312\\4050862253.py:1: UserWarning: Column names longer than 10 characters will be truncated when saved to ESRI Shapefile.\n",
      "  hex_df[hex_df['hex9'].isin(site_idx)].to_file('./site_idx.shp')\n"
     ]
    }
   ],
   "source": [
    "hex_df[hex_df['hex9'].isin(site_idx)].to_file('./site_idx.shp')"
   ]
  },
  {
   "cell_type": "code",
   "execution_count": 166,
   "metadata": {},
   "outputs": [
    {
     "name": "stderr",
     "output_type": "stream",
     "text": [
      "C:\\Users\\User\\AppData\\Local\\Temp\\ipykernel_16312\\3912182394.py:1: UserWarning: Column names longer than 10 characters will be truncated when saved to ESRI Shapefile.\n",
      "  hex_df[hex_df['hex9'].isin(site)].to_file('./site.shp')\n"
     ]
    }
   ],
   "source": [
    "hex_df[hex_df['hex9'].isin(site)].to_file('./site.shp')"
   ]
  },
  {
   "cell_type": "code",
   "execution_count": 167,
   "metadata": {},
   "outputs": [
    {
     "data": {
      "text/plain": [
       "set()"
      ]
     },
     "execution_count": 167,
     "metadata": {},
     "output_type": "execute_result"
    }
   ],
   "source": [
    "set(site_idx).intersection(set(site))"
   ]
  },
  {
   "cell_type": "code",
   "execution_count": null,
   "metadata": {},
   "outputs": [],
   "source": [
    "# Define a layer to display on a map\n",
    "layer = pdk.Layer(\n",
    "    \"H3HexagonLayer\",\n",
    "    site,\n",
    "    pickable=True,\n",
    "    # stroked=True,\n",
    "    filled=True,\n",
    "    extruded=False,\n",
    "    auto_highlight=True,\n",
    "    opacity=0.6,\n",
    "    get_hexagon=\"hex9\",\n",
    "    get_fill_color = \"color\", \n",
    "    get_line_color=[255, 255, 255],\n",
    "    line_width_min_pixels=0.1\n",
    "    )\n",
    "\n",
    "\n",
    "# Set the viewport location\n",
    "view_state = pdk.ViewState(longitude=6.747489560596507, latitude=52.316862707395394, zoom=9, bearing=0, pitch=0)\n",
    "\n",
    "# Render\n",
    "r = pdk.Deck(layers=[layer], initial_view_state=view_state, tooltip={\"text\": \"Count: {value}\"})\n",
    "r.to_html(\"h3_hexagon_layer_cropped_new.html\")"
   ]
  }
 ],
 "metadata": {
  "kernelspec": {
   "display_name": "scip",
   "language": "python",
   "name": "python3"
  },
  "language_info": {
   "codemirror_mode": {
    "name": "ipython",
    "version": 3
   },
   "file_extension": ".py",
   "mimetype": "text/x-python",
   "name": "python",
   "nbconvert_exporter": "python",
   "pygments_lexer": "ipython3",
   "version": "3.8.18"
  }
 },
 "nbformat": 4,
 "nbformat_minor": 2
}
