{
 "cells": [
  {
   "cell_type": "markdown",
   "metadata": {},
   "source": [
    "# Capacitated Facility Location Problem - Template"
   ]
  },
  {
   "cell_type": "code",
   "execution_count": 1,
   "metadata": {},
   "outputs": [],
   "source": [
    "from pulp import *\n",
    "import pandas as pd"
   ]
  },
  {
   "cell_type": "code",
   "execution_count": 3,
   "metadata": {},
   "outputs": [
    {
     "data": {
      "text/html": [
       "<div>\n",
       "<style scoped>\n",
       "    .dataframe tbody tr th:only-of-type {\n",
       "        vertical-align: middle;\n",
       "    }\n",
       "\n",
       "    .dataframe tbody tr th {\n",
       "        vertical-align: top;\n",
       "    }\n",
       "\n",
       "    .dataframe thead th {\n",
       "        text-align: right;\n",
       "    }\n",
       "</style>\n",
       "<table border=\"1\" class=\"dataframe\">\n",
       "  <thead>\n",
       "    <tr style=\"text-align: right;\">\n",
       "      <th></th>\n",
       "      <th>x</th>\n",
       "      <th>y</th>\n",
       "      <th>count</th>\n",
       "    </tr>\n",
       "  </thead>\n",
       "  <tbody>\n",
       "    <tr>\n",
       "      <th>0</th>\n",
       "      <td>6.554937</td>\n",
       "      <td>52.254895</td>\n",
       "      <td>25</td>\n",
       "    </tr>\n",
       "    <tr>\n",
       "      <th>1</th>\n",
       "      <td>6.870686</td>\n",
       "      <td>52.215190</td>\n",
       "      <td>25</td>\n",
       "    </tr>\n",
       "    <tr>\n",
       "      <th>2</th>\n",
       "      <td>6.664105</td>\n",
       "      <td>52.392622</td>\n",
       "      <td>32</td>\n",
       "    </tr>\n",
       "    <tr>\n",
       "      <th>3</th>\n",
       "      <td>6.730518</td>\n",
       "      <td>52.252885</td>\n",
       "      <td>42</td>\n",
       "    </tr>\n",
       "    <tr>\n",
       "      <th>4</th>\n",
       "      <td>6.914234</td>\n",
       "      <td>52.387401</td>\n",
       "      <td>18</td>\n",
       "    </tr>\n",
       "  </tbody>\n",
       "</table>\n",
       "</div>"
      ],
      "text/plain": [
       "          x          y  count\n",
       "0  6.554937  52.254895     25\n",
       "1  6.870686  52.215190     25\n",
       "2  6.664105  52.392622     32\n",
       "3  6.730518  52.252885     42\n",
       "4  6.914234  52.387401     18"
      ]
     },
     "execution_count": 3,
     "metadata": {},
     "output_type": "execute_result"
    }
   ],
   "source": [
    "# Import farm_cluster_mock_5 dataset - which is the mock data for potential digester locations\n",
    "potential_digester_location = pd.read_csv(r'./farm_cluster_mock_5.csv')\n",
    "potential_digester_location.head()"
   ]
  },
  {
   "cell_type": "code",
   "execution_count": 14,
   "metadata": {},
   "outputs": [],
   "source": [
    "# Define the capacities of digester\n",
    "medium_digester_capacity = 7848  # in tonne/yr\n",
    "large_digester_capacity = 15056  # in tonne/yr"
   ]
  },
  {
   "cell_type": "code",
   "execution_count": 17,
   "metadata": {},
   "outputs": [],
   "source": [
    "# Define the costs of digester \n",
    "medium_digester_cost = 209249   # in euro CAPEX\n",
    "large_digester_cost = 252616    # in euro CAPEX"
   ]
  },
  {
   "cell_type": "code",
   "execution_count": null,
   "metadata": {},
   "outputs": [],
   "source": [
    "potential_digester_location = potential_digester_location.drop(['count'], axis=1) # drop unnecessary column"
   ]
  },
  {
   "cell_type": "code",
   "execution_count": 19,
   "metadata": {},
   "outputs": [],
   "source": [
    "# Create mock digester capacity data\n",
    "potential_digester_location['capacity'] = [medium_digester_capacity, medium_digester_capacity, large_digester_capacity, large_digester_capacity, large_digester_capacity]\n",
    "\n",
    "# Create mock digester cost data\n",
    "potential_digester_location['cost'] = [medium_digester_cost, medium_digester_cost, large_digester_cost, large_digester_cost, large_digester_cost]"
   ]
  },
  {
   "cell_type": "code",
   "execution_count": 5,
   "metadata": {},
   "outputs": [
    {
     "data": {
      "text/html": [
       "<div>\n",
       "<style scoped>\n",
       "    .dataframe tbody tr th:only-of-type {\n",
       "        vertical-align: middle;\n",
       "    }\n",
       "\n",
       "    .dataframe tbody tr th {\n",
       "        vertical-align: top;\n",
       "    }\n",
       "\n",
       "    .dataframe thead th {\n",
       "        text-align: right;\n",
       "    }\n",
       "</style>\n",
       "<table border=\"1\" class=\"dataframe\">\n",
       "  <thead>\n",
       "    <tr style=\"text-align: right;\">\n",
       "      <th></th>\n",
       "      <th>Unnamed: 0</th>\n",
       "      <th>x</th>\n",
       "      <th>y</th>\n",
       "      <th>manure_t</th>\n",
       "      <th>biogas_potential_m3</th>\n",
       "    </tr>\n",
       "  </thead>\n",
       "  <tbody>\n",
       "    <tr>\n",
       "      <th>0</th>\n",
       "      <td>0</td>\n",
       "      <td>6.765843</td>\n",
       "      <td>52.314139</td>\n",
       "      <td>7431</td>\n",
       "      <td>2898090.0</td>\n",
       "    </tr>\n",
       "    <tr>\n",
       "      <th>1</th>\n",
       "      <td>1</td>\n",
       "      <td>6.837249</td>\n",
       "      <td>52.425084</td>\n",
       "      <td>7246</td>\n",
       "      <td>2825940.0</td>\n",
       "    </tr>\n",
       "    <tr>\n",
       "      <th>2</th>\n",
       "      <td>2</td>\n",
       "      <td>6.859361</td>\n",
       "      <td>52.386225</td>\n",
       "      <td>9639</td>\n",
       "      <td>3759210.0</td>\n",
       "    </tr>\n",
       "    <tr>\n",
       "      <th>3</th>\n",
       "      <td>3</td>\n",
       "      <td>6.753483</td>\n",
       "      <td>52.434382</td>\n",
       "      <td>9821</td>\n",
       "      <td>3830190.0</td>\n",
       "    </tr>\n",
       "    <tr>\n",
       "      <th>4</th>\n",
       "      <td>4</td>\n",
       "      <td>6.484077</td>\n",
       "      <td>52.243620</td>\n",
       "      <td>2732</td>\n",
       "      <td>1065480.0</td>\n",
       "    </tr>\n",
       "  </tbody>\n",
       "</table>\n",
       "</div>"
      ],
      "text/plain": [
       "   Unnamed: 0         x          y  manure_t  biogas_potential_m3\n",
       "0           0  6.765843  52.314139      7431            2898090.0\n",
       "1           1  6.837249  52.425084      7246            2825940.0\n",
       "2           2  6.859361  52.386225      9639            3759210.0\n",
       "3           3  6.753483  52.434382      9821            3830190.0\n",
       "4           4  6.484077  52.243620      2732            1065480.0"
      ]
     },
     "execution_count": 5,
     "metadata": {},
     "output_type": "execute_result"
    }
   ],
   "source": [
    "farm = pd.read_csv(r\"./farm_mock.csv\")\n",
    "farm.head()"
   ]
  },
  {
   "cell_type": "code",
   "execution_count": 12,
   "metadata": {},
   "outputs": [],
   "source": [
    "# Lists (sets / Array) of Customers and Facilities\n",
    "Farm = farm.index.tolist()  # Customer = [1,2,3,4,5]\n",
    "Plant = potential_digester_location.index.tolist()    # Facility = ['Fac-1', 'Fac-2', 'Fac-3']"
   ]
  },
  {
   "cell_type": "code",
   "execution_count": 28,
   "metadata": {},
   "outputs": [],
   "source": [
    "# Dictionaries of the demands and facilities as well as fixed cost at each facility\n",
    "Manure_Production = farm['manure_t'].to_dict()  # Demand = {1 : 80, 2 : 270, 3 : 250, 4 : 160, 5 : 180}\n",
    "Max_Capacity = potential_digester_location['capacity'].to_dict()    # Max_Supply = {'Fac-1' : 500, 'Fac-2' : 500, 'Fac-3' : 500} \n",
    "Fixed_Cost = potential_digester_location['cost'].to_dict()  # fixed_cost = {'Fac-1' : 1000, 'Fac-2' : 1000, 'Fac-3' : 1000 }"
   ]
  },
  {
   "cell_type": "code",
   "execution_count": 34,
   "metadata": {},
   "outputs": [],
   "source": [
    "from scipy.spatial.distance import euclidean\n",
    "\n",
    "# # Dictionary of the transportation cost from each facility to all the customers \n",
    "# transportation_cost = {'Fac-1' : {1 : 4, 2 : 5, 3 : 6, 4 : 8, 5 : 10},\n",
    "#                        'Fac-2' : {1 : 6, 2 : 4, 3 : 3, 4 : 5, 5 : 8},\n",
    "#                        'Fac-3' : {1 : 9, 2 : 7, 3 : 4, 4 : 3, 5 : 4}\n",
    "#                       }\n",
    "\n",
    "# Create a mock distance matrix to store the euclidean distance between each potential digester location to every farm\n",
    "transportation_cost = {}\n",
    "\n",
    "for plant_idx, plant_row in potential_digester_location.iterrows():\n",
    "    plant_coords = (plant_row['y'], plant_row['x'])\n",
    "    transportation_cost[plant_idx] = {}  # Create an inner dictionary for each plant\n",
    "\n",
    "    for farm_idx, farm_row in farm.iterrows():\n",
    "        farm_coords = (farm_row['y'], farm_row['x'])\n",
    "        distance = euclidean(plant_coords, farm_coords)\n",
    "        transportation_cost[plant_idx][farm_idx] = distance\n",
    "\n",
    "# transportation_cost"
   ]
  },
  {
   "cell_type": "code",
   "execution_count": 35,
   "metadata": {},
   "outputs": [],
   "source": [
    "# Setting the Problem\n",
    "prob = LpProblem(\"Capacitated_Facility_Location_Problem_V1\", LpMinimize)"
   ]
  },
  {
   "cell_type": "code",
   "execution_count": 41,
   "metadata": {},
   "outputs": [],
   "source": [
    "# Defining our Decision Variables\n",
    "use_plant = LpVariable.dicts(\"Plant\", Plant, LpBinary)    \n",
    "    # use_facility = LpVariable.dicts(\"Use Facility\", Facility, 0, 1, LpBinary)\n",
    "ser_farm = LpVariable.dicts(\"Plant_Farm\", [(i,j) for i in Farm for j in Plant], 0)\n",
    "    # ser_customer = LpVariable.dicts(\"Service\", [(i,j) for i in Customer for j in Facility], 0)"
   ]
  },
  {
   "cell_type": "code",
   "execution_count": 43,
   "metadata": {},
   "outputs": [],
   "source": [
    "# Setting the Objective Function\n",
    "prob += lpSum(Fixed_Cost[j]*use_plant[j] for j in Plant) + lpSum(transportation_cost[j][i]*ser_farm[(i,j)] for j in Plant for i in Farm)\n",
    "    # prob += lpSum(fixed_cost[j]*use_facility[j] for j in Facility) + lpSum(transportation_cost[j][i]*ser_customer[(i,j)] for j in Facility for i in Customer)"
   ]
  },
  {
   "cell_type": "code",
   "execution_count": 74,
   "metadata": {},
   "outputs": [],
   "source": [
    "# Costraints\n",
    "for i in Customer:\n",
    "    prob += lpSum(ser_customer[(i,j)] for j in Facility) == Demand[i]\n",
    "\n",
    "for j in Facility:\n",
    "    prob += lpSum(ser_customer[(i,j)] for i in Customer) <= Max_Supply[j]*use_facility[j]\n",
    "\n",
    "for i in Customer:\n",
    "    for j in Facility:\n",
    "        prob += ser_customer[(i,j)] <= Demand[i]*use_facility[j]"
   ]
  },
  {
   "cell_type": "code",
   "execution_count": 75,
   "metadata": {},
   "outputs": [
    {
     "name": "stdout",
     "output_type": "stream",
     "text": [
      "Welcome to the CBC MILP Solver \n",
      "Version: 2.10.3 \n",
      "Build Date: Dec 15 2019 \n",
      "\n",
      "command line - /Users/wenyuc/opt/anaconda3/envs/bioze_env/lib/python3.10/site-packages/pulp/solverdir/cbc/osx/64/cbc /var/folders/w_/w1t73xzx35j4jtrj94fjskj80000gn/T/4348bf266f1a4ae8a6ae191cbd320ad3-pulp.mps timeMode elapsed branch printingOptions all solution /var/folders/w_/w1t73xzx35j4jtrj94fjskj80000gn/T/4348bf266f1a4ae8a6ae191cbd320ad3-pulp.sol (default strategy 1)\n",
      "At line 2 NAME          MODEL\n",
      "At line 3 ROWS\n",
      "At line 28 COLUMNS\n",
      "At line 116 RHS\n",
      "At line 140 BOUNDS\n",
      "At line 144 ENDATA\n",
      "Problem MODEL has 23 rows, 18 columns and 63 elements\n",
      "Coin0008I MODEL read with 0 errors\n",
      "Option for timeMode changed from cpu to elapsed\n",
      "Continuous objective value is 5610 - 0.00 seconds\n",
      "Cgl0004I processed model has 23 rows, 18 columns (3 integer (3 of which binary)) and 63 elements\n",
      "Cbc0038I Initial state - 0 integers unsatisfied sum - 2.22045e-16\n",
      "Cbc0038I Solution found of 5610\n",
      "Cbc0038I Relaxing continuous gives 5610\n",
      "Cbc0038I Before mini branch and bound, 3 integers at bound fixed and 13 continuous\n",
      "Cbc0038I Mini branch and bound did not improve solution (0.02 seconds)\n",
      "Cbc0038I After 0.02 seconds - Feasibility pump exiting with objective of 5610 - took 0.00 seconds\n",
      "Cbc0012I Integer solution of 5610 found by feasibility pump after 0 iterations and 0 nodes (0.02 seconds)\n",
      "Cbc0001I Search completed - best objective 5610, took 0 iterations and 0 nodes (0.02 seconds)\n",
      "Cbc0035I Maximum depth 0, 0 variables fixed on reduced cost\n",
      "Cuts at root node changed objective from 5610 to 5610\n",
      "Probing was tried 0 times and created 0 cuts of which 0 were active after adding rounds of cuts (0.000 seconds)\n",
      "Gomory was tried 0 times and created 0 cuts of which 0 were active after adding rounds of cuts (0.000 seconds)\n",
      "Knapsack was tried 0 times and created 0 cuts of which 0 were active after adding rounds of cuts (0.000 seconds)\n",
      "Clique was tried 0 times and created 0 cuts of which 0 were active after adding rounds of cuts (0.000 seconds)\n",
      "MixedIntegerRounding2 was tried 0 times and created 0 cuts of which 0 were active after adding rounds of cuts (0.000 seconds)\n",
      "FlowCover was tried 0 times and created 0 cuts of which 0 were active after adding rounds of cuts (0.000 seconds)\n",
      "TwoMirCuts was tried 0 times and created 0 cuts of which 0 were active after adding rounds of cuts (0.000 seconds)\n",
      "ZeroHalf was tried 0 times and created 0 cuts of which 0 were active after adding rounds of cuts (0.000 seconds)\n",
      "\n",
      "Result - Optimal solution found\n",
      "\n",
      "Objective value:                5610.00000000\n",
      "Enumerated nodes:               0\n",
      "Total iterations:               0\n",
      "Time (CPU seconds):             0.00\n",
      "Time (Wallclock seconds):       0.02\n",
      "\n",
      "Option for printingOptions changed from normal to all\n",
      "Total time (CPU seconds):       0.00   (Wallclock seconds):       0.03\n",
      "\n"
     ]
    },
    {
     "data": {
      "text/plain": [
       "1"
      ]
     },
     "execution_count": 75,
     "metadata": {},
     "output_type": "execute_result"
    }
   ],
   "source": [
    "prob.solve()"
   ]
  },
  {
   "cell_type": "code",
   "execution_count": 76,
   "metadata": {},
   "outputs": [],
   "source": [
    "status = LpStatus[prob.status]\n"
   ]
  },
  {
   "cell_type": "code",
   "execution_count": 77,
   "metadata": {},
   "outputs": [
    {
     "name": "stdout",
     "output_type": "stream",
     "text": [
      "Solution Status =  Optimal\n"
     ]
    }
   ],
   "source": [
    "print(\"Solution Status = \", LpStatus[prob.status])"
   ]
  },
  {
   "cell_type": "code",
   "execution_count": 78,
   "metadata": {},
   "outputs": [],
   "source": [
    "# if status == \"Optimal\":\n",
    "#     # Retrieve and store the variable values\n",
    "#     optimal_x = use_facility.varValue\n",
    "#     optimal_y = ser_customer.varValue\n",
    "\n",
    "#     # Retrieve and store the optimal objective value\n",
    "#     optimal_obj_value = prob.objective.value()\n",
    "# else:\n",
    "#     optimal_x = None\n",
    "#     optimal_y = None\n",
    "#     optimal_obj_value = None\n",
    "\n",
    "# print(\"Optimization Status:\", status)\n",
    "# print(\"Optimal x:\", optimal_x)\n",
    "# print(\"Optimal y:\", optimal_y)\n",
    "# print(\"Optimal Objective Value:\", optimal_obj_value)"
   ]
  },
  {
   "cell_type": "code",
   "execution_count": 79,
   "metadata": {},
   "outputs": [
    {
     "name": "stdout",
     "output_type": "stream",
     "text": [
      "Optimization Status: Optimal\n",
      "Use Facility Fac-1: 0.0\n",
      "Use Facility Fac-2: 1.0\n",
      "Use Facility Fac-3: 1.0\n",
      "Service customer 1 from Facility Fac-1: 0.0\n",
      "Service customer 1 from Facility Fac-2: 80.0\n",
      "Service customer 1 from Facility Fac-3: 0.0\n",
      "Service customer 2 from Facility Fac-1: 0.0\n",
      "Service customer 2 from Facility Fac-2: 270.0\n",
      "Service customer 2 from Facility Fac-3: 0.0\n",
      "Service customer 3 from Facility Fac-1: 0.0\n",
      "Service customer 3 from Facility Fac-2: 150.0\n",
      "Service customer 3 from Facility Fac-3: 100.0\n",
      "Service customer 4 from Facility Fac-1: 0.0\n",
      "Service customer 4 from Facility Fac-2: 0.0\n",
      "Service customer 4 from Facility Fac-3: 160.0\n",
      "Service customer 5 from Facility Fac-1: 0.0\n",
      "Service customer 5 from Facility Fac-2: 0.0\n",
      "Service customer 5 from Facility Fac-3: 180.0\n"
     ]
    }
   ],
   "source": [
    "# Print the status of the optimization\n",
    "print(\"Optimization Status:\", LpStatus[prob.status])\n",
    "\n",
    "# Print the optimal values of decision variables\n",
    "for j in Facility:\n",
    "    print(f\"Use Facility {j}: {use_facility[j].varValue}\")\n",
    "\n",
    "for i in Customer:\n",
    "    for j in Facility:\n",
    "        print(f\"Service customer {i} from Facility {j}: {ser_customer[(i, j)].varValue}\")"
   ]
  },
  {
   "cell_type": "code",
   "execution_count": 80,
   "metadata": {},
   "outputs": [
    {
     "name": "stdout",
     "output_type": "stream",
     "text": [
      "Estalish Facility at site =  Fac-2\n",
      "Estalish Facility at site =  Fac-3\n"
     ]
    }
   ],
   "source": [
    "# Print the solution of Binary Decision Variables\n",
    "Tolerance = 0.0001\n",
    "for j in Facility:\n",
    "    if use_facility[j].varValue > Tolerance:\n",
    "        print(\"Estalish Facility at site = \", j)"
   ]
  },
  {
   "cell_type": "code",
   "execution_count": 81,
   "metadata": {},
   "outputs": [
    {
     "name": "stdout",
     "output_type": "stream",
     "text": [
      "Service_(1,_'Fac_1') = 0.0\n",
      "Service_(1,_'Fac_2') = 80.0\n",
      "Service_(1,_'Fac_3') = 0.0\n",
      "Service_(2,_'Fac_1') = 0.0\n",
      "Service_(2,_'Fac_2') = 270.0\n",
      "Service_(2,_'Fac_3') = 0.0\n",
      "Service_(3,_'Fac_1') = 0.0\n",
      "Service_(3,_'Fac_2') = 150.0\n",
      "Service_(3,_'Fac_3') = 100.0\n",
      "Service_(4,_'Fac_1') = 0.0\n",
      "Service_(4,_'Fac_2') = 0.0\n",
      "Service_(4,_'Fac_3') = 160.0\n",
      "Service_(5,_'Fac_1') = 0.0\n",
      "Service_(5,_'Fac_2') = 0.0\n",
      "Service_(5,_'Fac_3') = 180.0\n",
      "Use_Facility_Fac_1 = 0.0\n",
      "Use_Facility_Fac_2 = 1.0\n",
      "Use_Facility_Fac_3 = 1.0\n"
     ]
    }
   ],
   "source": [
    "# Print the solution of Continuous Decision Variables\n",
    "for v in prob.variables():\n",
    "    print(v.name, \"=\", v.varValue)"
   ]
  },
  {
   "cell_type": "code",
   "execution_count": 82,
   "metadata": {},
   "outputs": [
    {
     "data": {
      "text/plain": [
       "{'Fac-1': [], 'Fac-2': [1, 2, 3], 'Fac-3': [3, 4, 5]}"
      ]
     },
     "execution_count": 82,
     "metadata": {},
     "output_type": "execute_result"
    }
   ],
   "source": [
    "# Initialize lists to store assignment information\n",
    "assigned_farms = {j: [] for j in Facility}\n",
    "\n",
    "# Collect assigned farms\n",
    "for i in Facility:\n",
    "    for j in Customer:\n",
    "        if ser_customer[(j,i)].varValue > 0.00001:\n",
    "            assigned_farms[i].append(j)\n",
    "\n",
    "assigned_farms"
   ]
  },
  {
   "cell_type": "code",
   "execution_count": 83,
   "metadata": {},
   "outputs": [
    {
     "name": "stdout",
     "output_type": "stream",
     "text": [
      "Total Cost =  5610.0\n"
     ]
    }
   ],
   "source": [
    "# Print Optimal\n",
    "print(\"Total Cost = \", value(prob.objective))"
   ]
  }
 ],
 "metadata": {
  "kernelspec": {
   "display_name": "Python 3",
   "language": "python",
   "name": "python3"
  },
  "language_info": {
   "codemirror_mode": {
    "name": "ipython",
    "version": 3
   },
   "file_extension": ".py",
   "mimetype": "text/x-python",
   "name": "python",
   "nbconvert_exporter": "python",
   "pygments_lexer": "ipython3",
   "version": "3.10.4"
  }
 },
 "nbformat": 4,
 "nbformat_minor": 2
}
