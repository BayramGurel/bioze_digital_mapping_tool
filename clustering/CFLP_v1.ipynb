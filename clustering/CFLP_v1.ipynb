{
 "cells": [
  {
   "cell_type": "markdown",
   "metadata": {},
   "source": [
    "# Capacitated Facility Location Problem - Version #1"
   ]
  },
  {
   "cell_type": "markdown",
   "metadata": {},
   "source": [
    "The code kind of work atm. However, the constraints need to be improved. The problem is considered infeasible if not all of the farms can be assigned to a plant. \n",
    "https://www.youtube.com/watch?v=Ds5whiQXdbw&ab_channel=Hakeem-Ur-Rehman"
   ]
  },
  {
   "cell_type": "code",
   "execution_count": 150,
   "metadata": {},
   "outputs": [],
   "source": [
    "from pulp import *\n",
    "import pandas as pd\n",
    "import matplotlib.pyplot as plt\n",
    "import seaborn as sns\n",
    "import numpy as np\n",
    "%matplotlib inline"
   ]
  },
  {
   "cell_type": "code",
   "execution_count": 151,
   "metadata": {},
   "outputs": [
    {
     "data": {
      "text/html": [
       "<div>\n",
       "<style scoped>\n",
       "    .dataframe tbody tr th:only-of-type {\n",
       "        vertical-align: middle;\n",
       "    }\n",
       "\n",
       "    .dataframe tbody tr th {\n",
       "        vertical-align: top;\n",
       "    }\n",
       "\n",
       "    .dataframe thead th {\n",
       "        text-align: right;\n",
       "    }\n",
       "</style>\n",
       "<table border=\"1\" class=\"dataframe\">\n",
       "  <thead>\n",
       "    <tr style=\"text-align: right;\">\n",
       "      <th></th>\n",
       "      <th>x</th>\n",
       "      <th>y</th>\n",
       "      <th>count</th>\n",
       "    </tr>\n",
       "  </thead>\n",
       "  <tbody>\n",
       "    <tr>\n",
       "      <th>0</th>\n",
       "      <td>6.554937</td>\n",
       "      <td>52.254895</td>\n",
       "      <td>25</td>\n",
       "    </tr>\n",
       "    <tr>\n",
       "      <th>1</th>\n",
       "      <td>6.870686</td>\n",
       "      <td>52.215190</td>\n",
       "      <td>25</td>\n",
       "    </tr>\n",
       "    <tr>\n",
       "      <th>2</th>\n",
       "      <td>6.664105</td>\n",
       "      <td>52.392622</td>\n",
       "      <td>32</td>\n",
       "    </tr>\n",
       "    <tr>\n",
       "      <th>3</th>\n",
       "      <td>6.730518</td>\n",
       "      <td>52.252885</td>\n",
       "      <td>42</td>\n",
       "    </tr>\n",
       "    <tr>\n",
       "      <th>4</th>\n",
       "      <td>6.914234</td>\n",
       "      <td>52.387401</td>\n",
       "      <td>18</td>\n",
       "    </tr>\n",
       "  </tbody>\n",
       "</table>\n",
       "</div>"
      ],
      "text/plain": [
       "          x          y  count\n",
       "0  6.554937  52.254895     25\n",
       "1  6.870686  52.215190     25\n",
       "2  6.664105  52.392622     32\n",
       "3  6.730518  52.252885     42\n",
       "4  6.914234  52.387401     18"
      ]
     },
     "execution_count": 151,
     "metadata": {},
     "output_type": "execute_result"
    }
   ],
   "source": [
    "# Import farm_cluster_mock_5 dataset - which is the mock data for potential digester locations\n",
    "potential_digester_location = pd.read_csv(r'./farm_cluster_mock_5.csv')\n",
    "potential_digester_location.head()"
   ]
  },
  {
   "cell_type": "code",
   "execution_count": 152,
   "metadata": {},
   "outputs": [],
   "source": [
    "# Define the capacities of digester\n",
    "medium_digester_capacity = 78480  # in tonne/yr\n",
    "large_digester_capacity = 150560  # in tonne/yr"
   ]
  },
  {
   "cell_type": "code",
   "execution_count": 153,
   "metadata": {},
   "outputs": [],
   "source": [
    "# Define the costs of digester \n",
    "medium_digester_cost = 209249   # in euro CAPEX\n",
    "large_digester_cost = 252616    # in euro CAPEX"
   ]
  },
  {
   "cell_type": "code",
   "execution_count": 154,
   "metadata": {},
   "outputs": [],
   "source": [
    "potential_digester_location = potential_digester_location.drop(['count'], axis=1) # drop unnecessary column"
   ]
  },
  {
   "cell_type": "code",
   "execution_count": 155,
   "metadata": {},
   "outputs": [],
   "source": [
    "# Create mock digester capacity data\n",
    "potential_digester_location['capacity'] = [medium_digester_capacity, medium_digester_capacity, large_digester_capacity, large_digester_capacity, large_digester_capacity]\n",
    "\n",
    "# Create mock digester cost data\n",
    "potential_digester_location['cost'] = [medium_digester_cost, medium_digester_cost, large_digester_cost, large_digester_cost, large_digester_cost]"
   ]
  },
  {
   "cell_type": "code",
   "execution_count": 156,
   "metadata": {},
   "outputs": [
    {
     "data": {
      "text/html": [
       "<div>\n",
       "<style scoped>\n",
       "    .dataframe tbody tr th:only-of-type {\n",
       "        vertical-align: middle;\n",
       "    }\n",
       "\n",
       "    .dataframe tbody tr th {\n",
       "        vertical-align: top;\n",
       "    }\n",
       "\n",
       "    .dataframe thead th {\n",
       "        text-align: right;\n",
       "    }\n",
       "</style>\n",
       "<table border=\"1\" class=\"dataframe\">\n",
       "  <thead>\n",
       "    <tr style=\"text-align: right;\">\n",
       "      <th></th>\n",
       "      <th>Unnamed: 0</th>\n",
       "      <th>x</th>\n",
       "      <th>y</th>\n",
       "      <th>manure_t</th>\n",
       "      <th>biogas_potential_m3</th>\n",
       "    </tr>\n",
       "  </thead>\n",
       "  <tbody>\n",
       "    <tr>\n",
       "      <th>0</th>\n",
       "      <td>0</td>\n",
       "      <td>6.765843</td>\n",
       "      <td>52.314139</td>\n",
       "      <td>7431</td>\n",
       "      <td>2898090.0</td>\n",
       "    </tr>\n",
       "    <tr>\n",
       "      <th>1</th>\n",
       "      <td>1</td>\n",
       "      <td>6.837249</td>\n",
       "      <td>52.425084</td>\n",
       "      <td>7246</td>\n",
       "      <td>2825940.0</td>\n",
       "    </tr>\n",
       "    <tr>\n",
       "      <th>2</th>\n",
       "      <td>2</td>\n",
       "      <td>6.859361</td>\n",
       "      <td>52.386225</td>\n",
       "      <td>9639</td>\n",
       "      <td>3759210.0</td>\n",
       "    </tr>\n",
       "    <tr>\n",
       "      <th>3</th>\n",
       "      <td>3</td>\n",
       "      <td>6.753483</td>\n",
       "      <td>52.434382</td>\n",
       "      <td>9821</td>\n",
       "      <td>3830190.0</td>\n",
       "    </tr>\n",
       "    <tr>\n",
       "      <th>4</th>\n",
       "      <td>4</td>\n",
       "      <td>6.484077</td>\n",
       "      <td>52.243620</td>\n",
       "      <td>2732</td>\n",
       "      <td>1065480.0</td>\n",
       "    </tr>\n",
       "  </tbody>\n",
       "</table>\n",
       "</div>"
      ],
      "text/plain": [
       "   Unnamed: 0         x          y  manure_t  biogas_potential_m3\n",
       "0           0  6.765843  52.314139      7431            2898090.0\n",
       "1           1  6.837249  52.425084      7246            2825940.0\n",
       "2           2  6.859361  52.386225      9639            3759210.0\n",
       "3           3  6.753483  52.434382      9821            3830190.0\n",
       "4           4  6.484077  52.243620      2732            1065480.0"
      ]
     },
     "execution_count": 156,
     "metadata": {},
     "output_type": "execute_result"
    }
   ],
   "source": [
    "farm = pd.read_csv(r\"./farm_mock.csv\")\n",
    "farm.head()"
   ]
  },
  {
   "cell_type": "code",
   "execution_count": 157,
   "metadata": {},
   "outputs": [],
   "source": [
    "# Lists (sets / Array) of Customers and Facilities\n",
    "Farm = farm.index.tolist()  # Customer = [1,2,3,4,5]\n",
    "Plant = potential_digester_location.index.tolist()    # Facility = ['Fac-1', 'Fac-2', 'Fac-3']"
   ]
  },
  {
   "cell_type": "code",
   "execution_count": 158,
   "metadata": {},
   "outputs": [],
   "source": [
    "# Dictionaries of the demands and facilities as well as fixed cost at each facility\n",
    "Manure_Production = farm['manure_t'].to_dict()  # Demand = {1 : 80, 2 : 270, 3 : 250, 4 : 160, 5 : 180}\n",
    "Max_Capacity = potential_digester_location['capacity'].to_dict()    # Max_Supply = {'Fac-1' : 500, 'Fac-2' : 500, 'Fac-3' : 500} \n",
    "Fixed_Cost = potential_digester_location['cost'].to_dict()  # fixed_cost = {'Fac-1' : 1000, 'Fac-2' : 1000, 'Fac-3' : 1000 }"
   ]
  },
  {
   "cell_type": "code",
   "execution_count": 159,
   "metadata": {},
   "outputs": [
    {
     "data": {
      "text/plain": [
       "dict_values"
      ]
     },
     "execution_count": 159,
     "metadata": {},
     "output_type": "execute_result"
    }
   ],
   "source": [
    "type(Fixed_Cost.values())"
   ]
  },
  {
   "cell_type": "code",
   "execution_count": 160,
   "metadata": {},
   "outputs": [],
   "source": [
    "# string_values = {}\n",
    "# non_string_values = {}\n",
    "\n",
    "# for key, value in transportation_cost.items():\n",
    "#     if isinstance(value, str):\n",
    "#         string_values[key] = value\n",
    "#     else:\n",
    "#         non_string_values[key] = value\n",
    "\n",
    "# print(\"String Values:\")\n",
    "# print(string_values)\n",
    "\n",
    "# print(\"\\nNon-String Values:\")\n",
    "# print(non_string_values)"
   ]
  },
  {
   "cell_type": "code",
   "execution_count": 161,
   "metadata": {},
   "outputs": [],
   "source": [
    "from scipy.spatial.distance import euclidean\n",
    "\n",
    "# # Dictionary of the transportation cost from each facility to all the customers \n",
    "# transportation_cost = {'Fac-1' : {1 : 4, 2 : 5, 3 : 6, 4 : 8, 5 : 10},\n",
    "#                        'Fac-2' : {1 : 6, 2 : 4, 3 : 3, 4 : 5, 5 : 8},\n",
    "#                        'Fac-3' : {1 : 9, 2 : 7, 3 : 4, 4 : 3, 5 : 4}\n",
    "#                       }\n",
    "\n",
    "# Create a mock distance matrix to store the euclidean distance between each potential digester location to every farm\n",
    "transportation_cost = {} # NOTE THE TRANSPORTATION COST MATRIX IS A !DISTANCE MATRIX!\n",
    "\n",
    "for plant_idx, plant_row in potential_digester_location.iterrows():\n",
    "    plant_coords = (plant_row['y'], plant_row['x'])\n",
    "    transportation_cost[plant_idx] = {}  # Create an inner dictionary for each plant\n",
    "\n",
    "    for farm_idx, farm_row in farm.iterrows():\n",
    "        farm_coords = (farm_row['y'], farm_row['x'])\n",
    "        distance = euclidean(plant_coords, farm_coords)\n",
    "        transportation_cost[plant_idx][farm_idx] = distance\n",
    "\n",
    "# transportation_cost"
   ]
  },
  {
   "cell_type": "code",
   "execution_count": 162,
   "metadata": {},
   "outputs": [],
   "source": [
    "# Define the total manure production by all farms\n",
    "Total_Manure_Production = sum(Manure_Production[i] for i in Farm)"
   ]
  },
  {
   "cell_type": "code",
   "execution_count": 163,
   "metadata": {},
   "outputs": [],
   "source": [
    "# Setting the Problem\n",
    "prob = LpProblem(\"Capacitated_Facility_Location_Problem_V1\", LpMinimize)"
   ]
  },
  {
   "cell_type": "code",
   "execution_count": 164,
   "metadata": {},
   "outputs": [],
   "source": [
    "# Defining our Decision Variables\n",
    "use_plant = LpVariable.dicts(\"Plant\", Plant, 0, 1, LpBinary)    \n",
    "    # use_facility = LpVariable.dicts(\"Use Facility\", Facility, 0, 1, LpBinary)\n",
    "ser_farm = LpVariable.dicts(\"Farm_Plant\", [(i,j) for i in Farm for j in Plant], 0)  \n",
    "    # ser_customer = LpVariable.dicts(\"Service\", [(i,j) for i in Customer for j in Facility], 0)"
   ]
  },
  {
   "cell_type": "code",
   "execution_count": 165,
   "metadata": {},
   "outputs": [],
   "source": [
    "# Setting the Objective Function\n",
    "prob += lpSum(Fixed_Cost[j]*use_plant[j] for j in Plant) + lpSum(transportation_cost[j][i]*ser_farm[(i,j)] for j in Plant for i in Farm)\n",
    "\n",
    "    # prob += lpSum(fixed_cost[j]*use_facility[j] for j in Facility) + lpSum(transportation_cost[j][i]*ser_customer[(i,j)] for j in Facility for i in Customer)"
   ]
  },
  {
   "cell_type": "code",
   "execution_count": 166,
   "metadata": {},
   "outputs": [],
   "source": [
    "# for j in Plant:\n",
    "#     for i in Farm:\n",
    "#        print(transportation_cost[j][i]*ser_farm[(i,j)])"
   ]
  },
  {
   "cell_type": "code",
   "execution_count": 167,
   "metadata": {},
   "outputs": [],
   "source": [
    "# # Costraints\n",
    "\n",
    "# # This constraint controls that the facility should meet the demand of a customer in the example but in our case\n",
    "# #     # this means the farm has to be able to send exactly the entire produced amount of manure to the assigned digester\n",
    "for i in Farm: \n",
    "     prob += lpSum(ser_farm[(i,j)] for j in Plant) <= Manure_Production[i]\n",
    "\n",
    "for j in Plant:\n",
    "    prob += lpSum(ser_farm[(i,j)] for i in Farm) <= Max_Capacity[j]*use_plant[j]\n",
    "\n",
    "for i in Farm:\n",
    "    for j in Plant:\n",
    "        prob += ser_farm[(i,j)] <= Manure_Production[i]*use_plant[j]\n",
    "\n",
    "# Add a constraint to ensure at least 50% of total production is sent to plants\n",
    "prob += lpSum(ser_farm[(i, j)] for i in Farm for j in Plant) >= 0.5 * Total_Manure_Production"
   ]
  },
  {
   "cell_type": "code",
   "execution_count": 168,
   "metadata": {},
   "outputs": [
    {
     "name": "stdout",
     "output_type": "stream",
     "text": [
      "Plant_0\n",
      "Plant_1\n",
      "Plant_2\n",
      "Plant_3\n",
      "Plant_4\n"
     ]
    }
   ],
   "source": [
    "for j in Plant:\n",
    "    print(use_plant[j])"
   ]
  },
  {
   "cell_type": "code",
   "execution_count": 169,
   "metadata": {},
   "outputs": [
    {
     "data": {
      "text/plain": [
       "{0: Plant_0, 1: Plant_1, 2: Plant_2, 3: Plant_3, 4: Plant_4}"
      ]
     },
     "execution_count": 169,
     "metadata": {},
     "output_type": "execute_result"
    }
   ],
   "source": [
    "use_plant"
   ]
  },
  {
   "cell_type": "code",
   "execution_count": 170,
   "metadata": {},
   "outputs": [
    {
     "name": "stdout",
     "output_type": "stream",
     "text": [
      "Welcome to the CBC MILP Solver \n",
      "Version: 2.10.3 \n",
      "Build Date: Dec 15 2019 \n",
      "\n",
      "command line - /Users/wenyuc/opt/anaconda3/envs/bioze_env/lib/python3.10/site-packages/pulp/solverdir/cbc/osx/64/cbc /var/folders/w_/w1t73xzx35j4jtrj94fjskj80000gn/T/8e33d7ff17e34c7b9fddd7a31c1fe392-pulp.mps timeMode elapsed branch printingOptions all solution /var/folders/w_/w1t73xzx35j4jtrj94fjskj80000gn/T/8e33d7ff17e34c7b9fddd7a31c1fe392-pulp.sol (default strategy 1)\n",
      "At line 2 NAME          MODEL\n",
      "At line 3 ROWS\n",
      "At line 863 COLUMNS\n",
      "At line 5144 RHS\n",
      "At line 6003 BOUNDS\n",
      "At line 6009 ENDATA\n",
      "Problem MODEL has 858 rows, 715 columns and 3555 elements\n",
      "Coin0008I MODEL read with 0 errors\n",
      "Option for timeMode changed from cpu to elapsed\n",
      "Continuous objective value is 616403 - 0.00 seconds\n",
      "Cgl0004I processed model has 858 rows, 715 columns (5 integer (5 of which binary)) and 3555 elements\n",
      "Cbc0038I Initial state - 1 integers unsatisfied sum - 0.360013\n",
      "Cbc0038I Pass   1: suminf.    0.36001 (1) obj. 616403 iterations 0\n",
      "Cbc0038I Solution found of 778074\n",
      "Cbc0038I Relaxing continuous gives 775561\n",
      "Cbc0038I Before mini branch and bound, 4 integers at bound fixed and 677 continuous\n",
      "Cbc0038I Full problem 858 rows 715 columns, reduced to 35 rows 34 columns\n",
      "Cbc0038I Mini branch and bound did not improve solution (0.03 seconds)\n",
      "Cbc0038I Round again with cutoff of 759645\n",
      "Cbc0038I Pass   2: suminf.    0.36001 (1) obj. 616403 iterations 0\n",
      "Cbc0038I Pass   3: suminf.    0.06345 (1) obj. 759645 iterations 237\n",
      "Cbc0038I Pass   4: suminf.    0.06345 (1) obj. 759645 iterations 0\n",
      "Cbc0038I Pass   5: suminf.    0.36001 (1) obj. 630385 iterations 17\n",
      "Cbc0038I Pass   6: suminf.    0.06345 (1) obj. 759645 iterations 42\n",
      "Cbc0038I Pass   7: suminf.    0.06345 (1) obj. 759645 iterations 0\n",
      "Cbc0038I Pass   8: suminf.    0.06345 (1) obj. 759645 iterations 0\n",
      "Cbc0038I Pass   9: suminf.    0.00000 (0) obj. 748778 iterations 113\n",
      "Cbc0038I Solution found of 748778\n",
      "Cbc0038I Relaxing continuous gives 738524\n",
      "Cbc0038I Before mini branch and bound, 1 integers at bound fixed and 576 continuous\n",
      "Cbc0038I Full problem 858 rows 715 columns, reduced to 169 rows 138 columns\n",
      "Cbc0038I Mini branch and bound did not improve solution (0.06 seconds)\n",
      "Cbc0038I Round again with cutoff of 714100\n",
      "Cbc0038I Pass  10: suminf.    0.36001 (1) obj. 616403 iterations 0\n",
      "Cbc0038I Pass  11: suminf.    0.24525 (1) obj. 714100 iterations 230\n",
      "Cbc0038I Pass  12: suminf.    0.24525 (1) obj. 714100 iterations 0\n",
      "Cbc0038I Pass  13: suminf.    0.64334 (2) obj. 714100 iterations 109\n",
      "Cbc0038I Pass  14: suminf.    0.06358 (1) obj. 714100 iterations 55\n",
      "Cbc0038I Pass  15: suminf.    0.16124 (1) obj. 690524 iterations 4\n",
      "Cbc0038I Pass  16: suminf.    0.16124 (1) obj. 710331 iterations 127\n",
      "Cbc0038I Pass  17: suminf.    0.10273 (1) obj. 714100 iterations 229\n",
      "Cbc0038I Pass  18: suminf.    0.16124 (1) obj. 701237 iterations 6\n",
      "Cbc0038I Pass  19: suminf.    0.53674 (2) obj. 714100 iterations 163\n",
      "Cbc0038I Pass  20: suminf.    0.08821 (1) obj. 714100 iterations 61\n",
      "Cbc0038I Pass  21: suminf.    0.08821 (1) obj. 714100 iterations 0\n",
      "Cbc0038I Pass  22: suminf.    0.08821 (1) obj. 714100 iterations 0\n",
      "Cbc0038I Pass  23: suminf.    0.08821 (1) obj. 714100 iterations 0\n",
      "Cbc0038I Pass  24: suminf.    0.06358 (1) obj. 714100 iterations 76\n",
      "Cbc0038I Pass  25: suminf.    0.06358 (1) obj. 714100 iterations 0\n",
      "Cbc0038I Pass  26: suminf.    0.16124 (1) obj. 690524 iterations 9\n",
      "Cbc0038I Pass  27: suminf.    0.64334 (2) obj. 714100 iterations 73\n",
      "Cbc0038I Pass  28: suminf.    0.06358 (1) obj. 714100 iterations 94\n",
      "Cbc0038I Pass  29: suminf.    0.16124 (1) obj. 690524 iterations 16\n",
      "Cbc0038I Pass  30: suminf.    0.06358 (1) obj. 714100 iterations 55\n",
      "Cbc0038I Pass  31: suminf.    0.16124 (1) obj. 707886 iterations 29\n",
      "Cbc0038I Pass  32: suminf.    0.10273 (1) obj. 714100 iterations 125\n",
      "Cbc0038I Pass  33: suminf.    0.16124 (1) obj. 701237 iterations 6\n",
      "Cbc0038I Pass  34: suminf.    0.16124 (1) obj. 701237 iterations 0\n",
      "Cbc0038I Pass  35: suminf.    0.46202 (2) obj. 714100 iterations 110\n",
      "Cbc0038I Pass  36: suminf.    0.16124 (1) obj. 699887 iterations 1\n",
      "Cbc0038I Pass  37: suminf.    0.10273 (1) obj. 714100 iterations 38\n",
      "Cbc0038I Pass  38: suminf.    0.16124 (1) obj. 701237 iterations 2\n",
      "Cbc0038I Pass  39: suminf.    0.16124 (1) obj. 701237 iterations 0\n",
      "Cbc0038I Rounding solution of 730161 is better than previous of 738524\n",
      "\n",
      "Cbc0038I Before mini branch and bound, 0 integers at bound fixed and 560 continuous\n",
      "Cbc0038I Full problem 858 rows 715 columns, reduced to 181 rows 155 columns\n",
      "Cbc0038I Mini branch and bound improved solution from 730161 to 729594 (0.12 seconds)\n",
      "Cbc0038I Round again with cutoff of 684791\n",
      "Cbc0038I Reduced cost fixing fixed 2 variables on major pass 4\n",
      "Cbc0038I Pass  39: suminf.    0.36001 (1) obj. 616403 iterations 0\n",
      "Cbc0038I Pass  40: suminf.    0.36239 (1) obj. 684791 iterations 235\n",
      "Cbc0038I Pass  41: suminf.    0.36001 (1) obj. 626818 iterations 16\n",
      "Cbc0038I Pass  42: suminf.    0.36239 (1) obj. 684791 iterations 111\n",
      "Cbc0038I Pass  43: suminf.    0.36239 (1) obj. 684791 iterations 0\n",
      "Cbc0038I Pass  44: suminf.    0.36239 (1) obj. 684791 iterations 0\n",
      "Cbc0038I Pass  45: suminf.    0.36001 (1) obj. 627985 iterations 11\n",
      "Cbc0038I Pass  46: suminf.    0.36001 (1) obj. 627985 iterations 0\n",
      "Cbc0038I Pass  47: suminf.    0.36001 (1) obj. 627985 iterations 0\n",
      "Cbc0038I Pass  48: suminf.    0.36001 (1) obj. 627985 iterations 0\n",
      "Cbc0038I Pass  49: suminf.    0.36001 (1) obj. 627985 iterations 0\n",
      "Cbc0038I Pass  50: suminf.    0.36001 (1) obj. 618854 iterations 6\n",
      "Cbc0038I Pass  51: suminf.    0.36239 (1) obj. 684791 iterations 17\n",
      "Cbc0038I Pass  52: suminf.    0.36239 (1) obj. 684791 iterations 0\n",
      "Cbc0038I Pass  53: suminf.    0.36239 (1) obj. 684791 iterations 0\n",
      "Cbc0038I Pass  54: suminf.    0.36239 (1) obj. 684791 iterations 0\n",
      "Cbc0038I Pass  55: suminf.    0.36001 (1) obj. 625891 iterations 11\n",
      "Cbc0038I Pass  56: suminf.    0.36001 (1) obj. 628249 iterations 55\n",
      "Cbc0038I Pass  57: suminf.    0.36001 (1) obj. 628249 iterations 0\n",
      "Cbc0038I Pass  58: suminf.    0.36001 (1) obj. 628249 iterations 0\n",
      "Cbc0038I Pass  59: suminf.    0.36001 (1) obj. 628249 iterations 0\n",
      "Cbc0038I Pass  60: suminf.    0.36001 (1) obj. 628249 iterations 0\n",
      "Cbc0038I Pass  61: suminf.    0.36001 (1) obj. 628249 iterations 0\n",
      "Cbc0038I Pass  62: suminf.    0.36001 (1) obj. 628249 iterations 0\n",
      "Cbc0038I Pass  63: suminf.    0.36001 (1) obj. 627124 iterations 7\n",
      "Cbc0038I Pass  64: suminf.    0.36001 (1) obj. 627124 iterations 0\n",
      "Cbc0038I Pass  65: suminf.    0.36001 (1) obj. 627124 iterations 0\n",
      "Cbc0038I Pass  66: suminf.    0.36001 (1) obj. 627124 iterations 0\n",
      "Cbc0038I Pass  67: suminf.    0.36001 (1) obj. 627124 iterations 0\n",
      "Cbc0038I Pass  68: suminf.    0.36001 (1) obj. 627124 iterations 0\n",
      "Cbc0038I No solution found this major pass\n",
      "Cbc0038I Before mini branch and bound, 2 integers at bound fixed and 586 continuous\n",
      "Cbc0038I Full problem 858 rows 715 columns, reduced to 154 rows 127 columns\n",
      "Cbc0038I Mini branch and bound did not improve solution (0.15 seconds)\n",
      "Cbc0038I After 0.15 seconds - Feasibility pump exiting with objective of 729594 - took 0.12 seconds\n",
      "Cbc0012I Integer solution of 729594.2 found by feasibility pump after 0 iterations and 0 nodes (0.15 seconds)\n",
      "Cbc0038I Full problem 858 rows 715 columns, reduced to 431 rows 570 columns - 1 fixed gives 289, 569 - ok now\n",
      "Cbc0038I Full problem 858 rows 715 columns, reduced to 289 rows 569 columns\n",
      "Cbc0031I 3 added rows had average density of 5.3333333\n",
      "Cbc0013I At root node, 6 cuts changed objective from 616403.24 to 729594.2 in 2 passes\n",
      "Cbc0014I Cut generator 0 (Probing) - 0 row cuts average 0.0 elements, 0 column cuts (0 active)  in 0.001 seconds - new frequency is -100\n",
      "Cbc0014I Cut generator 1 (Gomory) - 3 row cuts average 5.3 elements, 0 column cuts (0 active)  in 0.000 seconds - new frequency is 1\n",
      "Cbc0014I Cut generator 2 (Knapsack) - 0 row cuts average 0.0 elements, 0 column cuts (0 active)  in 0.001 seconds - new frequency is -100\n",
      "Cbc0014I Cut generator 3 (Clique) - 0 row cuts average 0.0 elements, 0 column cuts (0 active)  in 0.000 seconds - new frequency is -100\n",
      "Cbc0014I Cut generator 4 (MixedIntegerRounding2) - 1 row cuts average 480.0 elements, 0 column cuts (0 active)  in 0.001 seconds - new frequency is 1\n",
      "Cbc0014I Cut generator 5 (FlowCover) - 0 row cuts average 0.0 elements, 0 column cuts (0 active)  in 0.001 seconds - new frequency is -100\n",
      "Cbc0014I Cut generator 6 (TwoMirCuts) - 3 row cuts average 5.3 elements, 0 column cuts (0 active)  in 0.001 seconds - new frequency is -100\n",
      "Cbc0001I Search completed - best objective 729594.1984703375, took 40 iterations and 0 nodes (0.17 seconds)\n",
      "Cbc0035I Maximum depth 0, 0 variables fixed on reduced cost\n",
      "Cuts at root node changed objective from 616403 to 729594\n",
      "Probing was tried 2 times and created 0 cuts of which 0 were active after adding rounds of cuts (0.001 seconds)\n",
      "Gomory was tried 2 times and created 3 cuts of which 0 were active after adding rounds of cuts (0.000 seconds)\n",
      "Knapsack was tried 2 times and created 0 cuts of which 0 were active after adding rounds of cuts (0.001 seconds)\n",
      "Clique was tried 2 times and created 0 cuts of which 0 were active after adding rounds of cuts (0.000 seconds)\n",
      "MixedIntegerRounding2 was tried 2 times and created 1 cuts of which 0 were active after adding rounds of cuts (0.001 seconds)\n",
      "FlowCover was tried 2 times and created 0 cuts of which 0 were active after adding rounds of cuts (0.001 seconds)\n",
      "TwoMirCuts was tried 2 times and created 3 cuts of which 0 were active after adding rounds of cuts (0.001 seconds)\n",
      "ZeroHalf was tried 1 times and created 0 cuts of which 0 were active after adding rounds of cuts (0.000 seconds)\n",
      "\n",
      "Result - Optimal solution found\n",
      "\n",
      "Objective value:                729594.19847034\n",
      "Enumerated nodes:               0\n",
      "Total iterations:               40\n",
      "Time (CPU seconds):             0.15\n",
      "Time (Wallclock seconds):       0.18\n",
      "\n",
      "Option for printingOptions changed from normal to all\n",
      "Total time (CPU seconds):       0.16   (Wallclock seconds):       0.19\n",
      "\n"
     ]
    },
    {
     "data": {
      "text/plain": [
       "1"
      ]
     },
     "execution_count": 170,
     "metadata": {},
     "output_type": "execute_result"
    }
   ],
   "source": [
    "prob.solve()"
   ]
  },
  {
   "cell_type": "code",
   "execution_count": 171,
   "metadata": {},
   "outputs": [],
   "source": [
    "status = LpStatus[prob.status]\n"
   ]
  },
  {
   "cell_type": "code",
   "execution_count": 172,
   "metadata": {},
   "outputs": [
    {
     "name": "stdout",
     "output_type": "stream",
     "text": [
      "Solution Status =  Optimal\n"
     ]
    }
   ],
   "source": [
    "print(\"Solution Status = \", LpStatus[prob.status])"
   ]
  },
  {
   "cell_type": "code",
   "execution_count": 173,
   "metadata": {},
   "outputs": [],
   "source": [
    "# if status == \"Optimal\":\n",
    "#     # Retrieve and store the variable values\n",
    "#     optimal_x = use_facility.varValue\n",
    "#     optimal_y = ser_customer.varValue\n",
    "\n",
    "#     # Retrieve and store the optimal objective value\n",
    "#     optimal_obj_value = prob.objective.value()\n",
    "# else:\n",
    "#     optimal_x = None\n",
    "#     optimal_y = None\n",
    "#     optimal_obj_value = None\n",
    "\n",
    "# print(\"Optimization Status:\", status)\n",
    "# print(\"Optimal x:\", optimal_x)\n",
    "# print(\"Optimal y:\", optimal_y)\n",
    "# print(\"Optimal Objective Value:\", optimal_obj_value)"
   ]
  },
  {
   "cell_type": "code",
   "execution_count": 174,
   "metadata": {},
   "outputs": [],
   "source": [
    "# # Print the status of the optimization\n",
    "# print(\"Optimization Status:\", LpStatus[prob.status])\n",
    "\n",
    "# # Print the optimal values of decision variables\n",
    "# for j in Facility:\n",
    "#     print(f\"Use Facility {j}: {use_facility[j].varValue}\")\n",
    "\n",
    "# for i in Customer:\n",
    "#     for j in Facility:\n",
    "#         print(f\"Service customer {i} from Facility {j}: {ser_customer[(i, j)].varValue}\")"
   ]
  },
  {
   "cell_type": "code",
   "execution_count": 175,
   "metadata": {},
   "outputs": [],
   "source": [
    "# # Print the solution of Binary Decision Variables\n",
    "# Tolerance = 0.0001\n",
    "# for j in Plant:\n",
    "#     if use_plant[j].varValue > Tolerance:\n",
    "#         print(\"Estalish Facility at site = \", j)"
   ]
  },
  {
   "cell_type": "code",
   "execution_count": 176,
   "metadata": {},
   "outputs": [],
   "source": [
    "# Print the solution of Continuous Decision Variables\n",
    "# for v in prob.variables():\n",
    "#     print(v.name, \"=\", v.varValue)"
   ]
  },
  {
   "cell_type": "code",
   "execution_count": 177,
   "metadata": {},
   "outputs": [
    {
     "data": {
      "text/plain": [
       "{0: [5, 6, 7, 35, 36, 38, 53, 54, 59, 60, 97, 98, 100, 116, 119, 120],\n",
       " 1: [],\n",
       " 2: [25,\n",
       "  49,\n",
       "  61,\n",
       "  62,\n",
       "  63,\n",
       "  64,\n",
       "  65,\n",
       "  66,\n",
       "  67,\n",
       "  68,\n",
       "  69,\n",
       "  70,\n",
       "  102,\n",
       "  105,\n",
       "  106,\n",
       "  107,\n",
       "  108,\n",
       "  109,\n",
       "  110,\n",
       "  111,\n",
       "  112,\n",
       "  113,\n",
       "  114,\n",
       "  121,\n",
       "  122,\n",
       "  128,\n",
       "  129,\n",
       "  130],\n",
       " 3: [20,\n",
       "  24,\n",
       "  26,\n",
       "  27,\n",
       "  28,\n",
       "  39,\n",
       "  40,\n",
       "  41,\n",
       "  42,\n",
       "  48,\n",
       "  51,\n",
       "  52,\n",
       "  55,\n",
       "  71,\n",
       "  72,\n",
       "  76,\n",
       "  77,\n",
       "  92,\n",
       "  93,\n",
       "  94,\n",
       "  123,\n",
       "  124,\n",
       "  125,\n",
       "  126,\n",
       "  127,\n",
       "  133,\n",
       "  134,\n",
       "  135,\n",
       "  136,\n",
       "  137,\n",
       "  140,\n",
       "  141],\n",
       " 4: []}"
      ]
     },
     "execution_count": 177,
     "metadata": {},
     "output_type": "execute_result"
    }
   ],
   "source": [
    "# Initialize lists to store assignment information\n",
    "assigned_farms = {j: [] for j in Plant}\n",
    "\n",
    "# Collect assigned farms\n",
    "for i in Plant:\n",
    "    for j in Farm:\n",
    "        if ser_farm[(j,i)].varValue > 0.00001:\n",
    "            assigned_farms[i].append(j)\n",
    "\n",
    "assigned_farms"
   ]
  },
  {
   "cell_type": "code",
   "execution_count": 178,
   "metadata": {},
   "outputs": [
    {
     "name": "stdout",
     "output_type": "stream",
     "text": [
      "16\n",
      "0\n",
      "28\n",
      "32\n",
      "0\n"
     ]
    }
   ],
   "source": [
    "for j in Plant:\n",
    "    assigned = assigned_farms[j]\n",
    "    print(len(assigned))"
   ]
  },
  {
   "cell_type": "code",
   "execution_count": 179,
   "metadata": {},
   "outputs": [
    {
     "name": "stdout",
     "output_type": "stream",
     "text": [
      "[5, 6, 7, 35, 36, 38, 53, 54, 59, 60, 97, 98, 100, 116, 119, 120]\n",
      "[]\n",
      "[25, 49, 61, 62, 63, 64, 65, 66, 67, 68, 69, 70, 102, 105, 106, 107, 108, 109, 110, 111, 112, 113, 114, 121, 122, 128, 129, 130]\n",
      "[20, 24, 26, 27, 28, 39, 40, 41, 42, 48, 51, 52, 55, 71, 72, 76, 77, 92, 93, 94, 123, 124, 125, 126, 127, 133, 134, 135, 136, 137, 140, 141]\n",
      "[]\n"
     ]
    }
   ],
   "source": [
    "for j in Plant:\n",
    "    assigned = assigned_farms[j]\n",
    "    print(assigned)"
   ]
  },
  {
   "cell_type": "code",
   "execution_count": 180,
   "metadata": {},
   "outputs": [],
   "source": [
    "# Creating a list of all farms that are not assigned a plant\n",
    "assignment_to_check = []\n",
    "\n",
    "# Append the lists from the dictionary to the combined list\n",
    "for key in assigned_farms:\n",
    "    assignment_to_check.extend(assigned_farms[key])\n",
    "\n",
    "not_in_any_solution = []\n",
    "\n",
    "for index_value in farm.index:\n",
    "    if index_value not in assignment_to_check:\n",
    "        not_in_any_solution.append(index_value)\n",
    "\n",
    "    # for j in Plant:\n",
    "    #     assigned = assigned_farms[j]\n",
    "    #     if index_value not in assigned:\n",
    "    #         not_in_any_solution.append(index_value)"
   ]
  },
  {
   "cell_type": "markdown",
   "metadata": {},
   "source": [
    "PROBLEM!! The number of farms that are not_in_any_solution combined with all the farms that are included add up to 143, which is 1 more than the actual count of farms....\n",
    "\n",
    "Just checked and *18* has duplicates. So Farm 18 is assigned to Plant 1 and 4. \n"
   ]
  },
  {
   "cell_type": "code",
   "execution_count": 181,
   "metadata": {},
   "outputs": [
    {
     "data": {
      "text/plain": [
       "66"
      ]
     },
     "execution_count": 181,
     "metadata": {},
     "output_type": "execute_result"
    }
   ],
   "source": [
    "len(not_in_any_solution)"
   ]
  },
  {
   "cell_type": "code",
   "execution_count": 182,
   "metadata": {},
   "outputs": [
    {
     "name": "stdout",
     "output_type": "stream",
     "text": [
      "There are no duplicates in the list.\n"
     ]
    }
   ],
   "source": [
    "# Check duplicates\n",
    "\n",
    "# Initialize a dictionary to store seen values\n",
    "seen = {}\n",
    "# Initialize a list to store duplicate values\n",
    "duplicates = []\n",
    "\n",
    "# Iterate through the list\n",
    "for item in assignment_to_check:\n",
    "    # If the item is already in the dictionary, it's a duplicate\n",
    "    if item in seen:\n",
    "        duplicates.append(item)\n",
    "    else:\n",
    "        seen[item] = True\n",
    "\n",
    "if duplicates:\n",
    "    print(\"Duplicate values:\", duplicates)\n",
    "else:\n",
    "    print(\"There are no duplicates in the list.\")"
   ]
  },
  {
   "cell_type": "code",
   "execution_count": 183,
   "metadata": {},
   "outputs": [
    {
     "data": {
      "image/png": "[encoded data removed]",
      "text/plain": [
       "<Figure size 1000x800 with 1 Axes>"
      ]
     },
     "metadata": {},
     "output_type": "display_data"
    }
   ],
   "source": [
    "# Visualize the results\n",
    "plt.figure(figsize=(10, 8))\n",
    "\n",
    "for j in Plant:\n",
    "    assigned = assigned_farms[j]\n",
    "    plt.scatter([farm.loc[i, 'x'] for i in assigned], [farm.loc[i, 'y'] for i in assigned], label=f\"Plant {j}\", marker='o', s=20, alpha=0.7)\n",
    "    # plt.scatter([potential_digester_location.iloc[j, \"x\"] for j in Plant], [potential_digester_location[j, \"y\"] for j in Plant], color='red', label=\"Plant Locations\", marker='s', s=100)\n",
    "\n",
    "for left_out in not_in_any_solution:\n",
    "    plt.scatter(farm.loc[left_out, 'x'], farm.loc[left_out, 'y'], marker='o', s=20, c='Black', alpha=0.7)\n",
    "\n",
    "scatter = plt.scatter(potential_digester_location['x'], potential_digester_location['y'], c=potential_digester_location['capacity'], label=\"Plant Locations\", marker='s', s=50)\n",
    "# Add labels based on 'Label' column\n",
    "# for i, row in potential_digester_location.iterrows():\n",
    "#     plt.annotate(row['capacity'], (row['x'], row['y']), textcoords=\"offset points\", xytext=(0, 10), ha='center')\n",
    "\n",
    "# Add labels and legend\n",
    "plt.xlabel(\"Longtitude\")\n",
    "plt.ylabel(\"Latitude\")\n",
    "plt.title(\"Farm-to-Plant Assignments: Capacitated Facility Location Problem (Version 1)\")\n",
    "# plt.legend()\n",
    "legend = plt.legend(*scatter.legend_elements(), loc='upper left', bbox_to_anchor=(1.0, 1.0))\n",
    "\n",
    "# # Create a dictionary to map unique values to custom legend labels\n",
    "# custom_labels = {'A': 'Category 1', 'B': 'Category 2', 'C': 'Category 3'}\n",
    "\n",
    "# # Replace unique values with custom labels for the legend\n",
    "# legend_labels = [custom_labels[label] for label in df['Label'].unique()]\n",
    "\n",
    "# # Create the legend with custom labels\n",
    "# legend = plt.legend(handles=scatter.legend_elements()[0], labels=legend_labels, loc='upper left', bbox_to_anchor=(1.0, 1.0))\n",
    "\n",
    "plt.savefig(r\"./cflp_v1_50%manure_relaxed.png\", dpi=300)\n",
    "\n",
    "plt.show()"
   ]
  },
  {
   "cell_type": "code",
   "execution_count": 184,
   "metadata": {},
   "outputs": [
    {
     "name": "stdout",
     "output_type": "stream",
     "text": [
      "Total Cost =  729594.1984703372\n"
     ]
    }
   ],
   "source": [
    "# Print Optimal\n",
    "print(\"Total Cost = \", value(prob.objective))"
   ]
  }
 ],
 "metadata": {
  "kernelspec": {
   "display_name": "Python 3",
   "language": "python",
   "name": "python3"
  },
  "language_info": {
   "codemirror_mode": {
    "name": "ipython",
    "version": 3
   },
   "file_extension": ".py",
   "mimetype": "text/x-python",
   "name": "python",
   "nbconvert_exporter": "python",
   "pygments_lexer": "ipython3",
   "version": "3.10.4"
  }
 },
 "nbformat": 4,
 "nbformat_minor": 2
}
