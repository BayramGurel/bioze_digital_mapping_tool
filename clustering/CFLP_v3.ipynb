{
 "cells": [
  {
   "cell_type": "markdown",
   "metadata": {},
   "source": [
    "# Capacitated Facility Location Problem - Version #3"
   ]
  },
  {
   "cell_type": "markdown",
   "metadata": {},
   "source": [
    "The code kind of work atm. However, the constraints need to be improved. The problem is considered infeasible if not all of the farms can be assigned to a plant. \n",
    "https://www.youtube.com/watch?v=Ds5whiQXdbw&ab_channel=Hakeem-Ur-Rehman"
   ]
  },
  {
   "cell_type": "code",
   "execution_count": 44,
   "metadata": {},
   "outputs": [],
   "source": [
    "from pulp import *\n",
    "import pandas as pd\n",
    "import matplotlib.pyplot as plt\n",
    "import seaborn as sns\n",
    "import numpy as np\n",
    "%matplotlib inline"
   ]
  },
  {
   "cell_type": "code",
   "execution_count": 45,
   "metadata": {},
   "outputs": [],
   "source": [
    "version_number = 3"
   ]
  },
  {
   "cell_type": "code",
   "execution_count": 46,
   "metadata": {},
   "outputs": [
    {
     "data": {
      "text/html": [
       "<div>\n",
       "<style scoped>\n",
       "    .dataframe tbody tr th:only-of-type {\n",
       "        vertical-align: middle;\n",
       "    }\n",
       "\n",
       "    .dataframe tbody tr th {\n",
       "        vertical-align: top;\n",
       "    }\n",
       "\n",
       "    .dataframe thead th {\n",
       "        text-align: right;\n",
       "    }\n",
       "</style>\n",
       "<table border=\"1\" class=\"dataframe\">\n",
       "  <thead>\n",
       "    <tr style=\"text-align: right;\">\n",
       "      <th></th>\n",
       "      <th>x</th>\n",
       "      <th>y</th>\n",
       "      <th>count</th>\n",
       "    </tr>\n",
       "  </thead>\n",
       "  <tbody>\n",
       "    <tr>\n",
       "      <th>0</th>\n",
       "      <td>6.870686</td>\n",
       "      <td>52.215190</td>\n",
       "      <td>25</td>\n",
       "    </tr>\n",
       "    <tr>\n",
       "      <th>1</th>\n",
       "      <td>6.554937</td>\n",
       "      <td>52.254895</td>\n",
       "      <td>25</td>\n",
       "    </tr>\n",
       "    <tr>\n",
       "      <th>2</th>\n",
       "      <td>6.730518</td>\n",
       "      <td>52.252885</td>\n",
       "      <td>42</td>\n",
       "    </tr>\n",
       "    <tr>\n",
       "      <th>3</th>\n",
       "      <td>6.914234</td>\n",
       "      <td>52.387401</td>\n",
       "      <td>18</td>\n",
       "    </tr>\n",
       "    <tr>\n",
       "      <th>4</th>\n",
       "      <td>6.664105</td>\n",
       "      <td>52.392622</td>\n",
       "      <td>32</td>\n",
       "    </tr>\n",
       "  </tbody>\n",
       "</table>\n",
       "</div>"
      ],
      "text/plain": [
       "          x          y  count\n",
       "0  6.870686  52.215190     25\n",
       "1  6.554937  52.254895     25\n",
       "2  6.730518  52.252885     42\n",
       "3  6.914234  52.387401     18\n",
       "4  6.664105  52.392622     32"
      ]
     },
     "execution_count": 46,
     "metadata": {},
     "output_type": "execute_result"
    }
   ],
   "source": [
    "# Import farm_cluster_mock_5 dataset - which is the mock data for potential digester locations\n",
    "potential_digester_location = pd.read_csv(r'./farm_cluster_mock_5.csv')\n",
    "potential_digester_location.head()"
   ]
  },
  {
   "cell_type": "code",
   "execution_count": 47,
   "metadata": {},
   "outputs": [],
   "source": [
    "# Define the capacities of digester\n",
    "medium_digester_capacity = 78480  # in tonne/yr\n",
    "large_digester_capacity = 150560  # in tonne/yr"
   ]
  },
  {
   "cell_type": "code",
   "execution_count": 48,
   "metadata": {},
   "outputs": [],
   "source": [
    "# Define the costs of digester \n",
    "medium_digester_cost = 209249   # in euro CAPEX\n",
    "large_digester_cost = 252616    # in euro CAPEX"
   ]
  },
  {
   "cell_type": "code",
   "execution_count": 49,
   "metadata": {},
   "outputs": [],
   "source": [
    "potential_digester_location = potential_digester_location.drop(['count'], axis=1) # drop unnecessary column"
   ]
  },
  {
   "cell_type": "code",
   "execution_count": 50,
   "metadata": {},
   "outputs": [],
   "source": [
    "# Create mock digester capacity data\n",
    "potential_digester_location['capacity'] = [medium_digester_capacity, medium_digester_capacity, large_digester_capacity, large_digester_capacity, large_digester_capacity]\n",
    "\n",
    "# Create mock digester cost data\n",
    "potential_digester_location['cost'] = [medium_digester_cost, medium_digester_cost, large_digester_cost, large_digester_cost, large_digester_cost]"
   ]
  },
  {
   "cell_type": "code",
   "execution_count": 51,
   "metadata": {},
   "outputs": [
    {
     "data": {
      "text/html": [
       "<div>\n",
       "<style scoped>\n",
       "    .dataframe tbody tr th:only-of-type {\n",
       "        vertical-align: middle;\n",
       "    }\n",
       "\n",
       "    .dataframe tbody tr th {\n",
       "        vertical-align: top;\n",
       "    }\n",
       "\n",
       "    .dataframe thead th {\n",
       "        text-align: right;\n",
       "    }\n",
       "</style>\n",
       "<table border=\"1\" class=\"dataframe\">\n",
       "  <thead>\n",
       "    <tr style=\"text-align: right;\">\n",
       "      <th></th>\n",
       "      <th>Unnamed: 0</th>\n",
       "      <th>x</th>\n",
       "      <th>y</th>\n",
       "      <th>manure_t</th>\n",
       "      <th>biogas_potential_m3</th>\n",
       "    </tr>\n",
       "  </thead>\n",
       "  <tbody>\n",
       "    <tr>\n",
       "      <th>0</th>\n",
       "      <td>0</td>\n",
       "      <td>6.765843</td>\n",
       "      <td>52.314139</td>\n",
       "      <td>7431</td>\n",
       "      <td>2898090.0</td>\n",
       "    </tr>\n",
       "    <tr>\n",
       "      <th>1</th>\n",
       "      <td>1</td>\n",
       "      <td>6.837249</td>\n",
       "      <td>52.425084</td>\n",
       "      <td>7246</td>\n",
       "      <td>2825940.0</td>\n",
       "    </tr>\n",
       "    <tr>\n",
       "      <th>2</th>\n",
       "      <td>2</td>\n",
       "      <td>6.859361</td>\n",
       "      <td>52.386225</td>\n",
       "      <td>9639</td>\n",
       "      <td>3759210.0</td>\n",
       "    </tr>\n",
       "    <tr>\n",
       "      <th>3</th>\n",
       "      <td>3</td>\n",
       "      <td>6.753483</td>\n",
       "      <td>52.434382</td>\n",
       "      <td>9821</td>\n",
       "      <td>3830190.0</td>\n",
       "    </tr>\n",
       "    <tr>\n",
       "      <th>4</th>\n",
       "      <td>4</td>\n",
       "      <td>6.484077</td>\n",
       "      <td>52.243620</td>\n",
       "      <td>2732</td>\n",
       "      <td>1065480.0</td>\n",
       "    </tr>\n",
       "  </tbody>\n",
       "</table>\n",
       "</div>"
      ],
      "text/plain": [
       "   Unnamed: 0         x          y  manure_t  biogas_potential_m3\n",
       "0           0  6.765843  52.314139      7431            2898090.0\n",
       "1           1  6.837249  52.425084      7246            2825940.0\n",
       "2           2  6.859361  52.386225      9639            3759210.0\n",
       "3           3  6.753483  52.434382      9821            3830190.0\n",
       "4           4  6.484077  52.243620      2732            1065480.0"
      ]
     },
     "execution_count": 51,
     "metadata": {},
     "output_type": "execute_result"
    }
   ],
   "source": [
    "farm = pd.read_csv(r\"./farm_mock.csv\")\n",
    "farm.head()"
   ]
  },
  {
   "cell_type": "code",
   "execution_count": 52,
   "metadata": {},
   "outputs": [],
   "source": [
    "# Lists (sets / Array) of Customers and Facilities\n",
    "Farm = farm.index.tolist()  # Customer = [1,2,3,4,5]\n",
    "Plant = potential_digester_location.index.tolist()    # Facility = ['Fac-1', 'Fac-2', 'Fac-3']"
   ]
  },
  {
   "cell_type": "code",
   "execution_count": 53,
   "metadata": {},
   "outputs": [],
   "source": [
    "# Dictionaries of the demands and facilities as well as fixed cost at each facility\n",
    "Manure_Production = farm['manure_t'].to_dict()  # Demand = {1 : 80, 2 : 270, 3 : 250, 4 : 160, 5 : 180}\n",
    "Max_Capacity = potential_digester_location['capacity'].to_dict()    # Max_Supply = {'Fac-1' : 500, 'Fac-2' : 500, 'Fac-3' : 500} \n",
    "Fixed_Cost = potential_digester_location['cost'].to_dict()  # fixed_cost = {'Fac-1' : 1000, 'Fac-2' : 1000, 'Fac-3' : 1000 }"
   ]
  },
  {
   "cell_type": "code",
   "execution_count": 54,
   "metadata": {},
   "outputs": [
    {
     "data": {
      "text/plain": [
       "dict_values"
      ]
     },
     "execution_count": 54,
     "metadata": {},
     "output_type": "execute_result"
    }
   ],
   "source": [
    "type(Fixed_Cost.values())"
   ]
  },
  {
   "cell_type": "code",
   "execution_count": 55,
   "metadata": {},
   "outputs": [],
   "source": [
    "# string_values = {}\n",
    "# non_string_values = {}\n",
    "\n",
    "# for key, value in transportation_cost.items():\n",
    "#     if isinstance(value, str):\n",
    "#         string_values[key] = value\n",
    "#     else:\n",
    "#         non_string_values[key] = value\n",
    "\n",
    "# print(\"String Values:\")\n",
    "# print(string_values)\n",
    "\n",
    "# print(\"\\nNon-String Values:\")\n",
    "# print(non_string_values)"
   ]
  },
  {
   "cell_type": "code",
   "execution_count": 56,
   "metadata": {},
   "outputs": [],
   "source": [
    "from scipy.spatial.distance import euclidean\n",
    "\n",
    "# # Dictionary of the transportation cost from each facility to all the customers \n",
    "# transportation_cost = {'Fac-1' : {1 : 4, 2 : 5, 3 : 6, 4 : 8, 5 : 10},\n",
    "#                        'Fac-2' : {1 : 6, 2 : 4, 3 : 3, 4 : 5, 5 : 8},\n",
    "#                        'Fac-3' : {1 : 9, 2 : 7, 3 : 4, 4 : 3, 5 : 4}\n",
    "#                       }\n",
    "\n",
    "# Create a mock distance matrix to store the euclidean distance between each potential digester location to every farm\n",
    "transportation_cost = {} # NOTE THE TRANSPORTATION COST MATRIX IS A !DISTANCE MATRIX!\n",
    "\n",
    "for plant_idx, plant_row in potential_digester_location.iterrows():\n",
    "    plant_coords = (plant_row['y'], plant_row['x'])\n",
    "    transportation_cost[plant_idx] = {}  # Create an inner dictionary for each plant\n",
    "\n",
    "    for farm_idx, farm_row in farm.iterrows():\n",
    "        farm_coords = (farm_row['y'], farm_row['x'])\n",
    "        distance = euclidean(plant_coords, farm_coords)\n",
    "        transportation_cost[plant_idx][farm_idx] = distance\n",
    "\n",
    "# transportation_cost"
   ]
  },
  {
   "cell_type": "code",
   "execution_count": 57,
   "metadata": {},
   "outputs": [],
   "source": [
    "# Define the total manure production by all farms\n",
    "Total_Manure_Production = sum(Manure_Production[i] for i in Farm)"
   ]
  },
  {
   "cell_type": "code",
   "execution_count": 86,
   "metadata": {},
   "outputs": [],
   "source": [
    "# Define the manure utilization goal\n",
    "manure_utilization_goal = 0.8"
   ]
  },
  {
   "cell_type": "code",
   "execution_count": 87,
   "metadata": {},
   "outputs": [],
   "source": [
    "# Setting the Problem\n",
    "prob = LpProblem(\"Capacitated_Facility_Location_Problem_V1\", LpMinimize)"
   ]
  },
  {
   "cell_type": "code",
   "execution_count": 88,
   "metadata": {},
   "outputs": [],
   "source": [
    "# Defining our Decision Variables\n",
    "use_plant = LpVariable.dicts(\"Plant\", Plant, 0, 1, LpBinary)    \n",
    "    # use_facility = LpVariable.dicts(\"Use Facility\", Facility, 0, 1, LpBinary)\n",
    "ser_farm = LpVariable.dicts(\"Farm_Plant\", [(i,j) for i in Farm for j in Plant], 0)  \n",
    "    # ser_customer = LpVariable.dicts(\"Service\", [(i,j) for i in Customer for j in Facility], 0)"
   ]
  },
  {
   "cell_type": "code",
   "execution_count": 89,
   "metadata": {},
   "outputs": [],
   "source": [
    "# Define binary decision variables for farm assignment\n",
    "farm_assignment = LpVariable.dicts(\"Farm_Assignment\", Farm, 0, 1, LpBinary)\n",
    "\n",
    "\n",
    "# # Create a binary variable to indicate if a farm supplies a plant\n",
    "# farm_supplies_plant = LpVariable.dicts(\"Farm_Supplies_Plant\", [(i, j) for i in Farm for j in Plant], 0, 1, LpBinary)"
   ]
  },
  {
   "cell_type": "code",
   "execution_count": 90,
   "metadata": {},
   "outputs": [],
   "source": [
    "# Setting the Objective Function\n",
    "prob += lpSum(Fixed_Cost[j]*use_plant[j] for j in Plant) + lpSum(transportation_cost[j][i]*ser_farm[(i,j)] for j in Plant for i in Farm)\n",
    "\n",
    "    # prob += lpSum(fixed_cost[j]*use_facility[j] for j in Facility) + lpSum(transportation_cost[j][i]*ser_customer[(i,j)] for j in Facility for i in Customer)"
   ]
  },
  {
   "cell_type": "code",
   "execution_count": 91,
   "metadata": {},
   "outputs": [],
   "source": [
    "# for j in Plant:\n",
    "#     for i in Farm:\n",
    "#        print(transportation_cost[j][i]*ser_farm[(i,j)])"
   ]
  },
  {
   "cell_type": "code",
   "execution_count": 92,
   "metadata": {},
   "outputs": [],
   "source": [
    "# # Costraints\n",
    "\n",
    "# # This constraint controls that the facility should meet the demand of a customer in the example but in our case\n",
    "# #     # this means the farm has to be able to send exactly the entire produced amount of manure to the assigned digester\n",
    "\n",
    "\n",
    "# Constraint\n",
    "for i in Farm:\n",
    "    # Total service from facilities to each farm is equal to the farm's production capacity if it is assigned\n",
    "    prob += lpSum(ser_farm[(i, j)] for j in Plant) == Manure_Production[i] * farm_assignment[i]\n",
    "\n",
    "# for i in Farm: \n",
    "#     prob += lpSum(ser_farm[(i,j)] for j in Plant) == Manure_Production[i]\n",
    "\n",
    "for j in Plant:\n",
    "    prob += lpSum(ser_farm[(i,j)] for i in Farm) <= Max_Capacity[j]*use_plant[j]\n",
    "\n",
    "for i in Farm:\n",
    "    for j in Plant:\n",
    "        prob += ser_farm[(i,j)] <= Manure_Production[i]*use_plant[j]\n",
    "\n",
    "# Add a constraint to ensure at least 50% of total production is sent to plants\n",
    "prob += lpSum(ser_farm[(i, j)] for i in Farm for j in Plant) >= manure_utilization_goal * Total_Manure_Production"
   ]
  },
  {
   "cell_type": "code",
   "execution_count": 93,
   "metadata": {},
   "outputs": [
    {
     "name": "stdout",
     "output_type": "stream",
     "text": [
      "Welcome to the CBC MILP Solver \n",
      "Version: 2.10.3 \n",
      "Build Date: Dec 15 2019 \n",
      "\n",
      "command line - /Users/wenyuc/opt/anaconda3/envs/bioze_env/lib/python3.10/site-packages/pulp/solverdir/cbc/osx/64/cbc /var/folders/w_/w1t73xzx35j4jtrj94fjskj80000gn/T/0e228ece7dc7429cbf9a9a73e641abdd-pulp.mps timeMode elapsed branch printingOptions all solution /var/folders/w_/w1t73xzx35j4jtrj94fjskj80000gn/T/0e228ece7dc7429cbf9a9a73e641abdd-pulp.sol (default strategy 1)\n",
      "At line 2 NAME          MODEL\n",
      "At line 3 ROWS\n",
      "At line 863 COLUMNS\n",
      "At line 5570 RHS\n",
      "At line 6429 BOUNDS\n",
      "At line 6577 ENDATA\n",
      "Problem MODEL has 858 rows, 857 columns and 3697 elements\n",
      "Coin0008I MODEL read with 0 errors\n",
      "Option for timeMode changed from cpu to elapsed\n",
      "Continuous objective value is 1.10483e+06 - 0.00 seconds\n",
      "Cgl0004I processed model has 858 rows, 857 columns (147 integer (147 of which binary)) and 3697 elements\n",
      "Cbc0038I Initial state - 14 integers unsatisfied sum - 5.88318\n",
      "Cbc0038I Pass   1: suminf.    0.55051 (2) obj. 1.10984e+06 iterations 41\n",
      "Cbc0038I Pass   2: suminf.    0.49648 (1) obj. 1.1116e+06 iterations 2\n",
      "Cbc0038I Solution found of 1.21696e+06\n",
      "Cbc0038I Relaxing continuous gives 1.20991e+06\n",
      "Cbc0038I Before mini branch and bound, 132 integers at bound fixed and 572 continuous\n",
      "Cbc0038I Full problem 858 rows 857 columns, reduced to 30 rows 32 columns\n",
      "Cbc0038I Mini branch and bound improved solution from 1.20991e+06 to 1.20924e+06 (0.03 seconds)\n",
      "Cbc0038I Freeing continuous variables gives a solution of 1.20742e+06\n",
      "Cbc0038I Round again with cutoff of 1.19716e+06\n",
      "Cbc0038I Reduced cost fixing fixed 3 variables on major pass 2\n",
      "Cbc0038I Pass   3: suminf.    0.55051 (2) obj. 1.10984e+06 iterations 0\n",
      "Cbc0038I Pass   4: suminf.    0.49648 (1) obj. 1.1116e+06 iterations 3\n",
      "Cbc0038I Pass   5: suminf.    0.06331 (1) obj. 1.19716e+06 iterations 90\n",
      "Cbc0038I Pass   6: suminf.    0.53814 (2) obj. 1.19716e+06 iterations 88\n",
      "Cbc0038I Pass   7: suminf.    0.07922 (1) obj. 1.19716e+06 iterations 9\n",
      "Cbc0038I Pass   8: suminf.    0.46232 (1) obj. 1.12117e+06 iterations 3\n",
      "Cbc0038I Pass   9: suminf.    0.57603 (2) obj. 1.11215e+06 iterations 41\n",
      "Cbc0038I Pass  10: suminf.    0.57603 (2) obj. 1.11215e+06 iterations 0\n",
      "Cbc0038I Pass  11: suminf.    0.08989 (1) obj. 1.19716e+06 iterations 69\n",
      "Cbc0038I Pass  12: suminf.    0.42254 (1) obj. 1.13118e+06 iterations 2\n",
      "Cbc0038I Pass  13: suminf.    0.29497 (2) obj. 1.19716e+06 iterations 151\n",
      "Cbc0038I Pass  14: suminf.    0.29497 (2) obj. 1.19716e+06 iterations 0\n",
      "Cbc0038I Pass  15: suminf.    0.44341 (1) obj. 1.12919e+06 iterations 4\n",
      "Cbc0038I Pass  16: suminf.    0.09598 (1) obj. 1.19716e+06 iterations 38\n",
      "Cbc0038I Pass  17: suminf.    0.43295 (2) obj. 1.19716e+06 iterations 132\n",
      "Cbc0038I Pass  18: suminf.    0.09091 (1) obj. 1.19716e+06 iterations 9\n",
      "Cbc0038I Pass  19: suminf.    0.48361 (1) obj. 1.11926e+06 iterations 2\n",
      "Cbc0038I Pass  20: suminf.    0.50107 (2) obj. 1.11598e+06 iterations 23\n",
      "Cbc0038I Pass  21: suminf.    0.50107 (2) obj. 1.11598e+06 iterations 0\n",
      "Cbc0038I Pass  22: suminf.    0.09420 (1) obj. 1.19716e+06 iterations 65\n",
      "Cbc0038I Pass  23: suminf.    0.43093 (1) obj. 1.13044e+06 iterations 2\n",
      "Cbc0038I Pass  24: suminf.    0.78817 (2) obj. 1.11535e+06 iterations 32\n",
      "Cbc0038I Pass  25: suminf.    0.48981 (1) obj. 1.12e+06 iterations 7\n",
      "Cbc0038I Pass  26: suminf.    0.09562 (1) obj. 1.19716e+06 iterations 82\n",
      "Cbc0038I Pass  27: suminf.    0.50421 (2) obj. 1.19716e+06 iterations 142\n",
      "Cbc0038I Pass  28: suminf.    0.09297 (1) obj. 1.19716e+06 iterations 6\n",
      "Cbc0038I Pass  29: suminf.    0.47551 (1) obj. 1.12128e+06 iterations 2\n",
      "Cbc0038I Pass  30: suminf.    0.50407 (2) obj. 1.11461e+06 iterations 71\n",
      "Cbc0038I Pass  31: suminf.    0.50407 (2) obj. 1.11461e+06 iterations 0\n",
      "Cbc0038I Pass  32: suminf.    0.09677 (1) obj. 1.19716e+06 iterations 48\n",
      "Cbc0038I No solution found this major pass\n",
      "Cbc0038I Before mini branch and bound, 49 integers at bound fixed and 515 continuous\n",
      "Cbc0038I Full problem 858 rows 857 columns, reduced to 70 rows 183 columns\n",
      "Cbc0038I Mini branch and bound improved solution from 1.20742e+06 to 1.20715e+06 (0.16 seconds)\n",
      "Cbc0038I Round again with cutoff of 1.1787e+06\n",
      "Cbc0038I Reduced cost fixing fixed 3 variables on major pass 3\n",
      "Cbc0038I Pass  32: suminf.    0.55051 (2) obj. 1.10984e+06 iterations 0\n",
      "Cbc0038I Pass  33: suminf.    0.49648 (1) obj. 1.1116e+06 iterations 3\n",
      "Cbc0038I Pass  34: suminf.    0.15500 (1) obj. 1.1787e+06 iterations 83\n",
      "Cbc0038I Pass  35: suminf.    0.90063 (2) obj. 1.12024e+06 iterations 105\n",
      "Cbc0038I Pass  36: suminf.    0.90063 (2) obj. 1.12024e+06 iterations 0\n",
      "Cbc0038I Pass  37: suminf.    0.17317 (1) obj. 1.1787e+06 iterations 78\n",
      "Cbc0038I Pass  38: suminf.    0.45556 (1) obj. 1.12266e+06 iterations 3\n",
      "Cbc0038I Pass  39: suminf.    0.62492 (2) obj. 1.11716e+06 iterations 45\n",
      "Cbc0038I Pass  40: suminf.    0.49954 (1) obj. 1.11964e+06 iterations 3\n",
      "Cbc0038I Pass  41: suminf.    0.18914 (1) obj. 1.1787e+06 iterations 39\n",
      "Cbc0038I Pass  42: suminf.    0.36274 (2) obj. 1.1787e+06 iterations 146\n",
      "Cbc0038I Pass  43: suminf.    0.18869 (1) obj. 1.1787e+06 iterations 5\n",
      "Cbc0038I Pass  44: suminf.    0.49230 (1) obj. 1.11857e+06 iterations 3\n",
      "Cbc0038I Pass  45: suminf.    0.24087 (2) obj. 1.1787e+06 iterations 110\n",
      "Cbc0038I Pass  46: suminf.    0.24087 (2) obj. 1.1787e+06 iterations 0\n",
      "Cbc0038I Pass  47: suminf.    0.43028 (1) obj. 1.13251e+06 iterations 10\n",
      "Cbc0038I Pass  48: suminf.    0.19729 (1) obj. 1.1787e+06 iterations 35\n",
      "Cbc0038I Pass  49: suminf.    0.76158 (2) obj. 1.1215e+06 iterations 67\n",
      "Cbc0038I Pass  50: suminf.    0.76158 (2) obj. 1.1215e+06 iterations 0\n",
      "Cbc0038I Pass  51: suminf.    0.19155 (1) obj. 1.1787e+06 iterations 65\n",
      "Cbc0038I Pass  52: suminf.    0.45478 (1) obj. 1.12648e+06 iterations 2\n",
      "Cbc0038I Pass  53: suminf.    0.59113 (2) obj. 1.1787e+06 iterations 152\n",
      "Cbc0038I Pass  54: suminf.    0.19338 (1) obj. 1.1787e+06 iterations 12\n",
      "Cbc0038I Pass  55: suminf.    0.47710 (1) obj. 1.12254e+06 iterations 1\n",
      "Cbc0038I Pass  56: suminf.    0.79214 (2) obj. 1.11775e+06 iterations 40\n",
      "Cbc0038I Pass  57: suminf.    0.79214 (2) obj. 1.11775e+06 iterations 0\n",
      "Cbc0038I Pass  58: suminf.    0.19549 (1) obj. 1.1787e+06 iterations 76\n",
      "Cbc0038I Pass  59: suminf.    0.45066 (1) obj. 1.12822e+06 iterations 1\n",
      "Cbc0038I Pass  60: suminf.    0.38366 (2) obj. 1.1787e+06 iterations 99\n",
      "Cbc0038I Pass  61: suminf.    0.19247 (1) obj. 1.1787e+06 iterations 5\n",
      "Cbc0038I No solution found this major pass\n",
      "Cbc0038I Before mini branch and bound, 43 integers at bound fixed and 477 continuous\n",
      "Cbc0038I Full problem 858 rows 857 columns, reduced to 130 rows 260 columns\n",
      "Cbc0038I Mini branch and bound did not improve solution (0.25 seconds)\n",
      "Cbc0038I After 0.25 seconds - Feasibility pump exiting with objective of 1.20715e+06 - took 0.20 seconds\n",
      "Cbc0012I Integer solution of 1207151.7 found by feasibility pump after 0 iterations and 0 nodes (0.25 seconds)\n",
      "Cbc0038I Full problem 858 rows 857 columns, reduced to 256 rows 647 columns\n",
      "Cbc0031I 9 added rows had average density of 94.111111\n",
      "Cbc0013I At root node, 9 cuts changed objective from 1104828.8 to 1206921.2 in 8 passes\n",
      "Cbc0014I Cut generator 0 (Probing) - 2 row cuts average 27.5 elements, 0 column cuts (0 active)  in 0.002 seconds - new frequency is -100\n",
      "Cbc0014I Cut generator 1 (Gomory) - 16 row cuts average 37.1 elements, 0 column cuts (0 active)  in 0.002 seconds - new frequency is 1\n",
      "Cbc0014I Cut generator 2 (Knapsack) - 0 row cuts average 0.0 elements, 0 column cuts (0 active)  in 0.006 seconds - new frequency is -100\n",
      "Cbc0014I Cut generator 3 (Clique) - 0 row cuts average 0.0 elements, 0 column cuts (0 active)  in 0.000 seconds - new frequency is -100\n",
      "Cbc0014I Cut generator 4 (MixedIntegerRounding2) - 0 row cuts average 0.0 elements, 0 column cuts (0 active)  in 0.001 seconds - new frequency is -100\n",
      "Cbc0014I Cut generator 5 (FlowCover) - 0 row cuts average 0.0 elements, 0 column cuts (0 active)  in 0.006 seconds - new frequency is -100\n",
      "Cbc0014I Cut generator 6 (TwoMirCuts) - 39 row cuts average 49.7 elements, 0 column cuts (0 active)  in 0.006 seconds - new frequency is 1\n",
      "Cbc0010I After 0 nodes, 1 on tree, 1207151.7 best solution, best possible 1206921.2 (0.32 seconds)\n",
      "Cbc0012I Integer solution of 1206963.4 found by DiveCoefficient after 110 iterations and 9 nodes (0.39 seconds)\n",
      "Cbc0012I Integer solution of 1206957.3 found by DiveCoefficient after 240 iterations and 26 nodes (0.42 seconds)\n",
      "Cbc0038I Full problem 858 rows 857 columns, reduced to 120 rows 571 columns\n",
      "Cbc0038I Full problem 867 rows 857 columns, reduced to 135 rows 696 columns\n",
      "Cbc0044I Reduced cost fixing - 135 rows, 696 columns - restarting search\n",
      "Cbc0012I Integer solution of 1206957.3 found by Previous solution after 0 iterations and 0 nodes (0.51 seconds)\n",
      "Cbc0038I Full problem 135 rows 696 columns, reduced to 126 rows 610 columns - 2 fixed gives 126, 608 - still too large\n",
      "Cbc0031I 10 added rows had average density of 143.6\n",
      "Cbc0013I At root node, 10 cuts changed objective from 1206909.5 to 1206922.6 in 10 passes\n",
      "Cbc0014I Cut generator 0 (Probing) - 0 row cuts average 0.0 elements, 14 column cuts (14 active)  in 0.001 seconds - new frequency is 1\n",
      "Cbc0014I Cut generator 1 (Gomory) - 20 row cuts average 112.3 elements, 0 column cuts (0 active)  in 0.002 seconds - new frequency is 1\n",
      "Cbc0014I Cut generator 2 (Knapsack) - 0 row cuts average 0.0 elements, 0 column cuts (0 active)  in 0.004 seconds - new frequency is -100\n",
      "Cbc0014I Cut generator 3 (Clique) - 0 row cuts average 0.0 elements, 0 column cuts (0 active)  in 0.000 seconds - new frequency is -100\n",
      "Cbc0014I Cut generator 4 (MixedIntegerRounding2) - 0 row cuts average 0.0 elements, 0 column cuts (0 active)  in 0.001 seconds - new frequency is -100\n",
      "Cbc0014I Cut generator 5 (FlowCover) - 0 row cuts average 0.0 elements, 0 column cuts (0 active)  in 0.007 seconds - new frequency is -100\n",
      "Cbc0014I Cut generator 6 (TwoMirCuts) - 16 row cuts average 131.1 elements, 0 column cuts (0 active)  in 0.002 seconds - new frequency is 1\n",
      "Cbc0014I Cut generator 7 (ZeroHalf) - 0 row cuts average 0.0 elements, 0 column cuts (0 active)  in 0.000 seconds - new frequency is -100\n",
      "Cbc0014I Cut generator 9 (Stored from first) - 9 row cuts average 108.6 elements, 0 column cuts (0 active)\n",
      "Cbc0010I After 0 nodes, 1 on tree, 1206957.3 best solution, best possible 1206922.6 (0.55 seconds)\n",
      "Cbc0038I Full problem 135 rows 696 columns, reduced to 124 rows 596 columns - 2 fixed gives 124, 594 - still too large\n",
      "Cbc0012I Integer solution of 1206944.2 found by DiveCoefficient after 686 iterations and 58 nodes (0.76 seconds)\n",
      "Cbc0038I Full problem 135 rows 696 columns, reduced to 124 rows 596 columns - 0 fixed gives 124, 596 - still too large\n",
      "Cbc0001I Search completed - best objective 1206944.239530043, took 1635 iterations and 180 nodes (0.98 seconds)\n",
      "Cbc0032I Strong branching done 404 times (2318 iterations), fathomed 43 nodes and fixed 48 variables\n",
      "Cbc0035I Maximum depth 13, 119 variables fixed on reduced cost\n",
      "Cbc0038I Probing was tried 68 times and created 26 cuts of which 0 were active after adding rounds of cuts (0.008 seconds)\n",
      "Cbc0038I Gomory was tried 142 times and created 20 cuts of which 0 were active after adding rounds of cuts (0.011 seconds)\n",
      "Cbc0038I Knapsack was tried 10 times and created 0 cuts of which 0 were active after adding rounds of cuts (0.004 seconds)\n",
      "Cbc0038I Clique was tried 10 times and created 0 cuts of which 0 were active after adding rounds of cuts (0.000 seconds)\n",
      "Cbc0038I MixedIntegerRounding2 was tried 10 times and created 0 cuts of which 0 were active after adding rounds of cuts (0.001 seconds)\n",
      "Cbc0038I FlowCover was tried 10 times and created 0 cuts of which 0 were active after adding rounds of cuts (0.007 seconds)\n",
      "Cbc0038I TwoMirCuts was tried 142 times and created 21 cuts of which 0 were active after adding rounds of cuts (0.015 seconds)\n",
      "Cbc0038I ZeroHalf was tried 10 times and created 0 cuts of which 0 were active after adding rounds of cuts (0.000 seconds)\n",
      "Cbc0038I Stored from first was tried 142 times and created 37 cuts of which 0 were active after adding rounds of cuts (0.000 seconds)\n",
      "Cbc0012I Integer solution of 1206944.2 found by Reduced search after 2046 iterations and 230 nodes (0.99 seconds)\n",
      "Cbc0001I Search completed - best objective 1206944.239530043, took 2046 iterations and 230 nodes (0.99 seconds)\n",
      "Cbc0032I Strong branching done 180 times (802 iterations), fathomed 11 nodes and fixed 10 variables\n",
      "Cbc0035I Maximum depth 15, 156 variables fixed on reduced cost\n",
      "Cuts at root node changed objective from 1.10483e+06 to 1.20692e+06\n",
      "Probing was tried 8 times and created 2 cuts of which 0 were active after adding rounds of cuts (0.002 seconds)\n",
      "Gomory was tried 19 times and created 16 cuts of which 0 were active after adding rounds of cuts (0.003 seconds)\n",
      "Knapsack was tried 8 times and created 0 cuts of which 0 were active after adding rounds of cuts (0.006 seconds)\n",
      "Clique was tried 8 times and created 0 cuts of which 0 were active after adding rounds of cuts (0.000 seconds)\n",
      "MixedIntegerRounding2 was tried 8 times and created 0 cuts of which 0 were active after adding rounds of cuts (0.001 seconds)\n",
      "FlowCover was tried 8 times and created 0 cuts of which 0 were active after adding rounds of cuts (0.006 seconds)\n",
      "TwoMirCuts was tried 19 times and created 39 cuts of which 0 were active after adding rounds of cuts (0.010 seconds)\n",
      "ZeroHalf was tried 1 times and created 0 cuts of which 0 were active after adding rounds of cuts (0.000 seconds)\n",
      "\n",
      "Result - Optimal solution found\n",
      "\n",
      "Objective value:                1206944.23953004\n",
      "Enumerated nodes:               230\n",
      "Total iterations:               2046\n",
      "Time (CPU seconds):             0.87\n",
      "Time (Wallclock seconds):       1.00\n",
      "\n",
      "Option for printingOptions changed from normal to all\n",
      "Total time (CPU seconds):       0.87   (Wallclock seconds):       1.01\n",
      "\n"
     ]
    },
    {
     "data": {
      "text/plain": [
       "1"
      ]
     },
     "execution_count": 93,
     "metadata": {},
     "output_type": "execute_result"
    }
   ],
   "source": [
    "prob.solve()"
   ]
  },
  {
   "cell_type": "code",
   "execution_count": 94,
   "metadata": {},
   "outputs": [],
   "source": [
    "status = LpStatus[prob.status]\n"
   ]
  },
  {
   "cell_type": "code",
   "execution_count": 95,
   "metadata": {},
   "outputs": [
    {
     "name": "stdout",
     "output_type": "stream",
     "text": [
      "Solution Status =  Optimal\n"
     ]
    }
   ],
   "source": [
    "print(\"Solution Status = \", LpStatus[prob.status])"
   ]
  },
  {
   "cell_type": "code",
   "execution_count": 96,
   "metadata": {},
   "outputs": [],
   "source": [
    "# if status == \"Optimal\":\n",
    "#     # Retrieve and store the variable values\n",
    "#     optimal_x = use_facility.varValue\n",
    "#     optimal_y = ser_customer.varValue\n",
    "\n",
    "#     # Retrieve and store the optimal objective value\n",
    "#     optimal_obj_value = prob.objective.value()\n",
    "# else:\n",
    "#     optimal_x = None\n",
    "#     optimal_y = None\n",
    "#     optimal_obj_value = None\n",
    "\n",
    "# print(\"Optimization Status:\", status)\n",
    "# print(\"Optimal x:\", optimal_x)\n",
    "# print(\"Optimal y:\", optimal_y)\n",
    "# print(\"Optimal Objective Value:\", optimal_obj_value)"
   ]
  },
  {
   "cell_type": "code",
   "execution_count": 97,
   "metadata": {},
   "outputs": [],
   "source": [
    "# # Print the status of the optimization\n",
    "# print(\"Optimization Status:\", LpStatus[prob.status])\n",
    "\n",
    "# # Print the optimal values of decision variables\n",
    "# for j in Facility:\n",
    "#     print(f\"Use Facility {j}: {use_facility[j].varValue}\")\n",
    "\n",
    "# for i in Customer:\n",
    "#     for j in Facility:\n",
    "#         print(f\"Service customer {i} from Facility {j}: {ser_customer[(i, j)].varValue}\")"
   ]
  },
  {
   "cell_type": "code",
   "execution_count": 98,
   "metadata": {},
   "outputs": [],
   "source": [
    "# # Print the solution of Binary Decision Variables\n",
    "# Tolerance = 0.0001\n",
    "# for j in Plant:\n",
    "#     if use_plant[j].varValue > Tolerance:\n",
    "#         print(\"Estalish Facility at site = \", j)"
   ]
  },
  {
   "cell_type": "code",
   "execution_count": 99,
   "metadata": {},
   "outputs": [],
   "source": [
    "# Print the solution of Continuous Decision Variables\n",
    "# for v in prob.variables():\n",
    "#     print(v.name, \"=\", v.varValue)"
   ]
  },
  {
   "cell_type": "code",
   "execution_count": 100,
   "metadata": {},
   "outputs": [],
   "source": [
    "# Initialize lists to store assignment information\n",
    "assigned_farms = {j: [] for j in Plant}\n",
    "\n",
    "# Collect assigned farms\n",
    "for i in Plant:\n",
    "    for j in Farm:\n",
    "        if ser_farm[(j,i)].varValue > 0.00001:\n",
    "            assigned_farms[i].append(j)"
   ]
  },
  {
   "cell_type": "code",
   "execution_count": 101,
   "metadata": {},
   "outputs": [],
   "source": [
    "def find_farm_not_in_solution_plant_in_solution(solution_dictionary, farm_df):\n",
    "    \"\"\"\n",
    "    Input:\n",
    "        solution_dictionary: dictionary of model output {plant:[all the assigned farms]}\n",
    "        farm_df: DataFrame of farm data\n",
    "\n",
    "    Return:\n",
    "        empty_keys_unused_plant: a list of indices of unused plants\n",
    "        farm_not_in_solution: a list of indices of excluded farms\n",
    "    \"\"\"\n",
    "    \n",
    "    # Find plants that in the optimal solution\n",
    "    plant_in_use = []\n",
    "    \n",
    "    for key, value in solution_dictionary.items():\n",
    "        if value is not None and not (\n",
    "            (isinstance(value, str) and value.strip() == '') or\n",
    "            (isinstance(value, (list, dict)) and not value)\n",
    "        ):\n",
    "            plant_in_use.append(key)\n",
    "    \n",
    "    # Find farms that are excluded in the optimal solution aka. it is not assigned to any plants\n",
    "    # Append the lists from the dictionary to a combined list\n",
    "    combined_dict = []\n",
    "\n",
    "    for key in solution_dictionary:\n",
    "        combined_dict.extend(solution_dictionary[key])\n",
    "    \n",
    "    farm_not_in_solution = []\n",
    "\n",
    "    for index_value in farm_df.index:\n",
    "        if index_value not in combined_dict:\n",
    "            farm_not_in_solution.append(index_value)\n",
    "    \n",
    "    return plant_in_use, farm_not_in_solution "
   ]
  },
  {
   "cell_type": "code",
   "execution_count": 102,
   "metadata": {},
   "outputs": [],
   "source": [
    "plant_in_use, farm_not_in_solution = find_farm_not_in_solution_plant_in_solution(assigned_farms, farm)"
   ]
  },
  {
   "cell_type": "code",
   "execution_count": 103,
   "metadata": {},
   "outputs": [],
   "source": [
    "# # Count the number of farms assigned to each plant\n",
    "# for j in Plant:\n",
    "#     assigned = assigned_farms[j]\n",
    "#     print(len(assigned))"
   ]
  },
  {
   "cell_type": "code",
   "execution_count": 104,
   "metadata": {},
   "outputs": [],
   "source": [
    "# # Check the indices of farms assigned to each plant\n",
    "# for j in Plant:\n",
    "#     assigned = assigned_farms[j]\n",
    "#     print(assigned)"
   ]
  },
  {
   "cell_type": "markdown",
   "metadata": {},
   "source": [
    "PROBLEM!! The number of farms that are not_in_any_solution combined with all the farms that are included add up to 143, which is 1 more than the actual count of farms....\n",
    "\n",
    "Just checked and *18* has duplicates. So Farm 18 is assigned to Plant 1 and 4. \n"
   ]
  },
  {
   "cell_type": "code",
   "execution_count": 105,
   "metadata": {},
   "outputs": [
    {
     "name": "stdout",
     "output_type": "stream",
     "text": [
      "There are no duplicates in the list.\n"
     ]
    }
   ],
   "source": [
    "# Check duplicates\n",
    "\n",
    "# Initialize a dictionary to store seen values\n",
    "seen = {}\n",
    "# Initialize a list to store duplicate values\n",
    "duplicates = []\n",
    "\n",
    "# Iterate through the list\n",
    "for item in farm_not_in_solution:\n",
    "    # If the item is already in the dictionary, it's a duplicate\n",
    "    if item in seen:\n",
    "        duplicates.append(item)\n",
    "    else:\n",
    "        seen[item] = True\n",
    "\n",
    "if duplicates:\n",
    "    print(\"Duplicate values:\", duplicates)\n",
    "else:\n",
    "    print(\"There are no duplicates in the list.\")"
   ]
  },
  {
   "cell_type": "code",
   "execution_count": 106,
   "metadata": {},
   "outputs": [
    {
     "name": "stdout",
     "output_type": "stream",
     "text": [
      "0 6.7658433939 52.3141390592\n",
      "1 6.837249466 52.4250842522\n",
      "2 6.8593610438 52.3862247622\n",
      "3 6.7534834692 52.4343820977\n",
      "4 6.4840766356 52.2436198663\n",
      "5 6.5372603964 52.2656283602\n",
      "6 6.5442865956 52.2581897466\n",
      "7 6.5360573609 52.2595617688\n",
      "8 6.4999411358 52.2293056571\n",
      "9 6.904208931 52.3585207448\n",
      "10 6.4695229402 52.4490480269\n",
      "11 6.9780917374 52.383647521\n",
      "12 6.988118899 52.3758981254\n",
      "13 6.988416487 52.376289487\n",
      "14 6.934623537 52.2500679808\n",
      "15 6.7977540715 52.2037075598\n",
      "16 6.8211798801 52.2254065666\n",
      "17 6.8458935653 52.1962640994\n",
      "18 6.851861762 52.2537024625\n",
      "19 6.9242982022 52.2082476559\n",
      "20 6.7798420041 52.219489064\n",
      "21 6.8608124787 52.4253950349\n",
      "22 6.9732986747 52.4186338726\n",
      "23 6.8351291013 52.2305551004\n",
      "24 6.731964637 52.2727724036\n",
      "25 6.7000505516 52.3456609141\n",
      "26 6.7912894572 52.26633688\n",
      "27 6.7581025295 52.2683918553\n",
      "28 6.7466692796 52.2011796679\n",
      "29 6.8116538149 52.2366257484\n",
      "30 6.8522695879 52.2756253536\n",
      "31 6.8236604457 52.3550519764\n",
      "32 6.5559214998 52.3923740708\n",
      "33 6.994540204 52.314705362\n",
      "34 6.9709155352 52.3193043016\n",
      "35 6.5705917087 52.2048918962\n",
      "36 6.5542936412 52.2000370564\n",
      "37 6.6660025214 52.2899433048\n",
      "38 6.5970184279 52.2196114225\n",
      "39 6.7634878232 52.3014586163\n",
      "40 6.7403645028 52.2155153271\n",
      "41 6.7388246432 52.2694366143\n",
      "42 6.7386614308 52.2710782138\n",
      "43 6.8455566668 52.1962502822\n",
      "44 6.8938186317 52.1863625653\n",
      "45 6.8675952738 52.2252875024\n",
      "46 6.8157355773 52.1441123818\n",
      "47 6.4868360712 52.4756546538\n",
      "48 6.7412605913 52.2666846469\n",
      "49 6.7289544411 52.3328677019\n",
      "50 6.6168951738 52.2383476762\n",
      "51 6.6671784754 52.2835425995\n",
      "52 6.7609613357 52.2992168332\n",
      "53 6.5464240813 52.1975195779\n",
      "54 6.5795146117 52.2030059672\n",
      "55 6.7388488755 52.2469572214\n",
      "56 6.4625100501 52.2796283109\n",
      "57 6.9960179425 52.3517232378\n",
      "58 7.0087987299 52.2473864703\n",
      "59 6.5412531751 52.27863361\n",
      "60 6.595124471 52.224009363\n",
      "61 6.6548847353 52.3655325043\n",
      "62 6.7126468834 52.3501887637\n",
      "63 6.7134845154 52.3572404254\n",
      "64 6.6811735726 52.3546416327\n",
      "65 6.6348865653 52.351974479\n",
      "66 6.6442232598 52.3545992484\n",
      "67 6.7043422962 52.3448761712\n",
      "68 6.6946617987 52.3586948923\n",
      "69 6.7201049145 52.3601343584\n",
      "70 6.6590190421 52.371968911\n",
      "71 6.760410259 52.3008232326\n",
      "72 6.7610275019 52.2984969501\n",
      "73 7.0159961676 52.36926877\n",
      "74 6.88012943 52.3876892061\n",
      "75 6.7156625149 52.147242024\n",
      "76 6.7060114373 52.2557850392\n",
      "77 6.7079183106 52.2552182102\n",
      "78 6.8755082227 52.2543239587\n",
      "79 6.9243854387 52.213993032\n",
      "80 6.8875284391 52.2515011431\n",
      "81 6.867179361 52.2381852578\n",
      "82 6.9228103481 52.2069288076\n",
      "83 6.8358948559 52.2127673217\n",
      "84 6.8414021827 52.2424424978\n",
      "85 6.9024601373 52.1966754481\n",
      "86 6.9200021573 52.200232023\n",
      "87 6.7387881782 52.1410899046\n",
      "88 6.8365751014 52.1435855321\n",
      "89 6.8472248943 52.1395169546\n",
      "90 6.7362249281 52.1584477817\n",
      "91 6.7444057177 52.1188920731\n",
      "92 6.7368461658 52.212347502\n",
      "93 6.7499624529 52.2421839539\n",
      "94 6.7129367004 52.2635400544\n",
      "95 6.4986911687 52.2342795716\n",
      "96 6.6605317628 52.1989115199\n",
      "97 6.5899990584 52.2370549954\n",
      "98 6.5883569762 52.2353616483\n",
      "99 6.8702409799 52.438159733\n",
      "100 6.5632241071 52.2937525266\n",
      "101 6.4397723384 52.4142614118\n",
      "102 6.7562661164 52.3985697194\n",
      "103 6.8308185326 52.4235723119\n",
      "104 6.8354457953 52.4247922577\n",
      "105 6.7419423221 52.369880972\n",
      "106 6.7117620948 52.3800737591\n",
      "107 6.6908772887 52.40462847\n",
      "108 6.6430904085 52.4182145304\n",
      "109 6.6467849021 52.419513837\n",
      "110 6.6512901679 52.4207781842\n",
      "111 6.6255182997 52.412311192\n",
      "112 6.6402564826 52.4168775214\n",
      "113 6.6496136741 52.4199924326\n",
      "114 6.6539678907 52.4208484688\n",
      "115 6.7088672122 52.479572871\n",
      "116 6.5630659972 52.2922080713\n",
      "117 6.848896901 52.4392609308\n",
      "118 6.5485093641 52.3294213467\n",
      "119 6.5553390127 52.309443684\n",
      "120 6.5913239804 52.2199724941\n",
      "121 6.6207273018 52.4106609269\n",
      "122 6.6990287501 52.45741401\n",
      "123 6.7032535492 52.2556425969\n",
      "124 6.7266909115 52.2622987544\n",
      "125 6.7197117142 52.2657234587\n",
      "126 6.7186676569 52.2786342442\n",
      "127 6.7124562938 52.2732912075\n",
      "128 6.6729721853 52.358856739\n",
      "129 6.6962569647 52.3439321628\n",
      "130 6.6569050501 52.3648097538\n",
      "131 6.779408399 52.1709400588\n",
      "132 6.7540525063 52.1864942353\n",
      "133 6.6963409619 52.2794096871\n",
      "134 6.6790333092 52.2955946299\n",
      "135 6.7203953073 52.2789673823\n",
      "136 6.7072739649 52.2942028929\n",
      "137 6.7177149439 52.26768876\n",
      "138 6.6421507164 52.267548018\n",
      "139 6.6277506676 52.2370784863\n",
      "140 6.7168101087 52.2878368467\n",
      "141 6.7409595764 52.3124524677\n"
     ]
    }
   ],
   "source": [
    "for i, (x_val, y_val) in enumerate(zip(farm['x'], farm['y'])):\n",
    "    print(i,x_val , y_val) "
   ]
  },
  {
   "cell_type": "code",
   "execution_count": 107,
   "metadata": {},
   "outputs": [
    {
     "data": {
      "image/png": "[encoded data removed]",
      "text/plain": [
       "<Figure size 1000x800 with 1 Axes>"
      ]
     },
     "metadata": {},
     "output_type": "display_data"
    }
   ],
   "source": [
    "# Visualize the results\n",
    "plt.figure(figsize=(10, 8))\n",
    "\n",
    "# Plot farms in solution\n",
    "for j in Plant:\n",
    "    assigned = assigned_farms[j]\n",
    "    plt.scatter([farm.loc[i, 'x'] for i in assigned], [farm.loc[i, 'y'] for i in assigned], label=f\"Plant {j}\", marker='o', s=20, alpha=0.5)\n",
    "\n",
    "# Plot farms excluded in solution\n",
    "for i in farm_not_in_solution:\n",
    "    plt.scatter(farm.loc[i, 'x'], farm.loc[i, 'y'], marker='o', s=20, c='Grey', alpha=0.5)\n",
    "\n",
    "# Plot plants in solution\n",
    "for i in plant_in_use:\n",
    "    plt.scatter(potential_digester_location.loc[i, 'x'], potential_digester_location.loc[i, 'y'], marker=\"^\", s=50, c='Black')\n",
    "    label = f\"Plant {i} \\n Capacity:{potential_digester_location.loc[i, 'capacity']} (t/yr)\"\n",
    "    plt.annotate(label, # this is the text\n",
    "                 (potential_digester_location.loc[i, 'x'], potential_digester_location.loc[i, 'y']), # these are the coordinates to position the label\n",
    "                 textcoords=\"offset points\", # how to position the text\n",
    "                 xytext=(-20,10), # distance from text to points (x,y)\n",
    "                 ha='left', va='bottom') # horizontal alignment can be left, right or center\n",
    "\n",
    "# for i, (x_val, y_val) in enumerate(zip(x, y)):\n",
    "#     label = f'Point {i+1} ({x_val}, {y_val})'  # Create a label for each data point\n",
    "#     plt.annotate(label, (x_val, y_val), textcoords=\"offset points\", xytext=(0, 10), ha='center')\n",
    "\n",
    "\n",
    "# scatter = plt.scatter(potential_digester_location['x'], potential_digester_location['y'], c=potential_digester_location['capacity'], label=\"Plant Locations\", marker='s', s=50)\n",
    "# Add labels based on 'Label' column\n",
    "# for i, row in potential_digester_location.iterrows():\n",
    "#     plt.annotate(row['capacity'], (row['x'], row['y']), textcoords=\"offset points\", xytext=(0, 10), ha='center')\n",
    "\n",
    "# Add labels and legend\n",
    "plt.xlabel(\"Longtitude\")\n",
    "plt.ylabel(\"Latitude\")\n",
    "plt.title(\"Farm-to-Plant Assignments: Capacitated Facility Location Problem \\n (20% Manure Utilization)\")\n",
    "plt.legend()\n",
    "# legend = plt.legend(*scatter.legend_elements(), loc='upper left', bbox_to_anchor=(1.0, 1.0))\n",
    "\n",
    "# # Create a dictionary to map unique values to custom legend labels\n",
    "# custom_labels = {'A': 'Category 1', 'B': 'Category 2', 'C': 'Category 3'}\n",
    "\n",
    "# # Replace unique values with custom labels for the legend\n",
    "# legend_labels = [custom_labels[label] for label in df['Label'].unique()]\n",
    "\n",
    "# # Create the legend with custom labels\n",
    "# legend = plt.legend(handles=scatter.legend_elements()[0], labels=legend_labels, loc='upper left', bbox_to_anchor=(1.0, 1.0))\n",
    "\n",
    "filename = f\"cflp_v{version_number}_{int(manure_utilization_goal*100)}%manure.png\"  # You can choose the file extension (e.g., .png, .jpg, .pdf)\n",
    "\n",
    "plt.savefig(filename, dpi=300)\n",
    "\n",
    "plt.show()"
   ]
  },
  {
   "cell_type": "code",
   "execution_count": 108,
   "metadata": {},
   "outputs": [
    {
     "name": "stdout",
     "output_type": "stream",
     "text": [
      "Total Cost =  1206944.239530042\n"
     ]
    }
   ],
   "source": [
    "# Print Optimal\n",
    "print(\"Total Cost = \", value(prob.objective))"
   ]
  }
 ],
 "metadata": {
  "kernelspec": {
   "display_name": "Python 3",
   "language": "python",
   "name": "python3"
  },
  "language_info": {
   "codemirror_mode": {
    "name": "ipython",
    "version": 3
   },
   "file_extension": ".py",
   "mimetype": "text/x-python",
   "name": "python",
   "nbconvert_exporter": "python",
   "pygments_lexer": "ipython3",
   "version": "3.10.4"
  }
 },
 "nbformat": 4,
 "nbformat_minor": 2
}
