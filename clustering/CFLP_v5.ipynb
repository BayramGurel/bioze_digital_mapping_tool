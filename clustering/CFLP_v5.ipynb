{
 "cells": [
  {
   "cell_type": "markdown",
   "metadata": {},
   "source": [
    "# Capacitated Facility Location Problem - Version #5"
   ]
  },
  {
   "cell_type": "code",
   "execution_count": 34,
   "metadata": {},
   "outputs": [],
   "source": [
    "from pulp import *\n",
    "import pandas as pd\n",
    "import matplotlib.pyplot as plt\n",
    "import numpy as np\n",
    "import json\n",
    "%matplotlib inline"
   ]
  },
  {
   "cell_type": "code",
   "execution_count": 3,
   "metadata": {},
   "outputs": [],
   "source": [
    "version_number = 5"
   ]
  },
  {
   "cell_type": "code",
   "execution_count": 413,
   "metadata": {},
   "outputs": [],
   "source": [
    "# Define the manure utilization goal\n",
    "manure_utilization_goal = 0.1"
   ]
  },
  {
   "cell_type": "markdown",
   "metadata": {},
   "source": [
    "### Run the model"
   ]
  },
  {
   "cell_type": "code",
   "execution_count": 414,
   "metadata": {},
   "outputs": [
    {
     "data": {
      "text/html": [
       "<div>\n",
       "<style scoped>\n",
       "    .dataframe tbody tr th:only-of-type {\n",
       "        vertical-align: middle;\n",
       "    }\n",
       "\n",
       "    .dataframe tbody tr th {\n",
       "        vertical-align: top;\n",
       "    }\n",
       "\n",
       "    .dataframe thead th {\n",
       "        text-align: right;\n",
       "    }\n",
       "</style>\n",
       "<table border=\"1\" class=\"dataframe\">\n",
       "  <thead>\n",
       "    <tr style=\"text-align: right;\">\n",
       "      <th></th>\n",
       "      <th>x</th>\n",
       "      <th>y</th>\n",
       "      <th>count</th>\n",
       "    </tr>\n",
       "  </thead>\n",
       "  <tbody>\n",
       "    <tr>\n",
       "      <th>0</th>\n",
       "      <td>6.870686</td>\n",
       "      <td>52.215190</td>\n",
       "      <td>25</td>\n",
       "    </tr>\n",
       "    <tr>\n",
       "      <th>1</th>\n",
       "      <td>6.554937</td>\n",
       "      <td>52.254895</td>\n",
       "      <td>25</td>\n",
       "    </tr>\n",
       "    <tr>\n",
       "      <th>2</th>\n",
       "      <td>6.730518</td>\n",
       "      <td>52.252885</td>\n",
       "      <td>42</td>\n",
       "    </tr>\n",
       "    <tr>\n",
       "      <th>3</th>\n",
       "      <td>6.914234</td>\n",
       "      <td>52.387401</td>\n",
       "      <td>18</td>\n",
       "    </tr>\n",
       "    <tr>\n",
       "      <th>4</th>\n",
       "      <td>6.664105</td>\n",
       "      <td>52.392622</td>\n",
       "      <td>32</td>\n",
       "    </tr>\n",
       "  </tbody>\n",
       "</table>\n",
       "</div>"
      ],
      "text/plain": [
       "          x          y  count\n",
       "0  6.870686  52.215190     25\n",
       "1  6.554937  52.254895     25\n",
       "2  6.730518  52.252885     42\n",
       "3  6.914234  52.387401     18\n",
       "4  6.664105  52.392622     32"
      ]
     },
     "execution_count": 414,
     "metadata": {},
     "output_type": "execute_result"
    }
   ],
   "source": [
    "# Import farm_cluster_mock_5 dataset - which is the mock data for potential digester locations\n",
    "potential_digester_location = pd.read_csv(r'./farm_cluster_mock_5.csv')\n",
    "potential_digester_location.head()"
   ]
  },
  {
   "cell_type": "code",
   "execution_count": 415,
   "metadata": {},
   "outputs": [],
   "source": [
    "# Define the capacities of digester\n",
    "medium_digester_capacity = 78480  # in tonne/yr\n",
    "large_digester_capacity = 150560  # in tonne/yr"
   ]
  },
  {
   "cell_type": "code",
   "execution_count": 416,
   "metadata": {},
   "outputs": [],
   "source": [
    "# Define the costs of digester \n",
    "medium_digester_cost = 209249   # in euro CAPEX\n",
    "large_digester_cost = 252616    # in euro CAPEX"
   ]
  },
  {
   "cell_type": "code",
   "execution_count": 417,
   "metadata": {},
   "outputs": [],
   "source": [
    "potential_digester_location = potential_digester_location.drop(['count'], axis=1) # drop unnecessary column"
   ]
  },
  {
   "cell_type": "code",
   "execution_count": 418,
   "metadata": {},
   "outputs": [],
   "source": [
    "# Create mock digester capacity data\n",
    "potential_digester_location['capacity'] = [medium_digester_capacity, medium_digester_capacity, large_digester_capacity, large_digester_capacity, large_digester_capacity]\n",
    "\n",
    "# Create mock digester cost data\n",
    "potential_digester_location['cost'] = [medium_digester_cost, medium_digester_cost, large_digester_cost, large_digester_cost, large_digester_cost]"
   ]
  },
  {
   "cell_type": "code",
   "execution_count": 419,
   "metadata": {},
   "outputs": [
    {
     "data": {
      "text/html": [
       "<div>\n",
       "<style scoped>\n",
       "    .dataframe tbody tr th:only-of-type {\n",
       "        vertical-align: middle;\n",
       "    }\n",
       "\n",
       "    .dataframe tbody tr th {\n",
       "        vertical-align: top;\n",
       "    }\n",
       "\n",
       "    .dataframe thead th {\n",
       "        text-align: right;\n",
       "    }\n",
       "</style>\n",
       "<table border=\"1\" class=\"dataframe\">\n",
       "  <thead>\n",
       "    <tr style=\"text-align: right;\">\n",
       "      <th></th>\n",
       "      <th>Unnamed: 0</th>\n",
       "      <th>x</th>\n",
       "      <th>y</th>\n",
       "      <th>IND_OBJ_NA</th>\n",
       "      <th>manure_t</th>\n",
       "      <th>biogas_potential_m3</th>\n",
       "    </tr>\n",
       "  </thead>\n",
       "  <tbody>\n",
       "    <tr>\n",
       "      <th>0</th>\n",
       "      <td>0</td>\n",
       "      <td>6.765843</td>\n",
       "      <td>52.314139</td>\n",
       "      <td>507920</td>\n",
       "      <td>2454</td>\n",
       "      <td>957060.0</td>\n",
       "    </tr>\n",
       "    <tr>\n",
       "      <th>1</th>\n",
       "      <td>1</td>\n",
       "      <td>6.837249</td>\n",
       "      <td>52.425084</td>\n",
       "      <td>507950</td>\n",
       "      <td>9827</td>\n",
       "      <td>3832530.0</td>\n",
       "    </tr>\n",
       "    <tr>\n",
       "      <th>2</th>\n",
       "      <td>2</td>\n",
       "      <td>6.859361</td>\n",
       "      <td>52.386225</td>\n",
       "      <td>507953</td>\n",
       "      <td>8660</td>\n",
       "      <td>3377400.0</td>\n",
       "    </tr>\n",
       "    <tr>\n",
       "      <th>3</th>\n",
       "      <td>3</td>\n",
       "      <td>6.753483</td>\n",
       "      <td>52.434382</td>\n",
       "      <td>507962</td>\n",
       "      <td>2913</td>\n",
       "      <td>1136070.0</td>\n",
       "    </tr>\n",
       "    <tr>\n",
       "      <th>4</th>\n",
       "      <td>4</td>\n",
       "      <td>6.484077</td>\n",
       "      <td>52.243620</td>\n",
       "      <td>507964</td>\n",
       "      <td>6488</td>\n",
       "      <td>2530320.0</td>\n",
       "    </tr>\n",
       "  </tbody>\n",
       "</table>\n",
       "</div>"
      ],
      "text/plain": [
       "   Unnamed: 0         x          y IND_OBJ_NA  manure_t  biogas_potential_m3\n",
       "0           0  6.765843  52.314139     507920      2454             957060.0\n",
       "1           1  6.837249  52.425084     507950      9827            3832530.0\n",
       "2           2  6.859361  52.386225     507953      8660            3377400.0\n",
       "3           3  6.753483  52.434382     507962      2913            1136070.0\n",
       "4           4  6.484077  52.243620     507964      6488            2530320.0"
      ]
     },
     "execution_count": 419,
     "metadata": {},
     "output_type": "execute_result"
    }
   ],
   "source": [
    "farm = pd.read_csv(r\"./farm_mock.csv\")\n",
    "farm.head()"
   ]
  },
  {
   "cell_type": "code",
   "execution_count": 420,
   "metadata": {},
   "outputs": [],
   "source": [
    "# farm = pd.DataFrame(farm.sample(n=15, random_state=42))\n",
    "# farm"
   ]
  },
  {
   "cell_type": "code",
   "execution_count": 421,
   "metadata": {},
   "outputs": [
    {
     "data": {
      "image/png": "[encoded data removed]",
      "text/plain": [
       "<Figure size 800x600 with 2 Axes>"
      ]
     },
     "metadata": {},
     "output_type": "display_data"
    }
   ],
   "source": [
    "plt.figure(figsize=(8, 6))\n",
    "\n",
    "scatter = plt.scatter(farm['x'], farm['y'], c=farm['manure_t'], alpha=0.5, label=\"Farms\")\n",
    "plt.scatter(potential_digester_location['x'], potential_digester_location['y'], marker='^', c='black')\n",
    "plt.xlabel('Longitude')\n",
    "plt.ylabel('Latitude')\n",
    "# plt.title('Farm Clusters and Cluster Centroids')\n",
    "cbar = plt.colorbar(scatter)\n",
    "\n",
    "# Add labels to the colorbar\n",
    "cbar.set_label('Manure Prodution (ton)')\n",
    "plt.legend()\n",
    "plt.show()"
   ]
  },
  {
   "cell_type": "code",
   "execution_count": 422,
   "metadata": {},
   "outputs": [],
   "source": [
    "# Open the file for reading\n",
    "with open(\"./transportation_cost.txt\", \"r\") as fp:\n",
    "    # Load the dictionary from the file\n",
    "    transportation_cost = json.load(fp)"
   ]
  },
  {
   "cell_type": "code",
   "execution_count": 423,
   "metadata": {},
   "outputs": [],
   "source": [
    "# Function to recursively convert dictionary keys to integers\n",
    "def convert_keys_to_int(data):\n",
    "    if isinstance(data, dict):\n",
    "        return {int(key) if key.isdigit() else key: convert_keys_to_int(value) for key, value in data.items()}\n",
    "    else:\n",
    "        return data\n",
    "\n",
    "# Convert the keys to integers\n",
    "transportation_cost = convert_keys_to_int(transportation_cost)"
   ]
  },
  {
   "cell_type": "code",
   "execution_count": 424,
   "metadata": {},
   "outputs": [
    {
     "name": "stdout",
     "output_type": "stream",
     "text": [
      "0: {0: 16.822292415186183, 1: 30.92678676733662, 2: 23.080232076563743, 3: 33.11418499953114, 4: 29.356686731100446, 5: 27.41710293178537, 6: 27.41710293178537, 7: 27.41710293178537, 8: 28.393829138915116, 9: 20.243105076787128, 10: 41.9612403626698, 11: 24.694036491927427, 12: 24.694036491927427, 13: 24.694036491927427, 14: 6.069888650558055, 15: 6.041608434693484, 16: 3.6984204997384635, 17: 4.749865433194389, 18: 4.800831043411421, 19: 6.9265145012485725, 20: 8.379585194747122, 21: 30.92678676733662, 22: 28.662957735301266, 23: 4.337480138541471, 24: 12.376571362498016, 25: 20.83828686389431, 26: 10.127768119498189, 27: 11.623676101427407, 28: 12.380453853312831, 29: 8.77946693119841, 30: 15.658359298495212, 31: 19.95668779518618, 32: 31.395057232114276, 33: 17.261318975042318, 34: 17.929386750054004, 35: 24.739822426244267, 36: 25.019588446244263, 37: 17.045507814370396, 38: 21.44247636432336, 39: 14.49822946887925, 40: 10.988322125436566, 41: 12.073425355643696, 42: 12.073425355643696, 43: 4.749865433194389, 44: 4.876756066933148, 45: 0.7233809519084152, 46: 13.444298753483645, 47: 41.858660480496845, 48: 12.073425355643696, 49: 19.900107109145914, 50: 19.81573456150165, 51: 17.045507814370396, 52: 14.49822946887925, 53: 25.019588446244263, 54: 24.739822426244267, 55: 13.547944357189404, 56: 29.769276649799806, 57: 21.910300759442055, 58: 13.61150679078727, 59: 22.87876124172633, 60: 21.44247636432336, 61: 24.97228230255477, 62: 20.60547879389431, 63: 28.125320023297718, 64: 22.946620997498524, 65: 24.424126053787685, 66: 23.63902583156121, 67: 20.60547879389431, 68: 23.235726381677587, 69: 28.125320023297718, 70: 25.44788477892783, 71: 14.49822946887925, 72: 14.49822946887925, 73: 25.927528677155085, 74: 26.24042662501991, 75: 14.727635530891048, 76: 15.434237643086748, 77: 15.434237643086748, 78: 6.373242063905114, 79: 5.3897925517445735, 80: 7.670901272411021, 81: 3.760165665596692, 82: 6.428988743437807, 83: 3.0622896969092186, 84: 4.800831043411421, 85: 4.985631396040704, 86: 6.428988743437807, 87: 14.70698386021225, 88: 13.444298753483645, 89: 13.444298753483645, 90: 12.920156739523618, 91: 15.26065708462389, 92: 10.988322125436566, 93: 13.547944357189404, 94: 14.118973347307746, 95: 28.393829138915116, 96: 16.568325363312834, 97: 21.354392626244266, 98: 21.354392626244266, 99: 30.92678676733662, 100: 24.085053614790194, 101: 38.952692133742474, 102: 30.336296455779458, 103: 30.92678676733662, 104: 30.92678676733662, 105: 25.729567157738813, 106: 28.125320023297718, 107: 31.844981962280354, 108: 30.737383612280357, 109: 30.737383612280357, 110: 31.844981962280354, 111: 31.468922177400422, 112: 30.737383612280357, 113: 31.844981962280354, 114: 31.844981962280354, 115: 37.411208339704125, 116: 24.085053614790194, 117: 30.92678676733662, 118: 27.098859617093392, 119: 24.531086234264198, 120: 22.22113860432336, 121: 30.697838170805003, 122: 38.313080414192164, 123: 15.434237643086748, 124: 13.074918652291332, 125: 13.501370907307745, 126: 13.13589638172633, 127: 14.118973347307746, 128: 23.545251649016233, 129: 20.83828686389431, 130: 24.97228230255477, 131: 8.441223161093728, 132: 11.804571708177845, 133: 15.684261324370391, 134: 16.12632740172633, 135: 13.13589638172633, 136: 23.123503272964122, 137: 14.118973347307746, 138: 17.353905774450332, 139: 19.488624324450335, 140: 13.56052031172633, 141: 16.20983375926921}\n",
      "1: {0: 19.109737108645586, 1: 36.8499218747027, 2: 29.003367183929832, 3: 33.69275907762062, 4: 5.892879725758398, 5: 3.9532959264433245, 6: 3.9532959264433245, 7: 3.9532959264433245, 8: 4.930022133573072, 9: 30.317420433929836, 10: 33.72279661843739, 11: 36.54621086263232, 12: 36.54621086263232, 13: 36.54621086263232, 14: 28.35928983534167, 15: 19.721622182424298, 16: 20.80928168588342, 17: 23.28254611920303, 18: 20.860575212063058, 19: 25.704033631759717, 20: 17.383645422370662, 21: 36.8499218747027, 22: 40.51513210600616, 23: 22.379059442844053, 24: 11.123993906370366, 25: 19.8413952919922, 26: 15.49852950867249, 27: 13.131811814893423, 28: 13.382776763804952, 29: 17.419724504179047, 30: 24.83341645324989, 31: 22.244132488645587, 32: 23.497818051712887, 33: 30.64744015656499, 34: 30.52544807501774, 35: 4.348284979097783, 36: 4.628050999097783, 37: 9.160446597922292, 38: 3.6541316241839814, 39: 16.78567416233865, 40: 14.774908491681222, 41: 11.427139913224687, 42: 11.427139913224687, 43: 23.28254611920303, 44: 23.787838756860285, 45: 22.032411373607584, 46: 25.31540920157536, 47: 34.00085094140473, 48: 11.427139913224687, 49: 20.44686898252939, 50: 3.646687717804051, 51: 9.160446597922292, 52: 16.78567416233865, 53: 4.628050999097783, 54: 4.348284979097783, 55: 14.246996722339535, 56: 11.008352060840316, 57: 33.762475130146946, 58: 34.65404608148985, 59: 9.757230937945582, 60: 3.6541316241839814, 61: 21.519053066302376, 62: 20.0742033619922, 63: 25.527427817390453, 64: 20.348728791591256, 65: 20.72938654772292, 66: 20.185796595308815, 67: 20.0742033619922, 68: 20.63783417577032, 69: 25.527427817390453, 70: 22.296699419144748, 71: 16.78567416233865, 72: 16.78567416233865, 73: 37.77970304785998, 74: 34.8631341016005, 75: 17.097490935963922, 76: 9.406757405817801, 77: 9.406757405817801, 78: 24.650862019763906, 79: 26.531619018528833, 80: 25.948521228269804, 81: 25.700715004954017, 82: 25.206507873948947, 83: 20.898921930658087, 84: 20.860575212063058, 85: 24.187058770256783, 86: 25.206507873948947, 87: 18.327044726910216, 88: 25.31540920157536, 89: 25.31540920157536, 90: 17.354883952580398, 91: 18.88071795132186, 92: 14.774908491681222, 93: 14.246996722339535, 94: 9.38263688503849, 95: 4.930022133573072, 96: 9.194905253804949, 97: 2.109414379097783, 98: 2.109414379097783, 99: 36.8499218747027, 100: 9.772327145505278, 101: 25.40400980488295, 102: 30.914870533868942, 103: 36.8499218747027, 104: 36.8499218747027, 105: 26.276329031122298, 106: 25.527427817390453, 107: 27.412299461369596, 108: 26.3047011113696, 109: 26.3047011113696, 110: 27.412299461369596, 111: 26.0811350470831, 112: 26.3047011113696, 113: 27.412299461369596, 114: 27.412299461369596, 115: 32.97852583879337, 116: 9.772327145505278, 117: 36.8499218747027, 118: 14.13245255033803, 119: 10.969942892266538, 120: 3.3717666197190224, 121: 25.31005104048768, 122: 34.174506288793374, 123: 9.406757405817801, 124: 10.424477081958273, 125: 10.000239325038491, 126: 14.273441717107836, 127: 9.38263688503849, 128: 20.94735944310897, 129: 19.8413952919922, 130: 21.519053066302376, 131: 19.87617270480273, 132: 20.08279613556628, 133: 9.453699586275585, 134: 17.263872737107835, 135: 14.273441717107836, 136: 18.499964787932438, 137: 9.38263688503849, 138: 8.098520037922292, 139: 3.9696159279222933, 140: 14.698065647107837, 141: 16.756595632652697}\n",
      "2: {0: 10.759748732560233, 1: 28.499933498617345, 2: 20.653378807844476, 3: 25.329253474841234, 4: 16.984376992749684, 5: 15.044793193434607, 6: 15.044793193434607, 7: 15.044793193434607, 8: 16.021519400564355, 9: 21.967432057844476, 10: 34.144496633273874, 11: 27.591921797854905, 12: 27.591921797854905, 13: 27.591921797854905, 14: 19.405000770564243, 15: 9.8491628951908, 16: 11.854992621105998, 17: 14.145195140891213, 18: 11.906286147285636, 19: 16.749744566982294, 20: 7.511186135137162, 21: 28.499933498617345, 22: 31.56084304122874, 23: 13.424770378066631, 24: 2.169704841592945, 25: 13.021543134498398, 26: 6.544240443895066, 27: 4.177522750115999, 28: 6.294580932323988, 29: 8.465435439401622, 30: 15.87912738847247, 31: 13.89414411256023, 32: 23.578313502718355, 33: 21.69315109178757, 34: 21.571159010240315, 35: 12.367512687893502, 36: 12.6472787078935, 37: 4.449725664898212, 38: 9.070166625972595, 39: 8.97611419440058, 40: 4.902449204447719, 41: 2.472850848447266, 42: 2.472850848447266, 43: 14.145195140891213, 44: 14.833549692082865, 45: 13.07812230883016, 46: 20.830531440688517, 47: 34.04191675110093, 48: 2.472850848447266, 49: 12.083363379749997, 50: 7.443424823150886, 51: 4.449725664898212, 52: 8.97611419440058, 53: 12.6472787078935, 54: 12.367512687893502, 55: 5.292707657562109, 56: 21.458302605715453, 57: 24.808186065369526, 58: 25.699757016712432, 59: 14.567787197641966, 60: 9.070166625972595, 61: 16.808332133278295, 62: 12.788735064498395, 63: 20.308576293901805, 64: 15.12987726810261, 65: 16.260175884511202, 66: 15.475075662284734, 67: 12.788735064498395, 68: 15.418982652281676, 69: 20.308576293901805, 70: 17.585978486120666, 71: 8.97611419440058, 72: 8.97611419440058, 73: 28.82541398308256, 74: 26.513145725515148, 75: 14.361641542918584, 76: 1.6791731082040622, 77: 1.6791731082040622, 78: 15.696572954986483, 79: 17.577329953751402, 80: 16.994232163492388, 81: 16.746425940176596, 82: 16.252218809171527, 83: 11.944632865880664, 84: 11.906286147285636, 85: 15.232769705479356, 86: 16.252218809171527, 87: 14.656833312382188, 88: 20.830531440688517, 89: 20.830531440688517, 90: 12.870006191693557, 91: 15.21050653679383, 92: 4.902449204447719, 93: 5.292707657562109, 94: 2.5142427121972633, 95: 16.021519400564355, 96: 6.147380042465438, 97: 8.982082887893503, 98: 8.982082887893503, 99: 28.499933498617345, 100: 11.712743876439433, 101: 30.914161258444736, 102: 22.55136493108954, 103: 28.499933498617345, 104: 28.499933498617345, 105: 17.9128234283429, 106: 20.308576293901805, 107: 24.028238232884437, 108: 22.920639882884448, 109: 22.920639882884448, 110: 24.028238232884437, 111: 23.652178448004502, 112: 22.920639882884448, 113: 24.028238232884437, 114: 24.028238232884437, 115: 29.594464610308208, 116: 11.712743876439433, 117: 28.499933498617345, 118: 17.654576571231036, 119: 13.23559061019987, 120: 9.848828865972594, 121: 22.88109444140909, 122: 30.52814888950226, 123: 1.6791731082040622, 124: 1.47018801718085, 125: 1.8966402721972633, 126: 5.319152652330411, 127: 2.5142427121972633, 128: 15.728507919620322, 129: 13.021543134498398, 130: 16.808332133278295, 131: 13.040193575534067, 132: 13.246817006297618, 133: 3.0884791748982114, 134: 8.30958367233041, 135: 5.319152652330411, 136: 15.306759543568207, 137: 2.5142427121972633, 138: 4.98159603609957, 139: 7.1163145860995725, 140: 5.743776582330411, 141: 8.393090029873294}\n",
      "3: {0: 16.302774169884273, 1: 7.861192862695936, 2: 6.409144094600031, 3: 14.332725920167206, 4: 39.91255976720192, 5: 39.3576291649972, 6: 39.3576291649972, 7: 39.3576291649972, 8: 40.33435537212694, 9: 6.803602324175207, 10: 40.17757442626658, 11: 9.04529941472235, 12: 9.04529941472235, 13: 9.04529941472235, 14: 22.874878919453717, 15: 30.66715082479023, 16: 27.303191161216464, 17: 30.895267989332222, 18: 26.125161283062674, 19: 27.585408334319997, 20: 31.97825037617933, 21: 7.861192862695936, 22: 5.721142257894629, 23: 27.67893015180658, 24: 24.902836972057187, 25: 22.97484877434502, 26: 22.538315404672666, 27: 24.54129376341565, 28: 30.761645173366148, 29: 25.132029628472697, 30: 18.28851645494166, 31: 13.168378789884274, 32: 30.50076237440181, 33: 16.89358680487111, 34: 15.201937381222113, 35: 36.68034865945609, 36: 36.96011467945608, 37: 28.720144953555486, 38: 33.38300259753518, 39: 18.626837116191204, 40: 29.369513445489883, 41: 24.599690965202864, 42: 24.599690965202864, 43: 30.895267989332222, 44: 29.3879995511818, 45: 27.18359892602634, 46: 38.15946131826653, 47: 40.07499454409363, 48: 24.599690965202864, 49: 19.027648814676507, 50: 31.75626079471348, 51: 28.720144953555486, 52: 18.626837116191204, 53: 36.96011467945608, 54: 36.68034865945609, 55: 25.225276851939082, 56: 37.52681058304582, 57: 11.829035147207737, 58: 23.803892338880413, 59: 30.636295174972343, 60: 33.38300259753518, 61: 22.4166545872414, 62: 22.742040704345012, 63: 17.30127571905287, 64: 22.50925312111509, 65: 25.484401781531144, 66: 24.424582847731685, 67: 22.742040704345012, 68: 22.209730488718193, 69: 17.30127571905287, 70: 21.63900823439903, 71: 18.626837116191204, 72: 18.626837116191204, 73: 11.343476355223103, 74: 0.5493771769293505, 75: 38.82870578396075, 76: 27.58746982227184, 77: 27.58746982227184, 78: 21.835325568329136, 79: 24.800869164144874, 80: 21.584212290553946, 81: 24.44840196663756, 82: 28.08293409213077, 83: 28.511643800787276, 84: 26.125161283062674, 85: 29.055404074414003, 86: 28.08293409213077, 87: 39.12389755342435, 88: 38.15946131826653, 89: 38.15946131826653, 90: 37.33707043273572, 91: 39.67757077783599, 92: 29.369513445489883, 93: 25.225276851939082, 94: 26.645238956866912, 95: 40.33435537212694, 96: 33.21875232149679, 97: 33.29491885945609, 98: 33.29491885945609, 99: 7.861192862695936, 100: 33.178756638610025, 101: 42.69532339290552, 102: 11.968173710245788, 103: 7.861192862695936, 104: 7.861192862695936, 105: 13.957449861657398, 106: 17.30127571905287, 107: 22.704700195442605, 108: 23.812298545442605, 109: 23.812298545442605, 110: 22.704700195442605, 111: 27.052701868910592, 112: 23.812298545442605, 113: 22.704700195442605, 114: 22.704700195442605, 115: 20.727601784828227, 116: 33.178756638610025, 117: 7.861192862695936, 118: 32.07854511402835, 119: 32.28862016751022, 120: 34.161664837535184, 121: 28.20327650170559, 122: 19.531621334828227, 123: 27.58746982227184, 124: 25.6011842618505, 125: 26.027636516866917, 126: 26.100654961516874, 127: 26.645238956866912, 128: 21.892660837848666, 129: 22.97484877434502, 130: 22.4166545872414, 131: 34.58662571723156, 132: 37.2539258120559, 133: 27.358898463555484, 134: 23.883861334972337, 135: 26.100654961516874, 136: 30.881037206210134, 137: 26.645238956866912, 138: 29.294432007662152, 139: 31.42915055766216, 140: 21.306823804972332, 141: 18.66943287257121}\n",
      "4: {0: 14.439419280108371, 1: 19.460550563497385, 2: 19.514801211321583, 3: 12.640859140278447, 4: 27.330616629401494, 5: 22.141007347674577, 6: 22.141007347674577, 7: 22.141007347674577, 8: 26.367759037216164, 9: 23.038533154299895, 10: 17.333339575049017, 11: 31.620144314359493, 12: 31.620144314359493, 13: 31.620144314359493, 14: 31.77802007839476, 15: 28.063351912352633, 16: 25.53468659160265, 17: 28.00795102492226, 18: 24.830816282799887, 19: 30.42943853747894, 20: 25.725375152298998, 21: 19.460550563497385, 22: 27.829435195418412, 23: 26.384585151543785, 24: 18.649961748176853, 25: 7.444508262796333, 26: 19.468770579409316, 27: 18.28841853953532, 28: 24.508769949485824, 29: 22.145129409898267, 30: 25.307602527595666, 31: 17.573814660108376, 32: 7.6565275231842405, 33: 31.12162623091076, 34: 30.999634149363498, 35: 26.981672442221267, 36: 27.261438462221268, 37: 16.53964367042733, 38: 23.684326380300362, 39: 14.43770952494457, 40: 23.116638221609552, 41: 18.346815741322533, 42: 18.346815741322533, 43: 28.00795102492226, 44: 28.51324366257951, 45: 26.75781627932681, 46: 37.080786349130015, 47: 17.230759692876074, 48: 18.346815741322533, 49: 11.391507432464836, 50: 22.05758457747865, 51: 16.53964367042733, 52: 14.43770952494457, 53: 27.261438462221268, 54: 26.981672442221267, 55: 18.97240162805876, 56: 23.14228580918057, 57: 29.99258093628156, 58: 35.95175444045122, 59: 18.669561187507384, 60: 23.684326380300362, 61: 4.627892720679035, 62: 7.677316332796332, 63: 6.375378526938961, 64: 5.290487237256266, 65: 6.634176356656697, 66: 6.635820981169317, 67: 7.677316332796332, 68: 4.990964604859366, 69: 6.375378526938961, 70: 4.4202423505401995, 71: 14.43770952494457, 72: 14.43770952494457, 73: 33.45176929274688, 74: 23.122160421773717, 75: 32.57583056008041, 76: 19.713027311953972, 77: 19.713027311953972, 78: 25.32296889361685, 79: 31.257023924248053, 80: 26.62062810212275, 81: 27.936045291925268, 82: 29.93191277966818, 83: 25.62432683637731, 84: 24.830816282799887, 85: 28.912463675976003, 86: 29.93191277966818, 87: 32.87102232954402, 88: 37.080786349130015, 89: 37.080786349130015, 90: 31.084195208855387, 91: 33.42469555395566, 92: 23.116638221609552, 93: 18.97240162805876, 94: 19.892947928142462, 95: 26.367759037216164, 96: 25.493272302623474, 97: 23.596242642221267, 98: 23.596242642221267, 99: 19.460550563497385, 100: 17.72683719592226, 101: 21.290014081925907, 102: 12.261543482765303, 103: 19.460550563497385, 104: 19.460550563497385, 105: 9.719204384334436, 106: 6.375378526938961, 107: 4.263145780590913, 108: 3.155547430590914, 109: 3.155547430590914, 110: 4.263145780590913, 111: 4.461565052370118, 112: 3.155547430590914, 113: 4.263145780590913, 114: 4.263145780590913, 115: 9.829372158014685, 116: 17.72683719592226, 117: 19.460550563497385, 118: 11.977062924654485, 119: 16.390787220897714, 120: 24.46298862030036, 121: 5.612139685165121, 122: 11.025352608014686, 123: 19.713027311953972, 124: 19.348309037970168, 125: 19.774761292986582, 126: 19.847779737636543, 127: 19.892947928142462, 128: 4.673894953989837, 129: 7.444508262796333, 130: 4.627892720679035, 131: 31.2543825926959, 132: 31.373700663377775, 133: 17.900890160427334, 134: 14.256096716967926, 135: 19.847779737636543, 136: 14.763312956967924, 137: 19.892947928142462, 138: 17.601570230427335, 139: 21.730474340427335, 140: 14.71015150982256, 141: 12.072760577421436}\n"
     ]
    }
   ],
   "source": [
    "for key, value in transportation_cost.items():\n",
    "    print(f\"{key}: {value}\")"
   ]
  },
  {
   "cell_type": "code",
   "execution_count": 425,
   "metadata": {},
   "outputs": [],
   "source": [
    "# Lists (sets / Array) of Customers and Facilities\n",
    "Farm = farm.index.tolist()  # Customer = [1,2,3,4,5]\n",
    "Plant = potential_digester_location.index.tolist()    # Facility = ['Fac-1', 'Fac-2', 'Fac-3']"
   ]
  },
  {
   "cell_type": "code",
   "execution_count": 426,
   "metadata": {},
   "outputs": [],
   "source": [
    "# Dictionaries of the demands and facilities as well as fixed cost at each facility\n",
    "Manure_Production = farm['manure_t'].to_dict()  # Demand = {1 : 80, 2 : 270, 3 : 250, 4 : 160, 5 : 180}\n",
    "Max_Capacity = potential_digester_location['capacity'].to_dict()    # Max_Supply = {'Fac-1' : 500, 'Fac-2' : 500, 'Fac-3' : 500} \n",
    "Fixed_Cost = potential_digester_location['cost'].to_dict()  # fixed_cost = {'Fac-1' : 1000, 'Fac-2' : 1000, 'Fac-3' : 1000 }"
   ]
  },
  {
   "cell_type": "code",
   "execution_count": 427,
   "metadata": {},
   "outputs": [],
   "source": [
    "# string_values = {}\n",
    "# non_string_values = {}\n",
    "\n",
    "# for key, value in transportation_cost.items():\n",
    "#     if isinstance(value, str):\n",
    "#         string_values[key] = value\n",
    "#     else:\n",
    "#         non_string_values[key] = value\n",
    "\n",
    "# print(\"String Values:\")\n",
    "# print(string_values)\n",
    "\n",
    "# print(\"\\nNon-String Values:\")\n",
    "# print(non_string_values)"
   ]
  },
  {
   "cell_type": "code",
   "execution_count": 428,
   "metadata": {},
   "outputs": [],
   "source": [
    "# # Create a mock distance matrix to store the euclidean distance between each potential digester location to every farm\n",
    "# transportation_cost = {} # NOTE THE TRANSPORTATION COST MATRIX IS A !DISTANCE MATRIX!\n",
    "\n",
    "# for plant_idx, plant_row in potential_digester_location.iterrows():\n",
    "#     plant_coords = (plant_row['y'], plant_row['x'])\n",
    "#     transportation_cost[plant_idx] = {}  # Create an inner dictionary for each plant\n",
    "\n",
    "#     for farm_idx, farm_row in farm.iterrows():\n",
    "#         farm_coords = (farm_row['y'], farm_row['x'])\n",
    "#         distance = euclidean(plant_coords, farm_coords)\n",
    "#         transportation_cost[plant_idx][farm_idx] = distance\n",
    "\n",
    "# # transportation_cost"
   ]
  },
  {
   "cell_type": "code",
   "execution_count": 429,
   "metadata": {},
   "outputs": [],
   "source": [
    "# Define the total manure production by all farms\n",
    "Total_Manure_Production = sum(Manure_Production[i] for i in Farm)"
   ]
  },
  {
   "cell_type": "code",
   "execution_count": 430,
   "metadata": {},
   "outputs": [],
   "source": [
    "# Setting the Problem\n",
    "prob = LpProblem(\"Capacitated_Facility_Location_Problem_V1\", LpMinimize)"
   ]
  },
  {
   "cell_type": "code",
   "execution_count": 431,
   "metadata": {},
   "outputs": [],
   "source": [
    "# Defining our Decision Variables\n",
    "use_plant = LpVariable.dicts(\"Plant\", Plant, 0, 1, LpBinary) \n",
    "ser_farm = LpVariable.dicts(\"Farm_Plant\", [(i, j) for i in Farm for j in Plant], 0, 1, LpBinary) \n",
    "# ser_farm = LpVariable.dicts(\"Farm_Plant\", [(i,j) for i in Farm for j in Plant], 0)  "
   ]
  },
  {
   "cell_type": "code",
   "execution_count": 432,
   "metadata": {},
   "outputs": [],
   "source": [
    "# Define binary decision variables for farm assignment\n",
    "# farm_assignment = LpVariable.dicts(\"Farm_Assignment\", Farm, 0, 1, LpBinary)\n",
    "\n",
    "# # Create a binary variable to indicate if a farm supplies a plant\n",
    "# farm_supplies_plant = LpVariable.dicts(\"Farm_Supplies_Plant\", [(i, j) for i in Farm for j in Plant], 0, 1, LpBinary)"
   ]
  },
  {
   "cell_type": "code",
   "execution_count": 433,
   "metadata": {},
   "outputs": [],
   "source": [
    "# Setting the Objective Function\n",
    "# prob += lpSum(Fixed_Cost[j]*use_plant[j] for j in Plant) + lpSum(transportation_cost[j][i]*ser_farm[(i,j)] for j in Plant for i in Farm)\n",
    "\n",
    "prob += lpSum(Fixed_Cost[j]*use_plant[j] for j in Plant) + lpSum(transportation_cost[j][i]*ser_farm[(i,j)] for j in Plant for i in Farm)\n",
    "\n",
    "    # prob += lpSum(fixed_cost[j]*use_facility[j] for j in Facility) + lpSum(transportation_cost[j][i]*ser_customer[(i,j)] for j in Facility for i in Customer)"
   ]
  },
  {
   "cell_type": "code",
   "execution_count": 434,
   "metadata": {},
   "outputs": [],
   "source": [
    "# Costraints\n",
    "\n",
    "for i in Farm:\n",
    "    prob += lpSum(ser_farm[(i, j)] for j in Plant) <= 1 # Very strange, the model becomes infeasible  if it's == 1, maybe because now the constraint has relaxed and not all farms need to be assigned to facility, which will be the case if ==1\n",
    "\n",
    "# The capacity constraint here it differnt than the one in paper, but i think it does the work still\n",
    "for j in Plant:\n",
    "    prob += lpSum(Manure_Production[i] * ser_farm[(i,j)] for i in Farm) <= Max_Capacity[j]*use_plant[j]\n",
    "\n",
    "# Not really sure what this constraint does, I think it makes sure a farm can only be assigned to a facility given it's open, hence the value of xij is smaller or equal to yj \n",
    "for i in Farm:\n",
    "    for j in Plant:\n",
    "        prob += ser_farm[(i,j)] <= use_plant[j]\n",
    "\n",
    "# Add a constraint to ensure at least x% of total manure production is sent to plants\n",
    "prob += lpSum(Manure_Production[i] * ser_farm[(i, j)] for i in Farm for j in Plant) >= manure_utilization_goal * Total_Manure_Production"
   ]
  },
  {
   "cell_type": "code",
   "execution_count": 435,
   "metadata": {},
   "outputs": [
    {
     "name": "stdout",
     "output_type": "stream",
     "text": [
      "Welcome to the CBC MILP Solver \n",
      "Version: 2.10.3 \n",
      "Build Date: Dec 15 2019 \n",
      "\n",
      "command line - /Users/wenyuc/opt/anaconda3/envs/bioze/lib/python3.11/site-packages/pulp/solverdir/cbc/osx/64/cbc /var/folders/w_/w1t73xzx35j4jtrj94fjskj80000gn/T/3bd933b34a814ef8ab78d4fe23a926f8-pulp.mps timeMode elapsed branch printingOptions all solution /var/folders/w_/w1t73xzx35j4jtrj94fjskj80000gn/T/3bd933b34a814ef8ab78d4fe23a926f8-pulp.sol (default strategy 1)\n",
      "At line 2 NAME          MODEL\n",
      "At line 3 ROWS\n",
      "At line 863 COLUMNS\n",
      "At line 6564 RHS\n",
      "At line 7423 BOUNDS\n",
      "At line 8139 ENDATA\n",
      "Problem MODEL has 858 rows, 715 columns and 3555 elements\n",
      "Coin0008I MODEL read with 0 errors\n",
      "Option for timeMode changed from cpu to elapsed\n",
      "Continuous objective value is 118321 - 0.00 seconds\n",
      "Cgl0008I 142 inequality constraints converted to equality constraints\n",
      "Cgl0004I processed model has 858 rows, 857 columns (857 integer (857 of which binary)) and 3697 elements\n",
      "Cbc0038I Initial state - 49 integers unsatisfied sum - 22.9174\n",
      "Cbc0038I Pass   1: suminf.    7.88295 (16) obj. 128288 iterations 83\n",
      "Cbc0038I Solution found of 252876\n",
      "Cbc0038I Before mini branch and bound, 674 integers at bound fixed and 106 continuous\n",
      "Cbc0038I Full problem 858 rows 857 columns, reduced to 45 rows 41 columns\n",
      "Cbc0038I Mini branch and bound improved solution from 252876 to 252646 (0.10 seconds)\n",
      "Cbc0038I Round again with cutoff of 239213\n",
      "Cbc0038I Pass   2: suminf.    7.88295 (16) obj. 128288 iterations 0\n",
      "Cbc0038I Pass   3: suminf.    0.86445 (16) obj. 239213 iterations 39\n",
      "Cbc0038I Pass   4: suminf.    0.64533 (12) obj. 239213 iterations 4\n",
      "Cbc0038I Pass   5: suminf.    0.72108 (9) obj. 239213 iterations 24\n",
      "Cbc0038I Pass   6: suminf.    0.48275 (9) obj. 239213 iterations 19\n",
      "Cbc0038I Pass   7: suminf.    7.88295 (16) obj. 128288 iterations 41\n",
      "Cbc0038I Pass   8: suminf.    0.86445 (16) obj. 239213 iterations 38\n",
      "Cbc0038I Pass   9: suminf.    0.53232 (10) obj. 239213 iterations 16\n",
      "Cbc0038I Pass  10: suminf.    0.53232 (10) obj. 239213 iterations 1\n",
      "Cbc0038I Pass  11: suminf.    0.73528 (9) obj. 239213 iterations 25\n",
      "Cbc0038I Pass  12: suminf.    0.48298 (9) obj. 239213 iterations 25\n",
      "Cbc0038I Pass  13: suminf.    7.88295 (16) obj. 128288 iterations 40\n",
      "Cbc0038I Pass  14: suminf.    0.86445 (16) obj. 239213 iterations 36\n",
      "Cbc0038I Pass  15: suminf.    0.53232 (10) obj. 239213 iterations 16\n",
      "Cbc0038I Pass  16: suminf.    0.53232 (10) obj. 239213 iterations 0\n",
      "Cbc0038I Pass  17: suminf.    0.73528 (9) obj. 239213 iterations 16\n",
      "Cbc0038I Pass  18: suminf.    0.48298 (9) obj. 239213 iterations 21\n",
      "Cbc0038I Pass  19: suminf.    7.88295 (16) obj. 128288 iterations 39\n",
      "Cbc0038I Pass  20: suminf.    0.86445 (16) obj. 239213 iterations 39\n",
      "Cbc0038I Pass  21: suminf.    0.53232 (10) obj. 239213 iterations 16\n",
      "Cbc0038I Pass  22: suminf.    0.53232 (10) obj. 239213 iterations 0\n",
      "Cbc0038I Pass  23: suminf.    0.73528 (9) obj. 239213 iterations 20\n",
      "Cbc0038I Pass  24: suminf.    0.48298 (9) obj. 239213 iterations 23\n",
      "Cbc0038I Pass  25: suminf.    7.88295 (16) obj. 128288 iterations 39\n",
      "Cbc0038I Pass  26: suminf.    0.86445 (16) obj. 239213 iterations 39\n",
      "Cbc0038I Pass  27: suminf.    0.53232 (10) obj. 239213 iterations 16\n",
      "Cbc0038I Pass  28: suminf.    0.53232 (10) obj. 239213 iterations 1\n",
      "Cbc0038I Pass  29: suminf.    0.67286 (9) obj. 239213 iterations 14\n",
      "Cbc0038I Pass  30: suminf.    0.48275 (9) obj. 239213 iterations 22\n",
      "Cbc0038I Pass  31: suminf.    0.68220 (9) obj. 239213 iterations 18\n",
      "Cbc0038I No solution found this major pass\n",
      "Cbc0038I Before mini branch and bound, 674 integers at bound fixed and 106 continuous\n",
      "Cbc0038I Full problem 858 rows 857 columns, reduced to 45 rows 41 columns\n",
      "Cbc0038I Mini branch and bound did not improve solution (0.14 seconds)\n",
      "Cbc0038I After 0.14 seconds - Feasibility pump exiting with objective of 252646 - took 0.06 seconds\n",
      "Cbc0012I Integer solution of 252645.87 found by feasibility pump after 0 iterations and 0 nodes (0.14 seconds)\n",
      "Cbc0038I Full problem 858 rows 857 columns, reduced to 26 rows 25 columns\n",
      "Cbc0012I Integer solution of 209297.86 found by DiveCoefficient after 147 iterations and 0 nodes (0.33 seconds)\n",
      "Cbc0031I 6 added rows had average density of 254\n",
      "Cbc0013I At root node, 6 cuts changed objective from 118320.57 to 209297.55 in 10 passes\n",
      "Cbc0014I Cut generator 0 (Probing) - 6 row cuts average 3.0 elements, 70 column cuts (70 active)  in 0.073 seconds - new frequency is 1\n",
      "Cbc0014I Cut generator 1 (Gomory) - 2 row cuts average 212.0 elements, 0 column cuts (0 active)  in 0.009 seconds - new frequency is -100\n",
      "Cbc0014I Cut generator 2 (Knapsack) - 0 row cuts average 0.0 elements, 0 column cuts (0 active)  in 0.013 seconds - new frequency is -100\n",
      "Cbc0014I Cut generator 3 (Clique) - 0 row cuts average 0.0 elements, 0 column cuts (0 active)  in 0.000 seconds - new frequency is -100\n",
      "Cbc0014I Cut generator 4 (MixedIntegerRounding2) - 15 row cuts average 571.2 elements, 0 column cuts (0 active)  in 0.010 seconds - new frequency is 1\n",
      "Cbc0014I Cut generator 5 (FlowCover) - 0 row cuts average 0.0 elements, 0 column cuts (0 active)  in 0.000 seconds - new frequency is -100\n",
      "Cbc0014I Cut generator 6 (TwoMirCuts) - 109 row cuts average 237.7 elements, 0 column cuts (0 active)  in 0.029 seconds - new frequency is 1\n",
      "Cbc0001I Search completed - best objective 209297.8584774592, took 349 iterations and 0 nodes (0.36 seconds)\n",
      "Cbc0032I Strong branching done 2 times (74 iterations), fathomed 1 nodes and fixed 0 variables\n",
      "Cbc0035I Maximum depth 0, 0 variables fixed on reduced cost\n",
      "Cuts at root node changed objective from 118321 to 209301\n",
      "Probing was tried 10 times and created 76 cuts of which 0 were active after adding rounds of cuts (0.073 seconds)\n",
      "Gomory was tried 10 times and created 2 cuts of which 0 were active after adding rounds of cuts (0.009 seconds)\n",
      "Knapsack was tried 10 times and created 0 cuts of which 0 were active after adding rounds of cuts (0.013 seconds)\n",
      "Clique was tried 10 times and created 0 cuts of which 0 were active after adding rounds of cuts (0.000 seconds)\n",
      "MixedIntegerRounding2 was tried 10 times and created 15 cuts of which 0 were active after adding rounds of cuts (0.010 seconds)\n",
      "FlowCover was tried 10 times and created 0 cuts of which 0 were active after adding rounds of cuts (0.000 seconds)\n",
      "TwoMirCuts was tried 10 times and created 109 cuts of which 0 were active after adding rounds of cuts (0.029 seconds)\n",
      "ZeroHalf was tried 1 times and created 0 cuts of which 0 were active after adding rounds of cuts (0.001 seconds)\n",
      "\n",
      "Result - Optimal solution found\n",
      "\n",
      "Objective value:                209297.85847746\n",
      "Enumerated nodes:               0\n",
      "Total iterations:               349\n",
      "Time (CPU seconds):             0.28\n",
      "Time (Wallclock seconds):       0.37\n",
      "\n",
      "Option for printingOptions changed from normal to all\n",
      "Total time (CPU seconds):       0.29   (Wallclock seconds):       0.46\n",
      "\n"
     ]
    },
    {
     "data": {
      "text/plain": [
       "1"
      ]
     },
     "execution_count": 435,
     "metadata": {},
     "output_type": "execute_result"
    }
   ],
   "source": [
    "prob.solve()"
   ]
  },
  {
   "cell_type": "code",
   "execution_count": 436,
   "metadata": {},
   "outputs": [],
   "source": [
    "status = LpStatus[prob.status]\n"
   ]
  },
  {
   "cell_type": "code",
   "execution_count": 437,
   "metadata": {},
   "outputs": [
    {
     "name": "stdout",
     "output_type": "stream",
     "text": [
      "Solution Status =  Optimal\n"
     ]
    }
   ],
   "source": [
    "print(\"Solution Status = \", LpStatus[prob.status])"
   ]
  },
  {
   "cell_type": "code",
   "execution_count": 438,
   "metadata": {},
   "outputs": [],
   "source": [
    "# if status == \"Optimal\":\n",
    "#     # Retrieve and store the variable values\n",
    "#     optimal_x = use_facility.varValue\n",
    "#     optimal_y = ser_customer.varValue\n",
    "\n",
    "#     # Retrieve and store the optimal objective value\n",
    "#     optimal_obj_value = prob.objective.value()\n",
    "# else:\n",
    "#     optimal_x = None\n",
    "#     optimal_y = None\n",
    "#     optimal_obj_value = None\n",
    "\n",
    "# print(\"Optimization Status:\", status)\n",
    "# print(\"Optimal x:\", optimal_x)\n",
    "# print(\"Optimal y:\", optimal_y)\n",
    "# print(\"Optimal Objective Value:\", optimal_obj_value)"
   ]
  },
  {
   "cell_type": "code",
   "execution_count": 439,
   "metadata": {},
   "outputs": [],
   "source": [
    "# # Print the status of the optimization\n",
    "# print(\"Optimization Status:\", LpStatus[prob.status])\n",
    "\n",
    "# # Print the optimal values of decision variables\n",
    "# for j in Facility:\n",
    "#     print(f\"Use Facility {j}: {use_facility[j].varValue}\")\n",
    "\n",
    "# for i in Customer:\n",
    "#     for j in Facility:\n",
    "#         print(f\"Service customer {i} from Facility {j}: {ser_customer[(i, j)].varValue}\")"
   ]
  },
  {
   "cell_type": "code",
   "execution_count": 440,
   "metadata": {},
   "outputs": [],
   "source": [
    "# # Print the solution of Binary Decision Variables\n",
    "# Tolerance = 0.0001\n",
    "# for j in Plant:\n",
    "#     if use_plant[j].varValue > Tolerance:\n",
    "#         print(\"Estalish Facility at site = \", j)"
   ]
  },
  {
   "cell_type": "code",
   "execution_count": 441,
   "metadata": {},
   "outputs": [],
   "source": [
    "# Print the solution of Continuous Decision Variables\n",
    "# for v in prob.variables():\n",
    "#     print(v.name, \"=\", v.varValue)"
   ]
  },
  {
   "cell_type": "code",
   "execution_count": 442,
   "metadata": {},
   "outputs": [],
   "source": [
    "# Initialize lists to store assignment information\n",
    "assigned_farms = {j: [] for j in Plant}\n",
    "\n",
    "# Collect assigned farms\n",
    "for i in Plant:\n",
    "    for j in Farm:\n",
    "        if ser_farm[(j,i)].varValue > 0.00001:\n",
    "            assigned_farms[i].append(j)"
   ]
  },
  {
   "cell_type": "code",
   "execution_count": 443,
   "metadata": {},
   "outputs": [
    {
     "data": {
      "text/plain": [
       "{0: [14, 16, 17, 19, 23, 43, 45, 78, 82, 84], 1: [], 2: [], 3: [], 4: []}"
      ]
     },
     "execution_count": 443,
     "metadata": {},
     "output_type": "execute_result"
    }
   ],
   "source": [
    "assigned_farms"
   ]
  },
  {
   "cell_type": "markdown",
   "metadata": {},
   "source": [
    "### Note that...\n",
    "When an optimal solution is infeasible, the assignment matrix generated will not be binary. For example in the case of 15 farms and given the totoal capacity of the maximum 5 plants that can be opened, the maximum total manure utilization goal can only be 0.7. Because the total capacity of 5 plants, if they're all open, would be slightly less than 80% of the total manure production. "
   ]
  },
  {
   "cell_type": "code",
   "execution_count": 444,
   "metadata": {},
   "outputs": [
    {
     "data": {
      "text/html": [
       "<div>\n",
       "<style scoped>\n",
       "    .dataframe tbody tr th:only-of-type {\n",
       "        vertical-align: middle;\n",
       "    }\n",
       "\n",
       "    .dataframe tbody tr th {\n",
       "        vertical-align: top;\n",
       "    }\n",
       "\n",
       "    .dataframe thead th {\n",
       "        text-align: right;\n",
       "    }\n",
       "</style>\n",
       "<table border=\"1\" class=\"dataframe\">\n",
       "  <thead>\n",
       "    <tr style=\"text-align: right;\">\n",
       "      <th></th>\n",
       "      <th>0</th>\n",
       "      <th>1</th>\n",
       "      <th>2</th>\n",
       "      <th>3</th>\n",
       "      <th>4</th>\n",
       "    </tr>\n",
       "  </thead>\n",
       "  <tbody>\n",
       "    <tr>\n",
       "      <th>0</th>\n",
       "      <td>0.0</td>\n",
       "      <td>0.0</td>\n",
       "      <td>0.0</td>\n",
       "      <td>0.0</td>\n",
       "      <td>0.0</td>\n",
       "    </tr>\n",
       "    <tr>\n",
       "      <th>1</th>\n",
       "      <td>0.0</td>\n",
       "      <td>0.0</td>\n",
       "      <td>0.0</td>\n",
       "      <td>0.0</td>\n",
       "      <td>0.0</td>\n",
       "    </tr>\n",
       "    <tr>\n",
       "      <th>2</th>\n",
       "      <td>0.0</td>\n",
       "      <td>0.0</td>\n",
       "      <td>0.0</td>\n",
       "      <td>0.0</td>\n",
       "      <td>0.0</td>\n",
       "    </tr>\n",
       "    <tr>\n",
       "      <th>3</th>\n",
       "      <td>0.0</td>\n",
       "      <td>0.0</td>\n",
       "      <td>0.0</td>\n",
       "      <td>0.0</td>\n",
       "      <td>0.0</td>\n",
       "    </tr>\n",
       "    <tr>\n",
       "      <th>4</th>\n",
       "      <td>0.0</td>\n",
       "      <td>0.0</td>\n",
       "      <td>0.0</td>\n",
       "      <td>0.0</td>\n",
       "      <td>0.0</td>\n",
       "    </tr>\n",
       "    <tr>\n",
       "      <th>...</th>\n",
       "      <td>...</td>\n",
       "      <td>...</td>\n",
       "      <td>...</td>\n",
       "      <td>...</td>\n",
       "      <td>...</td>\n",
       "    </tr>\n",
       "    <tr>\n",
       "      <th>137</th>\n",
       "      <td>0.0</td>\n",
       "      <td>0.0</td>\n",
       "      <td>0.0</td>\n",
       "      <td>0.0</td>\n",
       "      <td>0.0</td>\n",
       "    </tr>\n",
       "    <tr>\n",
       "      <th>138</th>\n",
       "      <td>0.0</td>\n",
       "      <td>0.0</td>\n",
       "      <td>0.0</td>\n",
       "      <td>0.0</td>\n",
       "      <td>0.0</td>\n",
       "    </tr>\n",
       "    <tr>\n",
       "      <th>139</th>\n",
       "      <td>0.0</td>\n",
       "      <td>0.0</td>\n",
       "      <td>0.0</td>\n",
       "      <td>0.0</td>\n",
       "      <td>0.0</td>\n",
       "    </tr>\n",
       "    <tr>\n",
       "      <th>140</th>\n",
       "      <td>0.0</td>\n",
       "      <td>0.0</td>\n",
       "      <td>0.0</td>\n",
       "      <td>0.0</td>\n",
       "      <td>0.0</td>\n",
       "    </tr>\n",
       "    <tr>\n",
       "      <th>141</th>\n",
       "      <td>0.0</td>\n",
       "      <td>0.0</td>\n",
       "      <td>0.0</td>\n",
       "      <td>0.0</td>\n",
       "      <td>0.0</td>\n",
       "    </tr>\n",
       "  </tbody>\n",
       "</table>\n",
       "<p>142 rows × 5 columns</p>\n",
       "</div>"
      ],
      "text/plain": [
       "       0    1    2    3    4\n",
       "0    0.0  0.0  0.0  0.0  0.0\n",
       "1    0.0  0.0  0.0  0.0  0.0\n",
       "2    0.0  0.0  0.0  0.0  0.0\n",
       "3    0.0  0.0  0.0  0.0  0.0\n",
       "4    0.0  0.0  0.0  0.0  0.0\n",
       "..   ...  ...  ...  ...  ...\n",
       "137  0.0  0.0  0.0  0.0  0.0\n",
       "138  0.0  0.0  0.0  0.0  0.0\n",
       "139  0.0  0.0  0.0  0.0  0.0\n",
       "140  0.0  0.0  0.0  0.0  0.0\n",
       "141  0.0  0.0  0.0  0.0  0.0\n",
       "\n",
       "[142 rows x 5 columns]"
      ]
     },
     "execution_count": 444,
     "metadata": {},
     "output_type": "execute_result"
    }
   ],
   "source": [
    "# assignment_matrix = pd.DataFrame(index=facilities, columns=customers)\n",
    "\n",
    "# for i in facilities:\n",
    "#     for j in customers:\n",
    "#         assignment_matrix.at[i, j] = x[(i, j)].varValue\n",
    "\n",
    "assignment_matrix = pd.DataFrame(index=Farm, columns=Plant)\n",
    "\n",
    "for i in Plant:\n",
    "    for j in Farm:\n",
    "        assignment_matrix.at[j, i] = ser_farm[(j, i)].varValue\n",
    "\n",
    "assignment_matrix"
   ]
  },
  {
   "cell_type": "code",
   "execution_count": 445,
   "metadata": {},
   "outputs": [
    {
     "name": "stdout",
     "output_type": "stream",
     "text": [
      "Assign 14 to 0\n",
      "Assign 16 to 0\n",
      "Assign 17 to 0\n",
      "Assign 19 to 0\n",
      "Assign 23 to 0\n",
      "Assign 43 to 0\n",
      "Assign 45 to 0\n",
      "Assign 78 to 0\n",
      "Assign 82 to 0\n",
      "Assign 84 to 0\n"
     ]
    }
   ],
   "source": [
    "# Print the assignment of clients to plants\n",
    "# for i in Farm:\n",
    "#     for j in Plant:\n",
    "#         if ser_farm[(i, j)].varValue == 1:\n",
    "#             print(f\"Assign {i} to {j}\")\n",
    "for i in Farm:\n",
    "    for j in Plant:\n",
    "        if ser_farm[(i, j)].varValue > 0 :\n",
    "            print(f\"Assign {i} to {j}\")"
   ]
  },
  {
   "cell_type": "code",
   "execution_count": 446,
   "metadata": {},
   "outputs": [
    {
     "data": {
      "text/html": [
       "<div>\n",
       "<style scoped>\n",
       "    .dataframe tbody tr th:only-of-type {\n",
       "        vertical-align: middle;\n",
       "    }\n",
       "\n",
       "    .dataframe tbody tr th {\n",
       "        vertical-align: top;\n",
       "    }\n",
       "\n",
       "    .dataframe thead th {\n",
       "        text-align: right;\n",
       "    }\n",
       "</style>\n",
       "<table border=\"1\" class=\"dataframe\">\n",
       "  <thead>\n",
       "    <tr style=\"text-align: right;\">\n",
       "      <th></th>\n",
       "      <th>x</th>\n",
       "      <th>y</th>\n",
       "      <th>capacity</th>\n",
       "      <th>cost</th>\n",
       "      <th>allocated_manure</th>\n",
       "    </tr>\n",
       "  </thead>\n",
       "  <tbody>\n",
       "    <tr>\n",
       "      <th>0</th>\n",
       "      <td>6.870686</td>\n",
       "      <td>52.215190</td>\n",
       "      <td>78480</td>\n",
       "      <td>209249</td>\n",
       "      <td>10.0</td>\n",
       "    </tr>\n",
       "    <tr>\n",
       "      <th>1</th>\n",
       "      <td>6.554937</td>\n",
       "      <td>52.254895</td>\n",
       "      <td>78480</td>\n",
       "      <td>209249</td>\n",
       "      <td>0.0</td>\n",
       "    </tr>\n",
       "    <tr>\n",
       "      <th>2</th>\n",
       "      <td>6.730518</td>\n",
       "      <td>52.252885</td>\n",
       "      <td>150560</td>\n",
       "      <td>252616</td>\n",
       "      <td>0.0</td>\n",
       "    </tr>\n",
       "    <tr>\n",
       "      <th>3</th>\n",
       "      <td>6.914234</td>\n",
       "      <td>52.387401</td>\n",
       "      <td>150560</td>\n",
       "      <td>252616</td>\n",
       "      <td>0.0</td>\n",
       "    </tr>\n",
       "    <tr>\n",
       "      <th>4</th>\n",
       "      <td>6.664105</td>\n",
       "      <td>52.392622</td>\n",
       "      <td>150560</td>\n",
       "      <td>252616</td>\n",
       "      <td>0.0</td>\n",
       "    </tr>\n",
       "  </tbody>\n",
       "</table>\n",
       "</div>"
      ],
      "text/plain": [
       "          x          y  capacity    cost allocated_manure\n",
       "0  6.870686  52.215190     78480  209249             10.0\n",
       "1  6.554937  52.254895     78480  209249              0.0\n",
       "2  6.730518  52.252885    150560  252616              0.0\n",
       "3  6.914234  52.387401    150560  252616              0.0\n",
       "4  6.664105  52.392622    150560  252616              0.0"
      ]
     },
     "execution_count": 446,
     "metadata": {},
     "output_type": "execute_result"
    }
   ],
   "source": [
    "# Check if the opened plants are under-utilized\n",
    "potential_digester_location['allocated_manure'] = assignment_matrix.sum(axis = 0)\n",
    "potential_digester_location"
   ]
  },
  {
   "cell_type": "code",
   "execution_count": 447,
   "metadata": {},
   "outputs": [
    {
     "name": "stderr",
     "output_type": "stream",
     "text": [
      "/var/folders/w_/w1t73xzx35j4jtrj94fjskj80000gn/T/ipykernel_25592/3950044958.py:7: FutureWarning: Setting an item of incompatible dtype is deprecated and will raise in a future error of pandas. Value '0.012742099898063202' has dtype incompatible with int64, please explicitly cast to a compatible dtype first.\n",
      "  potential_digester_location.at[index, 'percentage_utilized'] = (row['allocated_manure'] / row['capacity']) * 100\n"
     ]
    }
   ],
   "source": [
    "# Find the percentage of plant's capacity that is utilized \n",
    "\n",
    "potential_digester_location['percentage_utilized'] = 0\n",
    "\n",
    "for index, row in potential_digester_location.iterrows():\n",
    "    if row['allocated_manure'] > 0:\n",
    "        potential_digester_location.at[index, 'percentage_utilized'] = (row['allocated_manure'] / row['capacity']) * 100"
   ]
  },
  {
   "cell_type": "code",
   "execution_count": 448,
   "metadata": {},
   "outputs": [],
   "source": [
    "def find_farm_not_in_solution_plant_in_solution(solution_dictionary, farm_df):\n",
    "    \"\"\"\n",
    "    Input:\n",
    "        solution_dictionary: dictionary of model output {plant:[all the assigned farms]}\n",
    "        farm_df: DataFrame of farm data\n",
    "\n",
    "    Return:\n",
    "        empty_keys_unused_plant: a list of indices of unused plants\n",
    "        farm_not_in_solution: a list of indices of excluded farms\n",
    "    \"\"\"\n",
    "    \n",
    "    # Find plants that in the optimal solution\n",
    "    plant_in_use = []\n",
    "    \n",
    "    for key, value in solution_dictionary.items():\n",
    "        if value is not None and not (\n",
    "            (isinstance(value, str) and value.strip() == '') or\n",
    "            (isinstance(value, (list, dict)) and not value)\n",
    "        ):\n",
    "            plant_in_use.append(key)\n",
    "    \n",
    "    # Find farms that are excluded in the optimal solution aka. it is not assigned to any plants\n",
    "    # Append the lists from the dictionary to a combined list\n",
    "    combined_dict = []\n",
    "\n",
    "    for key in solution_dictionary:\n",
    "        combined_dict.extend(solution_dictionary[key])\n",
    "    \n",
    "    farm_not_in_solution = []\n",
    "\n",
    "    for index_value in farm_df.index:\n",
    "        if index_value not in combined_dict:\n",
    "            farm_not_in_solution.append(index_value)\n",
    "    \n",
    "    return plant_in_use, farm_not_in_solution "
   ]
  },
  {
   "cell_type": "code",
   "execution_count": 449,
   "metadata": {},
   "outputs": [],
   "source": [
    "plant_in_use, farm_not_in_solution = find_farm_not_in_solution_plant_in_solution(assigned_farms, farm)"
   ]
  },
  {
   "cell_type": "code",
   "execution_count": 450,
   "metadata": {},
   "outputs": [],
   "source": [
    "# # Count the number of farms assigned to each plant\n",
    "# for j in Plant:\n",
    "#     assigned = assigned_farms[j]\n",
    "#     print(len(assigned))"
   ]
  },
  {
   "cell_type": "code",
   "execution_count": 451,
   "metadata": {},
   "outputs": [],
   "source": [
    "# # Check the indices of farms assigned to each plant\n",
    "# for j in Plant:\n",
    "#     assigned = assigned_farms[j]\n",
    "#     print(assigned)"
   ]
  },
  {
   "cell_type": "markdown",
   "metadata": {},
   "source": [
    "PROBLEM!! The number of farms that are not_in_any_solution combined with all the farms that are included add up to 143, which is 1 more than the actual count of farms....\n",
    "\n",
    "Just checked and *18* has duplicates. So Farm 18 is assigned to Plant 1 and 4. \n"
   ]
  },
  {
   "cell_type": "code",
   "execution_count": 452,
   "metadata": {},
   "outputs": [
    {
     "name": "stdout",
     "output_type": "stream",
     "text": [
      "There are no duplicates in the list.\n"
     ]
    }
   ],
   "source": [
    "# Check duplicates\n",
    "\n",
    "# Initialize a dictionary to store seen values\n",
    "seen = {}\n",
    "# Initialize a list to store duplicate values\n",
    "duplicates = []\n",
    "\n",
    "# Iterate through the list\n",
    "for item in farm_not_in_solution:\n",
    "    # If the item is already in the dictionary, it's a duplicate\n",
    "    if item in seen:\n",
    "        duplicates.append(item)\n",
    "    else:\n",
    "        seen[item] = True\n",
    "\n",
    "if duplicates:\n",
    "    print(\"Duplicate values:\", duplicates)\n",
    "else:\n",
    "    print(\"There are no duplicates in the list.\")"
   ]
  },
  {
   "cell_type": "code",
   "execution_count": 453,
   "metadata": {},
   "outputs": [
    {
     "data": {
      "image/png": "[encoded data removed]",
      "text/plain": [
       "<Figure size 800x600 with 1 Axes>"
      ]
     },
     "metadata": {},
     "output_type": "display_data"
    }
   ],
   "source": [
    "# Visualize the results\n",
    "plt.figure(figsize=(8, 6))\n",
    " \n",
    "for i in Plant:\n",
    "    plt.scatter(potential_digester_location.loc[i, 'x'], potential_digester_location.loc[i, 'y'], marker=\"^\", s=50, c='Black')\n",
    "    # label = f\"Plant {i} \\n Capacity:{potential_digester_location.loc[i, 'capacity']} (t/yr)\"\n",
    "    label = f\"Digester {i}\"\n",
    "    plt.annotate(label, # this is the text\n",
    "                 (potential_digester_location.loc[i, 'x'], potential_digester_location.loc[i, 'y']), # these are the coordinates to position the label\n",
    "                 textcoords=\"offset points\", # how to position the text\n",
    "                 xytext=(-20,10), # distance from text to points (x,y)\n",
    "                 ha='left', va='bottom') # horizontal alignment can be left, right or center \n",
    "\n",
    "# Plot farms in solution\n",
    "for j in Plant:\n",
    "    assigned = assigned_farms[j]\n",
    "    plt.scatter([farm.loc[i, 'x'] for i in assigned], [farm.loc[i, 'y'] for i in assigned], label=f\"Farm assigned to Digester {j}\", marker='o', s=30, alpha=0.5)\n",
    "\n",
    "# Plot farms excluded in solution\n",
    "for i in farm_not_in_solution:\n",
    "    plt.scatter(farm.loc[i, 'x'], farm.loc[i, 'y'], marker='o', s=30, c='Grey', alpha=0.5)\n",
    "\n",
    "# Add labels and legend\n",
    "plt.xlabel(\"Longtitude\")\n",
    "plt.ylabel(\"Latitude\")\n",
    "plt.title(f\"Farm-to-Digester Assignments: {int(manure_utilization_goal*100)}% Manure Use\")\n",
    "# plt.legend()\n",
    "plt.legend(loc='upper left', bbox_to_anchor=(1, 1))\n",
    "# legend = plt.legend(*scatter.legend_elements(), loc='upper left', bbox_to_anchor=(1.0, 1.0))\n",
    "\n",
    "# # Create a dictionary to map unique values to custom legend labels\n",
    "# custom_labels = {'A': 'Category 1', 'B': 'Category 2', 'C': 'Category 3'}\n",
    "\n",
    "# # Replace unique values with custom labels for the legend\n",
    "# legend_labels = [custom_labels[label] for label in df['Label'].unique()]\n",
    "\n",
    "# # Create the legend with custom labels\n",
    "# legend = plt.legend(handles=scatter.legend_elements()[0], labels=legend_labels, loc='upper left', bbox_to_anchor=(1.0, 1.0))\n",
    "\n",
    "filename = f\"./outputs/cflp_v{version_number}_{int(manure_utilization_goal*100)}%manure.png\"  # You can choose the file extension (e.g., .png, .jpg, .pdf)\n",
    "\n",
    "plt.savefig(filename, dpi=400)\n",
    "\n",
    "plt.show()"
   ]
  },
  {
   "cell_type": "code",
   "execution_count": 454,
   "metadata": {},
   "outputs": [
    {
     "ename": "TypeError",
     "evalue": "'dict' object is not callable",
     "output_type": "error",
     "traceback": [
      "\u001b[0;31m---------------------------------------------------------------------------\u001b[0m",
      "\u001b[0;31mTypeError\u001b[0m                                 Traceback (most recent call last)",
      "\u001b[1;32m/Users/wenyuc/Desktop/UT/bioze_digital_mapping_tool/clustering/CFLP_v5.ipynb Cell 48\u001b[0m line \u001b[0;36m2\n\u001b[1;32m      <a href='vscode-notebook-cell:/Users/wenyuc/Desktop/UT/bioze_digital_mapping_tool/clustering/CFLP_v5.ipynb#X66sZmlsZQ%3D%3D?line=0'>1</a>\u001b[0m \u001b[39m# Print Optimal\u001b[39;00m\n\u001b[0;32m----> <a href='vscode-notebook-cell:/Users/wenyuc/Desktop/UT/bioze_digital_mapping_tool/clustering/CFLP_v5.ipynb#X66sZmlsZQ%3D%3D?line=1'>2</a>\u001b[0m \u001b[39mprint\u001b[39m(\u001b[39m\"\u001b[39m\u001b[39mTotal Cost = \u001b[39m\u001b[39m\"\u001b[39m, value(prob\u001b[39m.\u001b[39mobjective))\n",
      "\u001b[0;31mTypeError\u001b[0m: 'dict' object is not callable"
     ]
    }
   ],
   "source": [
    "# Print Optimal\n",
    "print(\"Total Cost = \", value(prob.objective))"
   ]
  }
 ],
 "metadata": {
  "kernelspec": {
   "display_name": "Python 3",
   "language": "python",
   "name": "python3"
  },
  "language_info": {
   "codemirror_mode": {
    "name": "ipython",
    "version": 3
   },
   "file_extension": ".py",
   "mimetype": "text/x-python",
   "name": "python",
   "nbconvert_exporter": "python",
   "pygments_lexer": "ipython3",
   "version": "3.11.6"
  }
 },
 "nbformat": 4,
 "nbformat_minor": 2
}
