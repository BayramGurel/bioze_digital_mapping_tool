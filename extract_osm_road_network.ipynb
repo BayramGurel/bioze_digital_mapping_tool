{
 "cells": [
  {
   "cell_type": "markdown",
   "metadata": {},
   "source": [
    "The main() function orchestrates the execution of these steps. **---** It loads and transforms the data, creates a graph from a polygon, consolidates intersections, saves the graph to a file, converts the graph to GeoDataFrames, saves nodes and edges to files, loads farm data, loads H3 GeoDataFrame, finds the closest OSM ID for each point in the GeoDataFrames, loads farm GeoDataFrame, loads loi data, loads H3 GeoDataFrame, filters H3 GeoDataFrame, and finally calculates the OD matrix. **---** The script is designed to be run as a **standalone program.**"
   ]
  },
  {
   "cell_type": "code",
   "execution_count": 36,
   "metadata": {},
   "outputs": [],
   "source": [
    "# Import necessary libraries\n",
    "from utils.cflp_function import *\n",
    "from utils.calculate_od import *\n",
    "import networkx as nx\n",
    "import osmnx as ox\n",
    "import geopandas as gpd\n",
    "import pandas as pd\n",
    "import matplotlib.pyplot as plt\n",
    "from shapely.geometry import Polygon, Point\n",
    "from shapely.ops import nearest_points"
   ]
  },
  {
   "cell_type": "code",
   "execution_count": 37,
   "metadata": {},
   "outputs": [],
   "source": [
    "# Define constants\n",
    "SHAPEFILE_PATH = \"shapefiles/zh_poly.shp\"\n",
    "CUSTOM_FILTER = '[\"highway\"][\"area\"!~\"yes\"][\"access\"!~\"private\"][\"highway\"~\"motorway|motorway_link|trunk|trunk_link|primary|primary_link|secondary|secondary_link|tertiary|tertiary_link|road\"]'\n",
    "H3_GDF_FILEPATH = 'app_data/h3_pzh_polygons.shp'\n",
    "TO_CRS = \"EPSG:4326\"\n",
    "GRAPHML_FILEPATH = \"osm_network/G.graphml\"\n",
    "NODES_FILEPATH = \"osm_network/G_n.shp\"\n",
    "EDGES_FILEPATH = \"osm_network/G_e.shp\"\n",
    "\n",
    "FARM_FILEPATH = 'farm/farm_new.shp'\n",
    "# FARM_FILEPATH = 'farm/farm_pzh_new.shp'\n",
    "APP_DATA_H3_GEOMETRY_FILEPATH = \"./app_data/h3_geometry.shp\"\n",
    "APP_DATA_FARM_FILEPATH = \"./app_data/farm.shp\"\n",
    "LOI_FILEPATH = './hex/loi.csv'\n",
    "APP_DATA_H3_GEOMETRY_FILEPATH = './app_data/h3_geometry.shp'\n",
    "COST_PER_KM = 0.69"
   ]
  },
  {
   "cell_type": "markdown",
   "metadata": {},
   "source": [
    "This function loads geospatial data from a file and transforms the Coordinate Reference System (CRS) to the specified CRS."
   ]
  },
  {
   "cell_type": "code",
   "execution_count": 38,
   "metadata": {},
   "outputs": [],
   "source": [
    "def load_and_transform_data(file_path):\n",
    "    # Load data\n",
    "    data = gpd.read_file(file_path)\n",
    "    # Transform CRS\n",
    "    data = data.to_crs(TO_CRS)\n",
    "    return data"
   ]
  },
  {
   "cell_type": "markdown",
   "metadata": {},
   "source": [
    "This function creates a graph from a polygon, which represents the study area. The graph is created based on a specified network type and custom filter, and is then projected to the specified CRS."
   ]
  },
  {
   "cell_type": "code",
   "execution_count": 39,
   "metadata": {},
   "outputs": [],
   "source": [
    "def create_graph_from_polygon(polygon, network_type, custom_filter):\n",
    "    # Create graph from polygon\n",
    "    G_base = ox.graph_from_polygon(polygon, network_type=network_type, custom_filter=custom_filter)\n",
    "    G_base = ox.project_graph(G_base, to_crs=\"EPSG:3857\")\n",
    "    return G_base"
   ]
  },
  {
   "cell_type": "markdown",
   "metadata": {},
   "source": [
    " This function simplifies the topology of the graph by consolidating intersections within a specified tolerance."
   ]
  },
  {
   "cell_type": "code",
   "execution_count": 40,
   "metadata": {},
   "outputs": [],
   "source": [
    "def consolidate_intersections(G_base, tolerance, rebuild_graph, dead_ends):\n",
    "    # Consolidate intersection to further simplify the topography of the graph\n",
    "    G = ox.consolidate_intersections(G_base, tolerance=tolerance, rebuild_graph=rebuild_graph, dead_ends=dead_ends)\n",
    "    return G"
   ]
  },
  {
   "cell_type": "markdown",
   "metadata": {},
   "source": [
    "This function saves the graph to a file."
   ]
  },
  {
   "cell_type": "code",
   "execution_count": 41,
   "metadata": {},
   "outputs": [],
   "source": [
    "def save_graph_to_file(G, filepath):\n",
    "    # Save graph to file\n",
    "    ox.save_graphml(G, filepath=filepath)"
   ]
  },
  {
   "cell_type": "markdown",
   "metadata": {},
   "source": [
    "This function converts lists to strings in the ‘highway’ column of the edges GeoDataFrame."
   ]
  },
  {
   "cell_type": "code",
   "execution_count": 42,
   "metadata": {},
   "outputs": [],
   "source": [
    "def convert_lists_to_strings(e):\n",
    "    # Convert lists to strings\n",
    "    e['highway'] = e['highway'].apply(lambda x: ', '.join(x) if isinstance(x, list) else x)"
   ]
  },
  {
   "cell_type": "markdown",
   "metadata": {},
   "source": [
    "This function finds the closest OSM ID for each point in a GeoDataFrame."
   ]
  },
  {
   "cell_type": "markdown",
   "metadata": {},
   "source": [
    "This function calculates the Origin-Destination (OD) matrix."
   ]
  },
  {
   "cell_type": "markdown",
   "metadata": {},
   "source": [
    "The main() function orchestrates the execution of these steps. It loads and transforms the data, creates a graph from a polygon, consolidates intersections, saves the graph to a file, converts the graph to GeoDataFrames, saves nodes and edges to files, loads farm data, loads H3 GeoDataFrame, finds the closest OSM ID for each point in the GeoDataFrames, loads farm GeoDataFrame, loads loi data, loads H3 GeoDataFrame, filters H3 GeoDataFrame, and finally calculates the OD matrix."
   ]
  },
  {
   "cell_type": "code",
   "execution_count": 43,
   "metadata": {},
   "outputs": [],
   "source": [
    "def main():\n",
    "    # Load and transform data\n",
    "    pzh = load_and_transform_data(SHAPEFILE_PATH)\n",
    "    polygon = pzh['geometry'].squeeze()\n",
    "    \n",
    "    # Create graph from polygon\n",
    "    G_base = create_graph_from_polygon(polygon, 'drive', CUSTOM_FILTER)\n",
    "    \n",
    "\n",
    "    ###\n",
    "    # fig, ax = ox.plot_graph(G_base, node_size=2, node_color='tab:blue', edge_linewidth=1, edge_color= 'darkgray', figsize=(8,8), bgcolor='white')\n",
    "    # # fig.savefig('./notebook_figures/G.eps',format='eps', dpi=1000,bbox_inches=\"tight\")\n",
    "    # fig.savefig(\"./G_base.png\", format = 'png', dpi= 1000, bbox_inches=\"tight\")\n",
    "    ###\n",
    "\n",
    "\n",
    "    # consolidate intersection to further simplify the topography of the graph\n",
    "    G = consolidate_intersections(G_base, 200, True, False)\n",
    "    \n",
    "\n",
    "    ###\n",
    "    # fig, ax = ox.plot_graph(G, node_size=2, node_color='tab:blue', edge_linewidth=1, edge_color= 'darkgray', figsize=(8,8), bgcolor='white')\n",
    "    # # fig.savefig('./notebook_figures/G.eps',format='eps', dpi=1000, bbox_inches=\"tight\")\n",
    "    # fig.savefig(\"./G.png\", format = 'png', dpi= 1000, bbox_inches=\"tight\") #transparent=True\n",
    "    ###\n",
    "        \n",
    "\n",
    "    # Save graph to file\n",
    "    save_graph_to_file(G, GRAPHML_FILEPATH)\n",
    "    \n",
    "    # Convert graph to GeoDataFrames\n",
    "    n, e = ox.graph_to_gdfs(G)\n",
    "    \n",
    "    # Save nodes and edges to files\n",
    "    n[[\"geometry\", \"y\", \"x\", \"lon\", \"lat\", \"highway\"]].to_file(NODES_FILEPATH)\n",
    "    convert_lists_to_strings(e)\n",
    "    e[[\"geometry\",\"highway\"]].to_file(EDGES_FILEPATH)\n",
    "    # n.crs\n",
    "\n",
    "\n",
    "    # ###\n",
    "    # t = gpd.read_file(SHAPEFILE_PATH)\n",
    "    # n.head()\n",
    "    # t.head()\n",
    "\n",
    "    # fig, ax = plt.subplots(figsize=(10,12))\n",
    "    # pzh.plot(ax=ax, color='gold', zorder=1)\n",
    "    # t.plot(ax=ax, edgecolor='red', color=\"none\", zorder=2)\n",
    "    # e.plot(ax=ax, color='darkgray', linewidth=1, zorder=3)\n",
    "    # n.plot(ax=ax, color='tab:blue',  markersize=1, zorder=4)\n",
    "\n",
    "    # ax.set_axis_off()\n",
    "    # plt.show()\n",
    "    # fig.savefig(\"Diagram/osm_network.png\", format='png', dpi=1000, bbox_inches=\"tight\") #transparent=True\n",
    "    # fig.savefig(\"Diagram/osm_network.eps\", format='eps', dpi=1000, bbox_inches=\"tight\")\n",
    "    # ###\n",
    "\n",
    "\n",
    "    # Load farm data\n",
    "    farm = load_and_transform_data(FARM_FILEPATH)\n",
    "    farm.head()\n",
    "    \n",
    "    # Load H3 GeoDataFrame\n",
    "    h3_gdf = load_and_transform_data(H3_GDF_FILEPATH)\n",
    "    \n",
    "    # print(h3_gdf.shape)\n",
    "    print(n.columns)\n",
    "    # Find the closest OSM ID for each point in the GeoDataFrames\n",
    "    find_closest_osmid(h3_gdf, n) \n",
    "    h3_gdf['y'] = h3_gdf['geometry'].y\n",
    "    h3_gdf['x'] = h3_gdf['geometry'].x\n",
    "    h3_gdf.to_file(APP_DATA_H3_GEOMETRY_FILEPATH)\n",
    "    find_closest_osmid(farm, n) \n",
    "    farm.to_file(APP_DATA_FARM_FILEPATH)\n",
    "    \n",
    "    # Load farm GeoDataFrame\n",
    "    farm_gdf = gpd.read_file(APP_DATA_FARM_FILEPATH)\n",
    "    \n",
    "    # Load loi data\n",
    "    loi = gpd.read_file(LOI_FILEPATH)\n",
    "    \n",
    "    # Load H3 GeoDataFrame\n",
    "    h3_gdf = gpd.read_file(APP_DATA_H3_GEOMETRY_FILEPATH)\n",
    "    \n",
    "    # Filter H3 GeoDataFrame\n",
    "    loi_gdf = h3_gdf[h3_gdf['hex9'].isin(loi.hex9)]\n",
    "    \n",
    "    # Calculate OD matrix\n",
    "    c, plant = calculate_od_matrix(farm_gdf, loi_gdf, COST_PER_KM)"
   ]
  },
  {
   "cell_type": "code",
   "execution_count": 44,
   "metadata": {},
   "outputs": [
    {
     "ename": "KeyboardInterrupt",
     "evalue": "",
     "output_type": "error",
     "traceback": [
      "\u001b[0;31m---------------------------------------------------------------------------\u001b[0m",
      "\u001b[0;31mKeyboardInterrupt\u001b[0m                         Traceback (most recent call last)",
      "Cell \u001b[0;32mIn[44], line 2\u001b[0m\n\u001b[1;32m      1\u001b[0m \u001b[38;5;28;01mif\u001b[39;00m \u001b[38;5;18m__name__\u001b[39m \u001b[38;5;241m==\u001b[39m \u001b[38;5;124m\"\u001b[39m\u001b[38;5;124m__main__\u001b[39m\u001b[38;5;124m\"\u001b[39m:\n\u001b[0;32m----> 2\u001b[0m     \u001b[43mmain\u001b[49m\u001b[43m(\u001b[49m\u001b[43m)\u001b[49m\n",
      "Cell \u001b[0;32mIn[43], line 7\u001b[0m, in \u001b[0;36mmain\u001b[0;34m()\u001b[0m\n\u001b[1;32m      4\u001b[0m polygon \u001b[38;5;241m=\u001b[39m pzh[\u001b[38;5;124m'\u001b[39m\u001b[38;5;124mgeometry\u001b[39m\u001b[38;5;124m'\u001b[39m]\u001b[38;5;241m.\u001b[39msqueeze()\n\u001b[1;32m      6\u001b[0m \u001b[38;5;66;03m# Create graph from polygon\u001b[39;00m\n\u001b[0;32m----> 7\u001b[0m G_base \u001b[38;5;241m=\u001b[39m \u001b[43mcreate_graph_from_polygon\u001b[49m\u001b[43m(\u001b[49m\u001b[43mpolygon\u001b[49m\u001b[43m,\u001b[49m\u001b[43m \u001b[49m\u001b[38;5;124;43m'\u001b[39;49m\u001b[38;5;124;43mdrive\u001b[39;49m\u001b[38;5;124;43m'\u001b[39;49m\u001b[43m,\u001b[49m\u001b[43m \u001b[49m\u001b[43mCUSTOM_FILTER\u001b[49m\u001b[43m)\u001b[49m\n\u001b[1;32m     10\u001b[0m \u001b[38;5;66;03m###\u001b[39;00m\n\u001b[1;32m     11\u001b[0m \u001b[38;5;66;03m# fig, ax = ox.plot_graph(G_base, node_size=2, node_color='tab:blue', edge_linewidth=1, edge_color= 'darkgray', figsize=(8,8), bgcolor='white')\u001b[39;00m\n\u001b[1;32m     12\u001b[0m \u001b[38;5;66;03m# # fig.savefig('./notebook_figures/G.eps',format='eps', dpi=1000,bbox_inches=\"tight\")\u001b[39;00m\n\u001b[0;32m   (...)\u001b[0m\n\u001b[1;32m     16\u001b[0m \n\u001b[1;32m     17\u001b[0m \u001b[38;5;66;03m# consolidate intersection to further simplify the topography of the graph\u001b[39;00m\n\u001b[1;32m     18\u001b[0m G \u001b[38;5;241m=\u001b[39m consolidate_intersections(G_base, \u001b[38;5;241m200\u001b[39m, \u001b[38;5;28;01mTrue\u001b[39;00m, \u001b[38;5;28;01mFalse\u001b[39;00m)\n",
      "Cell \u001b[0;32mIn[39], line 3\u001b[0m, in \u001b[0;36mcreate_graph_from_polygon\u001b[0;34m(polygon, network_type, custom_filter)\u001b[0m\n\u001b[1;32m      1\u001b[0m \u001b[38;5;28;01mdef\u001b[39;00m \u001b[38;5;21mcreate_graph_from_polygon\u001b[39m(polygon, network_type, custom_filter):\n\u001b[1;32m      2\u001b[0m     \u001b[38;5;66;03m# Create graph from polygon\u001b[39;00m\n\u001b[0;32m----> 3\u001b[0m     G_base \u001b[38;5;241m=\u001b[39m \u001b[43mox\u001b[49m\u001b[38;5;241;43m.\u001b[39;49m\u001b[43mgraph_from_polygon\u001b[49m\u001b[43m(\u001b[49m\u001b[43mpolygon\u001b[49m\u001b[43m,\u001b[49m\u001b[43m \u001b[49m\u001b[43mnetwork_type\u001b[49m\u001b[38;5;241;43m=\u001b[39;49m\u001b[43mnetwork_type\u001b[49m\u001b[43m,\u001b[49m\u001b[43m \u001b[49m\u001b[43mcustom_filter\u001b[49m\u001b[38;5;241;43m=\u001b[39;49m\u001b[43mcustom_filter\u001b[49m\u001b[43m)\u001b[49m\n\u001b[1;32m      4\u001b[0m     G_base \u001b[38;5;241m=\u001b[39m ox\u001b[38;5;241m.\u001b[39mproject_graph(G_base, to_crs\u001b[38;5;241m=\u001b[39m\u001b[38;5;124m\"\u001b[39m\u001b[38;5;124mEPSG:3857\u001b[39m\u001b[38;5;124m\"\u001b[39m)\n\u001b[1;32m      5\u001b[0m     \u001b[38;5;28;01mreturn\u001b[39;00m G_base\n",
      "File \u001b[0;32m~/.local/lib/python3.11/site-packages/osmnx/graph.py:498\u001b[0m, in \u001b[0;36mgraph_from_polygon\u001b[0;34m(polygon, network_type, simplify, retain_all, truncate_by_edge, clean_periphery, custom_filter)\u001b[0m\n\u001b[1;32m    496\u001b[0m \u001b[38;5;66;03m# create buffered graph from the downloaded data\u001b[39;00m\n\u001b[1;32m    497\u001b[0m bidirectional \u001b[38;5;241m=\u001b[39m network_type \u001b[38;5;129;01min\u001b[39;00m settings\u001b[38;5;241m.\u001b[39mbidirectional_network_types\n\u001b[0;32m--> 498\u001b[0m G_buff \u001b[38;5;241m=\u001b[39m \u001b[43m_create_graph\u001b[49m\u001b[43m(\u001b[49m\u001b[43mresponse_jsons\u001b[49m\u001b[43m,\u001b[49m\u001b[43m \u001b[49m\u001b[43mretain_all\u001b[49m\u001b[38;5;241;43m=\u001b[39;49m\u001b[38;5;28;43;01mTrue\u001b[39;49;00m\u001b[43m,\u001b[49m\u001b[43m \u001b[49m\u001b[43mbidirectional\u001b[49m\u001b[38;5;241;43m=\u001b[39;49m\u001b[43mbidirectional\u001b[49m\u001b[43m)\u001b[49m\n\u001b[1;32m    500\u001b[0m \u001b[38;5;66;03m# truncate buffered graph to the buffered polygon and retain_all for\u001b[39;00m\n\u001b[1;32m    501\u001b[0m \u001b[38;5;66;03m# now. needed because overpass returns entire ways that also include\u001b[39;00m\n\u001b[1;32m    502\u001b[0m \u001b[38;5;66;03m# nodes outside the poly if the way (that is, a way with a single OSM\u001b[39;00m\n\u001b[1;32m    503\u001b[0m \u001b[38;5;66;03m# ID) has a node inside the poly at some point.\u001b[39;00m\n\u001b[1;32m    504\u001b[0m G_buff \u001b[38;5;241m=\u001b[39m truncate\u001b[38;5;241m.\u001b[39mtruncate_graph_polygon(G_buff, poly_buff, \u001b[38;5;28;01mTrue\u001b[39;00m, truncate_by_edge)\n",
      "File \u001b[0;32m~/.local/lib/python3.11/site-packages/osmnx/graph.py:626\u001b[0m, in \u001b[0;36m_create_graph\u001b[0;34m(response_jsons, retain_all, bidirectional)\u001b[0m\n\u001b[1;32m    623\u001b[0m paths \u001b[38;5;241m=\u001b[39m {}\n\u001b[1;32m    625\u001b[0m \u001b[38;5;66;03m# consume response_jsons generator to download data from server\u001b[39;00m\n\u001b[0;32m--> 626\u001b[0m \u001b[43m\u001b[49m\u001b[38;5;28;43;01mfor\u001b[39;49;00m\u001b[43m \u001b[49m\u001b[43mresponse_json\u001b[49m\u001b[43m \u001b[49m\u001b[38;5;129;43;01min\u001b[39;49;00m\u001b[43m \u001b[49m\u001b[43mresponse_jsons\u001b[49m\u001b[43m:\u001b[49m\n\u001b[1;32m    627\u001b[0m \u001b[43m    \u001b[49m\u001b[43mresponse_count\u001b[49m\u001b[43m \u001b[49m\u001b[38;5;241;43m+\u001b[39;49m\u001b[38;5;241;43m=\u001b[39;49m\u001b[43m \u001b[49m\u001b[38;5;241;43m1\u001b[39;49m\n\u001b[1;32m    629\u001b[0m \u001b[43m    \u001b[49m\u001b[38;5;66;43;03m# if cache_only_mode, consume response_jsons then continue next loop\u001b[39;49;00m\n",
      "File \u001b[0;32m~/.local/lib/python3.11/site-packages/osmnx/_overpass.py:362\u001b[0m, in \u001b[0;36m_download_overpass_network\u001b[0;34m(polygon, network_type, custom_filter)\u001b[0m\n\u001b[1;32m    359\u001b[0m overpass_settings \u001b[38;5;241m=\u001b[39m _make_overpass_settings()\n\u001b[1;32m    361\u001b[0m \u001b[38;5;66;03m# subdivide query polygon to get list of sub-divided polygon coord strings\u001b[39;00m\n\u001b[0;32m--> 362\u001b[0m polygon_coord_strs \u001b[38;5;241m=\u001b[39m \u001b[43m_make_overpass_polygon_coord_strs\u001b[49m\u001b[43m(\u001b[49m\u001b[43mpolygon\u001b[49m\u001b[43m)\u001b[49m\n\u001b[1;32m    363\u001b[0m utils\u001b[38;5;241m.\u001b[39mlog(\u001b[38;5;124mf\u001b[39m\u001b[38;5;124m\"\u001b[39m\u001b[38;5;124mRequesting data from API in \u001b[39m\u001b[38;5;132;01m{\u001b[39;00m\u001b[38;5;28mlen\u001b[39m(polygon_coord_strs)\u001b[38;5;132;01m}\u001b[39;00m\u001b[38;5;124m request(s)\u001b[39m\u001b[38;5;124m\"\u001b[39m)\n\u001b[1;32m    365\u001b[0m \u001b[38;5;66;03m# pass exterior coordinates of each polygon in list to API, one at a time\u001b[39;00m\n\u001b[1;32m    366\u001b[0m \u001b[38;5;66;03m# the '>' makes it recurse so we get ways and the ways' nodes.\u001b[39;00m\n",
      "File \u001b[0;32m~/.local/lib/python3.11/site-packages/osmnx/_overpass.py:253\u001b[0m, in \u001b[0;36m_make_overpass_polygon_coord_strs\u001b[0;34m(polygon)\u001b[0m\n\u001b[1;32m    234\u001b[0m \u001b[38;5;250m\u001b[39m\u001b[38;5;124;03m\"\"\"\u001b[39;00m\n\u001b[1;32m    235\u001b[0m \u001b[38;5;124;03mSubdivide query polygon and return list of coordinate strings.\u001b[39;00m\n\u001b[1;32m    236\u001b[0m \n\u001b[0;32m   (...)\u001b[0m\n\u001b[1;32m    249\u001b[0m \u001b[38;5;124;03m    list of strings of exterior coordinates of polygon(s)\u001b[39;00m\n\u001b[1;32m    250\u001b[0m \u001b[38;5;124;03m\"\"\"\u001b[39;00m\n\u001b[1;32m    251\u001b[0m \u001b[38;5;66;03m# first subdivide the polygon if its area exceeds max size\u001b[39;00m\n\u001b[1;32m    252\u001b[0m \u001b[38;5;66;03m# this results in a multipolygon of 1+ constituent polygons\u001b[39;00m\n\u001b[0;32m--> 253\u001b[0m poly_proj, crs_proj \u001b[38;5;241m=\u001b[39m \u001b[43mprojection\u001b[49m\u001b[38;5;241;43m.\u001b[39;49m\u001b[43mproject_geometry\u001b[49m\u001b[43m(\u001b[49m\u001b[43mpolygon\u001b[49m\u001b[43m)\u001b[49m\n\u001b[1;32m    254\u001b[0m multi_poly_proj \u001b[38;5;241m=\u001b[39m utils_geo\u001b[38;5;241m.\u001b[39m_consolidate_subdivide_geometry(poly_proj)\n\u001b[1;32m    255\u001b[0m multi_poly, _ \u001b[38;5;241m=\u001b[39m projection\u001b[38;5;241m.\u001b[39mproject_geometry(multi_poly_proj, crs\u001b[38;5;241m=\u001b[39mcrs_proj, to_latlong\u001b[38;5;241m=\u001b[39m\u001b[38;5;28;01mTrue\u001b[39;00m)\n",
      "File \u001b[0;32m~/.local/lib/python3.11/site-packages/osmnx/projection.py:60\u001b[0m, in \u001b[0;36mproject_geometry\u001b[0;34m(geometry, crs, to_crs, to_latlong)\u001b[0m\n\u001b[1;32m     57\u001b[0m     crs \u001b[38;5;241m=\u001b[39m settings\u001b[38;5;241m.\u001b[39mdefault_crs\n\u001b[1;32m     59\u001b[0m gdf \u001b[38;5;241m=\u001b[39m gpd\u001b[38;5;241m.\u001b[39mGeoDataFrame(geometry\u001b[38;5;241m=\u001b[39m[geometry], crs\u001b[38;5;241m=\u001b[39mcrs)\n\u001b[0;32m---> 60\u001b[0m gdf_proj \u001b[38;5;241m=\u001b[39m \u001b[43mproject_gdf\u001b[49m\u001b[43m(\u001b[49m\u001b[43mgdf\u001b[49m\u001b[43m,\u001b[49m\u001b[43m \u001b[49m\u001b[43mto_crs\u001b[49m\u001b[38;5;241;43m=\u001b[39;49m\u001b[43mto_crs\u001b[49m\u001b[43m,\u001b[49m\u001b[43m \u001b[49m\u001b[43mto_latlong\u001b[49m\u001b[38;5;241;43m=\u001b[39;49m\u001b[43mto_latlong\u001b[49m\u001b[43m)\u001b[49m\n\u001b[1;32m     61\u001b[0m geometry_proj \u001b[38;5;241m=\u001b[39m gdf_proj[\u001b[38;5;124m\"\u001b[39m\u001b[38;5;124mgeometry\u001b[39m\u001b[38;5;124m\"\u001b[39m]\u001b[38;5;241m.\u001b[39miloc[\u001b[38;5;241m0\u001b[39m]\n\u001b[1;32m     62\u001b[0m \u001b[38;5;28;01mreturn\u001b[39;00m geometry_proj, gdf_proj\u001b[38;5;241m.\u001b[39mcrs\n",
      "File \u001b[0;32m~/.local/lib/python3.11/site-packages/osmnx/projection.py:99\u001b[0m, in \u001b[0;36mproject_gdf\u001b[0;34m(gdf, to_crs, to_latlong)\u001b[0m\n\u001b[1;32m     97\u001b[0m \u001b[38;5;66;03m# else if to_crs is None, project gdf to an appropriate UTM zone\u001b[39;00m\n\u001b[1;32m     98\u001b[0m \u001b[38;5;28;01melif\u001b[39;00m to_crs \u001b[38;5;129;01mis\u001b[39;00m \u001b[38;5;28;01mNone\u001b[39;00m:\n\u001b[0;32m---> 99\u001b[0m     to_crs \u001b[38;5;241m=\u001b[39m \u001b[43mgdf\u001b[49m\u001b[38;5;241;43m.\u001b[39;49m\u001b[43mestimate_utm_crs\u001b[49m\u001b[43m(\u001b[49m\u001b[43m)\u001b[49m\n\u001b[1;32m    101\u001b[0m \u001b[38;5;66;03m# project the gdf\u001b[39;00m\n\u001b[1;32m    102\u001b[0m gdf_proj \u001b[38;5;241m=\u001b[39m gdf\u001b[38;5;241m.\u001b[39mto_crs(to_crs)\n",
      "File \u001b[0;32m~/.local/lib/python3.11/site-packages/geopandas/geodataframe.py:1451\u001b[0m, in \u001b[0;36mGeoDataFrame.estimate_utm_crs\u001b[0;34m(self, datum_name)\u001b[0m\n\u001b[1;32m   1415\u001b[0m \u001b[38;5;28;01mdef\u001b[39;00m \u001b[38;5;21mestimate_utm_crs\u001b[39m(\u001b[38;5;28mself\u001b[39m, datum_name\u001b[38;5;241m=\u001b[39m\u001b[38;5;124m\"\u001b[39m\u001b[38;5;124mWGS 84\u001b[39m\u001b[38;5;124m\"\u001b[39m):\n\u001b[1;32m   1416\u001b[0m \u001b[38;5;250m    \u001b[39m\u001b[38;5;124;03m\"\"\"Returns the estimated UTM CRS based on the bounds of the dataset.\u001b[39;00m\n\u001b[1;32m   1417\u001b[0m \n\u001b[1;32m   1418\u001b[0m \u001b[38;5;124;03m    .. versionadded:: 0.9\u001b[39;00m\n\u001b[0;32m   (...)\u001b[0m\n\u001b[1;32m   1449\u001b[0m \u001b[38;5;124;03m    - Prime Meridian: Greenwich\u001b[39;00m\n\u001b[1;32m   1450\u001b[0m \u001b[38;5;124;03m    \"\"\"\u001b[39;00m\n\u001b[0;32m-> 1451\u001b[0m     \u001b[38;5;28;01mreturn\u001b[39;00m \u001b[38;5;28;43mself\u001b[39;49m\u001b[38;5;241;43m.\u001b[39;49m\u001b[43mgeometry\u001b[49m\u001b[38;5;241;43m.\u001b[39;49m\u001b[43mestimate_utm_crs\u001b[49m\u001b[43m(\u001b[49m\u001b[43mdatum_name\u001b[49m\u001b[38;5;241;43m=\u001b[39;49m\u001b[43mdatum_name\u001b[49m\u001b[43m)\u001b[49m\n",
      "File \u001b[0;32m~/.local/lib/python3.11/site-packages/geopandas/geoseries.py:1214\u001b[0m, in \u001b[0;36mGeoSeries.estimate_utm_crs\u001b[0;34m(self, datum_name)\u001b[0m\n\u001b[1;32m   1178\u001b[0m \u001b[38;5;28;01mdef\u001b[39;00m \u001b[38;5;21mestimate_utm_crs\u001b[39m(\u001b[38;5;28mself\u001b[39m, datum_name: \u001b[38;5;28mstr\u001b[39m \u001b[38;5;241m=\u001b[39m \u001b[38;5;124m\"\u001b[39m\u001b[38;5;124mWGS 84\u001b[39m\u001b[38;5;124m\"\u001b[39m) \u001b[38;5;241m-\u001b[39m\u001b[38;5;241m>\u001b[39m CRS:\n\u001b[1;32m   1179\u001b[0m \u001b[38;5;250m    \u001b[39m\u001b[38;5;124;03m\"\"\"Returns the estimated UTM CRS based on the bounds of the dataset.\u001b[39;00m\n\u001b[1;32m   1180\u001b[0m \n\u001b[1;32m   1181\u001b[0m \u001b[38;5;124;03m    .. versionadded:: 0.9\u001b[39;00m\n\u001b[0;32m   (...)\u001b[0m\n\u001b[1;32m   1212\u001b[0m \u001b[38;5;124;03m    - Prime Meridian: Greenwich\u001b[39;00m\n\u001b[1;32m   1213\u001b[0m \u001b[38;5;124;03m    \"\"\"\u001b[39;00m\n\u001b[0;32m-> 1214\u001b[0m     \u001b[38;5;28;01mreturn\u001b[39;00m \u001b[38;5;28;43mself\u001b[39;49m\u001b[38;5;241;43m.\u001b[39;49m\u001b[43mvalues\u001b[49m\u001b[38;5;241;43m.\u001b[39;49m\u001b[43mestimate_utm_crs\u001b[49m\u001b[43m(\u001b[49m\u001b[43mdatum_name\u001b[49m\u001b[43m)\u001b[49m\n",
      "File \u001b[0;32m~/.local/lib/python3.11/site-packages/geopandas/array.py:940\u001b[0m, in \u001b[0;36mGeometryArray.estimate_utm_crs\u001b[0;34m(self, datum_name)\u001b[0m\n\u001b[1;32m    937\u001b[0m     \u001b[38;5;28;01melse\u001b[39;00m:\n\u001b[1;32m    938\u001b[0m         x_center \u001b[38;5;241m=\u001b[39m np\u001b[38;5;241m.\u001b[39mmean([minx, maxx])\n\u001b[0;32m--> 940\u001b[0m utm_crs_list \u001b[38;5;241m=\u001b[39m \u001b[43mquery_utm_crs_info\u001b[49m\u001b[43m(\u001b[49m\n\u001b[1;32m    941\u001b[0m \u001b[43m    \u001b[49m\u001b[43mdatum_name\u001b[49m\u001b[38;5;241;43m=\u001b[39;49m\u001b[43mdatum_name\u001b[49m\u001b[43m,\u001b[49m\n\u001b[1;32m    942\u001b[0m \u001b[43m    \u001b[49m\u001b[43marea_of_interest\u001b[49m\u001b[38;5;241;43m=\u001b[39;49m\u001b[43mAreaOfInterest\u001b[49m\u001b[43m(\u001b[49m\n\u001b[1;32m    943\u001b[0m \u001b[43m        \u001b[49m\u001b[43mwest_lon_degree\u001b[49m\u001b[38;5;241;43m=\u001b[39;49m\u001b[43mx_center\u001b[49m\u001b[43m,\u001b[49m\n\u001b[1;32m    944\u001b[0m \u001b[43m        \u001b[49m\u001b[43msouth_lat_degree\u001b[49m\u001b[38;5;241;43m=\u001b[39;49m\u001b[43my_center\u001b[49m\u001b[43m,\u001b[49m\n\u001b[1;32m    945\u001b[0m \u001b[43m        \u001b[49m\u001b[43meast_lon_degree\u001b[49m\u001b[38;5;241;43m=\u001b[39;49m\u001b[43mx_center\u001b[49m\u001b[43m,\u001b[49m\n\u001b[1;32m    946\u001b[0m \u001b[43m        \u001b[49m\u001b[43mnorth_lat_degree\u001b[49m\u001b[38;5;241;43m=\u001b[39;49m\u001b[43my_center\u001b[49m\u001b[43m,\u001b[49m\n\u001b[1;32m    947\u001b[0m \u001b[43m    \u001b[49m\u001b[43m)\u001b[49m\u001b[43m,\u001b[49m\n\u001b[1;32m    948\u001b[0m \u001b[43m\u001b[49m\u001b[43m)\u001b[49m\n\u001b[1;32m    949\u001b[0m \u001b[38;5;28;01mtry\u001b[39;00m:\n\u001b[1;32m    950\u001b[0m     \u001b[38;5;28;01mreturn\u001b[39;00m CRS\u001b[38;5;241m.\u001b[39mfrom_epsg(utm_crs_list[\u001b[38;5;241m0\u001b[39m]\u001b[38;5;241m.\u001b[39mcode)\n",
      "File \u001b[0;32m~/.local/lib/python3.11/site-packages/pyproj/database.pyx:314\u001b[0m, in \u001b[0;36mpyproj.database.query_utm_crs_info\u001b[0;34m()\u001b[0m\n",
      "File \u001b[0;32m~/.local/lib/python3.11/site-packages/pyproj/database.pyx:261\u001b[0m, in \u001b[0;36mpyproj.database.query_crs_info\u001b[0;34m()\u001b[0m\n",
      "File \u001b[0;32m<string>:1\u001b[0m, in \u001b[0;36m<lambda>\u001b[0;34m(_cls, west, south, east, north, name)\u001b[0m\n",
      "\u001b[0;31mKeyboardInterrupt\u001b[0m: "
     ]
    }
   ],
   "source": [
    "if __name__ == \"__main__\":\n",
    "    main()"
   ]
  }
 ],
 "metadata": {
  "interpreter": {
   "hash": "69f23fca6bff8680230af95806e5e6f087823f289b010869f54c5903d2cd69a9"
  },
  "kernelspec": {
   "display_name": "Python 3.10.2 ('geo_env')",
   "language": "python",
   "name": "python3"
  },
  "language_info": {
   "codemirror_mode": {
    "name": "ipython",
    "version": 3
   },
   "file_extension": ".py",
   "mimetype": "text/x-python",
   "name": "python",
   "nbconvert_exporter": "python",
   "pygments_lexer": "ipython3",
   "version": "3.11.9"
  },
  "orig_nbformat": 4
 },
 "nbformat": 4,
 "nbformat_minor": 2
}
