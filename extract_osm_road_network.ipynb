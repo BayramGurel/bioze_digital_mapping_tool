{
 "cells": [
  {
   "cell_type": "markdown",
   "metadata": {},
   "source": [
    "The main() function orchestrates the execution of these steps. **---** It loads and transforms the data, creates a graph from a polygon, consolidates intersections, saves the graph to a file, converts the graph to GeoDataFrames, saves nodes and edges to files, loads farm data, loads H3 GeoDataFrame, finds the closest OSM ID for each point in the GeoDataFrames, loads farm GeoDataFrame, loads loi data, loads H3 GeoDataFrame, filters H3 GeoDataFrame, and finally calculates the OD matrix. **---** The script is designed to be run as a **standalone program.**"
   ]
  },
  {
   "cell_type": "code",
   "execution_count": 45,
   "metadata": {},
   "outputs": [],
   "source": [
    "# Import necessary libraries\n",
    "from utils.cflp_function import *\n",
    "from utils.calculate_od import *\n",
    "import networkx as nx\n",
    "import osmnx as ox\n",
    "import geopandas as gpd\n",
    "import pandas as pd\n",
    "import matplotlib.pyplot as plt\n",
    "from shapely.geometry import Polygon, Point\n",
    "from shapely.ops import nearest_points"
   ]
  },
  {
   "cell_type": "code",
   "execution_count": 46,
   "metadata": {},
   "outputs": [],
   "source": [
    "# Define constants\n",
    "SHAPEFILE_PATH = \"shapefiles/zh_poly.shp\"\n",
    "CUSTOM_FILTER = '[\"highway\"][\"area\"!~\"yes\"][\"access\"!~\"private\"][\"highway\"~\"motorway|motorway_link|trunk|trunk_link|primary|primary_link|secondary|secondary_link|tertiary|tertiary_link|road\"]'\n",
    "H3_GDF_FILEPATH = 'app_data/h3_pzh_polygons.shp'\n",
    "TO_CRS = \"EPSG:4326\"\n",
    "\n",
    "GRAPHML_FILEPATH = \"osm_network/G.graphml\"\n",
    "NODES_FILEPATH = \"osm_network/G_n.shp\"\n",
    "EDGES_FILEPATH = \"osm_network/G_e.shp\"\n",
    "\n",
    "# FARM_FILEPATH = 'farm/farm_new.shp'\n",
    "FARM_FILEPATH = 'farm/pzh_farms.shp'\n",
    "\n",
    "# Save the data\n",
    "APP_DATA_H3_GEOMETRY_FILEPATH = \"./app_data/h3_geometry.shp\"\n",
    "APP_DATA_FARM_FILEPATH = \"./app_data/farm.shp\"\n",
    "\n",
    "LOI_FILEPATH = './hex/loi.csv'\n",
    "COST_PER_KM = 0.69"
   ]
  },
  {
   "cell_type": "markdown",
   "metadata": {},
   "source": [
    "This function loads geospatial data from a file and transforms the Coordinate Reference System (CRS) to the specified CRS."
   ]
  },
  {
   "cell_type": "code",
   "execution_count": 47,
   "metadata": {},
   "outputs": [],
   "source": [
    "def load_and_transform_data(file_path):\n",
    "    # Load data\n",
    "    data = gpd.read_file(file_path)\n",
    "    # Transform CRS\n",
    "    data = data.to_crs(TO_CRS)\n",
    "    return data"
   ]
  },
  {
   "cell_type": "markdown",
   "metadata": {},
   "source": [
    "This function creates a graph from a polygon, which represents the study area. The graph is created based on a specified network type and custom filter, and is then projected to the specified CRS."
   ]
  },
  {
   "cell_type": "code",
   "execution_count": 48,
   "metadata": {},
   "outputs": [],
   "source": [
    "def create_graph_from_polygon(polygon, network_type, custom_filter):\n",
    "    # Create graph from polygon\n",
    "    G_base = ox.graph_from_polygon(polygon, network_type=network_type, custom_filter=custom_filter)\n",
    "    G_base = ox.project_graph(G_base, to_crs=\"EPSG:3857\")\n",
    "    return G_base"
   ]
  },
  {
   "cell_type": "markdown",
   "metadata": {},
   "source": [
    " This function simplifies the topology of the graph by consolidating intersections within a specified tolerance."
   ]
  },
  {
   "cell_type": "code",
   "execution_count": 49,
   "metadata": {},
   "outputs": [],
   "source": [
    "def consolidate_intersections(G_base, tolerance, rebuild_graph, dead_ends):\n",
    "    # Consolidate intersection to further simplify the topography of the graph\n",
    "    G = ox.consolidate_intersections(G_base, tolerance=tolerance, rebuild_graph=rebuild_graph, dead_ends=dead_ends)\n",
    "    return G"
   ]
  },
  {
   "cell_type": "markdown",
   "metadata": {},
   "source": [
    "This function saves the graph to a file."
   ]
  },
  {
   "cell_type": "code",
   "execution_count": 50,
   "metadata": {},
   "outputs": [],
   "source": [
    "def save_graph_to_file(G, filepath):\n",
    "    # Save graph to file\n",
    "    ox.save_graphml(G, filepath=filepath)"
   ]
  },
  {
   "cell_type": "markdown",
   "metadata": {},
   "source": [
    "This function converts lists to strings in the ‘highway’ column of the edges GeoDataFrame."
   ]
  },
  {
   "cell_type": "code",
   "execution_count": 51,
   "metadata": {},
   "outputs": [],
   "source": [
    "def convert_lists_to_strings(e):\n",
    "    # Convert lists to strings\n",
    "    e['highway'] = e['highway'].apply(lambda x: ', '.join(x) if isinstance(x, list) else x)"
   ]
  },
  {
   "cell_type": "code",
   "execution_count": 52,
   "metadata": {},
   "outputs": [],
   "source": [
    "def save_nodes_and_edges_to_files(nodes_gdf, edges_gdf, nodes_filepath, edges_filepath):\n",
    "    # Save specific columns of nodes GeoDataFrame to file\n",
    "    nodes_gdf[[\"geometry\", \"y\", \"x\", \"lon\", \"lat\", \"highway\"]].to_file(nodes_filepath)\n",
    "\n",
    "    # Save specific columns of edges GeoDataFrame to file\n",
    "    edges_gdf[[\"geometry\",\"highway\"]].to_file(edges_filepath)"
   ]
  },
  {
   "cell_type": "code",
   "execution_count": 53,
   "metadata": {},
   "outputs": [],
   "source": [
    "def save_transformed_data(h3_geodataframe, farm_data, nodes_geodataframe, h3_filepath, farm_filepath):\n",
    "    \"\"\"\n",
    "    This function finds the closest OSM ID for each point in the GeoDataFrames,\n",
    "    adds 'y' and 'x' columns to h3_gdf, and saves h3_gdf and farm to files.\n",
    "\n",
    "    Parameters:\n",
    "    h3_gdf (GeoDataFrame): The H3 GeoDataFrame.\n",
    "    farm (GeoDataFrame): The farm GeoDataFrame.\n",
    "    n (GeoDataFrame): The nodes GeoDataFrame.\n",
    "    h3_filepath (str): The file path where the h3_gdf should be saved.\n",
    "    farm_filepath (str): The file path where the farm GeoDataFrame should be saved.\n",
    "\n",
    "    Returns:\n",
    "    None\n",
    "    \"\"\"\n",
    "    # Find the closest OSM ID for each point in the GeoDataFrames\n",
    "    find_closest_osmid(h3_geodataframe, nodes_geodataframe)\n",
    "    find_closest_osmid(farm_data, nodes_geodataframe)\n",
    "\n",
    "    # Add 'y' and 'x' columns to h3_gdf\n",
    "    h3_geodataframe = h3_geodataframe.to_crs(\"EPSG:28992\")\n",
    "    h3_geodataframe['geometry'] = h3_geodataframe['geometry'].centroid\n",
    "    h3_geodataframe['y'] = h3_geodataframe['geometry'].y\n",
    "    h3_geodataframe['x'] = h3_geodataframe['geometry'].x\n",
    "\n",
    "    # Save h3_gdf and farm to files\n",
    "    h3_geodataframe.to_file(h3_filepath)\n",
    "    farm_data.to_file(farm_filepath)\n"
   ]
  },
  {
   "cell_type": "markdown",
   "metadata": {},
   "source": [
    "The main() function orchestrates the execution of these steps. It loads and transforms the data, creates a graph from a polygon, consolidates intersections, saves the graph to a file, converts the graph to GeoDataFrames, saves nodes and edges to files, loads farm data, loads H3 GeoDataFrame, finds the closest OSM ID for each point in the GeoDataFrames, loads farm GeoDataFrame, loads loi data, loads H3 GeoDataFrame, filters H3 GeoDataFrame, and finally calculates the OD matrix."
   ]
  },
  {
   "cell_type": "code",
   "execution_count": 54,
   "metadata": {},
   "outputs": [],
   "source": [
    "def main():\n",
    "    # try:\n",
    "        # Load and transform data\n",
    "        polygon_data = load_and_transform_data(SHAPEFILE_PATH)\n",
    "        study_area_polygon = polygon_data['geometry'].squeeze()\n",
    "        \n",
    "        # Create and process graph from polygon\n",
    "        base_graph = create_graph_from_polygon(study_area_polygon, 'drive', CUSTOM_FILTER)\n",
    "        processed_graph = consolidate_intersections(base_graph, 200, True, False)\n",
    "\n",
    "        # ##\n",
    "        # fig, ax = ox.plot_graph(base_graph, node_size=2, node_color='tab:blue', edge_linewidth=1, edge_color= 'darkgray', figsize=(8,8), bgcolor='white')\n",
    "        # # fig.savefig('./notebook_figures/G.eps',format='eps', dpi=1000,bbox_inches=\"tight\")\n",
    "        # fig.savefig(\"./base_graph.png\", format = 'png', dpi= 1000, bbox_inches=\"tight\")\n",
    "        # ##\n",
    "\n",
    "        ###\n",
    "        # fig, ax = ox.plot_graph(processed_graph, node_size=2, node_color='tab:blue', edge_linewidth=1, edge_color= 'darkgray', figsize=(8,8), bgcolor='white')\n",
    "        # # fig.savefig('./notebook_figures/processed_graph.eps',format='eps', dpi=1000, bbox_inches=\"tight\")\n",
    "        # fig.savefig(\"./processed_graph.png\", format = 'png', dpi= 1000, bbox_inches=\"tight\") #transparent=True\n",
    "        ###\n",
    "        \n",
    "\n",
    "# Save graph to file and convert to GeoDataFrames\n",
    "        save_graph_to_file(processed_graph, GRAPHML_FILEPATH)\n",
    "        nodes_geodataframe, edges_geodataframe = ox.graph_to_gdfs(processed_graph)\n",
    "        \n",
    "        # Convert lists to strings in the 'highway' column of the edges GeoDataFrame\n",
    "        convert_lists_to_strings(edges_geodataframe)\n",
    "\n",
    "        # Save nodes and edges to files\n",
    "        save_nodes_and_edges_to_files(nodes_geodataframe, edges_geodataframe, NODES_FILEPATH, EDGES_FILEPATH)\n",
    " \n",
    "        \n",
    "        # ###\n",
    "        # t = gpd.read_file(SHAPEFILE_PATH)\n",
    "        # n.head()\n",
    "        # t.head()\n",
    "\n",
    "        # fig, ax = plt.subplots(figsize=(10,12))\n",
    "        # pzh.plot(ax=ax, color='gold', zorder=1)\n",
    "        # t.plot(ax=ax, edgecolor='red', color=\"none\", zorder=2)\n",
    "        # e.plot(ax=ax, color='darkgray', linewidth=1, zorder=3)\n",
    "        # n.plot(ax=ax, color='tab:blue',  markersize=1, zorder=4)\n",
    "\n",
    "        # ax.set_axis_off()\n",
    "        # plt.show()\n",
    "        # fig.savefig(\"Diagram/osm_network.png\", format='png', dpi=1000, bbox_inches=\"tight\") #transparent=True\n",
    "        # fig.savefig(\"Diagram/osm_network.eps\", format='eps', dpi=1000, bbox_inches=\"tight\")\n",
    "        # ###\n",
    "\n",
    "\n",
    "        # Load farm data and H3 GeoDataFrame\n",
    "        farm_data = load_and_transform_data(FARM_FILEPATH)\n",
    "        h3_geodataframe = load_and_transform_data(H3_GDF_FILEPATH)\n",
    "        print('hello')\n",
    "\n",
    "        # Save transformed data\n",
    "        save_transformed_data(h3_geodataframe, farm_data, nodes_geodataframe, APP_DATA_H3_GEOMETRY_FILEPATH, APP_DATA_FARM_FILEPATH)\n",
    "        print('1')\n",
    "\n",
    "        # Load farm GeoDataFrame and loi data\n",
    "        farm_geodataframe = gpd.read_file(APP_DATA_FARM_FILEPATH)\n",
    "        loi_data = gpd.read_file(LOI_FILEPATH)\n",
    "        print('2')\n",
    "\n",
    "        # Load H3 GeoDataFrame and filter it\n",
    "        h3_geodataframe = gpd.read_file(APP_DATA_H3_GEOMETRY_FILEPATH)\n",
    "        filtered_loi_geodataframe = h3_geodataframe[h3_geodataframe['hex9'].isin(loi_data.hex9)]\n",
    "        print('3')\n",
    "        \n",
    "        print(\"Columns in farm_geodataframe: \", farm_geodataframe.columns)\n",
    "        print(\"Columns in filtered_loi_geodataframe: \", filtered_loi_geodataframe.columns)\n",
    "\n",
    "        # Calculate OD matrix\n",
    "        cost_matrix, plant_list = calculate_od_matrix(farm_geodataframe, filtered_loi_geodataframe, COST_PER_KM)\n",
    "    # except Exception as error:\n",
    "    #     print(f\"An error occurred: {error}\")"
   ]
  },
  {
   "cell_type": "code",
   "execution_count": 55,
   "metadata": {},
   "outputs": [
    {
     "name": "stdout",
     "output_type": "stream",
     "text": [
      "hello\n"
     ]
    },
    {
     "ename": "ValueError",
     "evalue": "y attribute access only provided for Point geometries",
     "output_type": "error",
     "traceback": [
      "\u001b[0;31m---------------------------------------------------------------------------\u001b[0m",
      "\u001b[0;31mValueError\u001b[0m                                Traceback (most recent call last)",
      "Cell \u001b[0;32mIn[55], line 3\u001b[0m\n\u001b[1;32m      1\u001b[0m \u001b[38;5;66;03m# try:\u001b[39;00m\n\u001b[1;32m      2\u001b[0m \u001b[38;5;28;01mif\u001b[39;00m \u001b[38;5;18m__name__\u001b[39m \u001b[38;5;241m==\u001b[39m \u001b[38;5;124m\"\u001b[39m\u001b[38;5;124m__main__\u001b[39m\u001b[38;5;124m\"\u001b[39m:\n\u001b[0;32m----> 3\u001b[0m     \u001b[43mmain\u001b[49m\u001b[43m(\u001b[49m\u001b[43m)\u001b[49m\n\u001b[1;32m      4\u001b[0m \u001b[38;5;66;03m# except Exception as error:\u001b[39;00m\n\u001b[1;32m      5\u001b[0m \u001b[38;5;66;03m#     print(f\"An error occurred: {error}\")\u001b[39;00m\n",
      "Cell \u001b[0;32mIn[54], line 59\u001b[0m, in \u001b[0;36mmain\u001b[0;34m()\u001b[0m\n\u001b[1;32m     56\u001b[0m \u001b[38;5;28mprint\u001b[39m(\u001b[38;5;124m'\u001b[39m\u001b[38;5;124mhello\u001b[39m\u001b[38;5;124m'\u001b[39m)\n\u001b[1;32m     58\u001b[0m \u001b[38;5;66;03m# Save transformed data\u001b[39;00m\n\u001b[0;32m---> 59\u001b[0m \u001b[43msave_transformed_data\u001b[49m\u001b[43m(\u001b[49m\u001b[43mh3_geodataframe\u001b[49m\u001b[43m,\u001b[49m\u001b[43m \u001b[49m\u001b[43mfarm_data\u001b[49m\u001b[43m,\u001b[49m\u001b[43m \u001b[49m\u001b[43mnodes_geodataframe\u001b[49m\u001b[43m,\u001b[49m\u001b[43m \u001b[49m\u001b[43mAPP_DATA_H3_GEOMETRY_FILEPATH\u001b[49m\u001b[43m,\u001b[49m\u001b[43m \u001b[49m\u001b[43mAPP_DATA_FARM_FILEPATH\u001b[49m\u001b[43m)\u001b[49m\n\u001b[1;32m     60\u001b[0m \u001b[38;5;28mprint\u001b[39m(\u001b[38;5;124m'\u001b[39m\u001b[38;5;124m1\u001b[39m\u001b[38;5;124m'\u001b[39m)\n\u001b[1;32m     62\u001b[0m \u001b[38;5;66;03m# Load farm GeoDataFrame and loi data\u001b[39;00m\n",
      "Cell \u001b[0;32mIn[53], line 17\u001b[0m, in \u001b[0;36msave_transformed_data\u001b[0;34m(h3_geodataframe, farm_data, nodes_geodataframe, h3_filepath, farm_filepath)\u001b[0m\n\u001b[1;32m      2\u001b[0m \u001b[38;5;250m\u001b[39m\u001b[38;5;124;03m\"\"\"\u001b[39;00m\n\u001b[1;32m      3\u001b[0m \u001b[38;5;124;03mThis function finds the closest OSM ID for each point in the GeoDataFrames,\u001b[39;00m\n\u001b[1;32m      4\u001b[0m \u001b[38;5;124;03madds 'y' and 'x' columns to h3_gdf, and saves h3_gdf and farm to files.\u001b[39;00m\n\u001b[0;32m   (...)\u001b[0m\n\u001b[1;32m     14\u001b[0m \u001b[38;5;124;03mNone\u001b[39;00m\n\u001b[1;32m     15\u001b[0m \u001b[38;5;124;03m\"\"\"\u001b[39;00m\n\u001b[1;32m     16\u001b[0m \u001b[38;5;66;03m# Find the closest OSM ID for each point in the GeoDataFrames\u001b[39;00m\n\u001b[0;32m---> 17\u001b[0m \u001b[43mfind_closest_osmid\u001b[49m\u001b[43m(\u001b[49m\u001b[43mh3_geodataframe\u001b[49m\u001b[43m,\u001b[49m\u001b[43m \u001b[49m\u001b[43mnodes_geodataframe\u001b[49m\u001b[43m)\u001b[49m\n\u001b[1;32m     18\u001b[0m find_closest_osmid(farm_data, nodes_geodataframe)\n\u001b[1;32m     20\u001b[0m \u001b[38;5;66;03m# Add 'y' and 'x' columns to h3_gdf\u001b[39;00m\n",
      "File \u001b[0;32m/workspaces/bioze_digital_mapping_tool/utils/calculate_od.py:50\u001b[0m, in \u001b[0;36mfind_closest_osmid\u001b[0;34m(gdf, n)\u001b[0m\n\u001b[1;32m     47\u001b[0m tree \u001b[38;5;241m=\u001b[39m BallTree(np\u001b[38;5;241m.\u001b[39marray(\u001b[38;5;28mlist\u001b[39m(\u001b[38;5;28mzip\u001b[39m(n\u001b[38;5;241m.\u001b[39my, n\u001b[38;5;241m.\u001b[39mx))), leaf_size\u001b[38;5;241m=\u001b[39m\u001b[38;5;241m15\u001b[39m, metric\u001b[38;5;241m=\u001b[39m\u001b[38;5;124m'\u001b[39m\u001b[38;5;124mhaversine\u001b[39m\u001b[38;5;124m'\u001b[39m)\n\u001b[1;32m     49\u001b[0m \u001b[38;5;66;03m# Find the index of the closest point from 'n' for each point in 'gdf'\u001b[39;00m\n\u001b[0;32m---> 50\u001b[0m indices \u001b[38;5;241m=\u001b[39m tree\u001b[38;5;241m.\u001b[39mquery(np\u001b[38;5;241m.\u001b[39marray(\u001b[38;5;28mlist\u001b[39m(\u001b[38;5;28mzip\u001b[39m(\u001b[43mgdf\u001b[49m\u001b[38;5;241;43m.\u001b[39;49m\u001b[43mgeometry\u001b[49m\u001b[38;5;241;43m.\u001b[39;49m\u001b[43my\u001b[49m, gdf\u001b[38;5;241m.\u001b[39mgeometry\u001b[38;5;241m.\u001b[39mx))), return_distance\u001b[38;5;241m=\u001b[39m\u001b[38;5;28;01mFalse\u001b[39;00m)\n\u001b[1;32m     52\u001b[0m \u001b[38;5;66;03m# Use the indices to map to the corresponding osmid\u001b[39;00m\n\u001b[1;32m     53\u001b[0m gdf[\u001b[38;5;124m'\u001b[39m\u001b[38;5;124mclosest_osmid\u001b[39m\u001b[38;5;124m'\u001b[39m] \u001b[38;5;241m=\u001b[39m n\u001b[38;5;241m.\u001b[39miloc[indices\u001b[38;5;241m.\u001b[39mflatten()][\u001b[38;5;124m'\u001b[39m\u001b[38;5;124mosmid_original\u001b[39m\u001b[38;5;124m'\u001b[39m]\u001b[38;5;241m.\u001b[39mvalues\n",
      "File \u001b[0;32m~/.local/lib/python3.11/site-packages/geopandas/geoseries.py:294\u001b[0m, in \u001b[0;36mGeoSeries.y\u001b[0;34m(self)\u001b[0m\n\u001b[1;32m    268\u001b[0m \u001b[38;5;129m@property\u001b[39m\n\u001b[1;32m    269\u001b[0m \u001b[38;5;28;01mdef\u001b[39;00m \u001b[38;5;21my\u001b[39m(\u001b[38;5;28mself\u001b[39m) \u001b[38;5;241m-\u001b[39m\u001b[38;5;241m>\u001b[39m Series:\n\u001b[1;32m    270\u001b[0m \u001b[38;5;250m    \u001b[39m\u001b[38;5;124;03m\"\"\"Return the y location of point geometries in a GeoSeries\u001b[39;00m\n\u001b[1;32m    271\u001b[0m \n\u001b[1;32m    272\u001b[0m \u001b[38;5;124;03m    Returns\u001b[39;00m\n\u001b[0;32m   (...)\u001b[0m\n\u001b[1;32m    292\u001b[0m \n\u001b[1;32m    293\u001b[0m \u001b[38;5;124;03m    \"\"\"\u001b[39;00m\n\u001b[0;32m--> 294\u001b[0m     \u001b[38;5;28;01mreturn\u001b[39;00m \u001b[43m_delegate_property\u001b[49m\u001b[43m(\u001b[49m\u001b[38;5;124;43m\"\u001b[39;49m\u001b[38;5;124;43my\u001b[39;49m\u001b[38;5;124;43m\"\u001b[39;49m\u001b[43m,\u001b[49m\u001b[43m \u001b[49m\u001b[38;5;28;43mself\u001b[39;49m\u001b[43m)\u001b[49m\n",
      "File \u001b[0;32m~/.local/lib/python3.11/site-packages/geopandas/base.py:70\u001b[0m, in \u001b[0;36m_delegate_property\u001b[0;34m(op, this)\u001b[0m\n\u001b[1;32m     67\u001b[0m \u001b[38;5;28;01mdef\u001b[39;00m \u001b[38;5;21m_delegate_property\u001b[39m(op, this):\n\u001b[1;32m     68\u001b[0m     \u001b[38;5;66;03m# type: (str, GeoSeries) -> GeoSeries/Series\u001b[39;00m\n\u001b[1;32m     69\u001b[0m     a_this \u001b[38;5;241m=\u001b[39m GeometryArray(this\u001b[38;5;241m.\u001b[39mgeometry\u001b[38;5;241m.\u001b[39mvalues)\n\u001b[0;32m---> 70\u001b[0m     data \u001b[38;5;241m=\u001b[39m \u001b[38;5;28mgetattr\u001b[39m(a_this, op)\n\u001b[1;32m     71\u001b[0m     \u001b[38;5;28;01mif\u001b[39;00m \u001b[38;5;28misinstance\u001b[39m(data, GeometryArray):\n\u001b[1;32m     72\u001b[0m         \u001b[38;5;28;01mfrom\u001b[39;00m \u001b[38;5;21;01m.\u001b[39;00m\u001b[38;5;21;01mgeoseries\u001b[39;00m \u001b[38;5;28;01mimport\u001b[39;00m GeoSeries\n",
      "File \u001b[0;32m~/.local/lib/python3.11/site-packages/geopandas/array.py:988\u001b[0m, in \u001b[0;36mGeometryArray.y\u001b[0;34m(self)\u001b[0m\n\u001b[1;32m    986\u001b[0m \u001b[38;5;28;01melse\u001b[39;00m:\n\u001b[1;32m    987\u001b[0m     message \u001b[38;5;241m=\u001b[39m \u001b[38;5;124m\"\u001b[39m\u001b[38;5;124my attribute access only provided for Point geometries\u001b[39m\u001b[38;5;124m\"\u001b[39m\n\u001b[0;32m--> 988\u001b[0m     \u001b[38;5;28;01mraise\u001b[39;00m \u001b[38;5;167;01mValueError\u001b[39;00m(message)\n",
      "\u001b[0;31mValueError\u001b[0m: y attribute access only provided for Point geometries"
     ]
    }
   ],
   "source": [
    "# try:\n",
    "if __name__ == \"__main__\":\n",
    "    main()\n",
    "# except Exception as error:\n",
    "#     print(f\"An error occurred: {error}\")"
   ]
  }
 ],
 "metadata": {
  "interpreter": {
   "hash": "69f23fca6bff8680230af95806e5e6f087823f289b010869f54c5903d2cd69a9"
  },
  "kernelspec": {
   "display_name": "Python 3.10.2 ('geo_env')",
   "language": "python",
   "name": "python3"
  },
  "language_info": {
   "codemirror_mode": {
    "name": "ipython",
    "version": 3
   },
   "file_extension": ".py",
   "mimetype": "text/x-python",
   "name": "python",
   "nbconvert_exporter": "python",
   "pygments_lexer": "ipython3",
   "version": "3.11.9"
  },
  "orig_nbformat": 4
 },
 "nbformat": 4,
 "nbformat_minor": 2
}
