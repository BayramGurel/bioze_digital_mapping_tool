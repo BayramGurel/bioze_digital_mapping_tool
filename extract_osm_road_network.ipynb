{
 "cells": [
  {
   "cell_type": "markdown",
   "metadata": {},
   "source": [
    "The main() function orchestrates the execution of these steps. **---** It loads and transforms the data, creates a graph from a polygon, consolidates intersections, saves the graph to a file, converts the graph to GeoDataFrames, saves nodes and edges to files, loads farm data, loads H3 GeoDataFrame, finds the closest OSM ID for each point in the GeoDataFrames, loads farm GeoDataFrame, loads loi data, loads H3 GeoDataFrame, filters H3 GeoDataFrame, and finally calculates the OD matrix. **---** The script is designed to be run as a **standalone program.**"
   ]
  },
  {
   "cell_type": "code",
   "execution_count": 1,
   "metadata": {},
   "outputs": [],
   "source": [
    "# Import necessary libraries\n",
    "from utils.cflp_function import *\n",
    "from utils.calculate_od import *\n",
    "import networkx as nx\n",
    "import osmnx as ox\n",
    "import geopandas as gpd\n",
    "import pandas as pd\n",
    "import matplotlib.pyplot as plt\n",
    "from shapely.geometry import Polygon, Point\n",
    "from shapely.ops import nearest_points"
   ]
  },
  {
   "cell_type": "code",
   "execution_count": 2,
   "metadata": {},
   "outputs": [],
   "source": [
    "# Define constants\n",
    "SHAPEFILE_PATH = \"shapefiles/zh_poly.shp\"\n",
    "CUSTOM_FILTER = '[\"highway\"][\"area\"!~\"yes\"][\"access\"!~\"private\"][\"highway\"~\"motorway|motorway_link|trunk|trunk_link|primary|primary_link|secondary|secondary_link|tertiary|tertiary_link|road\"]'\n",
    "H3_GDF_FILEPATH = 'app_data/h3_pzh_polygons.shp'\n",
    "TO_CRS = \"EPSG:4326\"\n",
    "\n",
    "GRAPHML_FILEPATH = \"osm_network/G.graphml\"\n",
    "NODES_FILEPATH = \"osm_network/G_n.shp\"\n",
    "EDGES_FILEPATH = \"osm_network/G_e.shp\"\n",
    "\n",
    "FARM_FILEPATH = 'farm/pzh_farms.shp'\n",
    "\n",
    "APP_DATA_H3_GEOMETRY_FILEPATH = \"./app_data/h3_geometry.shp\"\n",
    "APP_DATA_FARM_FILEPATH = \"./app_data/farm.shp\"\n",
    "\n",
    "LOI_FILEPATH = './hex/loi.csv'\n",
    "COST_PER_KM = 0.69"
   ]
  },
  {
   "cell_type": "markdown",
   "metadata": {},
   "source": [
    "This function loads geospatial data from a file and transforms the Coordinate Reference System (CRS) to the specified CRS."
   ]
  },
  {
   "cell_type": "code",
   "execution_count": 3,
   "metadata": {},
   "outputs": [],
   "source": [
    "# Function to load and transform geospatial data\n",
    "def load_and_transform_data(file_path, to_crs=TO_CRS):\n",
    "    # Load data from file\n",
    "    data = gpd.read_file(file_path)\n",
    "    # Transform Coordinate Reference System (CRS)\n",
    "    data = data.to_crs(to_crs)\n",
    "    return data"
   ]
  },
  {
   "cell_type": "markdown",
   "metadata": {},
   "source": [
    "This function creates a graph from a polygon, which represents the study area. The graph is created based on a specified network type and custom filter, and is then projected to the specified CRS."
   ]
  },
  {
   "cell_type": "code",
   "execution_count": 4,
   "metadata": {},
   "outputs": [],
   "source": [
    "# Function to create a graph from a polygon\n",
    "def create_graph_from_polygon(polygon, network_type, custom_filter):\n",
    "    # Create base graph from polygon\n",
    "    G_base = ox.graph_from_polygon(polygon, network_type=network_type, custom_filter=custom_filter)\n",
    "    # Project the graph to a specified CRS\n",
    "    G_base = ox.project_graph(G_base, to_crs=\"EPSG:3857\")\n",
    "    return G_base"
   ]
  },
  {
   "cell_type": "markdown",
   "metadata": {},
   "source": [
    " This function simplifies the topology of the graph by consolidating intersections within a specified tolerance."
   ]
  },
  {
   "cell_type": "code",
   "execution_count": 5,
   "metadata": {},
   "outputs": [],
   "source": [
    "# Function to consolidate intersections in the graph\n",
    "def consolidate_intersections(G_base, tolerance=200, rebuild_graph=True, dead_ends=False):\n",
    "    # Consolidate intersections and simplify the graph\n",
    "    G = ox.consolidate_intersections(G_base, tolerance=tolerance, rebuild_graph=rebuild_graph, dead_ends=dead_ends)\n",
    "    return G"
   ]
  },
  {
   "cell_type": "markdown",
   "metadata": {},
   "source": [
    "This function saves the graph to a file."
   ]
  },
  {
   "cell_type": "code",
   "execution_count": 6,
   "metadata": {},
   "outputs": [],
   "source": [
    "# Function to save the graph to a file\n",
    "def save_graph_to_file(G, filepath):\n",
    "    ox.save_graphml(G, filepath=filepath)"
   ]
  },
  {
   "cell_type": "markdown",
   "metadata": {},
   "source": [
    "This function converts lists to strings in the ‘highway’ column of the edges GeoDataFrame."
   ]
  },
  {
   "cell_type": "code",
   "execution_count": 7,
   "metadata": {},
   "outputs": [],
   "source": [
    "# Function to convert lists to strings in the 'highway' column of the edges GeoDataFrame\n",
    "def convert_lists_to_strings(e):\n",
    "    e['highway'] = e['highway'].apply(lambda x: ', '.join(x) if isinstance(x, list) else x)"
   ]
  },
  {
   "cell_type": "code",
   "execution_count": 8,
   "metadata": {},
   "outputs": [],
   "source": [
    "# Function to save nodes and edges GeoDataFrames to files\n",
    "def save_nodes_and_edges_to_files(nodes_gdf, edges_gdf, nodes_filepath, edges_filepath):\n",
    "    nodes_gdf[[\"geometry\", \"y\", \"x\", \"lon\", \"lat\", \"highway\"]].to_file(nodes_filepath)\n",
    "    edges_gdf[[\"geometry\",\"highway\"]].to_file(edges_filepath)"
   ]
  },
  {
   "cell_type": "code",
   "execution_count": 9,
   "metadata": {},
   "outputs": [],
   "source": [
    "def ensure_point_geometry(gdf):\n",
    "    gdf['geometry'] = gdf['geometry'].apply(lambda geom: geom.centroid if geom.geom_type != 'Point' else geom)\n",
    "    return gdf"
   ]
  },
  {
   "cell_type": "code",
   "execution_count": 10,
   "metadata": {},
   "outputs": [],
   "source": [
    "def save_transformed_data(h3_geodataframe, farm_data, nodes_geodataframe, h3_filepath, farm_filepath):\n",
    "    # Ensure the geometry is of Point type\n",
    "    h3_geodataframe = ensure_point_geometry(h3_geodataframe)\n",
    "    farm_data = ensure_point_geometry(farm_data)\n",
    "\n",
    "    # Find the closest OSM ID for each point in the GeoDataFrames\n",
    "    find_closest_osmid(h3_geodataframe, nodes_geodataframe)\n",
    "    find_closest_osmid(farm_data, nodes_geodataframe)\n",
    "\n",
    "    # Transform CRS and calculate centroids\n",
    "    h3_geodataframe = h3_geodataframe.to_crs(\"EPSG:28992\")\n",
    "    h3_geodataframe['geometry'] = h3_geodataframe['geometry'].centroid\n",
    "    h3_geodataframe['y'] = h3_geodataframe['geometry'].y\n",
    "    h3_geodataframe['x'] = h3_geodataframe['geometry'].x\n",
    "\n",
    "    # Save GeoDataFrames to files\n",
    "    h3_geodataframe.to_file(h3_filepath)\n",
    "    farm_data.to_file(farm_filepath)"
   ]
  },
  {
   "cell_type": "markdown",
   "metadata": {},
   "source": [
    "The main() function orchestrates the execution of these steps. It loads and transforms the data, creates a graph from a polygon, consolidates intersections, saves the graph to a file, converts the graph to GeoDataFrames, saves nodes and edges to files, loads farm data, loads H3 GeoDataFrame, finds the closest OSM ID for each point in the GeoDataFrames, loads farm GeoDataFrame, loads loi data, loads H3 GeoDataFrame, filters H3 GeoDataFrame, and finally calculates the OD matrix."
   ]
  },
  {
   "cell_type": "code",
   "execution_count": 11,
   "metadata": {},
   "outputs": [],
   "source": [
    "def main():\n",
    "    # try:\n",
    "        # Load and transform data\n",
    "        polygon_data = load_and_transform_data(SHAPEFILE_PATH)\n",
    "        study_area_polygon = polygon_data['geometry'].squeeze()\n",
    "        # Create and process graph from polygon\n",
    "        base_graph = create_graph_from_polygon(study_area_polygon, 'drive', CUSTOM_FILTER)\n",
    "        processed_graph = consolidate_intersections(base_graph)\n",
    "\n",
    "        # ##\n",
    "        # fig, ax = ox.plot_graph(base_graph, node_size=2, node_color='tab:blue', edge_linewidth=1, edge_color= 'darkgray', figsize=(8,8), bgcolor='white')\n",
    "        # # fig.savefig('./notebook_figures/G.eps',format='eps', dpi=1000,bbox_inches=\"tight\")\n",
    "        # fig.savefig(\"./base_graph.png\", format = 'png', dpi= 1000, bbox_inches=\"tight\")\n",
    "        # ##\n",
    "\n",
    "        ###\n",
    "        # fig, ax = ox.plot_graph(processed_graph, node_size=2, node_color='tab:blue', edge_linewidth=1, edge_color= 'darkgray', figsize=(8,8), bgcolor='white')\n",
    "        # # fig.savefig('./notebook_figures/processed_graph.eps',format='eps', dpi=1000, bbox_inches=\"tight\")\n",
    "        # fig.savefig(\"./processed_graph.png\", format = 'png', dpi= 1000, bbox_inches=\"tight\") #transparent=True\n",
    "        ###\n",
    "        \n",
    "\n",
    "# Save graph to file and convert to GeoDataFrames\n",
    "        save_graph_to_file(processed_graph, GRAPHML_FILEPATH)\n",
    "        nodes_geodataframe, edges_geodataframe = ox.graph_to_gdfs(processed_graph)\n",
    "        \n",
    "        # Convert lists to strings in the 'highway' column of the edges GeoDataFrame\n",
    "        convert_lists_to_strings(edges_geodataframe)\n",
    "\n",
    "        # Save nodes and edges to files\n",
    "        save_nodes_and_edges_to_files(nodes_geodataframe, edges_geodataframe, NODES_FILEPATH, EDGES_FILEPATH)\n",
    " \n",
    "        \n",
    "        # ###\n",
    "        # t = gpd.read_file(SHAPEFILE_PATH)\n",
    "        # n.head()\n",
    "        # t.head()\n",
    "\n",
    "        # fig, ax = plt.subplots(figsize=(10,12))\n",
    "        # pzh.plot(ax=ax, color='gold', zorder=1)\n",
    "        # t.plot(ax=ax, edgecolor='red', color=\"none\", zorder=2)\n",
    "        # e.plot(ax=ax, color='darkgray', linewidth=1, zorder=3)\n",
    "        # n.plot(ax=ax, color='tab:blue',  markersize=1, zorder=4)\n",
    "\n",
    "        # ax.set_axis_off()\n",
    "        # plt.show()\n",
    "        # fig.savefig(\"Diagram/osm_network.png\", format='png', dpi=1000, bbox_inches=\"tight\") #transparent=True\n",
    "        # fig.savefig(\"Diagram/osm_network.eps\", format='eps', dpi=1000, bbox_inches=\"tight\")\n",
    "        # ###\n",
    "\n",
    "\n",
    "        # Load farm data and H3 GeoDataFrame\n",
    "        farm_data = load_and_transform_data(FARM_FILEPATH)\n",
    "        h3_geodataframe = load_and_transform_data(H3_GDF_FILEPATH)\n",
    "        print('hello')\n",
    "\n",
    "        # Save transformed data\n",
    "        save_transformed_data(h3_geodataframe, farm_data, nodes_geodataframe, APP_DATA_H3_GEOMETRY_FILEPATH, APP_DATA_FARM_FILEPATH)\n",
    "        print('1')\n",
    "\n",
    "        # Load farm GeoDataFrame and loi data\n",
    "        farm_geodataframe = gpd.read_file(APP_DATA_FARM_FILEPATH)\n",
    "        loi_data = gpd.read_file(LOI_FILEPATH)\n",
    "        print('2')\n",
    "\n",
    "        # Load H3 GeoDataFrame and filter it\n",
    "        h3_geodataframe = gpd.read_file(APP_DATA_H3_GEOMETRY_FILEPATH)\n",
    "        filtered_loi_geodataframe = h3_geodataframe[h3_geodataframe['hex9'].isin(loi_data.hex9)]\n",
    "        print('3')\n",
    "        \n",
    "        print(\"Columns in farm_geodataframe: \", farm_geodataframe.columns)\n",
    "        print(\"Columns in filtered_loi_geodataframe: \", filtered_loi_geodataframe.columns)\n",
    "\n",
    "        # Calculate OD matrix\n",
    "        cost_matrix, plant_list = calculate_od_matrix(farm_geodataframe, filtered_loi_geodataframe, COST_PER_KM)\n",
    "        print(\"Cost Matrix: \", cost_matrix)\n",
    "        print(\"Plant List: \", plant_list)\n",
    "\n",
    "        print('end')\n",
    "    # except Exception as error:\n",
    "    #     print(f\"An error occurred: {error}\")"
   ]
  },
  {
   "cell_type": "code",
   "execution_count": 12,
   "metadata": {},
   "outputs": [
    {
     "name": "stdout",
     "output_type": "stream",
     "text": [
      "hello\n",
      "                  hex9                  geometry  \\\n",
      "0      89196ba7197ffff  POINT (4.51083 51.81352)   \n",
      "1      89196ba1167ffff  POINT (4.29334 51.85681)   \n",
      "2      89196b1718fffff  POINT (3.99857 51.99327)   \n",
      "3      891969451bbffff  POINT (4.86372 52.06441)   \n",
      "4      891969615afffff  POINT (4.92491 51.84363)   \n",
      "...                ...                       ...   \n",
      "37137  8919696342bffff  POINT (4.95327 51.89683)   \n",
      "37138  89196979863ffff  POINT (4.75999 51.89009)   \n",
      "37139  89196bb560bffff  POINT (4.48535 51.92583)   \n",
      "37140  89196b06c43ffff  POINT (3.99285 51.83029)   \n",
      "37141  89196949623ffff  POINT (4.44550 52.15387)   \n",
      "\n",
      "                                           closest_osmid  \n",
      "0      [45395854, 45395426, 45395850, 607957903, 4539...  \n",
      "1      [1559586807, 1812916533, 44564333, 1559586808,...  \n",
      "2                                               44468388  \n",
      "3                                               44411090  \n",
      "4      [44357073, 681673208, 44362220, 681673215, 681...  \n",
      "...                                                  ...  \n",
      "37137                           [4247298190, 4247298189]  \n",
      "37138                           [4247298190, 4247298189]  \n",
      "37139                                         1367124956  \n",
      "37140  [44358530, 44357665, 10576229025, 1098314515, ...  \n",
      "37141                  [44597244, 392702937, 4009719396]  \n",
      "\n",
      "[37142 rows x 3 columns]\n",
      "                         id  ABEDRTYPE  AHBEDRTYPE        Bedrijfsty  \\\n",
      "0   LANDBOUW_BAB_BASIS.2909       4500           4  Melkveebedrijven   \n",
      "1   LANDBOUW_BAB_BASIS.2913       4500           4  Melkveebedrijven   \n",
      "2   LANDBOUW_BAB_BASIS.2914       4500           4  Melkveebedrijven   \n",
      "3   LANDBOUW_BAB_BASIS.2917       4500           4  Melkveebedrijven   \n",
      "4   LANDBOUW_BAB_BASIS.2918       4500           4  Melkveebedrijven   \n",
      "5   LANDBOUW_BAB_BASIS.2920       4500           4  Melkveebedrijven   \n",
      "6   LANDBOUW_BAB_BASIS.2921       4500           4  Melkveebedrijven   \n",
      "7   LANDBOUW_BAB_BASIS.2922       4500           4  Melkveebedrijven   \n",
      "8   LANDBOUW_BAB_BASIS.2923       4500           4  Melkveebedrijven   \n",
      "9   LANDBOUW_BAB_BASIS.2925       4500           4  Melkveebedrijven   \n",
      "10  LANDBOUW_BAB_BASIS.2931       4500           4  Melkveebedrijven   \n",
      "11  LANDBOUW_BAB_BASIS.2934       4500           4  Melkveebedrijven   \n",
      "12  LANDBOUW_BAB_BASIS.2936       4500           4  Melkveebedrijven   \n",
      "13  LANDBOUW_BAB_BASIS.2937       4500           4  Melkveebedrijven   \n",
      "14  LANDBOUW_BAB_BASIS.2938       4500           4  Melkveebedrijven   \n",
      "15  LANDBOUW_BAB_BASIS.2939       4500           4  Melkveebedrijven   \n",
      "16  LANDBOUW_BAB_BASIS.2942       4500           4  Melkveebedrijven   \n",
      "17  LANDBOUW_BAB_BASIS.2943       4500           4  Melkveebedrijven   \n",
      "18  LANDBOUW_BAB_BASIS.2945       4500           4  Melkveebedrijven   \n",
      "19  LANDBOUW_BAB_BASIS.2947       4500           4  Melkveebedrijven   \n",
      "20  LANDBOUW_BAB_BASIS.2948       4500           4  Melkveebedrijven   \n",
      "21  LANDBOUW_BAB_BASIS.2949       4500           4  Melkveebedrijven   \n",
      "22  LANDBOUW_BAB_BASIS.2952       4500           4  Melkveebedrijven   \n",
      "23  LANDBOUW_BAB_BASIS.2961       4500           4  Melkveebedrijven   \n",
      "\n",
      "             Hoofbedrij GDB_GEOMAT                  geometry  \\\n",
      "0   Graasdier bedrijven       None  POINT (4.29523 51.92419)   \n",
      "1   Graasdier bedrijven       None  POINT (4.94119 52.17639)   \n",
      "2   Graasdier bedrijven       None  POINT (4.83736 52.00215)   \n",
      "3   Graasdier bedrijven       None  POINT (4.34021 51.60684)   \n",
      "4   Graasdier bedrijven       None  POINT (4.74893 52.00212)   \n",
      "5   Graasdier bedrijven       None  POINT (4.84366 51.87000)   \n",
      "6   Graasdier bedrijven       None  POINT (4.78758 52.00230)   \n",
      "7   Graasdier bedrijven       None  POINT (4.84378 51.96260)   \n",
      "8   Graasdier bedrijven       None  POINT (4.61786 51.45967)   \n",
      "9   Graasdier bedrijven       None  POINT (4.88479 51.96273)   \n",
      "10  Graasdier bedrijven       None  POINT (4.74806 51.89039)   \n",
      "11  Graasdier bedrijven       None  POINT (4.94350 51.92144)   \n",
      "12  Graasdier bedrijven       None  POINT (4.64081 52.16152)   \n",
      "13  Graasdier bedrijven       None  POINT (4.92717 52.05112)   \n",
      "14  Graasdier bedrijven       None  POINT (4.79039 52.19100)   \n",
      "15  Graasdier bedrijven       None  POINT (4.03292 51.79088)   \n",
      "16  Graasdier bedrijven       None  POINT (4.93196 52.03091)   \n",
      "17  Graasdier bedrijven       None  POINT (4.85126 52.13892)   \n",
      "18  Graasdier bedrijven       None  POINT (4.89419 52.05803)   \n",
      "19  Graasdier bedrijven       None  POINT (3.97934 51.82425)   \n",
      "20  Graasdier bedrijven       None  POINT (4.79647 51.96443)   \n",
      "21  Graasdier bedrijven       None  POINT (4.81593 51.89036)   \n",
      "22  Graasdier bedrijven       None  POINT (4.87963 52.19650)   \n",
      "23  Graasdier bedrijven       None  POINT (4.22119 51.83767)   \n",
      "\n",
      "                                        closest_osmid  \n",
      "0                                            44276434  \n",
      "1   [45232325, 594994985, 45232740, 45233503, 1505...  \n",
      "2                              [418944937, 562681432]  \n",
      "3                                           386135345  \n",
      "4                                            43590496  \n",
      "5   [6453427159, 6453427161, 6453427156, 645342716...  \n",
      "6                                            43590496  \n",
      "7                      [44060589, 44059837, 44060569]  \n",
      "8   [11708356813, 11708356804, 11708356807, 117083...  \n",
      "9                      [44060589, 44059837, 44060569]  \n",
      "10                           [4247298190, 4247298189]  \n",
      "11                                         5560185217  \n",
      "12                                         1027231676  \n",
      "13                                           44411090  \n",
      "14  [44091068, 11074221685, 11074221682, 11074221679]  \n",
      "15                                           44056369  \n",
      "16                              [44290956, 275900857]  \n",
      "17  [45232325, 594994985, 45232740, 45233503, 1505...  \n",
      "18                                           44411090  \n",
      "19                                           44170532  \n",
      "20                     [44060589, 44059837, 44060569]  \n",
      "21                           [4247298190, 4247298189]  \n",
      "22  [44091068, 11074221685, 11074221682, 11074221679]  \n",
      "23       [44844826, 1454233487, 44846060, 1616954929]  \n"
     ]
    },
    {
     "name": "stderr",
     "output_type": "stream",
     "text": [
      "/tmp/ipykernel_3253/365847207.py:17: UserWarning: Column names longer than 10 characters will be truncated when saved to ESRI Shapefile.\n",
      "  h3_geodataframe.to_file(h3_filepath)\n",
      "/tmp/ipykernel_3253/365847207.py:18: UserWarning: Column names longer than 10 characters will be truncated when saved to ESRI Shapefile.\n",
      "  farm_data.to_file(farm_filepath)\n"
     ]
    },
    {
     "name": "stdout",
     "output_type": "stream",
     "text": [
      "1\n",
      "2\n",
      "3\n",
      "Columns in farm_geodataframe:  Index(['id', 'ABEDRTYPE', 'AHBEDRTYPE', 'Bedrijfsty', 'Hoofbedrij',\n",
      "       'GDB_GEOMAT', 'closest_os', 'geometry'],\n",
      "      dtype='object')\n",
      "Columns in filtered_loi_geodataframe:  Index(['hex9', 'closest_os', 'y', 'x', 'geometry'], dtype='object')\n",
      "Cost Matrix:  {}\n",
      "Plant List:  [13197, 14835, 20751, 21407, 28351, 29382, 32125]\n",
      "end\n"
     ]
    }
   ],
   "source": [
    "# try:\n",
    "if __name__ == \"__main__\":\n",
    "    main()\n",
    "# except Exception as error:\n",
    "#     print(f\"An error occurred: {error}\")"
   ]
  }
 ],
 "metadata": {
  "interpreter": {
   "hash": "69f23fca6bff8680230af95806e5e6f087823f289b010869f54c5903d2cd69a9"
  },
  "kernelspec": {
   "display_name": "Python 3.10.2 ('geo_env')",
   "language": "python",
   "name": "python3"
  },
  "language_info": {
   "codemirror_mode": {
    "name": "ipython",
    "version": 3
   },
   "file_extension": ".py",
   "mimetype": "text/x-python",
   "name": "python",
   "nbconvert_exporter": "python",
   "pygments_lexer": "ipython3",
   "version": "3.11.9"
  },
  "orig_nbformat": 4
 },
 "nbformat": 4,
 "nbformat_minor": 2
}
