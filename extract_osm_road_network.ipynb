{
 "cells": [
  {
   "cell_type": "markdown",
   "metadata": {},
   "source": [
    "The main() function orchestrates the execution of these steps. **---** It loads and transforms the data, creates a graph from a polygon, consolidates intersections, saves the graph to a file, converts the graph to GeoDataFrames, saves nodes and edges to files, loads farm data, loads H3 GeoDataFrame, finds the closest OSM ID for each point in the GeoDataFrames, loads farm GeoDataFrame, loads loi data, loads H3 GeoDataFrame, filters H3 GeoDataFrame, and finally calculates the OD matrix. **---** The script is designed to be run as a **standalone program.**"
   ]
  },
  {
   "cell_type": "code",
   "execution_count": 1,
   "metadata": {},
   "outputs": [],
   "source": [
    "# Import necessary libraries\n",
    "from utils.cflp_function import *\n",
    "from utils.calculate_od import *\n",
    "import networkx as nx\n",
    "import osmnx as ox\n",
    "import geopandas as gpd\n",
    "import pandas as pd\n",
    "import matplotlib.pyplot as plt\n",
    "from shapely.geometry import Polygon, Point\n",
    "from shapely.ops import nearest_points"
   ]
  },
  {
   "cell_type": "code",
   "execution_count": 2,
   "metadata": {},
   "outputs": [],
   "source": [
    "# Define constants\n",
    "SHAPEFILE_PATH = \"shapefiles/zh_poly.shp\"\n",
    "CUSTOM_FILTER = '[\"highway\"][\"area\"!~\"yes\"][\"access\"!~\"private\"][\"highway\"~\"motorway|motorway_link|trunk|trunk_link|primary|primary_link|secondary|secondary_link|tertiary|tertiary_link|road\"]'\n",
    "H3_GDF_FILEPATH = 'app_data/h3_pzh_polygons.shp'\n",
    "TO_CRS = \"EPSG:4326\"\n",
    "\n",
    "GRAPHML_FILEPATH = \"osm_network/G.graphml\"\n",
    "NODES_FILEPATH = \"osm_network/G_n.shp\"\n",
    "EDGES_FILEPATH = \"osm_network/G_e.shp\"\n",
    "\n",
    "# FARM_FILEPATH = 'farm/farm_new.shp'\n",
    "FARM_FILEPATH = 'farm/farm_pzh_new.shp'\n",
    "\n",
    "APP_DATA_H3_GEOMETRY_FILEPATH = \"./app_data/h3_geometry.shp\"\n",
    "APP_DATA_FARM_FILEPATH = \"./app_data/farm.shp\"\n",
    "LOI_FILEPATH = './hex/loi.csv'\n",
    "APP_DATA_H3_GEOMETRY_FILEPATH = './app_data/h3_geometry.shp'\n",
    "COST_PER_KM = 0.69"
   ]
  },
  {
   "cell_type": "markdown",
   "metadata": {},
   "source": [
    "This function loads geospatial data from a file and transforms the Coordinate Reference System (CRS) to the specified CRS."
   ]
  },
  {
   "cell_type": "code",
   "execution_count": 3,
   "metadata": {},
   "outputs": [],
   "source": [
    "def load_and_transform_data(file_path):\n",
    "    # Load data\n",
    "    data = gpd.read_file(file_path)\n",
    "    # Transform CRS\n",
    "    data = data.to_crs(TO_CRS)\n",
    "    return data"
   ]
  },
  {
   "cell_type": "markdown",
   "metadata": {},
   "source": [
    "This function creates a graph from a polygon, which represents the study area. The graph is created based on a specified network type and custom filter, and is then projected to the specified CRS."
   ]
  },
  {
   "cell_type": "code",
   "execution_count": 4,
   "metadata": {},
   "outputs": [],
   "source": [
    "def create_graph_from_polygon(polygon, network_type, custom_filter):\n",
    "    # Create graph from polygon\n",
    "    G_base = ox.graph_from_polygon(polygon, network_type=network_type, custom_filter=custom_filter)\n",
    "    G_base = ox.project_graph(G_base, to_crs=\"EPSG:3857\")\n",
    "    return G_base"
   ]
  },
  {
   "cell_type": "markdown",
   "metadata": {},
   "source": [
    " This function simplifies the topology of the graph by consolidating intersections within a specified tolerance."
   ]
  },
  {
   "cell_type": "code",
   "execution_count": 5,
   "metadata": {},
   "outputs": [],
   "source": [
    "def consolidate_intersections(G_base, tolerance, rebuild_graph, dead_ends):\n",
    "    # Consolidate intersection to further simplify the topography of the graph\n",
    "    G = ox.consolidate_intersections(G_base, tolerance=tolerance, rebuild_graph=rebuild_graph, dead_ends=dead_ends)\n",
    "    return G"
   ]
  },
  {
   "cell_type": "markdown",
   "metadata": {},
   "source": [
    "This function saves the graph to a file."
   ]
  },
  {
   "cell_type": "code",
   "execution_count": 6,
   "metadata": {},
   "outputs": [],
   "source": [
    "def save_graph_to_file(G, filepath):\n",
    "    # Save graph to file\n",
    "    ox.save_graphml(G, filepath=filepath)"
   ]
  },
  {
   "cell_type": "markdown",
   "metadata": {},
   "source": [
    "This function converts lists to strings in the ‘highway’ column of the edges GeoDataFrame."
   ]
  },
  {
   "cell_type": "code",
   "execution_count": 7,
   "metadata": {},
   "outputs": [],
   "source": [
    "def convert_lists_to_strings(e):\n",
    "    # Convert lists to strings\n",
    "    e['highway'] = e['highway'].apply(lambda x: ', '.join(x) if isinstance(x, list) else x)"
   ]
  },
  {
   "cell_type": "markdown",
   "metadata": {},
   "source": [
    "The main() function orchestrates the execution of these steps. It loads and transforms the data, creates a graph from a polygon, consolidates intersections, saves the graph to a file, converts the graph to GeoDataFrames, saves nodes and edges to files, loads farm data, loads H3 GeoDataFrame, finds the closest OSM ID for each point in the GeoDataFrames, loads farm GeoDataFrame, loads loi data, loads H3 GeoDataFrame, filters H3 GeoDataFrame, and finally calculates the OD matrix."
   ]
  },
  {
   "cell_type": "code",
   "execution_count": 8,
   "metadata": {},
   "outputs": [
    {
     "ename": "",
     "evalue": "",
     "output_type": "error",
     "traceback": [
      "\u001b[1;31mThe Kernel crashed while executing code in the current cell or a previous cell. \n",
      "\u001b[1;31mPlease review the code in the cell(s) to identify a possible cause of the failure. \n",
      "\u001b[1;31mClick <a href='https://aka.ms/vscodeJupyterKernelCrash'>here</a> for more info. \n",
      "\u001b[1;31mView Jupyter <a href='command:jupyter.viewOutput'>log</a> for further details."
     ]
    }
   ],
   "source": [
    "def main():\n",
    "    try:\n",
    "        # Load and transform data\n",
    "        polygon_data = load_and_transform_data(SHAPEFILE_PATH)\n",
    "        study_area_polygon = polygon_data['geometry'].squeeze()\n",
    "        \n",
    "        # Create and process graph from polygon\n",
    "        base_graph = create_graph_from_polygon(study_area_polygon, 'drive', CUSTOM_FILTER)\n",
    "        processed_graph = consolidate_intersections(base_graph, 200, True, False)\n",
    "\n",
    "        ##\n",
    "        fig, ax = ox.plot_graph(G_base, node_size=2, node_color='tab:blue', edge_linewidth=1, edge_color= 'darkgray', figsize=(8,8), bgcolor='white')\n",
    "        # fig.savefig('./notebook_figures/G.eps',format='eps', dpi=1000,bbox_inches=\"tight\")\n",
    "        fig.savefig(\"./G_base.png\", format = 'png', dpi= 1000, bbox_inches=\"tight\")\n",
    "        ##\n",
    "\n",
    "        ###\n",
    "        # fig, ax = ox.plot_graph(G, node_size=2, node_color='tab:blue', edge_linewidth=1, edge_color= 'darkgray', figsize=(8,8), bgcolor='white')\n",
    "        # # fig.savefig('./notebook_figures/G.eps',format='eps', dpi=1000, bbox_inches=\"tight\")\n",
    "        # fig.savefig(\"./G.png\", format = 'png', dpi= 1000, bbox_inches=\"tight\") #transparent=True\n",
    "        ###\n",
    "        \n",
    "\n",
    "        # Save graph to file and convert to GeoDataFrames\n",
    "        save_graph_to_file(processed_graph, GRAPHML_FILEPATH)\n",
    "        nodes_geodataframe, edges_geodataframe = convert_graph_to_geodataframes(processed_graph)\n",
    "        \n",
    "        # Save nodes and edges to files\n",
    "        save_nodes_and_edges_to_files(nodes_geodataframe, edges_geodataframe, NODES_FILEPATH, EDGES_FILEPATH)\n",
    "        \n",
    "        \n",
    "        # ###\n",
    "        # t = gpd.read_file(SHAPEFILE_PATH)\n",
    "        # n.head()\n",
    "        # t.head()\n",
    "\n",
    "        # fig, ax = plt.subplots(figsize=(10,12))\n",
    "        # pzh.plot(ax=ax, color='gold', zorder=1)\n",
    "        # t.plot(ax=ax, edgecolor='red', color=\"none\", zorder=2)\n",
    "        # e.plot(ax=ax, color='darkgray', linewidth=1, zorder=3)\n",
    "        # n.plot(ax=ax, color='tab:blue',  markersize=1, zorder=4)\n",
    "\n",
    "        # ax.set_axis_off()\n",
    "        # plt.show()\n",
    "        # fig.savefig(\"Diagram/osm_network.png\", format='png', dpi=1000, bbox_inches=\"tight\") #transparent=True\n",
    "        # fig.savefig(\"Diagram/osm_network.eps\", format='eps', dpi=1000, bbox_inches=\"tight\")\n",
    "        # ###\n",
    "\n",
    "\n",
    "        # Load farm data and H3 GeoDataFrame\n",
    "        farm_data = load_and_transform_data(FARM_FILEPATH)\n",
    "        h3_geodataframe = load_and_transform_data(H3_GDF_FILEPATH)\n",
    "        \n",
    "        # Find the closest OSM ID for each point in the GeoDataFrames\n",
    "        find_closest_osmid(h3_geodataframe, nodes_geodataframe) \n",
    "        find_closest_osmid(farm_data, nodes_geodataframe) \n",
    "        \n",
    "        # Save transformed data\n",
    "        save_transformed_data(h3_geodataframe, farm_data, APP_DATA_H3_GEOMETRY_FILEPATH, APP_DATA_FARM_FILEPATH)\n",
    "        \n",
    "        # Load farm GeoDataFrame and loi data\n",
    "        farm_geodataframe = gpd.read_file(APP_DATA_FARM_FILEPATH)\n",
    "        loi_data = gpd.read_file(LOI_FILEPATH)\n",
    "        \n",
    "        # Load H3 GeoDataFrame and filter it\n",
    "        h3_geodataframe = gpd.read_file(APP_DATA_H3_GEOMETRY_FILEPATH)\n",
    "        filtered_loi_geodataframe = filter_h3_geodataframe(h3_geodataframe, loi_data)\n",
    "        \n",
    "        # Calculate OD matrix\n",
    "        cost_matrix, plant_list = calculate_od_matrix(farm_geodataframe, filtered_loi_geodataframe, COST_PER_KM)\n",
    "    except Exception as error:\n",
    "        print(f\"An error occurred: {error}\")"
   ]
  },
  {
   "cell_type": "code",
   "execution_count": 9,
   "metadata": {},
   "outputs": [],
   "source": [
    "try:\n",
    "    if __name__ == \"__main__\":\n",
    "        main()\n",
    "except Exception as error:\n",
    "    print(f\"An error occurred: {error}\")"
   ]
  }
 ],
 "metadata": {
  "interpreter": {
   "hash": "69f23fca6bff8680230af95806e5e6f087823f289b010869f54c5903d2cd69a9"
  },
  "kernelspec": {
   "display_name": "Python 3.10.2 ('geo_env')",
   "language": "python",
   "name": "python3"
  },
  "language_info": {
   "codemirror_mode": {
    "name": "ipython",
    "version": 3
   },
   "file_extension": ".py",
   "mimetype": "text/x-python",
   "name": "python",
   "nbconvert_exporter": "python",
   "pygments_lexer": "ipython3",
   "version": "3.11.9"
  },
  "orig_nbformat": 4
 },
 "nbformat": 4,
 "nbformat_minor": 2
}
