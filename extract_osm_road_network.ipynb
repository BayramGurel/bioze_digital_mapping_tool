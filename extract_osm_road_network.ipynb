{
 "cells": [
  {
   "cell_type": "markdown",
   "metadata": {},
   "source": [
    "The main() function orchestrates the execution of these steps. **---** It loads and transforms the data, creates a graph from a polygon, consolidates intersections, saves the graph to a file, converts the graph to GeoDataFrames, saves nodes and edges to files, loads farm data, loads H3 GeoDataFrame, finds the closest OSM ID for each point in the GeoDataFrames, loads farm GeoDataFrame, loads loi data, loads H3 GeoDataFrame, filters H3 GeoDataFrame, and finally calculates the OD matrix. **---** The script is designed to be run as a **standalone program.**"
   ]
  },
  {
   "cell_type": "code",
   "execution_count": 35,
   "metadata": {},
   "outputs": [],
   "source": [
    "# Import necessary libraries\n",
    "from utils.cflp_function import *\n",
    "from utils.calculate_od import *\n",
    "import networkx as nx\n",
    "import osmnx as ox\n",
    "import geopandas as gpd\n",
    "import pandas as pd\n",
    "import matplotlib.pyplot as plt\n",
    "from shapely.geometry import Polygon, Point\n",
    "from shapely.ops import nearest_points"
   ]
  },
  {
   "cell_type": "code",
   "execution_count": 36,
   "metadata": {},
   "outputs": [],
   "source": [
    "# Define constants\n",
    "SHAPEFILE_PATH = \"shapefiles/zh_poly.shp\"\n",
    "CUSTOM_FILTER = '[\"highway\"][\"area\"!~\"yes\"][\"access\"!~\"private\"][\"highway\"~\"motorway|motorway_link|trunk|trunk_link|primary|primary_link|secondary|secondary_link|tertiary|tertiary_link|road\"]'\n",
    "H3_GDF_FILEPATH = 'app_data/h3_pzh_polygons.shp'\n",
    "TO_CRS = \"EPSG:4326\"\n",
    "\n",
    "GRAPHML_FILEPATH = \"osm_network/G.graphml\"\n",
    "NODES_FILEPATH = \"osm_network/G_n.shp\"\n",
    "EDGES_FILEPATH = \"osm_network/G_e.shp\"\n",
    "\n",
    "FARM_FILEPATH = 'farm/pzh_farms.shp'\n",
    "\n",
    "APP_DATA_H3_GEOMETRY_FILEPATH = \"./app_data/h3_geometry.shp\"\n",
    "APP_DATA_FARM_FILEPATH = \"./app_data/farm.shp\"\n",
    "\n",
    "LOI_FILEPATH = './hex/loi.csv'\n",
    "COST_PER_KM = 0.69"
   ]
  },
  {
   "cell_type": "markdown",
   "metadata": {},
   "source": [
    "This function loads geospatial data from a file and transforms the Coordinate Reference System (CRS) to the specified CRS."
   ]
  },
  {
   "cell_type": "code",
   "execution_count": 37,
   "metadata": {},
   "outputs": [],
   "source": [
    "# Function to load and transform geospatial data\n",
    "def load_and_transform_data(file_path, to_crs=TO_CRS):\n",
    "    # Load data from file\n",
    "    data = gpd.read_file(file_path)\n",
    "    # Transform Coordinate Reference System (CRS)\n",
    "    data = data.to_crs(to_crs)\n",
    "    return data"
   ]
  },
  {
   "cell_type": "markdown",
   "metadata": {},
   "source": [
    "This function creates a graph from a polygon, which represents the study area. The graph is created based on a specified network type and custom filter, and is then projected to the specified CRS."
   ]
  },
  {
   "cell_type": "code",
   "execution_count": 38,
   "metadata": {},
   "outputs": [],
   "source": [
    "# Function to create a graph from a polygon\n",
    "def create_graph_from_polygon(polygon, network_type, custom_filter):\n",
    "    # Create base graph from polygon\n",
    "    G_base = ox.graph_from_polygon(polygon, network_type=network_type, custom_filter=custom_filter)\n",
    "    # Project the graph to a specified CRS\n",
    "    G_base = ox.project_graph(G_base, to_crs=\"EPSG:3857\")\n",
    "    return G_base"
   ]
  },
  {
   "cell_type": "markdown",
   "metadata": {},
   "source": [
    " This function simplifies the topology of the graph by consolidating intersections within a specified tolerance."
   ]
  },
  {
   "cell_type": "code",
   "execution_count": 39,
   "metadata": {},
   "outputs": [],
   "source": [
    "# Function to consolidate intersections in the graph\n",
    "def consolidate_intersections(G_base, tolerance=200, rebuild_graph=True, dead_ends=False):\n",
    "    # Consolidate intersections and simplify the graph\n",
    "    G = ox.consolidate_intersections(G_base, tolerance=tolerance, rebuild_graph=rebuild_graph, dead_ends=dead_ends)\n",
    "    return G"
   ]
  },
  {
   "cell_type": "markdown",
   "metadata": {},
   "source": [
    "This function saves the graph to a file."
   ]
  },
  {
   "cell_type": "code",
   "execution_count": 40,
   "metadata": {},
   "outputs": [],
   "source": [
    "# Function to save the graph to a file\n",
    "def save_graph_to_file(G, filepath):\n",
    "    ox.save_graphml(G, filepath=filepath)"
   ]
  },
  {
   "cell_type": "markdown",
   "metadata": {},
   "source": [
    "This function converts lists to strings in the ‘highway’ column of the edges GeoDataFrame."
   ]
  },
  {
   "cell_type": "code",
   "execution_count": 41,
   "metadata": {},
   "outputs": [],
   "source": [
    "# Function to convert lists to strings in the 'highway' column of the edges GeoDataFrame\n",
    "def convert_lists_to_strings(e):\n",
    "    e['highway'] = e['highway'].apply(lambda x: ', '.join(x) if isinstance(x, list) else x)"
   ]
  },
  {
   "cell_type": "code",
   "execution_count": 42,
   "metadata": {},
   "outputs": [],
   "source": [
    "# Function to save nodes and edges GeoDataFrames to files\n",
    "def save_nodes_and_edges_to_files(nodes_gdf, edges_gdf, nodes_filepath, edges_filepath):\n",
    "    nodes_gdf[[\"geometry\", \"y\", \"x\", \"lon\", \"lat\", \"highway\"]].to_file(nodes_filepath)\n",
    "    edges_gdf[[\"geometry\",\"highway\"]].to_file(edges_filepath)"
   ]
  },
  {
   "cell_type": "code",
   "execution_count": 43,
   "metadata": {},
   "outputs": [],
   "source": [
    "def ensure_point_geometry(gdf):\n",
    "    gdf['geometry'] = gdf['geometry'].apply(lambda geom: geom.centroid if geom.geom_type != 'Point' else geom)\n",
    "    return gdf"
   ]
  },
  {
   "cell_type": "code",
   "execution_count": 44,
   "metadata": {},
   "outputs": [],
   "source": [
    "def save_transformed_data(h3_geodataframe, farm_data, nodes_geodataframe, h3_filepath, farm_filepath):\n",
    "    # Ensure the geometry is of Point type\n",
    "    h3_geodataframe = ensure_point_geometry(h3_geodataframe)\n",
    "    farm_data = ensure_point_geometry(farm_data)\n",
    "\n",
    "    # Find the closest OSM ID for each point in the GeoDataFrames\n",
    "    find_closest_osmid(h3_geodataframe, nodes_geodataframe)\n",
    "    find_closest_osmid(farm_data, nodes_geodataframe)\n",
    "\n",
    "    # Transform CRS and calculate centroids\n",
    "    h3_geodataframe = h3_geodataframe.to_crs(\"EPSG:28992\")\n",
    "    h3_geodataframe['geometry'] = h3_geodataframe['geometry'].centroid\n",
    "    h3_geodataframe['y'] = h3_geodataframe['geometry'].y\n",
    "    h3_geodataframe['x'] = h3_geodataframe['geometry'].x\n",
    "\n",
    "    # Save GeoDataFrames to files\n",
    "    h3_geodataframe.to_file(h3_filepath)\n",
    "    farm_data.to_file(farm_filepath)"
   ]
  },
  {
   "cell_type": "markdown",
   "metadata": {},
   "source": [
    "The main() function orchestrates the execution of these steps. It loads and transforms the data, creates a graph from a polygon, consolidates intersections, saves the graph to a file, converts the graph to GeoDataFrames, saves nodes and edges to files, loads farm data, loads H3 GeoDataFrame, finds the closest OSM ID for each point in the GeoDataFrames, loads farm GeoDataFrame, loads loi data, loads H3 GeoDataFrame, filters H3 GeoDataFrame, and finally calculates the OD matrix."
   ]
  },
  {
   "cell_type": "code",
   "execution_count": 45,
   "metadata": {},
   "outputs": [],
   "source": [
    "def main():\n",
    "    # try:\n",
    "        # Load and transform data\n",
    "        polygon_data = load_and_transform_data(SHAPEFILE_PATH)\n",
    "        study_area_polygon = polygon_data['geometry'].squeeze()\n",
    "        # Create and process graph from polygon\n",
    "        base_graph = create_graph_from_polygon(study_area_polygon, 'drive', CUSTOM_FILTER)\n",
    "        processed_graph = consolidate_intersections(base_graph)\n",
    "\n",
    "        # ##\n",
    "        # fig, ax = ox.plot_graph(base_graph, node_size=2, node_color='tab:blue', edge_linewidth=1, edge_color= 'darkgray', figsize=(8,8), bgcolor='white')\n",
    "        # # fig.savefig('./notebook_figures/G.eps',format='eps', dpi=1000,bbox_inches=\"tight\")\n",
    "        # fig.savefig(\"./base_graph.png\", format = 'png', dpi= 1000, bbox_inches=\"tight\")\n",
    "        # ##\n",
    "\n",
    "        ###\n",
    "        # fig, ax = ox.plot_graph(processed_graph, node_size=2, node_color='tab:blue', edge_linewidth=1, edge_color= 'darkgray', figsize=(8,8), bgcolor='white')\n",
    "        # # fig.savefig('./notebook_figures/processed_graph.eps',format='eps', dpi=1000, bbox_inches=\"tight\")\n",
    "        # fig.savefig(\"./processed_graph.png\", format = 'png', dpi= 1000, bbox_inches=\"tight\") #transparent=True\n",
    "        ###\n",
    "        \n",
    "\n",
    "# Save graph to file and convert to GeoDataFrames\n",
    "        save_graph_to_file(processed_graph, GRAPHML_FILEPATH)\n",
    "        nodes_geodataframe, edges_geodataframe = ox.graph_to_gdfs(processed_graph)\n",
    "        \n",
    "        # Convert lists to strings in the 'highway' column of the edges GeoDataFrame\n",
    "        convert_lists_to_strings(edges_geodataframe)\n",
    "\n",
    "        # Save nodes and edges to files\n",
    "        save_nodes_and_edges_to_files(nodes_geodataframe, edges_geodataframe, NODES_FILEPATH, EDGES_FILEPATH)\n",
    " \n",
    "        \n",
    "        # ###\n",
    "        # t = gpd.read_file(SHAPEFILE_PATH)\n",
    "        # n.head()\n",
    "        # t.head()\n",
    "\n",
    "        # fig, ax = plt.subplots(figsize=(10,12))\n",
    "        # pzh.plot(ax=ax, color='gold', zorder=1)\n",
    "        # t.plot(ax=ax, edgecolor='red', color=\"none\", zorder=2)\n",
    "        # e.plot(ax=ax, color='darkgray', linewidth=1, zorder=3)\n",
    "        # n.plot(ax=ax, color='tab:blue',  markersize=1, zorder=4)\n",
    "\n",
    "        # ax.set_axis_off()\n",
    "        # plt.show()\n",
    "        # fig.savefig(\"Diagram/osm_network.png\", format='png', dpi=1000, bbox_inches=\"tight\") #transparent=True\n",
    "        # fig.savefig(\"Diagram/osm_network.eps\", format='eps', dpi=1000, bbox_inches=\"tight\")\n",
    "        # ###\n",
    "\n",
    "\n",
    "        # Load farm data and H3 GeoDataFrame\n",
    "        farm_data = load_and_transform_data(FARM_FILEPATH)\n",
    "        h3_geodataframe = load_and_transform_data(H3_GDF_FILEPATH)\n",
    "        print('hello')\n",
    "\n",
    "        # Save transformed data\n",
    "        save_transformed_data(h3_geodataframe, farm_data, nodes_geodataframe, APP_DATA_H3_GEOMETRY_FILEPATH, APP_DATA_FARM_FILEPATH)\n",
    "        print('1')\n",
    "\n",
    "        # Load farm GeoDataFrame and loi data\n",
    "        farm_geodataframe = gpd.read_file(APP_DATA_FARM_FILEPATH)\n",
    "        loi_data = gpd.read_file(LOI_FILEPATH)\n",
    "        print('2')\n",
    "\n",
    "        # Load H3 GeoDataFrame and filter it\n",
    "        h3_geodataframe = gpd.read_file(APP_DATA_H3_GEOMETRY_FILEPATH)\n",
    "        filtered_loi_geodataframe = h3_geodataframe[h3_geodataframe['hex9'].isin(loi_data.hex9)]\n",
    "        print('3')\n",
    "        \n",
    "        print(\"Columns in farm_geodataframe: \", farm_geodataframe.columns)\n",
    "        print(\"Columns in filtered_loi_geodataframe: \", filtered_loi_geodataframe.columns)\n",
    "\n",
    "        # Calculate OD matrix\n",
    "        cost_matrix, plant_list = calculate_od_matrix(farm_geodataframe, filtered_loi_geodataframe, COST_PER_KM)\n",
    "    # except Exception as error:\n",
    "    #     print(f\"An error occurred: {error}\")"
   ]
  },
  {
   "cell_type": "code",
   "execution_count": 46,
   "metadata": {},
   "outputs": [
    {
     "name": "stdout",
     "output_type": "stream",
     "text": [
      "hello\n",
      "                  hex9                  geometry  \\\n",
      "0      89196ba7197ffff  POINT (4.51083 51.81352)   \n",
      "1      89196ba1167ffff  POINT (4.29334 51.85681)   \n",
      "2      89196b1718fffff  POINT (3.99857 51.99327)   \n",
      "3      891969451bbffff  POINT (4.86372 52.06441)   \n",
      "4      891969615afffff  POINT (4.92491 51.84363)   \n",
      "...                ...                       ...   \n",
      "37137  8919696342bffff  POINT (4.95327 51.89683)   \n",
      "37138  89196979863ffff  POINT (4.75999 51.89009)   \n",
      "37139  89196bb560bffff  POINT (4.48535 51.92583)   \n",
      "37140  89196b06c43ffff  POINT (3.99285 51.83029)   \n",
      "37141  89196949623ffff  POINT (4.44550 52.15387)   \n",
      "\n",
      "                                           closest_osmid  \n",
      "0      [45395854, 45395426, 45395850, 607957903, 4539...  \n",
      "1      [1559586807, 1812916533, 44564333, 1559586808,...  \n",
      "2                                               44468388  \n",
      "3                                               44411090  \n",
      "4      [44357073, 681673208, 44362220, 681673215, 681...  \n",
      "...                                                  ...  \n",
      "37137                           [4247298190, 4247298189]  \n",
      "37138                           [4247298190, 4247298189]  \n",
      "37139                                         1367124956  \n",
      "37140  [44358530, 44357665, 10576229025, 1098314515, ...  \n",
      "37141                  [44597244, 392702937, 4009719396]  \n",
      "\n",
      "[37142 rows x 3 columns]\n",
      "                         id  ABEDRTYPE  AHBEDRTYPE        Bedrijfsty  \\\n",
      "0   LANDBOUW_BAB_BASIS.2909       4500           4  Melkveebedrijven   \n",
      "1   LANDBOUW_BAB_BASIS.2913       4500           4  Melkveebedrijven   \n",
      "2   LANDBOUW_BAB_BASIS.2914       4500           4  Melkveebedrijven   \n",
      "3   LANDBOUW_BAB_BASIS.2917       4500           4  Melkveebedrijven   \n",
      "4   LANDBOUW_BAB_BASIS.2918       4500           4  Melkveebedrijven   \n",
      "5   LANDBOUW_BAB_BASIS.2920       4500           4  Melkveebedrijven   \n",
      "6   LANDBOUW_BAB_BASIS.2921       4500           4  Melkveebedrijven   \n",
      "7   LANDBOUW_BAB_BASIS.2922       4500           4  Melkveebedrijven   \n",
      "8   LANDBOUW_BAB_BASIS.2923       4500           4  Melkveebedrijven   \n",
      "9   LANDBOUW_BAB_BASIS.2925       4500           4  Melkveebedrijven   \n",
      "10  LANDBOUW_BAB_BASIS.2931       4500           4  Melkveebedrijven   \n",
      "11  LANDBOUW_BAB_BASIS.2934       4500           4  Melkveebedrijven   \n",
      "12  LANDBOUW_BAB_BASIS.2936       4500           4  Melkveebedrijven   \n",
      "13  LANDBOUW_BAB_BASIS.2937       4500           4  Melkveebedrijven   \n",
      "14  LANDBOUW_BAB_BASIS.2938       4500           4  Melkveebedrijven   \n",
      "15  LANDBOUW_BAB_BASIS.2939       4500           4  Melkveebedrijven   \n",
      "16  LANDBOUW_BAB_BASIS.2942       4500           4  Melkveebedrijven   \n",
      "17  LANDBOUW_BAB_BASIS.2943       4500           4  Melkveebedrijven   \n",
      "18  LANDBOUW_BAB_BASIS.2945       4500           4  Melkveebedrijven   \n",
      "19  LANDBOUW_BAB_BASIS.2947       4500           4  Melkveebedrijven   \n",
      "20  LANDBOUW_BAB_BASIS.2948       4500           4  Melkveebedrijven   \n",
      "21  LANDBOUW_BAB_BASIS.2949       4500           4  Melkveebedrijven   \n",
      "22  LANDBOUW_BAB_BASIS.2952       4500           4  Melkveebedrijven   \n",
      "23  LANDBOUW_BAB_BASIS.2961       4500           4  Melkveebedrijven   \n",
      "\n",
      "             Hoofbedrij GDB_GEOMAT                  geometry  \\\n",
      "0   Graasdier bedrijven       None  POINT (4.29523 51.92419)   \n",
      "1   Graasdier bedrijven       None  POINT (4.94119 52.17639)   \n",
      "2   Graasdier bedrijven       None  POINT (4.83736 52.00215)   \n",
      "3   Graasdier bedrijven       None  POINT (4.34021 51.60684)   \n",
      "4   Graasdier bedrijven       None  POINT (4.74893 52.00212)   \n",
      "5   Graasdier bedrijven       None  POINT (4.84366 51.87000)   \n",
      "6   Graasdier bedrijven       None  POINT (4.78758 52.00230)   \n",
      "7   Graasdier bedrijven       None  POINT (4.84378 51.96260)   \n",
      "8   Graasdier bedrijven       None  POINT (4.61786 51.45967)   \n",
      "9   Graasdier bedrijven       None  POINT (4.88479 51.96273)   \n",
      "10  Graasdier bedrijven       None  POINT (4.74806 51.89039)   \n",
      "11  Graasdier bedrijven       None  POINT (4.94350 51.92144)   \n",
      "12  Graasdier bedrijven       None  POINT (4.64081 52.16152)   \n",
      "13  Graasdier bedrijven       None  POINT (4.92717 52.05112)   \n",
      "14  Graasdier bedrijven       None  POINT (4.79039 52.19100)   \n",
      "15  Graasdier bedrijven       None  POINT (4.03292 51.79088)   \n",
      "16  Graasdier bedrijven       None  POINT (4.93196 52.03091)   \n",
      "17  Graasdier bedrijven       None  POINT (4.85126 52.13892)   \n",
      "18  Graasdier bedrijven       None  POINT (4.89419 52.05803)   \n",
      "19  Graasdier bedrijven       None  POINT (3.97934 51.82425)   \n",
      "20  Graasdier bedrijven       None  POINT (4.79647 51.96443)   \n",
      "21  Graasdier bedrijven       None  POINT (4.81593 51.89036)   \n",
      "22  Graasdier bedrijven       None  POINT (4.87963 52.19650)   \n",
      "23  Graasdier bedrijven       None  POINT (4.22119 51.83767)   \n",
      "\n",
      "                                        closest_osmid  \n",
      "0                                            44276434  \n",
      "1   [45232325, 594994985, 45232740, 45233503, 1505...  \n",
      "2                              [418944937, 562681432]  \n",
      "3                                           386135345  \n",
      "4                                            43590496  \n",
      "5   [6453427159, 6453427161, 6453427156, 645342716...  \n",
      "6                                            43590496  \n",
      "7                      [44060589, 44059837, 44060569]  \n",
      "8   [11708356813, 11708356804, 11708356807, 117083...  \n",
      "9                      [44060589, 44059837, 44060569]  \n",
      "10                           [4247298190, 4247298189]  \n",
      "11                                         5560185217  \n",
      "12                                         1027231676  \n",
      "13                                           44411090  \n",
      "14  [44091068, 11074221685, 11074221682, 11074221679]  \n",
      "15                                           44056369  \n",
      "16                              [44290956, 275900857]  \n",
      "17  [45232325, 594994985, 45232740, 45233503, 1505...  \n",
      "18                                           44411090  \n",
      "19                                           44170532  \n",
      "20                     [44060589, 44059837, 44060569]  \n",
      "21                           [4247298190, 4247298189]  \n",
      "22  [44091068, 11074221685, 11074221682, 11074221679]  \n",
      "23       [44844826, 1454233487, 44846060, 1616954929]  \n"
     ]
    },
    {
     "name": "stderr",
     "output_type": "stream",
     "text": [
      "/tmp/ipykernel_1967/365847207.py:17: UserWarning: Column names longer than 10 characters will be truncated when saved to ESRI Shapefile.\n",
      "  h3_geodataframe.to_file(h3_filepath)\n",
      "/tmp/ipykernel_1967/365847207.py:18: UserWarning: Column names longer than 10 characters will be truncated when saved to ESRI Shapefile.\n",
      "  farm_data.to_file(farm_filepath)\n"
     ]
    },
    {
     "name": "stdout",
     "output_type": "stream",
     "text": [
      "1\n",
      "2\n",
      "3\n",
      "Columns in farm_geodataframe:  Index(['id', 'ABEDRTYPE', 'AHBEDRTYPE', 'Bedrijfsty', 'Hoofbedrij',\n",
      "       'GDB_GEOMAT', 'closest_os', 'geometry'],\n",
      "      dtype='object')\n",
      "Columns in filtered_loi_geodataframe:  Index(['hex9', 'closest_os', 'y', 'x', 'geometry'], dtype='object')\n"
     ]
    },
    {
     "ename": "NodeNotFound",
     "evalue": "Node 44276434 not found in graph",
     "output_type": "error",
     "traceback": [
      "\u001b[0;31m---------------------------------------------------------------------------\u001b[0m",
      "\u001b[0;31mNodeNotFound\u001b[0m                              Traceback (most recent call last)",
      "Cell \u001b[0;32mIn[46], line 3\u001b[0m\n\u001b[1;32m      1\u001b[0m \u001b[38;5;66;03m# try:\u001b[39;00m\n\u001b[1;32m      2\u001b[0m \u001b[38;5;28;01mif\u001b[39;00m \u001b[38;5;18m__name__\u001b[39m \u001b[38;5;241m==\u001b[39m \u001b[38;5;124m\"\u001b[39m\u001b[38;5;124m__main__\u001b[39m\u001b[38;5;124m\"\u001b[39m:\n\u001b[0;32m----> 3\u001b[0m     \u001b[43mmain\u001b[49m\u001b[43m(\u001b[49m\u001b[43m)\u001b[49m\n\u001b[1;32m      4\u001b[0m \u001b[38;5;66;03m# except Exception as error:\u001b[39;00m\n\u001b[1;32m      5\u001b[0m \u001b[38;5;66;03m#     print(f\"An error occurred: {error}\")\u001b[39;00m\n",
      "Cell \u001b[0;32mIn[45], line 75\u001b[0m, in \u001b[0;36mmain\u001b[0;34m()\u001b[0m\n\u001b[1;32m     72\u001b[0m \u001b[38;5;28mprint\u001b[39m(\u001b[38;5;124m\"\u001b[39m\u001b[38;5;124mColumns in filtered_loi_geodataframe: \u001b[39m\u001b[38;5;124m\"\u001b[39m, filtered_loi_geodataframe\u001b[38;5;241m.\u001b[39mcolumns)\n\u001b[1;32m     74\u001b[0m \u001b[38;5;66;03m# Calculate OD matrix\u001b[39;00m\n\u001b[0;32m---> 75\u001b[0m cost_matrix, plant_list \u001b[38;5;241m=\u001b[39m \u001b[43mcalculate_od_matrix\u001b[49m\u001b[43m(\u001b[49m\u001b[43mfarm_geodataframe\u001b[49m\u001b[43m,\u001b[49m\u001b[43m \u001b[49m\u001b[43mfiltered_loi_geodataframe\u001b[49m\u001b[43m,\u001b[49m\u001b[43m \u001b[49m\u001b[43mCOST_PER_KM\u001b[49m\u001b[43m)\u001b[49m\n",
      "File \u001b[0;32m/workspaces/bioze_digital_mapping_tool/utils/calculate_od.py:66\u001b[0m, in \u001b[0;36mcalculate_od_matrix\u001b[0;34m(farm_gdf, loi_gdf, cost_per_km, frequency_per_day, lifetime_in_days)\u001b[0m\n\u001b[1;32m     63\u001b[0m dest \u001b[38;5;241m=\u001b[39m loi_gdf[\u001b[38;5;124m'\u001b[39m\u001b[38;5;124mclosest_os\u001b[39m\u001b[38;5;124m'\u001b[39m]\u001b[38;5;241m.\u001b[39munique()\u001b[38;5;241m.\u001b[39mtolist()\n\u001b[1;32m     65\u001b[0m \u001b[38;5;66;03m# Calculate shortest path between all pair orig (farm) and dest (set of candidate digester sites)\u001b[39;00m\n\u001b[0;32m---> 66\u001b[0m od_matrix \u001b[38;5;241m=\u001b[39m \u001b[43m{\u001b[49m\u001b[43morigin\u001b[49m\u001b[43m:\u001b[49m\u001b[43m \u001b[49m\u001b[43m{\u001b[49m\u001b[43mdestination\u001b[49m\u001b[43m:\u001b[49m\u001b[43m \u001b[49m\u001b[43mnx\u001b[49m\u001b[38;5;241;43m.\u001b[39;49m\u001b[43mshortest_path_length\u001b[49m\u001b[43m(\u001b[49m\u001b[43mg\u001b[49m\u001b[43m,\u001b[49m\u001b[43m \u001b[49m\u001b[43morigin\u001b[49m\u001b[43m,\u001b[49m\u001b[43m \u001b[49m\u001b[43mdestination\u001b[49m\u001b[43m,\u001b[49m\u001b[43m \u001b[49m\u001b[43mweight\u001b[49m\u001b[38;5;241;43m=\u001b[39;49m\u001b[38;5;124;43m'\u001b[39;49m\u001b[38;5;124;43mlength\u001b[39;49m\u001b[38;5;124;43m'\u001b[39;49m\u001b[43m)\u001b[49m\u001b[43m \u001b[49m\u001b[38;5;241;43m/\u001b[39;49m\u001b[43m \u001b[49m\u001b[38;5;241;43m1000\u001b[39;49m\u001b[43m \u001b[49m\u001b[38;5;28;43;01mfor\u001b[39;49;00m\u001b[43m \u001b[49m\u001b[43mdestination\u001b[49m\u001b[43m \u001b[49m\u001b[38;5;129;43;01min\u001b[39;49;00m\u001b[43m \u001b[49m\u001b[43mdest\u001b[49m\u001b[43m}\u001b[49m\u001b[43m \u001b[49m\u001b[38;5;28;43;01mfor\u001b[39;49;00m\u001b[43m \u001b[49m\u001b[43morigin\u001b[49m\u001b[43m \u001b[49m\u001b[38;5;129;43;01min\u001b[39;49;00m\u001b[43m \u001b[49m\u001b[43morig\u001b[49m\u001b[43m}\u001b[49m\n\u001b[1;32m     68\u001b[0m \u001b[38;5;66;03m# A placeholder that maps digester candidate site index with the index of its closest node\u001b[39;00m\n\u001b[1;32m     69\u001b[0m placeholders \u001b[38;5;241m=\u001b[39m {i:j \u001b[38;5;28;01mfor\u001b[39;00m i, j \u001b[38;5;129;01min\u001b[39;00m \u001b[38;5;28mzip\u001b[39m(loi_gdf\u001b[38;5;241m.\u001b[39mindex\u001b[38;5;241m.\u001b[39mvalues, loi_gdf[\u001b[38;5;124m'\u001b[39m\u001b[38;5;124mclosest_os\u001b[39m\u001b[38;5;124m'\u001b[39m])}\n",
      "File \u001b[0;32m/workspaces/bioze_digital_mapping_tool/utils/calculate_od.py:66\u001b[0m, in \u001b[0;36m<dictcomp>\u001b[0;34m(.0)\u001b[0m\n\u001b[1;32m     63\u001b[0m dest \u001b[38;5;241m=\u001b[39m loi_gdf[\u001b[38;5;124m'\u001b[39m\u001b[38;5;124mclosest_os\u001b[39m\u001b[38;5;124m'\u001b[39m]\u001b[38;5;241m.\u001b[39munique()\u001b[38;5;241m.\u001b[39mtolist()\n\u001b[1;32m     65\u001b[0m \u001b[38;5;66;03m# Calculate shortest path between all pair orig (farm) and dest (set of candidate digester sites)\u001b[39;00m\n\u001b[0;32m---> 66\u001b[0m od_matrix \u001b[38;5;241m=\u001b[39m {origin: \u001b[43m{\u001b[49m\u001b[43mdestination\u001b[49m\u001b[43m:\u001b[49m\u001b[43m \u001b[49m\u001b[43mnx\u001b[49m\u001b[38;5;241;43m.\u001b[39;49m\u001b[43mshortest_path_length\u001b[49m\u001b[43m(\u001b[49m\u001b[43mg\u001b[49m\u001b[43m,\u001b[49m\u001b[43m \u001b[49m\u001b[43morigin\u001b[49m\u001b[43m,\u001b[49m\u001b[43m \u001b[49m\u001b[43mdestination\u001b[49m\u001b[43m,\u001b[49m\u001b[43m \u001b[49m\u001b[43mweight\u001b[49m\u001b[38;5;241;43m=\u001b[39;49m\u001b[38;5;124;43m'\u001b[39;49m\u001b[38;5;124;43mlength\u001b[39;49m\u001b[38;5;124;43m'\u001b[39;49m\u001b[43m)\u001b[49m\u001b[43m \u001b[49m\u001b[38;5;241;43m/\u001b[39;49m\u001b[43m \u001b[49m\u001b[38;5;241;43m1000\u001b[39;49m\u001b[43m \u001b[49m\u001b[38;5;28;43;01mfor\u001b[39;49;00m\u001b[43m \u001b[49m\u001b[43mdestination\u001b[49m\u001b[43m \u001b[49m\u001b[38;5;129;43;01min\u001b[39;49;00m\u001b[43m \u001b[49m\u001b[43mdest\u001b[49m\u001b[43m}\u001b[49m \u001b[38;5;28;01mfor\u001b[39;00m origin \u001b[38;5;129;01min\u001b[39;00m orig}\n\u001b[1;32m     68\u001b[0m \u001b[38;5;66;03m# A placeholder that maps digester candidate site index with the index of its closest node\u001b[39;00m\n\u001b[1;32m     69\u001b[0m placeholders \u001b[38;5;241m=\u001b[39m {i:j \u001b[38;5;28;01mfor\u001b[39;00m i, j \u001b[38;5;129;01min\u001b[39;00m \u001b[38;5;28mzip\u001b[39m(loi_gdf\u001b[38;5;241m.\u001b[39mindex\u001b[38;5;241m.\u001b[39mvalues, loi_gdf[\u001b[38;5;124m'\u001b[39m\u001b[38;5;124mclosest_os\u001b[39m\u001b[38;5;124m'\u001b[39m])}\n",
      "File \u001b[0;32m/workspaces/bioze_digital_mapping_tool/utils/calculate_od.py:66\u001b[0m, in \u001b[0;36m<dictcomp>\u001b[0;34m(.0)\u001b[0m\n\u001b[1;32m     63\u001b[0m dest \u001b[38;5;241m=\u001b[39m loi_gdf[\u001b[38;5;124m'\u001b[39m\u001b[38;5;124mclosest_os\u001b[39m\u001b[38;5;124m'\u001b[39m]\u001b[38;5;241m.\u001b[39munique()\u001b[38;5;241m.\u001b[39mtolist()\n\u001b[1;32m     65\u001b[0m \u001b[38;5;66;03m# Calculate shortest path between all pair orig (farm) and dest (set of candidate digester sites)\u001b[39;00m\n\u001b[0;32m---> 66\u001b[0m od_matrix \u001b[38;5;241m=\u001b[39m {origin: {destination: \u001b[43mnx\u001b[49m\u001b[38;5;241;43m.\u001b[39;49m\u001b[43mshortest_path_length\u001b[49m\u001b[43m(\u001b[49m\u001b[43mg\u001b[49m\u001b[43m,\u001b[49m\u001b[43m \u001b[49m\u001b[43morigin\u001b[49m\u001b[43m,\u001b[49m\u001b[43m \u001b[49m\u001b[43mdestination\u001b[49m\u001b[43m,\u001b[49m\u001b[43m \u001b[49m\u001b[43mweight\u001b[49m\u001b[38;5;241;43m=\u001b[39;49m\u001b[38;5;124;43m'\u001b[39;49m\u001b[38;5;124;43mlength\u001b[39;49m\u001b[38;5;124;43m'\u001b[39;49m\u001b[43m)\u001b[49m \u001b[38;5;241m/\u001b[39m \u001b[38;5;241m1000\u001b[39m \u001b[38;5;28;01mfor\u001b[39;00m destination \u001b[38;5;129;01min\u001b[39;00m dest} \u001b[38;5;28;01mfor\u001b[39;00m origin \u001b[38;5;129;01min\u001b[39;00m orig}\n\u001b[1;32m     68\u001b[0m \u001b[38;5;66;03m# A placeholder that maps digester candidate site index with the index of its closest node\u001b[39;00m\n\u001b[1;32m     69\u001b[0m placeholders \u001b[38;5;241m=\u001b[39m {i:j \u001b[38;5;28;01mfor\u001b[39;00m i, j \u001b[38;5;129;01min\u001b[39;00m \u001b[38;5;28mzip\u001b[39m(loi_gdf\u001b[38;5;241m.\u001b[39mindex\u001b[38;5;241m.\u001b[39mvalues, loi_gdf[\u001b[38;5;124m'\u001b[39m\u001b[38;5;124mclosest_os\u001b[39m\u001b[38;5;124m'\u001b[39m])}\n",
      "File \u001b[0;32m<class 'networkx.utils.decorators.argmap'> compilation 42:3\u001b[0m, in \u001b[0;36margmap_shortest_path_length_39\u001b[0;34m(G, source, target, weight, method, backend, **backend_kwargs)\u001b[0m\n\u001b[1;32m      1\u001b[0m \u001b[38;5;28;01mimport\u001b[39;00m \u001b[38;5;21;01mbz2\u001b[39;00m\n\u001b[1;32m      2\u001b[0m \u001b[38;5;28;01mimport\u001b[39;00m \u001b[38;5;21;01mcollections\u001b[39;00m\n\u001b[0;32m----> 3\u001b[0m \u001b[38;5;28;01mimport\u001b[39;00m \u001b[38;5;21;01mgzip\u001b[39;00m\n\u001b[1;32m      4\u001b[0m \u001b[38;5;28;01mimport\u001b[39;00m \u001b[38;5;21;01minspect\u001b[39;00m\n\u001b[1;32m      5\u001b[0m \u001b[38;5;28;01mimport\u001b[39;00m \u001b[38;5;21;01mitertools\u001b[39;00m\n",
      "File \u001b[0;32m~/.local/lib/python3.11/site-packages/networkx/utils/backends.py:633\u001b[0m, in \u001b[0;36m_dispatchable.__call__\u001b[0;34m(self, backend, *args, **kwargs)\u001b[0m\n\u001b[1;32m    628\u001b[0m \u001b[38;5;250m\u001b[39m\u001b[38;5;124;03m\"\"\"Returns the result of the original function, or the backend function if\u001b[39;00m\n\u001b[1;32m    629\u001b[0m \u001b[38;5;124;03mthe backend is specified and that backend implements `func`.\"\"\"\u001b[39;00m\n\u001b[1;32m    631\u001b[0m \u001b[38;5;28;01mif\u001b[39;00m \u001b[38;5;129;01mnot\u001b[39;00m backends:\n\u001b[1;32m    632\u001b[0m     \u001b[38;5;66;03m# Fast path if no backends are installed\u001b[39;00m\n\u001b[0;32m--> 633\u001b[0m     \u001b[38;5;28;01mreturn\u001b[39;00m \u001b[38;5;28;43mself\u001b[39;49m\u001b[38;5;241;43m.\u001b[39;49m\u001b[43morig_func\u001b[49m\u001b[43m(\u001b[49m\u001b[38;5;241;43m*\u001b[39;49m\u001b[43margs\u001b[49m\u001b[43m,\u001b[49m\u001b[43m \u001b[49m\u001b[38;5;241;43m*\u001b[39;49m\u001b[38;5;241;43m*\u001b[39;49m\u001b[43mkwargs\u001b[49m\u001b[43m)\u001b[49m\n\u001b[1;32m    635\u001b[0m \u001b[38;5;66;03m# Use `backend_name` in this function instead of `backend`\u001b[39;00m\n\u001b[1;32m    636\u001b[0m backend_name \u001b[38;5;241m=\u001b[39m backend\n",
      "File \u001b[0;32m~/.local/lib/python3.11/site-packages/networkx/algorithms/shortest_paths/generic.py:328\u001b[0m, in \u001b[0;36mshortest_path_length\u001b[0;34m(G, source, target, weight, method)\u001b[0m\n\u001b[1;32m    326\u001b[0m     paths \u001b[38;5;241m=\u001b[39m \u001b[38;5;28mlen\u001b[39m(p) \u001b[38;5;241m-\u001b[39m \u001b[38;5;241m1\u001b[39m\n\u001b[1;32m    327\u001b[0m \u001b[38;5;28;01melif\u001b[39;00m method \u001b[38;5;241m==\u001b[39m \u001b[38;5;124m\"\u001b[39m\u001b[38;5;124mdijkstra\u001b[39m\u001b[38;5;124m\"\u001b[39m:\n\u001b[0;32m--> 328\u001b[0m     paths \u001b[38;5;241m=\u001b[39m \u001b[43mnx\u001b[49m\u001b[38;5;241;43m.\u001b[39;49m\u001b[43mdijkstra_path_length\u001b[49m\u001b[43m(\u001b[49m\u001b[43mG\u001b[49m\u001b[43m,\u001b[49m\u001b[43m \u001b[49m\u001b[43msource\u001b[49m\u001b[43m,\u001b[49m\u001b[43m \u001b[49m\u001b[43mtarget\u001b[49m\u001b[43m,\u001b[49m\u001b[43m \u001b[49m\u001b[43mweight\u001b[49m\u001b[43m)\u001b[49m\n\u001b[1;32m    329\u001b[0m \u001b[38;5;28;01melse\u001b[39;00m:  \u001b[38;5;66;03m# method == 'bellman-ford':\u001b[39;00m\n\u001b[1;32m    330\u001b[0m     paths \u001b[38;5;241m=\u001b[39m nx\u001b[38;5;241m.\u001b[39mbellman_ford_path_length(G, source, target, weight)\n",
      "File \u001b[0;32m<class 'networkx.utils.decorators.argmap'> compilation 46:3\u001b[0m, in \u001b[0;36margmap_dijkstra_path_length_43\u001b[0;34m(G, source, target, weight, backend, **backend_kwargs)\u001b[0m\n\u001b[1;32m      1\u001b[0m \u001b[38;5;28;01mimport\u001b[39;00m \u001b[38;5;21;01mbz2\u001b[39;00m\n\u001b[1;32m      2\u001b[0m \u001b[38;5;28;01mimport\u001b[39;00m \u001b[38;5;21;01mcollections\u001b[39;00m\n\u001b[0;32m----> 3\u001b[0m \u001b[38;5;28;01mimport\u001b[39;00m \u001b[38;5;21;01mgzip\u001b[39;00m\n\u001b[1;32m      4\u001b[0m \u001b[38;5;28;01mimport\u001b[39;00m \u001b[38;5;21;01minspect\u001b[39;00m\n\u001b[1;32m      5\u001b[0m \u001b[38;5;28;01mimport\u001b[39;00m \u001b[38;5;21;01mitertools\u001b[39;00m\n",
      "File \u001b[0;32m~/.local/lib/python3.11/site-packages/networkx/utils/backends.py:633\u001b[0m, in \u001b[0;36m_dispatchable.__call__\u001b[0;34m(self, backend, *args, **kwargs)\u001b[0m\n\u001b[1;32m    628\u001b[0m \u001b[38;5;250m\u001b[39m\u001b[38;5;124;03m\"\"\"Returns the result of the original function, or the backend function if\u001b[39;00m\n\u001b[1;32m    629\u001b[0m \u001b[38;5;124;03mthe backend is specified and that backend implements `func`.\"\"\"\u001b[39;00m\n\u001b[1;32m    631\u001b[0m \u001b[38;5;28;01mif\u001b[39;00m \u001b[38;5;129;01mnot\u001b[39;00m backends:\n\u001b[1;32m    632\u001b[0m     \u001b[38;5;66;03m# Fast path if no backends are installed\u001b[39;00m\n\u001b[0;32m--> 633\u001b[0m     \u001b[38;5;28;01mreturn\u001b[39;00m \u001b[38;5;28;43mself\u001b[39;49m\u001b[38;5;241;43m.\u001b[39;49m\u001b[43morig_func\u001b[49m\u001b[43m(\u001b[49m\u001b[38;5;241;43m*\u001b[39;49m\u001b[43margs\u001b[49m\u001b[43m,\u001b[49m\u001b[43m \u001b[49m\u001b[38;5;241;43m*\u001b[39;49m\u001b[38;5;241;43m*\u001b[39;49m\u001b[43mkwargs\u001b[49m\u001b[43m)\u001b[49m\n\u001b[1;32m    635\u001b[0m \u001b[38;5;66;03m# Use `backend_name` in this function instead of `backend`\u001b[39;00m\n\u001b[1;32m    636\u001b[0m backend_name \u001b[38;5;241m=\u001b[39m backend\n",
      "File \u001b[0;32m~/.local/lib/python3.11/site-packages/networkx/algorithms/shortest_paths/weighted.py:244\u001b[0m, in \u001b[0;36mdijkstra_path_length\u001b[0;34m(G, source, target, weight)\u001b[0m\n\u001b[1;32m    177\u001b[0m \u001b[38;5;250m\u001b[39m\u001b[38;5;124;03m\"\"\"Returns the shortest weighted path length in G from source to target.\u001b[39;00m\n\u001b[1;32m    178\u001b[0m \n\u001b[1;32m    179\u001b[0m \u001b[38;5;124;03mUses Dijkstra's Method to compute the shortest weighted path length\u001b[39;00m\n\u001b[0;32m   (...)\u001b[0m\n\u001b[1;32m    241\u001b[0m \n\u001b[1;32m    242\u001b[0m \u001b[38;5;124;03m\"\"\"\u001b[39;00m\n\u001b[1;32m    243\u001b[0m \u001b[38;5;28;01mif\u001b[39;00m source \u001b[38;5;129;01mnot\u001b[39;00m \u001b[38;5;129;01min\u001b[39;00m G:\n\u001b[0;32m--> 244\u001b[0m     \u001b[38;5;28;01mraise\u001b[39;00m nx\u001b[38;5;241m.\u001b[39mNodeNotFound(\u001b[38;5;124mf\u001b[39m\u001b[38;5;124m\"\u001b[39m\u001b[38;5;124mNode \u001b[39m\u001b[38;5;132;01m{\u001b[39;00msource\u001b[38;5;132;01m}\u001b[39;00m\u001b[38;5;124m not found in graph\u001b[39m\u001b[38;5;124m\"\u001b[39m)\n\u001b[1;32m    245\u001b[0m \u001b[38;5;28;01mif\u001b[39;00m source \u001b[38;5;241m==\u001b[39m target:\n\u001b[1;32m    246\u001b[0m     \u001b[38;5;28;01mreturn\u001b[39;00m \u001b[38;5;241m0\u001b[39m\n",
      "\u001b[0;31mNodeNotFound\u001b[0m: Node 44276434 not found in graph"
     ]
    }
   ],
   "source": [
    "# try:\n",
    "if __name__ == \"__main__\":\n",
    "    main()\n",
    "# except Exception as error:\n",
    "#     print(f\"An error occurred: {error}\")"
   ]
  }
 ],
 "metadata": {
  "interpreter": {
   "hash": "69f23fca6bff8680230af95806e5e6f087823f289b010869f54c5903d2cd69a9"
  },
  "kernelspec": {
   "display_name": "Python 3.10.2 ('geo_env')",
   "language": "python",
   "name": "python3"
  },
  "language_info": {
   "codemirror_mode": {
    "name": "ipython",
    "version": 3
   },
   "file_extension": ".py",
   "mimetype": "text/x-python",
   "name": "python",
   "nbconvert_exporter": "python",
   "pygments_lexer": "ipython3",
   "version": "3.11.9"
  },
  "orig_nbformat": 4
 },
 "nbformat": 4,
 "nbformat_minor": 2
}
