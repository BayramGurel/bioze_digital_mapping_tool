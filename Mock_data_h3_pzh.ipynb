{
 "cells": [
  {
   "cell_type": "code",
   "execution_count": 16,
   "metadata": {},
   "outputs": [],
   "source": [
    "import pandas as pd\n",
    "import geopandas as gpd\n",
    "import h3\n",
    "import random\n",
    "import os\n",
    "from shapely.geometry import Point"
   ]
  },
  {
   "cell_type": "code",
   "execution_count": 17,
   "metadata": {},
   "outputs": [],
   "source": [
    "# Constants\n",
    "NUM_POINTS = 9999  # Number of points\n",
    "RESOLUTION = 9  # H3 resolution level\n",
    "\n",
    "# Load the shapefile\n",
    "GDF = gpd.read_file(\"./shapefiles/zh_poly.shp\")\n",
    "GDF = GDF.to_crs(\"EPSG:4326\")\n",
    "\n",
    "# Get the polygon\n",
    "polygon = GDF.geometry.unary_union"
   ]
  },
  {
   "cell_type": "code",
   "execution_count": 18,
   "metadata": {},
   "outputs": [],
   "source": [
    "def generate_random_location(polygon):\n",
    "    \"\"\"\n",
    "    Generate a random location within the specified polygon.\n",
    "    \n",
    "    Parameters:\n",
    "    polygon (shapely.geometry.Polygon): The polygon within which to generate the point.\n",
    "    \n",
    "    Returns:\n",
    "    tuple: A tuple containing the latitude and longitude.\n",
    "    \"\"\"\n",
    "    minx, miny, maxx, maxy = polygon.bounds\n",
    "    while True:\n",
    "        lat = random.uniform(miny, maxy)\n",
    "        lon = random.uniform(minx, maxx)\n",
    "        point = Point(lon, lat)\n",
    "        if polygon.contains(point):\n",
    "            return lat, lon"
   ]
  },
  {
   "cell_type": "code",
   "execution_count": 19,
   "metadata": {},
   "outputs": [],
   "source": [
    "# Generate mock data for H3 hexagons\n",
    "data = [{\n",
    "    \"hex9\": h3.geo_to_h3(*generate_random_location(polygon), RESOLUTION),\n",
    "    \"value\": random.randint(1, 9999)  # Random value between 1 and 9999\n",
    "} for _ in range(NUM_POINTS)]"
   ]
  },
  {
   "cell_type": "code",
   "execution_count": 20,
   "metadata": {},
   "outputs": [],
   "source": [
    "# Create a DataFrame\n",
    "df = pd.DataFrame(data)\n",
    "\n",
    "# Save to CSV\n",
    "# csv_path = \"hex/h3_farm_mock_data.csv\"\n",
    "csv_path = \"hex/h3_indices_7.csv\"\n",
    "\n",
    "# Create directory if it doesn't exist\n",
    "if not os.path.exists('hex'):\n",
    "    os.makedirs('hex')\n",
    "\n",
    "# Now you can save the file\n",
    "df.to_csv(csv_path, index=False)"
   ]
  }
 ],
 "metadata": {
  "kernelspec": {
   "display_name": "base",
   "language": "python",
   "name": "python3"
  },
  "language_info": {
   "codemirror_mode": {
    "name": "ipython",
    "version": 3
   },
   "file_extension": ".py",
   "mimetype": "text/x-python",
   "name": "python",
   "nbconvert_exporter": "python",
   "pygments_lexer": "ipython3",
   "version": "3.11.9"
  }
 },
 "nbformat": 4,
 "nbformat_minor": 2
}
