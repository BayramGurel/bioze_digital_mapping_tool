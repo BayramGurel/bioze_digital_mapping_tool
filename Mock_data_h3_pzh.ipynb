{
 "cells": [
  {
   "cell_type": "code",
   "execution_count": 11,
   "metadata": {},
   "outputs": [],
   "source": [
    "import pandas as pd\n",
    "import h3\n",
    "import random\n",
    "import os"
   ]
  },
  {
   "cell_type": "code",
   "execution_count": 12,
   "metadata": {},
   "outputs": [],
   "source": [
    "# Constants\n",
    "NUM_POINTS = 1000  # Number of points\n",
    "RESOLUTION = 9  # H3 resolution level\n",
    "SOUTH_HOLLAND_BOUNDS = {\n",
    "    \"min_lat\": 51.4343,\n",
    "    \"max_lat\": 52.3890,\n",
    "    \"min_lon\": 3.8500,\n",
    "    \"max_lon\": 4.8952\n",
    "}"
   ]
  },
  {
   "cell_type": "code",
   "execution_count": 13,
   "metadata": {},
   "outputs": [],
   "source": [
    "def generate_random_location(bounds):\n",
    "    \"\"\"\n",
    "    Generate a random location within the specified bounds.\n",
    "    \n",
    "    Parameters:\n",
    "    bounds (dict): A dictionary with the keys 'min_lat', 'max_lat', 'min_lon', 'max_lon'.\n",
    "    \n",
    "    Returns:\n",
    "    tuple: A tuple containing the latitude and longitude.\n",
    "    \"\"\"\n",
    "    lat = random.uniform(bounds[\"min_lat\"], bounds[\"max_lat\"])\n",
    "    lon = random.uniform(bounds[\"min_lon\"], bounds[\"max_lon\"])\n",
    "    return lat, lon"
   ]
  },
  {
   "cell_type": "code",
   "execution_count": 14,
   "metadata": {},
   "outputs": [],
   "source": [
    "# Generate mock data for H3 hexagons\n",
    "data = [{\n",
    "    \"hex_address\": h3.geo_to_h3(*generate_random_location(SOUTH_HOLLAND_BOUNDS), RESOLUTION),\n",
    "    \"latitude\": lat,\n",
    "    \"longitude\": lon,\n",
    "    \"value\": random.randint(1, 1000)  # Random value between 1 and 1000\n",
    "} for lat, lon in (generate_random_location(SOUTH_HOLLAND_BOUNDS) for _ in range(NUM_POINTS))]"
   ]
  },
  {
   "cell_type": "code",
   "execution_count": 15,
   "metadata": {},
   "outputs": [],
   "source": [
    "# Create a DataFrame\n",
    "df = pd.DataFrame(data)\n",
    "\n",
    "# Save to CSV\n",
    "csv_path = \"hex/h3_farm_mock_data.csv\"\n",
    "\n",
    "# Create directory if it doesn't exist\n",
    "if not os.path.exists('hex'):\n",
    "    os.makedirs('hex')\n",
    "\n",
    "# Now you can save the file\n",
    "df.to_csv(csv_path, index=False)"
   ]
  }
 ],
 "metadata": {
  "kernelspec": {
   "display_name": "base",
   "language": "python",
   "name": "python3"
  },
  "language_info": {
   "codemirror_mode": {
    "name": "ipython",
    "version": 3
   },
   "file_extension": ".py",
   "mimetype": "text/x-python",
   "name": "python",
   "nbconvert_exporter": "python",
   "pygments_lexer": "ipython3",
   "version": "3.11.9"
  }
 },
 "nbformat": 4,
 "nbformat_minor": 2
}
